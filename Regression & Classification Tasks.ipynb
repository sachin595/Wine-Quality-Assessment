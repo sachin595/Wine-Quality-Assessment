{
 "cells": [
  {
   "cell_type": "markdown",
   "metadata": {
    "id": "4z-Tv_MBVJW1"
   },
   "source": [
    "#  Wine Quality Assessment – Regression & Classification Tasks"
   ]
  },
  {
   "cell_type": "markdown",
   "metadata": {
    "id": "x-Dj5YrEVJW5"
   },
   "source": [
    "## [PART I] : Getting the data as Numpy arrays"
   ]
  },
  {
   "cell_type": "markdown",
   "metadata": {
    "id": "6iPSH3txVJW6"
   },
   "source": [
    "### a) Adds the ‘type’ information (red = 1, white = 0) as the 13th column in both Dataframes"
   ]
  },
  {
   "cell_type": "code",
   "execution_count": 6,
   "metadata": {
    "colab": {
     "base_uri": "https://localhost:8080/"
    },
    "id": "-4j0ud2EVJW8",
    "outputId": "b5ca2007-3905-48c8-b7fc-6c5a4dddb83a"
   },
   "outputs": [
    {
     "name": "stdout",
     "output_type": "stream",
     "text": [
      "   fixed acidity  volatile acidity  citric acid  residual sugar  chlorides  \\\n",
      "0            7.0              0.27         0.36            20.7      0.045   \n",
      "1            6.3              0.30         0.34             1.6      0.049   \n",
      "2            8.1              0.28         0.40             6.9      0.050   \n",
      "3            7.2              0.23         0.32             8.5      0.058   \n",
      "4            7.2              0.23         0.32             8.5      0.058   \n",
      "\n",
      "   free sulfur dioxide  total sulfur dioxide  density    pH  sulphates  \\\n",
      "0                 45.0                 170.0   1.0010  3.00       0.45   \n",
      "1                 14.0                 132.0   0.9940  3.30       0.49   \n",
      "2                 30.0                  97.0   0.9951  3.26       0.44   \n",
      "3                 47.0                 186.0   0.9956  3.19       0.40   \n",
      "4                 47.0                 186.0   0.9956  3.19       0.40   \n",
      "\n",
      "   alcohol  quality  \n",
      "0      8.8        6  \n",
      "1      9.5        6  \n",
      "2     10.1        6  \n",
      "3      9.9        6  \n",
      "4      9.9        6  \n"
     ]
    }
   ],
   "source": [
    "import pandas as pd\n",
    "\n",
    "# Load the red and white wine data from UCI repository\n",
    "red_wine = pd.read_csv('https://archive.ics.uci.edu/ml/machine-learning-databases/wine-quality/winequality-red.csv', sep=';')\n",
    "white_wine = pd.read_csv('https://archive.ics.uci.edu/ml/machine-learning-databases/wine-quality/winequality-white.csv', sep=';')\n",
    "print(white_wine.head())\n",
    "# print(red_wine.head())\n",
    "# Add 'type' column to both dataframes\n",
    "red_wine['type'] = 1 # 1 indicates red wine\n",
    "white_wine['type'] = 0 # 0 indicates white wine\n",
    "# print(white_wine.head())"
   ]
  },
  {
   "cell_type": "markdown",
   "metadata": {
    "id": "8Bje87_tVJXD"
   },
   "source": [
    "### b) Appends the red DataFrame to the white DataFrame, yielding a single DataFrame, wines, with 6497 samples"
   ]
  },
  {
   "cell_type": "code",
   "execution_count": 7,
   "metadata": {
    "colab": {
     "base_uri": "https://localhost:8080/"
    },
    "id": "IzHIkHanVJXE",
    "outputId": "88031486-683b-481b-b1a6-8b9b09b7e804"
   },
   "outputs": [
    {
     "name": "stdout",
     "output_type": "stream",
     "text": [
      "   fixed acidity  volatile acidity  citric acid  residual sugar  chlorides  \\\n",
      "0            7.0              0.27         0.36            20.7      0.045   \n",
      "1            6.3              0.30         0.34             1.6      0.049   \n",
      "2            8.1              0.28         0.40             6.9      0.050   \n",
      "3            7.2              0.23         0.32             8.5      0.058   \n",
      "4            7.2              0.23         0.32             8.5      0.058   \n",
      "\n",
      "   free sulfur dioxide  total sulfur dioxide  density    pH  sulphates  \\\n",
      "0                 45.0                 170.0   1.0010  3.00       0.45   \n",
      "1                 14.0                 132.0   0.9940  3.30       0.49   \n",
      "2                 30.0                  97.0   0.9951  3.26       0.44   \n",
      "3                 47.0                 186.0   0.9956  3.19       0.40   \n",
      "4                 47.0                 186.0   0.9956  3.19       0.40   \n",
      "\n",
      "   alcohol  quality  type  \n",
      "0      8.8        6     0  \n",
      "1      9.5        6     0  \n",
      "2     10.1        6     0  \n",
      "3      9.9        6     0  \n",
      "4      9.9        6     0  \n"
     ]
    },
    {
     "name": "stderr",
     "output_type": "stream",
     "text": [
      "<ipython-input-7-b872d4e3cb8b>:2: FutureWarning: The frame.append method is deprecated and will be removed from pandas in a future version. Use pandas.concat instead.\n",
      "  wines = white_wine.append(red_wine, ignore_index=True)\n"
     ]
    }
   ],
   "source": [
    "# Append red_wine to white_wine\n",
    "wines = white_wine.append(red_wine, ignore_index=True)\n",
    "print(wines.head())\n",
    "# Verify the number of samples in the combined dataframe\n",
    "assert len(wines) == 6497\n"
   ]
  },
  {
   "cell_type": "markdown",
   "metadata": {
    "id": "Z07ort4ZVJXF"
   },
   "source": [
    "### c) Uses sklearn’s train_test_split() to create TRAINING [TR] and VALIDATION [TT] SPLITS – we will be using the results for training [TR], AND VALIDATION [TT]."
   ]
  },
  {
   "cell_type": "code",
   "execution_count": 8,
   "metadata": {
    "colab": {
     "base_uri": "https://localhost:8080/"
    },
    "id": "i54UtscOVJXG",
    "outputId": "4dc0f3d9-8421-4801-f2ec-64dfdf20aba5"
   },
   "outputs": [
    {
     "data": {
      "text/plain": [
       "True"
      ]
     },
     "execution_count": 8,
     "metadata": {},
     "output_type": "execute_result"
    }
   ],
   "source": [
    "from sklearn.model_selection import train_test_split\n",
    "\n",
    "# Set aside 10 samples for test set\n",
    "wines_train_val, wines_test = train_test_split(wines, test_size=10, random_state=45)\n",
    "\n",
    "# Split remaining data into training and validation sets\n",
    "wines_train, wines_val = train_test_split(wines_train_val, test_size=0.25, random_state=45)\n",
    "\n",
    "# Verify the sizes of the resulting datasets\n",
    "len(wines_train) == 4872\n",
    "len(wines_val) == 1615\n",
    "len(wines_test) == 10\n"
   ]
  },
  {
   "cell_type": "markdown",
   "metadata": {
    "id": "PPv5DBhuVJXH"
   },
   "source": [
    "### d) The training and validation input sets will be returned from train_test_split() as Pandas DataFrames. The notebook converts them to NumPy arrays (to be used in Keras)."
   ]
  },
  {
   "cell_type": "code",
   "execution_count": 9,
   "metadata": {
    "id": "8_9STS2BVJXI"
   },
   "outputs": [],
   "source": [
    "X_train = wines_train.drop('quality', axis=1).values\n",
    "y_train = wines_train['quality'].values\n",
    "\n",
    "X_val = wines_val.drop('quality', axis=1).values\n",
    "y_val = wines_val['quality'].values\n",
    "\n",
    "X_tst = wines_test.drop('quality', axis=1).values\n",
    "y_tst = wines_test['quality'].values\n",
    "\n",
    "# Convert to numpy arrays for Keras\n",
    "import numpy as np\n",
    "\n",
    "X_train = np.asarray(X_train).astype('float32')\n",
    "y_train = np.asarray(y_train).astype('float32')\n",
    "X_val = np.asarray(X_val).astype('float32')\n",
    "y_val = np.asarray(y_val).astype('float32')"
   ]
  },
  {
   "cell_type": "code",
   "execution_count": 10,
   "metadata": {
    "colab": {
     "base_uri": "https://localhost:8080/"
    },
    "id": "fp3nqWJizMGv",
    "outputId": "3cdf6d76-d4d8-464c-c81e-5462388bb7ef"
   },
   "outputs": [
    {
     "data": {
      "text/plain": [
       "(10, 12)"
      ]
     },
     "execution_count": 10,
     "metadata": {},
     "output_type": "execute_result"
    }
   ],
   "source": [
    "X_tst.shape"
   ]
  },
  {
   "cell_type": "markdown",
   "metadata": {
    "id": "bJdqdH9OVJXK"
   },
   "source": [
    "### e) Finally, where the quality LEVELS have been mapped as indicated in the table above (1 = BAD, 2 = MEDIUM, 3 = GOOD, 4 = EXCELLENT) and one-hot-encoded, so there is a 4-value target for each pattern. – These additional target arrays are used for the classification model."
   ]
  },
  {
   "cell_type": "code",
   "execution_count": 11,
   "metadata": {
    "id": "cxY_TayIVJXK"
   },
   "outputs": [],
   "source": [
    "from sklearn.preprocessing import OneHotEncoder\n",
    "import numpy as np\n",
    "y_train_categorical = np.zeros((y_train.shape[0], 4))\n",
    "\n",
    "for i in range(y_train.shape[0]):\n",
    "    if y_train[i] <= 3:\n",
    "        y_train_categorical[i, 0] = 1\n",
    "    elif y_train[i] >= 4 and y_train[i] <= 6:\n",
    "        y_train_categorical[i, 1] = 1\n",
    "    elif y_train[i] >= 7 and y_train[i] <= 8:\n",
    "        y_train_categorical[i, 2] = 1\n",
    "    else:\n",
    "        y_train_categorical[i, 3] = 1\n",
    "y_val_categorical = np.zeros((y_val.shape[0], 4))\n",
    "\n",
    "for i in range(y_val.shape[0]):\n",
    "    if y_val[i] <= 3:\n",
    "        y_train_categorical[i, 0] = 1\n",
    "    elif y_val[i] >= 4 and y_val[i] <= 6:\n",
    "        y_val_categorical[i, 1] = 1\n",
    "    elif y_val[i] >= 7 and y_val[i] <= 8:\n",
    "        y_val_categorical[i, 2] = 1\n",
    "    else:\n",
    "        y_val_categorical[i, 3] = 1\n",
    "\n",
    "\n",
    "   \n",
    "\n",
    "\n"
   ]
  },
  {
   "cell_type": "code",
   "execution_count": 12,
   "metadata": {
    "colab": {
     "base_uri": "https://localhost:8080/"
    },
    "id": "tXdZzq7NVJXM",
    "outputId": "c946b6df-e09e-4872-a7c5-39acb20f5ff9"
   },
   "outputs": [
    {
     "data": {
      "text/plain": [
       "array([[0., 0., 1., 0.],\n",
       "       [0., 1., 0., 0.],\n",
       "       [0., 1., 0., 0.],\n",
       "       ...,\n",
       "       [0., 1., 0., 0.],\n",
       "       [0., 1., 0., 0.],\n",
       "       [0., 1., 0., 0.]])"
      ]
     },
     "execution_count": 12,
     "metadata": {},
     "output_type": "execute_result"
    }
   ],
   "source": [
    "y_train_categorical"
   ]
  },
  {
   "cell_type": "markdown",
   "metadata": {
    "id": "Z89tCzcTVJXM"
   },
   "source": [
    "# [PART II]: The REGRESSION MODEL"
   ]
  },
  {
   "cell_type": "markdown",
   "metadata": {
    "id": "5BGeFBzaVJXN"
   },
   "source": [
    "### II.1 Develop a (very simple) model, (regmodl1) – This models must only have 1 hidden layer, and no more than 8 processing elements in that layer."
   ]
  },
  {
   "cell_type": "code",
   "execution_count": 13,
   "metadata": {
    "colab": {
     "base_uri": "https://localhost:8080/"
    },
    "id": "fARXKTlrVJXO",
    "outputId": "b3da83aa-9adb-4973-bae9-fddc370ae47e"
   },
   "outputs": [
    {
     "name": "stdout",
     "output_type": "stream",
     "text": [
      "Epoch 1/50\n",
      "77/77 [==============================] - 1s 5ms/step - loss: 5.6233 - mae: 5.6233 - val_loss: 5.2197 - val_mae: 5.2197\n",
      "Epoch 2/50\n",
      "77/77 [==============================] - 0s 3ms/step - loss: 4.8314 - mae: 4.8314 - val_loss: 4.4491 - val_mae: 4.4491\n",
      "Epoch 3/50\n",
      "77/77 [==============================] - 0s 3ms/step - loss: 4.0719 - mae: 4.0719 - val_loss: 3.7050 - val_mae: 3.7050\n",
      "Epoch 4/50\n",
      "77/77 [==============================] - 0s 2ms/step - loss: 3.3490 - mae: 3.3490 - val_loss: 3.0290 - val_mae: 3.0290\n",
      "Epoch 5/50\n",
      "77/77 [==============================] - 0s 3ms/step - loss: 2.7356 - mae: 2.7356 - val_loss: 2.4334 - val_mae: 2.4334\n",
      "Epoch 6/50\n",
      "77/77 [==============================] - 0s 2ms/step - loss: 2.1296 - mae: 2.1296 - val_loss: 1.7941 - val_mae: 1.7941\n",
      "Epoch 7/50\n",
      "77/77 [==============================] - 0s 3ms/step - loss: 1.5390 - mae: 1.5390 - val_loss: 1.2876 - val_mae: 1.2876\n",
      "Epoch 8/50\n",
      "77/77 [==============================] - 0s 3ms/step - loss: 1.2114 - mae: 1.2114 - val_loss: 1.1543 - val_mae: 1.1543\n",
      "Epoch 9/50\n",
      "77/77 [==============================] - 0s 3ms/step - loss: 1.1299 - mae: 1.1299 - val_loss: 1.1003 - val_mae: 1.1003\n",
      "Epoch 10/50\n",
      "77/77 [==============================] - 0s 3ms/step - loss: 1.0822 - mae: 1.0822 - val_loss: 1.0573 - val_mae: 1.0573\n",
      "Epoch 11/50\n",
      "77/77 [==============================] - 0s 3ms/step - loss: 1.0430 - mae: 1.0430 - val_loss: 1.0190 - val_mae: 1.0190\n",
      "Epoch 12/50\n",
      "77/77 [==============================] - 0s 3ms/step - loss: 1.0046 - mae: 1.0046 - val_loss: 0.9830 - val_mae: 0.9830\n",
      "Epoch 13/50\n",
      "77/77 [==============================] - 0s 3ms/step - loss: 0.9712 - mae: 0.9712 - val_loss: 0.9500 - val_mae: 0.9500\n",
      "Epoch 14/50\n",
      "77/77 [==============================] - 0s 2ms/step - loss: 0.9386 - mae: 0.9386 - val_loss: 0.9189 - val_mae: 0.9189\n",
      "Epoch 15/50\n",
      "77/77 [==============================] - 0s 2ms/step - loss: 0.9065 - mae: 0.9065 - val_loss: 0.8910 - val_mae: 0.8910\n",
      "Epoch 16/50\n",
      "77/77 [==============================] - 0s 3ms/step - loss: 0.8780 - mae: 0.8780 - val_loss: 0.8586 - val_mae: 0.8586\n",
      "Epoch 17/50\n",
      "77/77 [==============================] - 0s 3ms/step - loss: 0.8489 - mae: 0.8489 - val_loss: 0.8299 - val_mae: 0.8299\n",
      "Epoch 18/50\n",
      "77/77 [==============================] - 0s 2ms/step - loss: 0.8208 - mae: 0.8208 - val_loss: 0.8026 - val_mae: 0.8026\n",
      "Epoch 19/50\n",
      "77/77 [==============================] - 0s 2ms/step - loss: 0.7939 - mae: 0.7939 - val_loss: 0.7767 - val_mae: 0.7767\n",
      "Epoch 20/50\n",
      "77/77 [==============================] - 0s 3ms/step - loss: 0.7708 - mae: 0.7708 - val_loss: 0.7538 - val_mae: 0.7538\n",
      "Epoch 21/50\n",
      "77/77 [==============================] - 0s 3ms/step - loss: 0.7473 - mae: 0.7473 - val_loss: 0.7299 - val_mae: 0.7299\n",
      "Epoch 22/50\n",
      "77/77 [==============================] - 0s 3ms/step - loss: 0.7260 - mae: 0.7260 - val_loss: 0.7088 - val_mae: 0.7088\n",
      "Epoch 23/50\n",
      "77/77 [==============================] - 0s 2ms/step - loss: 0.7075 - mae: 0.7075 - val_loss: 0.6897 - val_mae: 0.6897\n",
      "Epoch 24/50\n",
      "77/77 [==============================] - 0s 3ms/step - loss: 0.6861 - mae: 0.6861 - val_loss: 0.6704 - val_mae: 0.6704\n",
      "Epoch 25/50\n",
      "77/77 [==============================] - 0s 4ms/step - loss: 0.6686 - mae: 0.6686 - val_loss: 0.6537 - val_mae: 0.6537\n",
      "Epoch 26/50\n",
      "77/77 [==============================] - 0s 4ms/step - loss: 0.6516 - mae: 0.6516 - val_loss: 0.6398 - val_mae: 0.6398\n",
      "Epoch 27/50\n",
      "77/77 [==============================] - 0s 4ms/step - loss: 0.6383 - mae: 0.6383 - val_loss: 0.6310 - val_mae: 0.6310\n",
      "Epoch 28/50\n",
      "77/77 [==============================] - 0s 4ms/step - loss: 0.6274 - mae: 0.6274 - val_loss: 0.6184 - val_mae: 0.6184\n",
      "Epoch 29/50\n",
      "77/77 [==============================] - 0s 4ms/step - loss: 0.6167 - mae: 0.6167 - val_loss: 0.6090 - val_mae: 0.6090\n",
      "Epoch 30/50\n",
      "77/77 [==============================] - 0s 4ms/step - loss: 0.6070 - mae: 0.6070 - val_loss: 0.6023 - val_mae: 0.6023\n",
      "Epoch 31/50\n",
      "77/77 [==============================] - 0s 4ms/step - loss: 0.6031 - mae: 0.6031 - val_loss: 0.5986 - val_mae: 0.5986\n",
      "Epoch 32/50\n",
      "77/77 [==============================] - 0s 5ms/step - loss: 0.5976 - mae: 0.5976 - val_loss: 0.5898 - val_mae: 0.5898\n",
      "Epoch 33/50\n",
      "77/77 [==============================] - 0s 3ms/step - loss: 0.5893 - mae: 0.5893 - val_loss: 0.5854 - val_mae: 0.5854\n",
      "Epoch 34/50\n",
      "77/77 [==============================] - 0s 3ms/step - loss: 0.5851 - mae: 0.5851 - val_loss: 0.5810 - val_mae: 0.5810\n",
      "Epoch 35/50\n",
      "77/77 [==============================] - 0s 3ms/step - loss: 0.5814 - mae: 0.5814 - val_loss: 0.5783 - val_mae: 0.5783\n",
      "Epoch 36/50\n",
      "77/77 [==============================] - 0s 3ms/step - loss: 0.5773 - mae: 0.5773 - val_loss: 0.5737 - val_mae: 0.5737\n",
      "Epoch 37/50\n",
      "77/77 [==============================] - 0s 3ms/step - loss: 0.5744 - mae: 0.5744 - val_loss: 0.5711 - val_mae: 0.5711\n",
      "Epoch 38/50\n",
      "77/77 [==============================] - 0s 3ms/step - loss: 0.5744 - mae: 0.5744 - val_loss: 0.5695 - val_mae: 0.5695\n",
      "Epoch 39/50\n",
      "77/77 [==============================] - 0s 3ms/step - loss: 0.5702 - mae: 0.5702 - val_loss: 0.5658 - val_mae: 0.5658\n",
      "Epoch 40/50\n",
      "77/77 [==============================] - 0s 3ms/step - loss: 0.5689 - mae: 0.5689 - val_loss: 0.5653 - val_mae: 0.5653\n",
      "Epoch 41/50\n",
      "77/77 [==============================] - 0s 3ms/step - loss: 0.5676 - mae: 0.5676 - val_loss: 0.5638 - val_mae: 0.5638\n",
      "Epoch 42/50\n",
      "77/77 [==============================] - 0s 3ms/step - loss: 0.5658 - mae: 0.5658 - val_loss: 0.5629 - val_mae: 0.5629\n",
      "Epoch 43/50\n",
      "77/77 [==============================] - 0s 3ms/step - loss: 0.5664 - mae: 0.5664 - val_loss: 0.5618 - val_mae: 0.5618\n",
      "Epoch 44/50\n",
      "77/77 [==============================] - 0s 3ms/step - loss: 0.5643 - mae: 0.5643 - val_loss: 0.5613 - val_mae: 0.5613\n",
      "Epoch 45/50\n",
      "77/77 [==============================] - 0s 2ms/step - loss: 0.5635 - mae: 0.5635 - val_loss: 0.5603 - val_mae: 0.5603\n",
      "Epoch 46/50\n",
      "77/77 [==============================] - 0s 3ms/step - loss: 0.5624 - mae: 0.5624 - val_loss: 0.5582 - val_mae: 0.5582\n",
      "Epoch 47/50\n",
      "77/77 [==============================] - 0s 3ms/step - loss: 0.5620 - mae: 0.5620 - val_loss: 0.5580 - val_mae: 0.5580\n",
      "Epoch 48/50\n",
      "77/77 [==============================] - 0s 3ms/step - loss: 0.5600 - mae: 0.5600 - val_loss: 0.5575 - val_mae: 0.5575\n",
      "Epoch 49/50\n",
      "77/77 [==============================] - 0s 3ms/step - loss: 0.5593 - mae: 0.5593 - val_loss: 0.5576 - val_mae: 0.5576\n",
      "Epoch 50/50\n",
      "77/77 [==============================] - 0s 3ms/step - loss: 0.5596 - mae: 0.5596 - val_loss: 0.5562 - val_mae: 0.5562\n",
      "Training Loss: 0.5571, Training MAE: 0.5571\n",
      "Validation Loss: 0.5562, Validation MAE: 0.5562\n"
     ]
    }
   ],
   "source": [
    "import numpy as np\n",
    "import pandas as pd\n",
    "import tensorflow as tf\n",
    "from sklearn.model_selection import train_test_split\n",
    "from sklearn.preprocessing import LabelEncoder\n",
    "X_tr_mean = X_train.mean(axis=0)\n",
    "X_tr_std = X_train.std(axis=0)\n",
    "X_tr_norm = (X_train - X_tr_mean) / X_tr_std\n",
    "X_val_norm = (X_val - X_tr_mean) / X_tr_std\n",
    "\n",
    "# Define model\n",
    "regmodl1 = tf.keras.models.Sequential([\n",
    "  tf.keras.layers.Dense(8, activation='relu', input_shape=(12,)),\n",
    "  tf.keras.layers.Dense(1)\n",
    "])\n",
    "\n",
    "# Compile model\n",
    "regmodl1.compile(optimizer='adam', loss='mae', metrics=['mae'])\n",
    "\n",
    "# Train model\n",
    "history = regmodl1.fit(X_tr_norm, y_train, validation_data=(X_val_norm, y_val), epochs=50, batch_size=64)\n",
    "\n",
    "# Evaluate model on training set\n",
    "train_loss, train_mae = regmodl1.evaluate(X_tr_norm, y_train, verbose=0)\n",
    "print(f'Training Loss: {train_loss:.4f}, Training MAE: {train_mae:.4f}')\n",
    "\n",
    "# Evaluate model on validation set\n",
    "val_loss, val_mae = regmodl1.evaluate(X_val_norm, y_val, verbose=0)\n",
    "print(f'Validation Loss: {val_loss:.4f}, Validation MAE: {val_mae:.4f}')"
   ]
  },
  {
   "cell_type": "code",
   "execution_count": 14,
   "metadata": {
    "colab": {
     "base_uri": "https://localhost:8080/",
     "height": 404
    },
    "id": "KhWi-gUZVJXP",
    "outputId": "4f528aac-3448-4114-ccd8-95cd67d9f7ad"
   },
   "outputs": [
    {
     "data": {
      "image/png": "[encoded data removed]",
      "text/plain": [
       "<Figure size 720x432 with 1 Axes>"
      ]
     },
     "metadata": {
      "needs_background": "light"
     },
     "output_type": "display_data"
    }
   ],
   "source": [
    "import matplotlib.pyplot as plt\n",
    "\n",
    "# Plot the training and validation losses per epoch for each model\n",
    "plt.figure(figsize=(10, 6))\n",
    "plt.plot(history.history['loss'], label=f\"Model train loss\")\n",
    "plt.plot(history.history['val_loss'], label=f\"Model val loss\")\n",
    "\n",
    "plt.title('Training and validation losses per epoch')\n",
    "plt.xlabel('Epoch')\n",
    "plt.ylabel('Loss')\n",
    "plt.legend()\n",
    "plt.show()"
   ]
  },
  {
   "cell_type": "code",
   "execution_count": 15,
   "metadata": {
    "colab": {
     "base_uri": "https://localhost:8080/",
     "height": 295
    },
    "id": "pqtUbYQVVJXQ",
    "outputId": "a795cb19-a73e-4767-c7e8-a68114d9dea5"
   },
   "outputs": [
    {
     "data": {
      "image/png": "[encoded data removed]",
      "text/plain": [
       "<Figure size 432x288 with 1 Axes>"
      ]
     },
     "metadata": {
      "needs_background": "light"
     },
     "output_type": "display_data"
    }
   ],
   "source": [
    "# Assuming 'history' contains the training history of the model\n",
    "train_mae = history.history['mae']\n",
    "val_mae = history.history['val_mae']\n",
    "epochs = range(1, len(train_mae) + 1)\n",
    "\n",
    "# Plotting the MAE per epoch\n",
    "plt.plot(epochs, train_mae, 'bo', label='Training MAE')\n",
    "plt.plot(epochs, val_mae, 'b', label='Validation MAE')\n",
    "plt.title('Training and Validation MAE')\n",
    "plt.xlabel('Epochs')\n",
    "plt.ylabel('MAE')\n",
    "plt.legend()\n",
    "plt.show()"
   ]
  },
  {
   "cell_type": "markdown",
   "metadata": {
    "id": "ic9pF4PYVJXR"
   },
   "source": [
    "### II.2 Develop a (better) model that actually would be capable of overfitting (regmodl2)– There must be at least 2 hidden layers in this model."
   ]
  },
  {
   "cell_type": "code",
   "execution_count": 18,
   "metadata": {
    "colab": {
     "base_uri": "https://localhost:8080/"
    },
    "id": "q9iI_zrIVJXR",
    "outputId": "6165209c-0921-48dc-80f7-74bf43237fd3"
   },
   "outputs": [
    {
     "name": "stdout",
     "output_type": "stream",
     "text": [
      "Epoch 1/50\n",
      "153/153 [==============================] - 1s 3ms/step - loss: 1.1852 - mae: 1.1852 - val_loss: 0.6917 - val_mae: 0.6917\n",
      "Epoch 2/50\n",
      "153/153 [==============================] - 0s 3ms/step - loss: 0.6559 - mae: 0.6559 - val_loss: 0.7031 - val_mae: 0.7031\n",
      "Epoch 3/50\n",
      "153/153 [==============================] - 1s 3ms/step - loss: 0.6400 - mae: 0.6400 - val_loss: 0.7052 - val_mae: 0.7052\n",
      "Epoch 4/50\n",
      "153/153 [==============================] - 1s 4ms/step - loss: 0.6329 - mae: 0.6329 - val_loss: 0.5983 - val_mae: 0.5983\n",
      "Epoch 5/50\n",
      "153/153 [==============================] - 1s 3ms/step - loss: 0.6141 - mae: 0.6141 - val_loss: 0.6775 - val_mae: 0.6775\n",
      "Epoch 6/50\n",
      "153/153 [==============================] - 1s 4ms/step - loss: 0.6156 - mae: 0.6156 - val_loss: 0.6279 - val_mae: 0.6279\n",
      "Epoch 7/50\n",
      "153/153 [==============================] - 0s 3ms/step - loss: 0.6219 - mae: 0.6219 - val_loss: 0.5694 - val_mae: 0.5694\n",
      "Epoch 8/50\n",
      "153/153 [==============================] - 0s 2ms/step - loss: 0.6103 - mae: 0.6103 - val_loss: 0.5885 - val_mae: 0.5885\n",
      "Epoch 9/50\n",
      "153/153 [==============================] - 0s 2ms/step - loss: 0.6057 - mae: 0.6057 - val_loss: 0.5861 - val_mae: 0.5861\n",
      "Epoch 10/50\n",
      "153/153 [==============================] - 0s 3ms/step - loss: 0.6094 - mae: 0.6094 - val_loss: 0.6108 - val_mae: 0.6108\n",
      "Epoch 11/50\n",
      "153/153 [==============================] - 0s 2ms/step - loss: 0.6063 - mae: 0.6063 - val_loss: 0.6687 - val_mae: 0.6687\n",
      "Epoch 12/50\n",
      "153/153 [==============================] - 0s 2ms/step - loss: 0.6162 - mae: 0.6162 - val_loss: 0.6112 - val_mae: 0.6112\n",
      "Epoch 13/50\n",
      "153/153 [==============================] - 0s 2ms/step - loss: 0.5989 - mae: 0.5989 - val_loss: 0.5729 - val_mae: 0.5729\n",
      "Epoch 14/50\n",
      "153/153 [==============================] - 0s 2ms/step - loss: 0.5911 - mae: 0.5911 - val_loss: 0.5811 - val_mae: 0.5811\n",
      "Epoch 15/50\n",
      "153/153 [==============================] - 0s 2ms/step - loss: 0.6006 - mae: 0.6006 - val_loss: 0.7350 - val_mae: 0.7350\n",
      "Epoch 16/50\n",
      "153/153 [==============================] - 0s 2ms/step - loss: 0.6072 - mae: 0.6072 - val_loss: 0.5991 - val_mae: 0.5991\n",
      "Epoch 17/50\n",
      "153/153 [==============================] - 0s 3ms/step - loss: 0.5892 - mae: 0.5892 - val_loss: 0.5734 - val_mae: 0.5734\n",
      "Epoch 18/50\n",
      "153/153 [==============================] - 0s 2ms/step - loss: 0.5930 - mae: 0.5930 - val_loss: 0.6005 - val_mae: 0.6005\n",
      "Epoch 19/50\n",
      "153/153 [==============================] - 0s 3ms/step - loss: 0.5949 - mae: 0.5949 - val_loss: 0.6057 - val_mae: 0.6057\n",
      "Epoch 20/50\n",
      "153/153 [==============================] - 0s 2ms/step - loss: 0.5895 - mae: 0.5895 - val_loss: 0.5908 - val_mae: 0.5908\n",
      "Epoch 21/50\n",
      "153/153 [==============================] - 0s 2ms/step - loss: 0.5908 - mae: 0.5908 - val_loss: 0.5679 - val_mae: 0.5679\n",
      "Epoch 22/50\n",
      "153/153 [==============================] - 0s 2ms/step - loss: 0.5946 - mae: 0.5946 - val_loss: 0.5760 - val_mae: 0.5760\n",
      "Epoch 23/50\n",
      "153/153 [==============================] - 0s 2ms/step - loss: 0.5973 - mae: 0.5973 - val_loss: 0.5708 - val_mae: 0.5708\n",
      "Epoch 24/50\n",
      "153/153 [==============================] - 0s 2ms/step - loss: 0.5887 - mae: 0.5887 - val_loss: 0.5655 - val_mae: 0.5655\n",
      "Epoch 25/50\n",
      "153/153 [==============================] - 0s 3ms/step - loss: 0.5902 - mae: 0.5902 - val_loss: 0.6382 - val_mae: 0.6382\n",
      "Epoch 26/50\n",
      "153/153 [==============================] - 0s 2ms/step - loss: 0.6000 - mae: 0.6000 - val_loss: 0.6040 - val_mae: 0.6040\n",
      "Epoch 27/50\n",
      "153/153 [==============================] - 0s 2ms/step - loss: 0.6002 - mae: 0.6002 - val_loss: 0.5685 - val_mae: 0.5685\n",
      "Epoch 28/50\n",
      "153/153 [==============================] - 0s 2ms/step - loss: 0.5895 - mae: 0.5895 - val_loss: 0.5712 - val_mae: 0.5712\n",
      "Epoch 29/50\n",
      "153/153 [==============================] - 0s 2ms/step - loss: 0.5867 - mae: 0.5867 - val_loss: 0.5635 - val_mae: 0.5635\n",
      "Epoch 30/50\n",
      "153/153 [==============================] - 0s 2ms/step - loss: 0.5848 - mae: 0.5848 - val_loss: 0.5726 - val_mae: 0.5726\n",
      "Epoch 31/50\n",
      "153/153 [==============================] - 0s 2ms/step - loss: 0.5926 - mae: 0.5926 - val_loss: 0.5931 - val_mae: 0.5931\n",
      "Epoch 32/50\n",
      "153/153 [==============================] - 0s 3ms/step - loss: 0.5891 - mae: 0.5891 - val_loss: 0.5718 - val_mae: 0.5718\n",
      "Epoch 33/50\n",
      "153/153 [==============================] - 0s 3ms/step - loss: 0.5896 - mae: 0.5896 - val_loss: 0.5641 - val_mae: 0.5641\n",
      "Epoch 34/50\n",
      "153/153 [==============================] - 1s 4ms/step - loss: 0.5854 - mae: 0.5854 - val_loss: 0.6198 - val_mae: 0.6198\n",
      "Epoch 35/50\n",
      "153/153 [==============================] - 1s 4ms/step - loss: 0.5985 - mae: 0.5985 - val_loss: 0.5806 - val_mae: 0.5806\n",
      "Epoch 36/50\n",
      "153/153 [==============================] - 1s 4ms/step - loss: 0.5918 - mae: 0.5918 - val_loss: 0.5641 - val_mae: 0.5641\n",
      "Epoch 37/50\n",
      "153/153 [==============================] - 1s 4ms/step - loss: 0.5882 - mae: 0.5882 - val_loss: 0.5661 - val_mae: 0.5661\n",
      "Epoch 38/50\n",
      "153/153 [==============================] - 0s 2ms/step - loss: 0.5852 - mae: 0.5852 - val_loss: 0.5623 - val_mae: 0.5623\n",
      "Epoch 39/50\n",
      "153/153 [==============================] - 0s 2ms/step - loss: 0.5902 - mae: 0.5902 - val_loss: 0.5951 - val_mae: 0.5951\n",
      "Epoch 40/50\n",
      "153/153 [==============================] - 0s 2ms/step - loss: 0.5873 - mae: 0.5873 - val_loss: 0.5677 - val_mae: 0.5677\n",
      "Epoch 41/50\n",
      "153/153 [==============================] - 0s 2ms/step - loss: 0.5901 - mae: 0.5901 - val_loss: 0.5762 - val_mae: 0.5762\n",
      "Epoch 42/50\n",
      "153/153 [==============================] - 0s 3ms/step - loss: 0.5884 - mae: 0.5884 - val_loss: 0.5716 - val_mae: 0.5716\n",
      "Epoch 43/50\n",
      "153/153 [==============================] - 0s 3ms/step - loss: 0.5840 - mae: 0.5840 - val_loss: 0.5649 - val_mae: 0.5649\n",
      "Epoch 44/50\n",
      "153/153 [==============================] - 0s 2ms/step - loss: 0.5869 - mae: 0.5869 - val_loss: 0.5688 - val_mae: 0.5688\n",
      "Epoch 45/50\n",
      "153/153 [==============================] - 0s 2ms/step - loss: 0.5874 - mae: 0.5874 - val_loss: 0.5863 - val_mae: 0.5863\n",
      "Epoch 46/50\n",
      "153/153 [==============================] - 0s 3ms/step - loss: 0.5830 - mae: 0.5830 - val_loss: 0.5975 - val_mae: 0.5975\n",
      "Epoch 47/50\n",
      "153/153 [==============================] - 0s 2ms/step - loss: 0.5871 - mae: 0.5871 - val_loss: 0.5665 - val_mae: 0.5665\n",
      "Epoch 48/50\n",
      "153/153 [==============================] - 0s 2ms/step - loss: 0.5854 - mae: 0.5854 - val_loss: 0.5927 - val_mae: 0.5927\n",
      "Epoch 49/50\n",
      "153/153 [==============================] - 0s 2ms/step - loss: 0.5880 - mae: 0.5880 - val_loss: 0.5757 - val_mae: 0.5757\n",
      "Epoch 50/50\n",
      "153/153 [==============================] - 0s 2ms/step - loss: 0.5858 - mae: 0.5858 - val_loss: 0.5632 - val_mae: 0.5632\n",
      "Training Loss: 0.5754\n",
      "Training MAE: 0.5754\n",
      "Validation Loss: 0.5632\n",
      "Validation MAE: 0.5632\n",
      "Validation Loss: 0.5632, Validation MAE: 0.5632\n"
     ]
    }
   ],
   "source": [
    "from tensorflow.keras.models import Sequential\n",
    "from tensorflow.keras.layers import Dense\n",
    "from tensorflow.keras.optimizers import Adam\n",
    "# Create the model\n",
    "regmodl2 = Sequential()\n",
    "regmodl2.add(Dense(32, activation='linear', input_shape=(12,)))\n",
    "regmodl2.add(Dense(32, activation='linear'))\n",
    "regmodl2.add(Dense(1, activation='linear'))\n",
    "\n",
    "# Compile the model\n",
    "regmodl2.compile(optimizer=Adam(learning_rate=0.01), loss='mae', metrics=['mae'])\n",
    "\n",
    "# Fit the model\n",
    "history2 = regmodl2.fit(X_tr_norm, y_train, epochs=50, validation_data=(X_val_norm, y_val))\n",
    "# Evaluate the performance of the model on training set\n",
    "train_loss, train_mae = regmodl2.evaluate(X_tr_norm, y_train, verbose=0)\n",
    "print('Training Loss: {:.4f}'.format(train_loss))\n",
    "print('Training MAE: {:.4f}'.format(train_mae))\n",
    "\n",
    "# Evaluate the performance of the model on validation set\n",
    "val_loss, val_mae = regmodl2.evaluate(X_val_norm, y_val, verbose=0)\n",
    "print('Validation Loss: {:.4f}'.format(val_loss))\n",
    "print('Validation MAE: {:.4f}'.format(val_mae))\n",
    "val_loss, val_mae = regmodl2.evaluate(X_val_norm, y_val, verbose=0)\n",
    "print(f'Validation Loss: {val_loss:.4f}, Validation MAE: {val_mae:.4f}')"
   ]
  },
  {
   "cell_type": "code",
   "execution_count": 28,
   "metadata": {
    "colab": {
     "base_uri": "https://localhost:8080/",
     "height": 404
    },
    "id": "lXdFn-pdVJXS",
    "outputId": "922bdf3d-e246-4d25-efca-b2d53c87dc74"
   },
   "outputs": [
    {
     "data": {
      "image/png": "[encoded data removed]",
      "text/plain": [
       "<Figure size 720x432 with 1 Axes>"
      ]
     },
     "metadata": {
      "needs_background": "light"
     },
     "output_type": "display_data"
    }
   ],
   "source": [
    "import matplotlib.pyplot as plt\n",
    "\n",
    "# Plot the training and validation losses per epoch for each model\n",
    "plt.figure(figsize=(10, 6))\n",
    "plt.plot(history2.history['loss'], label=f\"Model train loss\")\n",
    "plt.plot(history2.history['val_loss'], label=f\"Model val loss\")\n",
    "\n",
    "plt.title('Training and validation losses per epoch')\n",
    "plt.xlabel('Epoch')\n",
    "plt.ylabel('Loss')\n",
    "plt.legend()\n",
    "plt.show()"
   ]
  },
  {
   "cell_type": "code",
   "execution_count": 29,
   "metadata": {
    "colab": {
     "base_uri": "https://localhost:8080/",
     "height": 295
    },
    "id": "sYt45e7EVJXU",
    "outputId": "8ab2bee7-5676-4819-bb5f-57407d2cfeb8"
   },
   "outputs": [
    {
     "data": {
      "image/png": "[encoded data removed]",
      "text/plain": [
       "<Figure size 432x288 with 1 Axes>"
      ]
     },
     "metadata": {
      "needs_background": "light"
     },
     "output_type": "display_data"
    }
   ],
   "source": [
    "\n",
    "# Assuming 'history' contains the training history of the model\n",
    "train_mae = history2.history['mae']\n",
    "val_mae = history2.history['val_mae']\n",
    "epochs = range(1, len(train_mae) + 1)\n",
    "\n",
    "# Plotting the MAE per epoch\n",
    "plt.plot(epochs, train_mae, 'bo', label='Training MAE')\n",
    "plt.plot(epochs, val_mae, 'b', label='Validation MAE')\n",
    "plt.title('Training and Validation MAE')\n",
    "plt.xlabel('Epochs')\n",
    "plt.ylabel('MAE')\n",
    "plt.legend()\n",
    "plt.show()"
   ]
  },
  {
   "cell_type": "markdown",
   "metadata": {
    "id": "6vGHeb86VJXV"
   },
   "source": [
    "### II.3 Use your iterative observations of the performance of the model in II.2 to modify / tune hyperparameters (for example deciding how many epochs of training to allow) to arrive at a “Final Regression Model” (regmodl3), which will be considered to be the “best model” you could develop to solve this regression task.- There must be at least 2 hidden layers in this model."
   ]
  },
  {
   "cell_type": "code",
   "execution_count": 30,
   "metadata": {
    "colab": {
     "base_uri": "https://localhost:8080/"
    },
    "id": "Xygx7MuwVJXX",
    "outputId": "83ecc692-8a71-4202-a6e3-3d0bb35d696c"
   },
   "outputs": [
    {
     "name": "stderr",
     "output_type": "stream",
     "text": [
      "<ipython-input-30-ab8e513a2db9>:16: DeprecationWarning: KerasRegressor is deprecated, use Sci-Keras (https://github.com/adriangb/scikeras) instead. See https://www.adriangb.com/scikeras/stable/migration.html for help migrating.\n",
      "  model = KerasRegressor(build_fn=create_model, verbose=0)\n",
      "/usr/local/lib/python3.9/dist-packages/joblib/externals/loky/process_executor.py:702: UserWarning: A worker stopped while some jobs were given to the executor. This can be caused by a too short worker timeout or by a memory leak.\n",
      "  warnings.warn(\n",
      "WARNING:absl:`lr` is deprecated, please use `learning_rate` instead, or use the legacy optimizer, e.g.,tf.keras.optimizers.legacy.Adam.\n"
     ]
    },
    {
     "name": "stdout",
     "output_type": "stream",
     "text": [
      "Best: -0.545088 using {'activation': 'relu', 'hidden_layers': 3, 'learning_rate': 0.01, 'processing_elements': 32}\n"
     ]
    }
   ],
   "source": [
    "from keras.wrappers.scikit_learn import KerasRegressor\n",
    "from sklearn.model_selection import GridSearchCV\n",
    "\n",
    "# Define the model architecture\n",
    "def create_model(hidden_layers=2, processing_elements=8, learning_rate=0.01, activation='relu'):\n",
    "    model = Sequential()\n",
    "    model.add(Dense(processing_elements, activation=activation, input_shape=(12,)))\n",
    "    for i in range(hidden_layers-1):\n",
    "        model.add(Dense(processing_elements, activation=activation))\n",
    "    model.add(Dense(1))\n",
    "    optimizer = Adam(lr=learning_rate)\n",
    "    model.compile(loss='mean_squared_error', optimizer=optimizer, metrics=['mae'])\n",
    "    return model\n",
    "\n",
    "# Create the KerasRegressor object\n",
    "model = KerasRegressor(build_fn=create_model, verbose=0)\n",
    "\n",
    "# Define the hyperparameter ranges to search over\n",
    "hidden_layers = [2, 3, 4]\n",
    "processing_elements = [8, 16, 32]\n",
    "learning_rate = [0.01, 0.001, 0.0001]\n",
    "activation = ['relu', 'sigmoid']\n",
    "\n",
    "# Define the grid search parameters\n",
    "param_grid = dict(hidden_layers=hidden_layers, processing_elements=processing_elements, \n",
    "                  learning_rate=learning_rate, activation=activation)\n",
    "\n",
    "# Create the GridSearchCV object\n",
    "grid = GridSearchCV(estimator=model, param_grid=param_grid, scoring='neg_mean_absolute_error', \n",
    "                    cv=3, n_jobs=-1)\n",
    "\n",
    "# Fit the grid search object to the training data\n",
    "grid_result = grid.fit(X_tr_norm, y_train, validation_data=(X_val_norm, y_val), epochs=50, batch_size=64)\n",
    "\n",
    "# Print the results\n",
    "print(\"Best: %f using %s\" % (grid_result.best_score_, grid_result.best_params_))"
   ]
  },
  {
   "cell_type": "code",
   "execution_count": 32,
   "metadata": {
    "colab": {
     "base_uri": "https://localhost:8080/"
    },
    "id": "QF1kjEhg7oIh",
    "outputId": "918d8a97-a9e6-4a57-ef2f-031c9d7fa08f"
   },
   "outputs": [
    {
     "data": {
      "text/plain": [
       "array([[0., 1., 0., 0.],\n",
       "       [0., 0., 1., 0.],\n",
       "       [0., 1., 0., 0.],\n",
       "       [0., 1., 0., 0.],\n",
       "       [0., 0., 1., 0.],\n",
       "       [0., 1., 0., 0.],\n",
       "       [0., 1., 0., 0.],\n",
       "       [0., 1., 0., 0.],\n",
       "       [0., 1., 0., 0.],\n",
       "       [0., 0., 1., 0.]])"
      ]
     },
     "execution_count": 32,
     "metadata": {},
     "output_type": "execute_result"
    }
   ],
   "source": [
    " y_tst_categorical = np.zeros((y_tst.shape[0], 4))\n",
    "\n",
    "for i in range(y_tst.shape[0]):\n",
    "    if y_tst[i] <= 3:\n",
    "        y_tst_categorical[i, 0] = 1\n",
    "    elif y_tst[i] >= 4 and y_tst[i] <= 6:\n",
    "        y_tst_categorical[i, 1] = 1\n",
    "    elif y_tst[i] >= 7 and y_tst[i] <= 8:\n",
    "        y_tst_categorical[i, 2] = 1\n",
    "    else:\n",
    "        y_tst_categorical[i, 3] = 1\n",
    "\n",
    "\n",
    "y_tst_categorical"
   ]
  },
  {
   "cell_type": "code",
   "execution_count": 33,
   "metadata": {
    "colab": {
     "base_uri": "https://localhost:8080/",
     "height": 1000
    },
    "id": "0MvT51FBVJXX",
    "outputId": "7b2e424e-eb17-4de1-e275-12690c6f386c"
   },
   "outputs": [
    {
     "name": "stdout",
     "output_type": "stream",
     "text": [
      "Epoch 1/50\n",
      "77/77 [==============================] - 0s 4ms/step - loss: 0.4151 - mae: 0.4994 - val_loss: 0.4921 - val_mae: 0.5470\n",
      "Epoch 2/50\n",
      "77/77 [==============================] - 0s 3ms/step - loss: 0.4156 - mae: 0.5007 - val_loss: 0.4812 - val_mae: 0.5349\n",
      "Epoch 3/50\n",
      "77/77 [==============================] - 0s 3ms/step - loss: 0.4075 - mae: 0.4950 - val_loss: 0.4906 - val_mae: 0.5405\n",
      "Epoch 4/50\n",
      "77/77 [==============================] - 0s 3ms/step - loss: 0.4048 - mae: 0.4933 - val_loss: 0.4798 - val_mae: 0.5346\n",
      "Epoch 5/50\n",
      "77/77 [==============================] - 0s 3ms/step - loss: 0.4090 - mae: 0.4982 - val_loss: 0.4823 - val_mae: 0.5429\n",
      "Epoch 6/50\n",
      "77/77 [==============================] - 0s 3ms/step - loss: 0.4100 - mae: 0.4973 - val_loss: 0.4848 - val_mae: 0.5413\n",
      "Epoch 7/50\n",
      "77/77 [==============================] - 0s 3ms/step - loss: 0.4189 - mae: 0.5031 - val_loss: 0.4736 - val_mae: 0.5339\n",
      "Epoch 8/50\n",
      "77/77 [==============================] - 0s 3ms/step - loss: 0.4095 - mae: 0.4987 - val_loss: 0.4938 - val_mae: 0.5415\n",
      "Epoch 9/50\n",
      "77/77 [==============================] - 0s 3ms/step - loss: 0.4008 - mae: 0.4905 - val_loss: 0.5028 - val_mae: 0.5578\n",
      "Epoch 10/50\n",
      "77/77 [==============================] - 0s 3ms/step - loss: 0.4159 - mae: 0.5000 - val_loss: 0.4966 - val_mae: 0.5437\n",
      "Epoch 11/50\n",
      "77/77 [==============================] - 0s 3ms/step - loss: 0.4066 - mae: 0.4941 - val_loss: 0.4739 - val_mae: 0.5355\n",
      "Epoch 12/50\n",
      "77/77 [==============================] - 0s 4ms/step - loss: 0.4000 - mae: 0.4900 - val_loss: 0.4685 - val_mae: 0.5304\n",
      "Epoch 13/50\n",
      "77/77 [==============================] - 0s 3ms/step - loss: 0.3991 - mae: 0.4898 - val_loss: 0.5021 - val_mae: 0.5443\n",
      "Epoch 14/50\n",
      "77/77 [==============================] - 0s 3ms/step - loss: 0.3979 - mae: 0.4896 - val_loss: 0.4845 - val_mae: 0.5386\n",
      "Epoch 15/50\n",
      "77/77 [==============================] - 0s 3ms/step - loss: 0.3981 - mae: 0.4882 - val_loss: 0.4833 - val_mae: 0.5346\n",
      "Epoch 16/50\n",
      "77/77 [==============================] - 0s 3ms/step - loss: 0.3991 - mae: 0.4906 - val_loss: 0.4770 - val_mae: 0.5309\n",
      "Epoch 17/50\n",
      "77/77 [==============================] - 0s 3ms/step - loss: 0.3939 - mae: 0.4867 - val_loss: 0.4729 - val_mae: 0.5338\n",
      "Epoch 18/50\n",
      "77/77 [==============================] - 0s 3ms/step - loss: 0.3958 - mae: 0.4876 - val_loss: 0.4663 - val_mae: 0.5282\n",
      "Epoch 19/50\n",
      "77/77 [==============================] - 0s 3ms/step - loss: 0.3878 - mae: 0.4822 - val_loss: 0.4780 - val_mae: 0.5363\n",
      "Epoch 20/50\n",
      "77/77 [==============================] - 0s 3ms/step - loss: 0.3882 - mae: 0.4829 - val_loss: 0.4765 - val_mae: 0.5320\n",
      "Epoch 21/50\n",
      "77/77 [==============================] - 0s 3ms/step - loss: 0.3972 - mae: 0.4881 - val_loss: 0.4756 - val_mae: 0.5376\n",
      "Epoch 22/50\n",
      "77/77 [==============================] - 0s 3ms/step - loss: 0.3854 - mae: 0.4816 - val_loss: 0.4856 - val_mae: 0.5419\n",
      "Epoch 23/50\n",
      "77/77 [==============================] - 0s 3ms/step - loss: 0.3956 - mae: 0.4887 - val_loss: 0.4729 - val_mae: 0.5288\n",
      "Epoch 24/50\n",
      "77/77 [==============================] - 0s 3ms/step - loss: 0.3910 - mae: 0.4852 - val_loss: 0.4847 - val_mae: 0.5396\n",
      "Epoch 25/50\n",
      "77/77 [==============================] - 0s 3ms/step - loss: 0.3846 - mae: 0.4806 - val_loss: 0.4912 - val_mae: 0.5470\n",
      "Epoch 26/50\n",
      "77/77 [==============================] - 0s 3ms/step - loss: 0.3902 - mae: 0.4844 - val_loss: 0.5041 - val_mae: 0.5460\n",
      "Epoch 27/50\n",
      "77/77 [==============================] - 0s 3ms/step - loss: 0.3834 - mae: 0.4804 - val_loss: 0.4727 - val_mae: 0.5344\n",
      "Epoch 28/50\n",
      "77/77 [==============================] - 0s 3ms/step - loss: 0.3829 - mae: 0.4800 - val_loss: 0.4842 - val_mae: 0.5409\n",
      "Epoch 29/50\n",
      "77/77 [==============================] - 0s 3ms/step - loss: 0.3925 - mae: 0.4859 - val_loss: 0.4842 - val_mae: 0.5348\n",
      "Epoch 30/50\n",
      "77/77 [==============================] - 0s 3ms/step - loss: 0.3799 - mae: 0.4759 - val_loss: 0.4876 - val_mae: 0.5375\n",
      "Epoch 31/50\n",
      "77/77 [==============================] - 0s 3ms/step - loss: 0.3852 - mae: 0.4803 - val_loss: 0.4704 - val_mae: 0.5288\n",
      "Epoch 32/50\n",
      "77/77 [==============================] - 0s 3ms/step - loss: 0.3809 - mae: 0.4780 - val_loss: 0.4731 - val_mae: 0.5286\n",
      "Epoch 33/50\n",
      "77/77 [==============================] - 0s 3ms/step - loss: 0.3852 - mae: 0.4803 - val_loss: 0.4870 - val_mae: 0.5430\n",
      "Epoch 34/50\n",
      "77/77 [==============================] - 0s 3ms/step - loss: 0.3793 - mae: 0.4771 - val_loss: 0.4715 - val_mae: 0.5325\n",
      "Epoch 35/50\n",
      "77/77 [==============================] - 0s 5ms/step - loss: 0.3753 - mae: 0.4737 - val_loss: 0.4819 - val_mae: 0.5359\n",
      "Epoch 36/50\n",
      "77/77 [==============================] - 0s 5ms/step - loss: 0.4032 - mae: 0.4937 - val_loss: 0.4762 - val_mae: 0.5299\n",
      "Epoch 37/50\n",
      "77/77 [==============================] - 0s 4ms/step - loss: 0.3839 - mae: 0.4789 - val_loss: 0.4762 - val_mae: 0.5330\n",
      "Epoch 38/50\n",
      "77/77 [==============================] - 0s 4ms/step - loss: 0.3827 - mae: 0.4794 - val_loss: 0.4757 - val_mae: 0.5288\n",
      "Epoch 39/50\n",
      "77/77 [==============================] - 0s 4ms/step - loss: 0.3761 - mae: 0.4750 - val_loss: 0.4832 - val_mae: 0.5312\n",
      "Epoch 40/50\n",
      "77/77 [==============================] - 0s 4ms/step - loss: 0.3815 - mae: 0.4759 - val_loss: 0.4952 - val_mae: 0.5367\n",
      "Epoch 41/50\n",
      "77/77 [==============================] - 0s 4ms/step - loss: 0.3957 - mae: 0.4867 - val_loss: 0.4605 - val_mae: 0.5249\n",
      "Epoch 42/50\n",
      "77/77 [==============================] - 0s 4ms/step - loss: 0.3710 - mae: 0.4711 - val_loss: 0.4711 - val_mae: 0.5324\n",
      "Epoch 43/50\n",
      "77/77 [==============================] - 0s 4ms/step - loss: 0.3675 - mae: 0.4680 - val_loss: 0.5744 - val_mae: 0.5816\n",
      "Epoch 44/50\n",
      "77/77 [==============================] - 0s 3ms/step - loss: 0.4482 - mae: 0.5132 - val_loss: 0.4768 - val_mae: 0.5366\n",
      "Epoch 45/50\n",
      "77/77 [==============================] - 0s 3ms/step - loss: 0.3886 - mae: 0.4824 - val_loss: 0.4739 - val_mae: 0.5335\n",
      "Epoch 46/50\n",
      "77/77 [==============================] - 0s 3ms/step - loss: 0.3816 - mae: 0.4789 - val_loss: 0.4924 - val_mae: 0.5359\n",
      "Epoch 47/50\n",
      "77/77 [==============================] - 0s 3ms/step - loss: 0.4431 - mae: 0.5093 - val_loss: 0.4782 - val_mae: 0.5374\n",
      "Epoch 48/50\n",
      "77/77 [==============================] - 0s 3ms/step - loss: 0.3749 - mae: 0.4755 - val_loss: 0.4726 - val_mae: 0.5361\n",
      "Epoch 49/50\n",
      "77/77 [==============================] - 0s 3ms/step - loss: 0.3795 - mae: 0.4772 - val_loss: 0.4731 - val_mae: 0.5275\n",
      "Epoch 50/50\n",
      "77/77 [==============================] - 0s 4ms/step - loss: 0.3695 - mae: 0.4729 - val_loss: 0.4840 - val_mae: 0.5334\n"
     ]
    },
    {
     "data": {
      "image/png": "[encoded data removed]",
      "text/plain": [
       "<Figure size 432x288 with 1 Axes>"
      ]
     },
     "metadata": {
      "needs_background": "light"
     },
     "output_type": "display_data"
    }
   ],
   "source": [
    "\n",
    "# Get the best model from the grid search\n",
    "best_model = grid_result.best_estimator_.model\n",
    "\n",
    "# Train the best model on the full training set\n",
    "best_model.fit(X_tr_norm, y_train, validation_data=(X_val_norm, y_val), epochs=50, batch_size=64)\n",
    "\n",
    "# Print the history for loss and val_loss\n",
    "plt.plot(best_model.history.history['loss'])\n",
    "plt.plot(best_model.history.history['val_loss'])\n",
    "plt.title('Model Loss')\n",
    "plt.ylabel('Loss')\n",
    "plt.xlabel('Epoch')\n",
    "plt.legend(['train', 'val'], loc='upper right')\n",
    "plt.show()"
   ]
  },
  {
   "cell_type": "code",
   "execution_count": 34,
   "metadata": {
    "colab": {
     "base_uri": "https://localhost:8080/",
     "height": 1000
    },
    "id": "iP6VXLIOVJXY",
    "outputId": "2b41536f-729e-4edd-c657-864319b878aa"
   },
   "outputs": [
    {
     "name": "stdout",
     "output_type": "stream",
     "text": [
      "Epoch 1/50\n",
      "77/77 [==============================] - 0s 4ms/step - loss: 0.3782 - mae: 0.4763 - val_loss: 0.4689 - val_mae: 0.5284\n",
      "Epoch 2/50\n",
      "77/77 [==============================] - 0s 3ms/step - loss: 0.3606 - mae: 0.4653 - val_loss: 0.4772 - val_mae: 0.5378\n",
      "Epoch 3/50\n",
      "77/77 [==============================] - 0s 4ms/step - loss: 0.3816 - mae: 0.4776 - val_loss: 0.4771 - val_mae: 0.5368\n",
      "Epoch 4/50\n",
      "77/77 [==============================] - 0s 3ms/step - loss: 0.3708 - mae: 0.4715 - val_loss: 0.4803 - val_mae: 0.5317\n",
      "Epoch 5/50\n",
      "77/77 [==============================] - 0s 3ms/step - loss: 0.3619 - mae: 0.4644 - val_loss: 0.4768 - val_mae: 0.5310\n",
      "Epoch 6/50\n",
      "77/77 [==============================] - 0s 3ms/step - loss: 0.3625 - mae: 0.4667 - val_loss: 0.4754 - val_mae: 0.5324\n",
      "Epoch 7/50\n",
      "77/77 [==============================] - 0s 3ms/step - loss: 0.3644 - mae: 0.4645 - val_loss: 0.4750 - val_mae: 0.5319\n",
      "Epoch 8/50\n",
      "77/77 [==============================] - 0s 3ms/step - loss: 0.3674 - mae: 0.4703 - val_loss: 0.4739 - val_mae: 0.5328\n",
      "Epoch 9/50\n",
      "77/77 [==============================] - 0s 3ms/step - loss: 0.3567 - mae: 0.4617 - val_loss: 0.4615 - val_mae: 0.5259\n",
      "Epoch 10/50\n",
      "77/77 [==============================] - 0s 3ms/step - loss: 0.3585 - mae: 0.4648 - val_loss: 0.4866 - val_mae: 0.5328\n",
      "Epoch 11/50\n",
      "77/77 [==============================] - 0s 3ms/step - loss: 0.3603 - mae: 0.4633 - val_loss: 0.4925 - val_mae: 0.5373\n",
      "Epoch 12/50\n",
      "77/77 [==============================] - 0s 4ms/step - loss: 0.3635 - mae: 0.4657 - val_loss: 0.4770 - val_mae: 0.5353\n",
      "Epoch 13/50\n",
      "77/77 [==============================] - 0s 3ms/step - loss: 0.3529 - mae: 0.4585 - val_loss: 0.4778 - val_mae: 0.5327\n",
      "Epoch 14/50\n",
      "77/77 [==============================] - 0s 3ms/step - loss: 0.3544 - mae: 0.4598 - val_loss: 0.4942 - val_mae: 0.5450\n",
      "Epoch 15/50\n",
      "77/77 [==============================] - 0s 3ms/step - loss: 0.4158 - mae: 0.5028 - val_loss: 0.4769 - val_mae: 0.5365\n",
      "Epoch 16/50\n",
      "77/77 [==============================] - 0s 3ms/step - loss: 0.3545 - mae: 0.4600 - val_loss: 0.4694 - val_mae: 0.5316\n",
      "Epoch 17/50\n",
      "77/77 [==============================] - 0s 3ms/step - loss: 0.3626 - mae: 0.4658 - val_loss: 0.5360 - val_mae: 0.5752\n",
      "Epoch 18/50\n",
      "77/77 [==============================] - 0s 3ms/step - loss: 0.3737 - mae: 0.4728 - val_loss: 0.4635 - val_mae: 0.5270\n",
      "Epoch 19/50\n",
      "77/77 [==============================] - 0s 3ms/step - loss: 0.3519 - mae: 0.4579 - val_loss: 0.5073 - val_mae: 0.5590\n",
      "Epoch 20/50\n",
      "77/77 [==============================] - 0s 4ms/step - loss: 0.3583 - mae: 0.4629 - val_loss: 0.4792 - val_mae: 0.5331\n",
      "Epoch 21/50\n",
      "77/77 [==============================] - 0s 3ms/step - loss: 0.3515 - mae: 0.4594 - val_loss: 0.4834 - val_mae: 0.5353\n",
      "Epoch 22/50\n",
      "77/77 [==============================] - 0s 3ms/step - loss: 0.3562 - mae: 0.4603 - val_loss: 0.5037 - val_mae: 0.5424\n",
      "Epoch 23/50\n",
      "77/77 [==============================] - 0s 3ms/step - loss: 0.3570 - mae: 0.4636 - val_loss: 0.4800 - val_mae: 0.5316\n",
      "Epoch 24/50\n",
      "77/77 [==============================] - 0s 3ms/step - loss: 0.3682 - mae: 0.4702 - val_loss: 0.4763 - val_mae: 0.5290\n",
      "Epoch 25/50\n",
      "77/77 [==============================] - 0s 3ms/step - loss: 0.3505 - mae: 0.4581 - val_loss: 0.4672 - val_mae: 0.5275\n",
      "Epoch 26/50\n",
      "77/77 [==============================] - 0s 3ms/step - loss: 0.3482 - mae: 0.4560 - val_loss: 0.4657 - val_mae: 0.5275\n",
      "Epoch 27/50\n",
      "77/77 [==============================] - 0s 3ms/step - loss: 0.3477 - mae: 0.4540 - val_loss: 0.4786 - val_mae: 0.5309\n",
      "Epoch 28/50\n",
      "77/77 [==============================] - 0s 3ms/step - loss: 0.3531 - mae: 0.4576 - val_loss: 0.5257 - val_mae: 0.5532\n",
      "Epoch 29/50\n",
      "77/77 [==============================] - 0s 3ms/step - loss: 0.4004 - mae: 0.4891 - val_loss: 0.5092 - val_mae: 0.5556\n",
      "Epoch 30/50\n",
      "77/77 [==============================] - 0s 3ms/step - loss: 0.3707 - mae: 0.4740 - val_loss: 0.4777 - val_mae: 0.5369\n",
      "Epoch 31/50\n",
      "77/77 [==============================] - 0s 3ms/step - loss: 0.3621 - mae: 0.4664 - val_loss: 0.4670 - val_mae: 0.5302\n",
      "Epoch 32/50\n",
      "77/77 [==============================] - 0s 3ms/step - loss: 0.3488 - mae: 0.4568 - val_loss: 0.4689 - val_mae: 0.5281\n",
      "Epoch 33/50\n",
      "77/77 [==============================] - 0s 3ms/step - loss: 0.3524 - mae: 0.4587 - val_loss: 0.4693 - val_mae: 0.5295\n",
      "Epoch 34/50\n",
      "77/77 [==============================] - 0s 3ms/step - loss: 0.3614 - mae: 0.4665 - val_loss: 0.4878 - val_mae: 0.5372\n",
      "Epoch 35/50\n",
      "77/77 [==============================] - 0s 3ms/step - loss: 0.3446 - mae: 0.4536 - val_loss: 0.4731 - val_mae: 0.5309\n",
      "Epoch 36/50\n",
      "77/77 [==============================] - 0s 3ms/step - loss: 0.3680 - mae: 0.4676 - val_loss: 0.4736 - val_mae: 0.5300\n",
      "Epoch 37/50\n",
      "77/77 [==============================] - 0s 3ms/step - loss: 0.3461 - mae: 0.4531 - val_loss: 0.4691 - val_mae: 0.5275\n",
      "Epoch 38/50\n",
      "77/77 [==============================] - 0s 3ms/step - loss: 0.3451 - mae: 0.4542 - val_loss: 0.4630 - val_mae: 0.5292\n",
      "Epoch 39/50\n",
      "77/77 [==============================] - 0s 3ms/step - loss: 0.3400 - mae: 0.4515 - val_loss: 0.4704 - val_mae: 0.5280\n",
      "Epoch 40/50\n",
      "77/77 [==============================] - 0s 5ms/step - loss: 0.3366 - mae: 0.4473 - val_loss: 0.4687 - val_mae: 0.5284\n",
      "Epoch 41/50\n",
      "77/77 [==============================] - 0s 4ms/step - loss: 0.3535 - mae: 0.4587 - val_loss: 0.4716 - val_mae: 0.5316\n",
      "Epoch 42/50\n",
      "77/77 [==============================] - 0s 5ms/step - loss: 0.3446 - mae: 0.4536 - val_loss: 0.4683 - val_mae: 0.5261\n",
      "Epoch 43/50\n",
      "77/77 [==============================] - 0s 4ms/step - loss: 0.3404 - mae: 0.4510 - val_loss: 0.4625 - val_mae: 0.5238\n",
      "Epoch 44/50\n",
      "77/77 [==============================] - 0s 5ms/step - loss: 0.3330 - mae: 0.4456 - val_loss: 0.4854 - val_mae: 0.5352\n",
      "Epoch 45/50\n",
      "77/77 [==============================] - 0s 4ms/step - loss: 0.3361 - mae: 0.4489 - val_loss: 0.4845 - val_mae: 0.5325\n",
      "Epoch 46/50\n",
      "77/77 [==============================] - 0s 4ms/step - loss: 0.3352 - mae: 0.4473 - val_loss: 0.4635 - val_mae: 0.5263\n",
      "Epoch 47/50\n",
      "77/77 [==============================] - 0s 4ms/step - loss: 0.3322 - mae: 0.4452 - val_loss: 0.4924 - val_mae: 0.5357\n",
      "Epoch 48/50\n",
      "77/77 [==============================] - 0s 4ms/step - loss: 0.3367 - mae: 0.4490 - val_loss: 0.4814 - val_mae: 0.5351\n",
      "Epoch 49/50\n",
      "77/77 [==============================] - 0s 3ms/step - loss: 0.3550 - mae: 0.4621 - val_loss: 0.4810 - val_mae: 0.5399\n",
      "Epoch 50/50\n",
      "77/77 [==============================] - 0s 3ms/step - loss: 0.3500 - mae: 0.4572 - val_loss: 0.4921 - val_mae: 0.5393\n"
     ]
    },
    {
     "data": {
      "image/png": "[encoded data removed]",
      "text/plain": [
       "<Figure size 432x288 with 1 Axes>"
      ]
     },
     "metadata": {
      "needs_background": "light"
     },
     "output_type": "display_data"
    }
   ],
   "source": [
    "\n",
    "# Get the best model from the grid search\n",
    "best_model = grid_result.best_estimator_.model\n",
    "\n",
    "# Train the best model on the full training set\n",
    "best_model.fit(X_tr_norm, y_train, validation_data=(X_val_norm, y_val), epochs=50, batch_size=64)\n",
    "\n",
    "# Plot the training and validation MAE over the epochs\n",
    "plt.plot(best_model.history.history['mae'], label='Training MAE')\n",
    "plt.plot(best_model.history.history['val_mae'], label='Validation MAE')\n",
    "plt.xlabel('Epoch')\n",
    "plt.ylabel('MAE')\n",
    "plt.legend()\n",
    "plt.show()"
   ]
  },
  {
   "cell_type": "code",
   "execution_count": 35,
   "metadata": {
    "colab": {
     "base_uri": "https://localhost:8080/"
    },
    "id": "4cquJ9eW-T0V",
    "outputId": "d7412099-27ba-4c28-c3ab-baf1e3495f8a"
   },
   "outputs": [
    {
     "name": "stdout",
     "output_type": "stream",
     "text": [
      "153/153 [==============================] - 0s 2ms/step\n",
      "51/51 [==============================] - 0s 2ms/step\n",
      "MAE of Train Data: 2.155086\n",
      "MAE of validation Data: 2.155357\n"
     ]
    }
   ],
   "source": [
    "def to_convert(x):\n",
    "  l=len(x)\n",
    "  res = np.zeros(l)\n",
    "  for i in range(l):\n",
    "    xa = x[i];\n",
    "    if xa <= 3:\n",
    "      res[i] = 1\n",
    "    elif xa <= 6:\n",
    "      res[i] = 2\n",
    "    elif xa <= 8:\n",
    "      res[i] = 3\n",
    "    else:\n",
    "      res[i] = 4\n",
    "  res=res.astype(int)\n",
    "  return res\n",
    "\n",
    "train_labels = to_convert(y_train)\n",
    "val_labels = to_convert(y_val)\n",
    "tst_labels = to_convert(y_tst)\n",
    "\n",
    "\n",
    "\n",
    "from sklearn.metrics import mean_absolute_error\n",
    "pred_train = best_model.predict(X_train)\n",
    "pred_val = best_model.predict(X_val)\n",
    "\n",
    "MAE_train = mean_absolute_error(train_labels,pred_train)\n",
    "print('MAE of Train Data: %3f' % MAE_train)\n",
    "MAE_val = mean_absolute_error(val_labels,pred_val)\n",
    "print('MAE of validation Data: %3f' % MAE_val)"
   ]
  },
  {
   "cell_type": "code",
   "execution_count": 36,
   "metadata": {
    "colab": {
     "base_uri": "https://localhost:8080/"
    },
    "id": "YE0xrROdEOvi",
    "outputId": "d93d4940-9911-4c0d-e7c5-3cff584bebd8"
   },
   "outputs": [
    {
     "data": {
      "text/plain": [
       "array([2, 3, 2, 2, 3, 2, 2, 2, 2, 3])"
      ]
     },
     "execution_count": 36,
     "metadata": {},
     "output_type": "execute_result"
    }
   ],
   "source": [
    "tst_labels"
   ]
  },
  {
   "cell_type": "code",
   "execution_count": 37,
   "metadata": {
    "colab": {
     "base_uri": "https://localhost:8080/"
    },
    "id": "pKlkDrCw8nO3",
    "outputId": "9b89d140-b261-4b31-d201-f9ea7e92419d"
   },
   "outputs": [
    {
     "name": "stdout",
     "output_type": "stream",
     "text": [
      "1/1 [==============================] - 0s 26ms/step\n"
     ]
    },
    {
     "data": {
      "text/plain": [
       "array([[ 1.7073187 ],\n",
       "       [-1.9065963 ],\n",
       "       [-3.2056575 ],\n",
       "       [ 0.41265932],\n",
       "       [ 1.6514541 ],\n",
       "       [ 6.8732486 ],\n",
       "       [ 3.7511165 ],\n",
       "       [-0.18806776],\n",
       "       [-1.5345558 ],\n",
       "       [-2.1877816 ]], dtype=float32)"
      ]
     },
     "execution_count": 37,
     "metadata": {},
     "output_type": "execute_result"
    }
   ],
   "source": [
    "pred_test = best_model.predict(X_tst)\n",
    "pred_test"
   ]
  },
  {
   "cell_type": "code",
   "execution_count": 38,
   "metadata": {
    "colab": {
     "base_uri": "https://localhost:8080/"
    },
    "id": "IuPAAjFh9bZI",
    "outputId": "8e8f7c38-fff3-4ffa-9534-09b5fc201ebc"
   },
   "outputs": [
    {
     "data": {
      "text/plain": [
       "array([[  6.,   0.,   0.,  10.,   0.,  26., 108.,   1.,   3.,   0.,  11.,\n",
       "          0.],\n",
       "       [ 10.,   0.,   0.,   2.,   0.,   7.,  20.,   1.,   3.,   1.,  11.,\n",
       "          1.],\n",
       "       [ 13.,   0.,   1.,   3.,   0.,   5.,  16.,   1.,   3.,   1.,   9.,\n",
       "          1.],\n",
       "       [  8.,   0.,   0.,   7.,   0.,  22.,  64.,   1.,   3.,   0.,  11.,\n",
       "          0.],\n",
       "       [  7.,   0.,   0.,   3.,   0.,  40., 122.,   1.,   3.,   1.,  11.,\n",
       "          0.],\n",
       "       [  8.,   1.,   0.,   2.,   0.,  13., 151.,   1.,   3.,   0.,  10.,\n",
       "          0.],\n",
       "       [  7.,   0.,   0.,  14.,   0.,  40., 183.,   1.,   3.,   0.,   9.,\n",
       "          0.],\n",
       "       [  6.,   1.,   0.,   2.,   0.,  15.,  26.,   1.,   4.,   1.,  12.,\n",
       "          1.],\n",
       "       [  6.,   0.,   0.,   6.,   0.,  56., 158.,   1.,   4.,   0.,  10.,\n",
       "          0.],\n",
       "       [  7.,   0.,   0.,  13.,   0.,  46., 120.,   1.,   3.,   0.,  10.,\n",
       "          0.]])"
      ]
     },
     "execution_count": 38,
     "metadata": {},
     "output_type": "execute_result"
    }
   ],
   "source": [
    "np.round(X_tst)"
   ]
  },
  {
   "cell_type": "markdown",
   "metadata": {
    "id": "WgvOUYFzVJXZ"
   },
   "source": [
    "# [PART III]: THE CLASSIFICATION MODEL"
   ]
  },
  {
   "cell_type": "markdown",
   "metadata": {
    "id": "XVfghidIVJXZ"
   },
   "source": [
    "### III.1 Develop a (very simple) model , (clasmodl1) –This model must only have 1 hidden layer, and no more than 8 processing elements in that layer. – Is this model achieving better accuracy than a “random classifier”"
   ]
  },
  {
   "cell_type": "code",
   "execution_count": 39,
   "metadata": {
    "colab": {
     "base_uri": "https://localhost:8080/"
    },
    "id": "jt6Pk7fOVJXa",
    "outputId": "c7e1fbe2-7c27-4c3e-d920-2a392e07f7f4"
   },
   "outputs": [
    {
     "name": "stdout",
     "output_type": "stream",
     "text": [
      "Epoch 1/100\n",
      "153/153 [==============================] - 1s 3ms/step - loss: 1.1391 - accuracy: 0.5558 - val_loss: 0.8278 - val_accuracy: 0.7454\n",
      "Epoch 2/100\n",
      "153/153 [==============================] - 0s 3ms/step - loss: 0.7218 - accuracy: 0.7834 - val_loss: 0.6119 - val_accuracy: 0.7910\n",
      "Epoch 3/100\n",
      "153/153 [==============================] - 0s 3ms/step - loss: 0.5831 - accuracy: 0.8039 - val_loss: 0.5235 - val_accuracy: 0.8002\n",
      "Epoch 4/100\n",
      "153/153 [==============================] - 0s 3ms/step - loss: 0.5236 - accuracy: 0.8142 - val_loss: 0.4800 - val_accuracy: 0.8039\n",
      "Epoch 5/100\n",
      "153/153 [==============================] - 1s 4ms/step - loss: 0.4943 - accuracy: 0.8181 - val_loss: 0.4562 - val_accuracy: 0.8046\n",
      "Epoch 6/100\n",
      "153/153 [==============================] - 1s 4ms/step - loss: 0.4764 - accuracy: 0.8187 - val_loss: 0.4394 - val_accuracy: 0.8089\n",
      "Epoch 7/100\n",
      "153/153 [==============================] - 1s 4ms/step - loss: 0.4649 - accuracy: 0.8201 - val_loss: 0.4292 - val_accuracy: 0.8083\n",
      "Epoch 8/100\n",
      "153/153 [==============================] - 1s 3ms/step - loss: 0.4577 - accuracy: 0.8226 - val_loss: 0.4220 - val_accuracy: 0.8095\n",
      "Epoch 9/100\n",
      "153/153 [==============================] - 1s 3ms/step - loss: 0.4523 - accuracy: 0.8222 - val_loss: 0.4166 - val_accuracy: 0.8083\n",
      "Epoch 10/100\n",
      "153/153 [==============================] - 0s 3ms/step - loss: 0.4483 - accuracy: 0.8203 - val_loss: 0.4117 - val_accuracy: 0.8163\n",
      "Epoch 11/100\n",
      "153/153 [==============================] - 0s 2ms/step - loss: 0.4449 - accuracy: 0.8206 - val_loss: 0.4090 - val_accuracy: 0.8107\n",
      "Epoch 12/100\n",
      "153/153 [==============================] - 0s 2ms/step - loss: 0.4419 - accuracy: 0.8222 - val_loss: 0.4062 - val_accuracy: 0.8113\n",
      "Epoch 13/100\n",
      "153/153 [==============================] - 0s 2ms/step - loss: 0.4403 - accuracy: 0.8203 - val_loss: 0.4038 - val_accuracy: 0.8132\n",
      "Epoch 14/100\n",
      "153/153 [==============================] - 0s 2ms/step - loss: 0.4381 - accuracy: 0.8218 - val_loss: 0.4017 - val_accuracy: 0.8163\n",
      "Epoch 15/100\n",
      "153/153 [==============================] - 0s 3ms/step - loss: 0.4360 - accuracy: 0.8240 - val_loss: 0.4010 - val_accuracy: 0.8089\n",
      "Epoch 16/100\n",
      "153/153 [==============================] - 0s 2ms/step - loss: 0.4344 - accuracy: 0.8230 - val_loss: 0.3979 - val_accuracy: 0.8157\n",
      "Epoch 17/100\n",
      "153/153 [==============================] - 0s 3ms/step - loss: 0.4332 - accuracy: 0.8203 - val_loss: 0.3966 - val_accuracy: 0.8175\n",
      "Epoch 18/100\n",
      "153/153 [==============================] - 0s 2ms/step - loss: 0.4314 - accuracy: 0.8193 - val_loss: 0.3956 - val_accuracy: 0.8132\n",
      "Epoch 19/100\n",
      "153/153 [==============================] - 0s 2ms/step - loss: 0.4298 - accuracy: 0.8222 - val_loss: 0.3955 - val_accuracy: 0.8089\n",
      "Epoch 20/100\n",
      "153/153 [==============================] - 0s 2ms/step - loss: 0.4324 - accuracy: 0.8216 - val_loss: 0.3953 - val_accuracy: 0.8107\n",
      "Epoch 21/100\n",
      "153/153 [==============================] - 0s 2ms/step - loss: 0.4291 - accuracy: 0.8181 - val_loss: 0.3931 - val_accuracy: 0.8181\n",
      "Epoch 22/100\n",
      "153/153 [==============================] - 0s 2ms/step - loss: 0.4266 - accuracy: 0.8228 - val_loss: 0.3916 - val_accuracy: 0.8132\n",
      "Epoch 23/100\n",
      "153/153 [==============================] - 0s 3ms/step - loss: 0.4255 - accuracy: 0.8199 - val_loss: 0.3904 - val_accuracy: 0.8231\n",
      "Epoch 24/100\n",
      "153/153 [==============================] - 0s 2ms/step - loss: 0.4245 - accuracy: 0.8201 - val_loss: 0.3894 - val_accuracy: 0.8218\n",
      "Epoch 25/100\n",
      "153/153 [==============================] - 0s 2ms/step - loss: 0.4235 - accuracy: 0.8218 - val_loss: 0.3880 - val_accuracy: 0.8169\n",
      "Epoch 26/100\n",
      "153/153 [==============================] - 0s 2ms/step - loss: 0.4227 - accuracy: 0.8201 - val_loss: 0.3873 - val_accuracy: 0.8200\n",
      "Epoch 27/100\n",
      "153/153 [==============================] - 0s 2ms/step - loss: 0.4218 - accuracy: 0.8216 - val_loss: 0.3867 - val_accuracy: 0.8181\n",
      "Epoch 28/100\n",
      "153/153 [==============================] - 0s 3ms/step - loss: 0.4212 - accuracy: 0.8222 - val_loss: 0.3858 - val_accuracy: 0.8175\n",
      "Epoch 29/100\n",
      "153/153 [==============================] - 0s 3ms/step - loss: 0.4201 - accuracy: 0.8232 - val_loss: 0.3855 - val_accuracy: 0.8187\n",
      "Epoch 30/100\n",
      "153/153 [==============================] - 0s 2ms/step - loss: 0.4193 - accuracy: 0.8218 - val_loss: 0.3848 - val_accuracy: 0.8163\n",
      "Epoch 31/100\n",
      "153/153 [==============================] - 0s 3ms/step - loss: 0.4182 - accuracy: 0.8222 - val_loss: 0.3832 - val_accuracy: 0.8212\n",
      "Epoch 32/100\n",
      "153/153 [==============================] - 0s 2ms/step - loss: 0.4176 - accuracy: 0.8238 - val_loss: 0.3832 - val_accuracy: 0.8243\n",
      "Epoch 33/100\n",
      "153/153 [==============================] - 0s 2ms/step - loss: 0.4169 - accuracy: 0.8208 - val_loss: 0.3831 - val_accuracy: 0.8237\n",
      "Epoch 34/100\n",
      "153/153 [==============================] - 0s 2ms/step - loss: 0.4161 - accuracy: 0.8238 - val_loss: 0.3826 - val_accuracy: 0.8181\n",
      "Epoch 35/100\n",
      "153/153 [==============================] - 0s 2ms/step - loss: 0.4155 - accuracy: 0.8230 - val_loss: 0.3821 - val_accuracy: 0.8169\n",
      "Epoch 36/100\n",
      "153/153 [==============================] - 1s 3ms/step - loss: 0.4153 - accuracy: 0.8238 - val_loss: 0.3816 - val_accuracy: 0.8194\n",
      "Epoch 37/100\n",
      "153/153 [==============================] - 1s 3ms/step - loss: 0.4140 - accuracy: 0.8234 - val_loss: 0.3811 - val_accuracy: 0.8200\n",
      "Epoch 38/100\n",
      "153/153 [==============================] - 1s 4ms/step - loss: 0.4140 - accuracy: 0.8212 - val_loss: 0.3815 - val_accuracy: 0.8237\n",
      "Epoch 39/100\n",
      "153/153 [==============================] - 1s 4ms/step - loss: 0.4125 - accuracy: 0.8255 - val_loss: 0.3811 - val_accuracy: 0.8181\n",
      "Epoch 40/100\n",
      "153/153 [==============================] - 1s 4ms/step - loss: 0.4120 - accuracy: 0.8232 - val_loss: 0.3798 - val_accuracy: 0.8224\n",
      "Epoch 41/100\n",
      "153/153 [==============================] - 0s 3ms/step - loss: 0.4118 - accuracy: 0.8234 - val_loss: 0.3783 - val_accuracy: 0.8218\n",
      "Epoch 42/100\n",
      "153/153 [==============================] - 0s 2ms/step - loss: 0.4110 - accuracy: 0.8236 - val_loss: 0.3799 - val_accuracy: 0.8237\n",
      "Epoch 43/100\n",
      "153/153 [==============================] - 0s 3ms/step - loss: 0.4107 - accuracy: 0.8228 - val_loss: 0.3782 - val_accuracy: 0.8206\n",
      "Epoch 44/100\n",
      "153/153 [==============================] - 0s 3ms/step - loss: 0.4098 - accuracy: 0.8240 - val_loss: 0.3769 - val_accuracy: 0.8218\n",
      "Epoch 45/100\n",
      "153/153 [==============================] - 0s 3ms/step - loss: 0.4100 - accuracy: 0.8226 - val_loss: 0.3776 - val_accuracy: 0.8261\n",
      "Epoch 46/100\n",
      "153/153 [==============================] - 0s 2ms/step - loss: 0.4095 - accuracy: 0.8243 - val_loss: 0.3775 - val_accuracy: 0.8224\n",
      "Epoch 47/100\n",
      "153/153 [==============================] - 0s 2ms/step - loss: 0.4091 - accuracy: 0.8243 - val_loss: 0.3772 - val_accuracy: 0.8274\n",
      "Epoch 48/100\n",
      "153/153 [==============================] - 0s 2ms/step - loss: 0.4078 - accuracy: 0.8228 - val_loss: 0.3760 - val_accuracy: 0.8224\n",
      "Epoch 49/100\n",
      "153/153 [==============================] - 0s 2ms/step - loss: 0.4077 - accuracy: 0.8240 - val_loss: 0.3756 - val_accuracy: 0.8268\n",
      "Epoch 50/100\n",
      "153/153 [==============================] - 0s 3ms/step - loss: 0.4090 - accuracy: 0.8212 - val_loss: 0.3750 - val_accuracy: 0.8255\n",
      "Epoch 51/100\n",
      "153/153 [==============================] - 0s 2ms/step - loss: 0.4069 - accuracy: 0.8224 - val_loss: 0.3756 - val_accuracy: 0.8212\n",
      "Epoch 52/100\n",
      "153/153 [==============================] - 0s 2ms/step - loss: 0.4068 - accuracy: 0.8228 - val_loss: 0.3751 - val_accuracy: 0.8255\n",
      "Epoch 53/100\n",
      "153/153 [==============================] - 0s 2ms/step - loss: 0.4065 - accuracy: 0.8259 - val_loss: 0.3753 - val_accuracy: 0.8231\n",
      "Epoch 54/100\n",
      "153/153 [==============================] - 0s 3ms/step - loss: 0.4054 - accuracy: 0.8238 - val_loss: 0.3747 - val_accuracy: 0.8206\n",
      "Epoch 55/100\n",
      "153/153 [==============================] - 0s 2ms/step - loss: 0.4057 - accuracy: 0.8249 - val_loss: 0.3742 - val_accuracy: 0.8224\n",
      "Epoch 56/100\n",
      "153/153 [==============================] - 0s 3ms/step - loss: 0.4051 - accuracy: 0.8226 - val_loss: 0.3745 - val_accuracy: 0.8243\n",
      "Epoch 57/100\n",
      "153/153 [==============================] - 0s 3ms/step - loss: 0.4049 - accuracy: 0.8240 - val_loss: 0.3742 - val_accuracy: 0.8218\n",
      "Epoch 58/100\n",
      "153/153 [==============================] - 0s 2ms/step - loss: 0.4041 - accuracy: 0.8249 - val_loss: 0.3743 - val_accuracy: 0.8261\n",
      "Epoch 59/100\n",
      "153/153 [==============================] - 0s 2ms/step - loss: 0.4037 - accuracy: 0.8238 - val_loss: 0.3766 - val_accuracy: 0.8249\n",
      "Epoch 60/100\n",
      "153/153 [==============================] - 0s 2ms/step - loss: 0.4040 - accuracy: 0.8249 - val_loss: 0.3729 - val_accuracy: 0.8231\n",
      "Epoch 61/100\n",
      "153/153 [==============================] - 0s 2ms/step - loss: 0.4029 - accuracy: 0.8238 - val_loss: 0.3732 - val_accuracy: 0.8200\n",
      "Epoch 62/100\n",
      "153/153 [==============================] - 0s 2ms/step - loss: 0.4031 - accuracy: 0.8230 - val_loss: 0.3741 - val_accuracy: 0.8157\n",
      "Epoch 63/100\n",
      "153/153 [==============================] - 0s 2ms/step - loss: 0.4036 - accuracy: 0.8255 - val_loss: 0.3722 - val_accuracy: 0.8249\n",
      "Epoch 64/100\n",
      "153/153 [==============================] - 0s 2ms/step - loss: 0.4020 - accuracy: 0.8249 - val_loss: 0.3742 - val_accuracy: 0.8261\n",
      "Epoch 65/100\n",
      "153/153 [==============================] - 0s 2ms/step - loss: 0.4024 - accuracy: 0.8245 - val_loss: 0.3722 - val_accuracy: 0.8237\n",
      "Epoch 66/100\n",
      "153/153 [==============================] - 0s 3ms/step - loss: 0.4020 - accuracy: 0.8269 - val_loss: 0.3714 - val_accuracy: 0.8249\n",
      "Epoch 67/100\n",
      "153/153 [==============================] - 1s 3ms/step - loss: 0.4015 - accuracy: 0.8259 - val_loss: 0.3714 - val_accuracy: 0.8261\n",
      "Epoch 68/100\n",
      "153/153 [==============================] - 1s 4ms/step - loss: 0.4019 - accuracy: 0.8257 - val_loss: 0.3723 - val_accuracy: 0.8224\n",
      "Epoch 69/100\n",
      "153/153 [==============================] - 1s 3ms/step - loss: 0.4014 - accuracy: 0.8251 - val_loss: 0.3720 - val_accuracy: 0.8200\n",
      "Epoch 70/100\n",
      "153/153 [==============================] - 1s 4ms/step - loss: 0.4019 - accuracy: 0.8253 - val_loss: 0.3711 - val_accuracy: 0.8261\n",
      "Epoch 71/100\n",
      "153/153 [==============================] - 1s 4ms/step - loss: 0.4012 - accuracy: 0.8224 - val_loss: 0.3713 - val_accuracy: 0.8206\n",
      "Epoch 72/100\n",
      "153/153 [==============================] - 1s 4ms/step - loss: 0.4006 - accuracy: 0.8238 - val_loss: 0.3728 - val_accuracy: 0.8200\n",
      "Epoch 73/100\n",
      "153/153 [==============================] - 0s 2ms/step - loss: 0.4000 - accuracy: 0.8259 - val_loss: 0.3706 - val_accuracy: 0.8218\n",
      "Epoch 74/100\n",
      "153/153 [==============================] - 0s 2ms/step - loss: 0.4005 - accuracy: 0.8251 - val_loss: 0.3706 - val_accuracy: 0.8280\n",
      "Epoch 75/100\n",
      "153/153 [==============================] - 0s 3ms/step - loss: 0.4000 - accuracy: 0.8257 - val_loss: 0.3711 - val_accuracy: 0.8200\n",
      "Epoch 76/100\n",
      "153/153 [==============================] - 0s 3ms/step - loss: 0.4006 - accuracy: 0.8210 - val_loss: 0.3734 - val_accuracy: 0.8089\n",
      "Epoch 77/100\n",
      "153/153 [==============================] - 0s 3ms/step - loss: 0.4031 - accuracy: 0.8203 - val_loss: 0.3720 - val_accuracy: 0.8212\n",
      "Epoch 78/100\n",
      "153/153 [==============================] - 0s 2ms/step - loss: 0.3993 - accuracy: 0.8267 - val_loss: 0.3711 - val_accuracy: 0.8200\n",
      "Epoch 79/100\n",
      "153/153 [==============================] - 0s 2ms/step - loss: 0.3991 - accuracy: 0.8238 - val_loss: 0.3711 - val_accuracy: 0.8243\n",
      "Epoch 80/100\n",
      "153/153 [==============================] - 0s 2ms/step - loss: 0.3987 - accuracy: 0.8251 - val_loss: 0.3710 - val_accuracy: 0.8120\n",
      "Epoch 81/100\n",
      "153/153 [==============================] - 0s 3ms/step - loss: 0.3994 - accuracy: 0.8275 - val_loss: 0.3715 - val_accuracy: 0.8175\n",
      "Epoch 82/100\n",
      "153/153 [==============================] - 0s 3ms/step - loss: 0.3988 - accuracy: 0.8255 - val_loss: 0.3725 - val_accuracy: 0.8274\n",
      "Epoch 83/100\n",
      "153/153 [==============================] - 0s 2ms/step - loss: 0.3989 - accuracy: 0.8240 - val_loss: 0.3712 - val_accuracy: 0.8200\n",
      "Epoch 84/100\n",
      "153/153 [==============================] - 0s 2ms/step - loss: 0.3988 - accuracy: 0.8228 - val_loss: 0.3702 - val_accuracy: 0.8206\n",
      "Epoch 85/100\n",
      "153/153 [==============================] - 0s 3ms/step - loss: 0.3983 - accuracy: 0.8232 - val_loss: 0.3705 - val_accuracy: 0.8181\n",
      "Epoch 86/100\n",
      "153/153 [==============================] - 0s 3ms/step - loss: 0.3982 - accuracy: 0.8247 - val_loss: 0.3706 - val_accuracy: 0.8237\n",
      "Epoch 87/100\n",
      "153/153 [==============================] - 0s 2ms/step - loss: 0.3977 - accuracy: 0.8255 - val_loss: 0.3707 - val_accuracy: 0.8200\n",
      "Epoch 88/100\n",
      "153/153 [==============================] - 0s 2ms/step - loss: 0.3974 - accuracy: 0.8240 - val_loss: 0.3709 - val_accuracy: 0.8274\n",
      "Epoch 89/100\n",
      "153/153 [==============================] - 0s 3ms/step - loss: 0.3975 - accuracy: 0.8253 - val_loss: 0.3711 - val_accuracy: 0.8113\n",
      "Epoch 90/100\n",
      "153/153 [==============================] - 0s 3ms/step - loss: 0.3974 - accuracy: 0.8240 - val_loss: 0.3722 - val_accuracy: 0.8212\n",
      "Epoch 91/100\n",
      "153/153 [==============================] - 0s 3ms/step - loss: 0.3970 - accuracy: 0.8214 - val_loss: 0.3707 - val_accuracy: 0.8212\n",
      "Epoch 92/100\n",
      "153/153 [==============================] - 0s 2ms/step - loss: 0.3973 - accuracy: 0.8249 - val_loss: 0.3710 - val_accuracy: 0.8212\n",
      "Epoch 93/100\n",
      "153/153 [==============================] - 0s 2ms/step - loss: 0.3966 - accuracy: 0.8238 - val_loss: 0.3706 - val_accuracy: 0.8175\n",
      "Epoch 94/100\n",
      "153/153 [==============================] - 0s 2ms/step - loss: 0.3963 - accuracy: 0.8259 - val_loss: 0.3715 - val_accuracy: 0.8261\n",
      "Epoch 95/100\n",
      "153/153 [==============================] - 0s 3ms/step - loss: 0.3962 - accuracy: 0.8251 - val_loss: 0.3706 - val_accuracy: 0.8194\n",
      "Epoch 96/100\n",
      "153/153 [==============================] - 0s 3ms/step - loss: 0.3961 - accuracy: 0.8261 - val_loss: 0.3702 - val_accuracy: 0.8200\n",
      "Epoch 97/100\n",
      "153/153 [==============================] - 1s 4ms/step - loss: 0.3978 - accuracy: 0.8197 - val_loss: 0.3712 - val_accuracy: 0.8249\n",
      "Epoch 98/100\n",
      "153/153 [==============================] - 0s 3ms/step - loss: 0.3961 - accuracy: 0.8249 - val_loss: 0.3719 - val_accuracy: 0.8218\n",
      "Epoch 99/100\n",
      "153/153 [==============================] - 1s 4ms/step - loss: 0.3960 - accuracy: 0.8238 - val_loss: 0.3694 - val_accuracy: 0.8206\n",
      "Epoch 100/100\n",
      "153/153 [==============================] - 1s 3ms/step - loss: 0.3955 - accuracy: 0.8257 - val_loss: 0.3716 - val_accuracy: 0.8237\n",
      "51/51 [==============================] - 0s 2ms/step - loss: 0.3716 - accuracy: 0.8237\n",
      "Accuracy: 82.37\n",
      "Training loss: 0.3943, Training accuracy: 0.8249\n",
      "Validation loss: 0.3716, Validation accuracy: 0.8237\n"
     ]
    }
   ],
   "source": [
    "import tensorflow as tf\n",
    "from tensorflow.keras.models import Sequential\n",
    "from tensorflow.keras.layers import Dense\n",
    "\n",
    "clasmodl1 = Sequential()\n",
    "clasmodl1.add(Dense(8, input_shape=(12,), activation='relu'))\n",
    "clasmodl1.add(Dense(4, activation='softmax'))\n",
    "\n",
    "\n",
    "\n",
    "clasmodl1.compile(loss='categorical_crossentropy', optimizer='adam', metrics=['accuracy'])\n",
    "\n",
    "\n",
    "history_clasmodl1 = clasmodl1.fit(X_tr_norm, y_train_categorical, epochs=100, validation_data=(X_val_norm, y_val_categorical))\n",
    "\n",
    "\n",
    "train_loss, train_acc = clasmodl1.evaluate(X_tr_norm, y_train_categorical, verbose=0)\n",
    "val_loss, val_acc = clasmodl1.evaluate(X_val_norm, y_val_categorical, verbose=0)\n",
    "\n",
    "loss, accuracy = clasmodl1.evaluate(X_val_norm, y_val_categorical)\n",
    "print('Accuracy: %.2f' % (accuracy*100))\n",
    "print(f\"Training loss: {train_loss:.4f}, Training accuracy: {train_acc:.4f}\")\n",
    "print(f\"Validation loss: {val_loss:.4f}, Validation accuracy: {val_acc:.4f}\")"
   ]
  },
  {
   "cell_type": "code",
   "execution_count": 40,
   "metadata": {
    "colab": {
     "base_uri": "https://localhost:8080/",
     "height": 295
    },
    "id": "4wmueCt_VJXc",
    "outputId": "925f9c5c-0c57-4974-dfb7-2b2ba0f146b3"
   },
   "outputs": [
    {
     "data": {
      "image/png": "[encoded data removed]",
      "text/plain": [
       "<Figure size 432x288 with 1 Axes>"
      ]
     },
     "metadata": {
      "needs_background": "light"
     },
     "output_type": "display_data"
    }
   ],
   "source": [
    "\n",
    "plt.plot(history_clasmodl1.history['loss'])\n",
    "plt.plot(history_clasmodl1.history['val_loss'])\n",
    "plt.title('Model loss')\n",
    "plt.xlabel('Epoch')\n",
    "plt.ylabel('Loss')\n",
    "plt.legend(['Train', 'Validation'], loc='upper right')\n",
    "plt.show()"
   ]
  },
  {
   "cell_type": "markdown",
   "metadata": {
    "id": "_X_qdd_eVJXd"
   },
   "source": [
    "### III.2 Develop a (better) model that actually overfits (clasmodl2)– There must be at least 2 hidden layers."
   ]
  },
  {
   "cell_type": "code",
   "execution_count": 41,
   "metadata": {
    "colab": {
     "base_uri": "https://localhost:8080/"
    },
    "id": "jAmbXeChVJXd",
    "outputId": "2f6e28c2-26fd-4e63-ecab-4dabaaa7c0c6"
   },
   "outputs": [
    {
     "name": "stdout",
     "output_type": "stream",
     "text": [
      "Epoch 1/100\n",
      "153/153 [==============================] - 2s 5ms/step - loss: 0.5345 - accuracy: 0.7967 - val_loss: 0.3986 - val_accuracy: 0.8169\n",
      "Epoch 2/100\n",
      "153/153 [==============================] - 1s 6ms/step - loss: 0.4461 - accuracy: 0.8092 - val_loss: 0.3906 - val_accuracy: 0.8200\n",
      "Epoch 3/100\n",
      "153/153 [==============================] - 1s 6ms/step - loss: 0.4266 - accuracy: 0.8179 - val_loss: 0.3833 - val_accuracy: 0.8175\n",
      "Epoch 4/100\n",
      "153/153 [==============================] - 1s 7ms/step - loss: 0.4083 - accuracy: 0.8218 - val_loss: 0.3896 - val_accuracy: 0.8002\n",
      "Epoch 5/100\n",
      "153/153 [==============================] - 1s 4ms/step - loss: 0.4006 - accuracy: 0.8251 - val_loss: 0.3742 - val_accuracy: 0.8237\n",
      "Epoch 6/100\n",
      "153/153 [==============================] - 0s 3ms/step - loss: 0.3901 - accuracy: 0.8280 - val_loss: 0.3919 - val_accuracy: 0.8120\n",
      "Epoch 7/100\n",
      "153/153 [==============================] - 1s 4ms/step - loss: 0.3847 - accuracy: 0.8284 - val_loss: 0.3840 - val_accuracy: 0.8157\n",
      "Epoch 8/100\n",
      "153/153 [==============================] - 0s 3ms/step - loss: 0.3776 - accuracy: 0.8294 - val_loss: 0.3961 - val_accuracy: 0.8292\n",
      "Epoch 9/100\n",
      "153/153 [==============================] - 0s 3ms/step - loss: 0.3774 - accuracy: 0.8288 - val_loss: 0.3630 - val_accuracy: 0.8237\n",
      "Epoch 10/100\n",
      "153/153 [==============================] - 1s 3ms/step - loss: 0.3714 - accuracy: 0.8317 - val_loss: 0.3692 - val_accuracy: 0.8280\n",
      "Epoch 11/100\n",
      "153/153 [==============================] - 0s 3ms/step - loss: 0.3642 - accuracy: 0.8354 - val_loss: 0.4397 - val_accuracy: 0.8163\n",
      "Epoch 12/100\n",
      "153/153 [==============================] - 1s 4ms/step - loss: 0.3710 - accuracy: 0.8358 - val_loss: 0.3635 - val_accuracy: 0.8305\n",
      "Epoch 13/100\n",
      "153/153 [==============================] - 1s 4ms/step - loss: 0.3699 - accuracy: 0.8388 - val_loss: 0.3842 - val_accuracy: 0.8138\n",
      "Epoch 14/100\n",
      "153/153 [==============================] - 1s 3ms/step - loss: 0.3835 - accuracy: 0.8333 - val_loss: 0.3734 - val_accuracy: 0.8181\n",
      "Epoch 15/100\n",
      "153/153 [==============================] - 1s 4ms/step - loss: 0.4374 - accuracy: 0.8269 - val_loss: 0.3868 - val_accuracy: 0.8274\n",
      "Epoch 16/100\n",
      "153/153 [==============================] - 1s 3ms/step - loss: 0.5251 - accuracy: 0.8125 - val_loss: 0.3812 - val_accuracy: 0.8292\n",
      "Epoch 17/100\n",
      "153/153 [==============================] - 1s 3ms/step - loss: 0.8143 - accuracy: 0.7938 - val_loss: 0.6085 - val_accuracy: 0.8033\n",
      "Epoch 18/100\n",
      "153/153 [==============================] - 1s 4ms/step - loss: 0.8572 - accuracy: 0.7975 - val_loss: 0.6611 - val_accuracy: 0.6967\n",
      "Epoch 19/100\n",
      "153/153 [==============================] - 1s 3ms/step - loss: 1.4024 - accuracy: 0.7965 - val_loss: 3.9168 - val_accuracy: 0.8064\n",
      "Epoch 20/100\n",
      "153/153 [==============================] - 0s 3ms/step - loss: 3.6697 - accuracy: 0.7762 - val_loss: 0.9479 - val_accuracy: 0.8027\n",
      "Epoch 21/100\n",
      "153/153 [==============================] - 1s 3ms/step - loss: 4.3633 - accuracy: 0.7801 - val_loss: 2.5951 - val_accuracy: 0.8200\n",
      "Epoch 22/100\n",
      "153/153 [==============================] - 1s 4ms/step - loss: 12.8175 - accuracy: 0.7612 - val_loss: 7.8533 - val_accuracy: 0.8033\n",
      "Epoch 23/100\n",
      "153/153 [==============================] - 1s 4ms/step - loss: 16.9468 - accuracy: 0.7708 - val_loss: 15.3466 - val_accuracy: 0.8157\n",
      "Epoch 24/100\n",
      "153/153 [==============================] - 1s 6ms/step - loss: 24.5071 - accuracy: 0.7840 - val_loss: 11.2406 - val_accuracy: 0.7941\n",
      "Epoch 25/100\n",
      "153/153 [==============================] - 1s 6ms/step - loss: 20.0805 - accuracy: 0.7712 - val_loss: 81.2927 - val_accuracy: 0.5086\n",
      "Epoch 26/100\n",
      "153/153 [==============================] - 1s 7ms/step - loss: 66.7838 - accuracy: 0.7646 - val_loss: 46.9525 - val_accuracy: 0.8033\n",
      "Epoch 27/100\n",
      "153/153 [==============================] - 1s 6ms/step - loss: 94.5574 - accuracy: 0.7716 - val_loss: 16.1812 - val_accuracy: 0.7719\n",
      "Epoch 28/100\n",
      "153/153 [==============================] - 1s 4ms/step - loss: 68.2934 - accuracy: 0.7739 - val_loss: 30.6488 - val_accuracy: 0.5734\n",
      "Epoch 29/100\n",
      "153/153 [==============================] - 1s 4ms/step - loss: 169.4007 - accuracy: 0.7562 - val_loss: 170.6289 - val_accuracy: 0.8033\n",
      "Epoch 30/100\n",
      "153/153 [==============================] - 1s 4ms/step - loss: 327.1556 - accuracy: 0.7640 - val_loss: 149.7335 - val_accuracy: 0.8033\n",
      "Epoch 31/100\n",
      "153/153 [==============================] - 1s 4ms/step - loss: 311.4632 - accuracy: 0.7745 - val_loss: 736.2910 - val_accuracy: 0.8033\n",
      "Epoch 32/100\n",
      "153/153 [==============================] - 0s 3ms/step - loss: 571.2812 - accuracy: 0.7657 - val_loss: 932.5074 - val_accuracy: 0.8033\n",
      "Epoch 33/100\n",
      "153/153 [==============================] - 1s 3ms/step - loss: 432.9031 - accuracy: 0.7679 - val_loss: 555.5727 - val_accuracy: 0.8033\n",
      "Epoch 34/100\n",
      "153/153 [==============================] - 0s 3ms/step - loss: 811.6912 - accuracy: 0.7661 - val_loss: 768.5007 - val_accuracy: 0.8033\n",
      "Epoch 35/100\n",
      "153/153 [==============================] - 1s 4ms/step - loss: 1735.3351 - accuracy: 0.7792 - val_loss: 1265.4022 - val_accuracy: 0.8033\n",
      "Epoch 36/100\n",
      "153/153 [==============================] - 0s 3ms/step - loss: 1129.9951 - accuracy: 0.7605 - val_loss: 3570.4355 - val_accuracy: 0.8033\n",
      "Epoch 37/100\n",
      "153/153 [==============================] - 1s 4ms/step - loss: 2065.2261 - accuracy: 0.7782 - val_loss: 2142.4575 - val_accuracy: 0.8033\n",
      "Epoch 38/100\n",
      "153/153 [==============================] - 1s 5ms/step - loss: 1851.9135 - accuracy: 0.7696 - val_loss: 1520.6896 - val_accuracy: 0.8033\n",
      "Epoch 39/100\n",
      "153/153 [==============================] - 1s 5ms/step - loss: 2625.0171 - accuracy: 0.7702 - val_loss: 2093.2351 - val_accuracy: 0.5543\n",
      "Epoch 40/100\n",
      "153/153 [==============================] - 1s 4ms/step - loss: 2929.0645 - accuracy: 0.7735 - val_loss: 1331.0175 - val_accuracy: 0.7935\n",
      "Epoch 41/100\n",
      "153/153 [==============================] - 1s 3ms/step - loss: 3638.8772 - accuracy: 0.7642 - val_loss: 5759.2246 - val_accuracy: 0.8033\n",
      "Epoch 42/100\n",
      "153/153 [==============================] - 1s 3ms/step - loss: 6980.6743 - accuracy: 0.7737 - val_loss: 906.7838 - val_accuracy: 0.7750\n",
      "Epoch 43/100\n",
      "153/153 [==============================] - 1s 4ms/step - loss: 3909.9031 - accuracy: 0.7714 - val_loss: 7412.6450 - val_accuracy: 0.8033\n",
      "Epoch 44/100\n",
      "153/153 [==============================] - 1s 5ms/step - loss: 10324.9131 - accuracy: 0.7712 - val_loss: 3533.9297 - val_accuracy: 0.8033\n",
      "Epoch 45/100\n",
      "153/153 [==============================] - 1s 6ms/step - loss: 7916.3921 - accuracy: 0.7694 - val_loss: 8091.9155 - val_accuracy: 0.8033\n",
      "Epoch 46/100\n",
      "153/153 [==============================] - 1s 6ms/step - loss: 13563.8242 - accuracy: 0.7797 - val_loss: 17331.9082 - val_accuracy: 0.8033\n",
      "Epoch 47/100\n",
      "153/153 [==============================] - 1s 3ms/step - loss: 7431.1294 - accuracy: 0.7677 - val_loss: 19626.9805 - val_accuracy: 0.8033\n",
      "Epoch 48/100\n",
      "153/153 [==============================] - 1s 4ms/step - loss: 14827.8164 - accuracy: 0.7718 - val_loss: 316.9812 - val_accuracy: 0.7811\n",
      "Epoch 49/100\n",
      "153/153 [==============================] - 1s 4ms/step - loss: 15336.1172 - accuracy: 0.7737 - val_loss: 6324.6953 - val_accuracy: 0.8033\n",
      "Epoch 50/100\n",
      "153/153 [==============================] - 0s 3ms/step - loss: 15642.8379 - accuracy: 0.7698 - val_loss: 1102.3318 - val_accuracy: 0.7509\n",
      "Epoch 51/100\n",
      "153/153 [==============================] - 1s 3ms/step - loss: 26465.2949 - accuracy: 0.7739 - val_loss: 6450.3271 - val_accuracy: 0.7935\n",
      "Epoch 52/100\n",
      "153/153 [==============================] - 1s 4ms/step - loss: 23521.0605 - accuracy: 0.7710 - val_loss: 24663.1621 - val_accuracy: 0.8033\n",
      "Epoch 53/100\n",
      "153/153 [==============================] - 1s 4ms/step - loss: 30612.1172 - accuracy: 0.7673 - val_loss: 71117.1562 - val_accuracy: 0.8033\n",
      "Epoch 54/100\n",
      "153/153 [==============================] - 1s 3ms/step - loss: 33105.4062 - accuracy: 0.7747 - val_loss: 48371.7227 - val_accuracy: 0.8033\n",
      "Epoch 55/100\n",
      "153/153 [==============================] - 1s 3ms/step - loss: 44130.8398 - accuracy: 0.7700 - val_loss: 14334.3223 - val_accuracy: 0.8033\n",
      "Epoch 56/100\n",
      "153/153 [==============================] - 1s 4ms/step - loss: 31477.1367 - accuracy: 0.7663 - val_loss: 35076.5195 - val_accuracy: 0.8033\n",
      "Epoch 57/100\n",
      "153/153 [==============================] - 0s 3ms/step - loss: 57692.5273 - accuracy: 0.7712 - val_loss: 72159.8594 - val_accuracy: 0.8033\n",
      "Epoch 58/100\n",
      "153/153 [==============================] - 1s 3ms/step - loss: 35917.1641 - accuracy: 0.7661 - val_loss: 62685.8164 - val_accuracy: 0.8033\n",
      "Epoch 59/100\n",
      "153/153 [==============================] - 1s 3ms/step - loss: 62149.0000 - accuracy: 0.7677 - val_loss: 83519.3203 - val_accuracy: 0.8033\n",
      "Epoch 60/100\n",
      "153/153 [==============================] - 1s 4ms/step - loss: 45492.1641 - accuracy: 0.7612 - val_loss: 55565.2031 - val_accuracy: 0.8033\n",
      "Epoch 61/100\n",
      "153/153 [==============================] - 0s 3ms/step - loss: 81327.9453 - accuracy: 0.7679 - val_loss: 29914.2422 - val_accuracy: 0.5117\n",
      "Epoch 62/100\n",
      "153/153 [==============================] - 1s 3ms/step - loss: 58421.8438 - accuracy: 0.7657 - val_loss: 48304.4297 - val_accuracy: 0.8033\n",
      "Epoch 63/100\n",
      "153/153 [==============================] - 1s 4ms/step - loss: 65562.2188 - accuracy: 0.7618 - val_loss: 192320.0000 - val_accuracy: 0.8033\n",
      "Epoch 64/100\n",
      "153/153 [==============================] - 1s 4ms/step - loss: 95492.3594 - accuracy: 0.7630 - val_loss: 65868.2266 - val_accuracy: 0.8033\n",
      "Epoch 65/100\n",
      "153/153 [==============================] - 1s 6ms/step - loss: 129225.8672 - accuracy: 0.7663 - val_loss: 111474.3594 - val_accuracy: 0.8033\n",
      "Epoch 66/100\n",
      "153/153 [==============================] - 1s 6ms/step - loss: 121605.4297 - accuracy: 0.7601 - val_loss: 165888.0781 - val_accuracy: 0.8033\n",
      "Epoch 67/100\n",
      "153/153 [==============================] - 1s 6ms/step - loss: 101246.2734 - accuracy: 0.7690 - val_loss: 30536.1875 - val_accuracy: 0.7657\n",
      "Epoch 68/100\n",
      "153/153 [==============================] - 1s 4ms/step - loss: 138146.5625 - accuracy: 0.7585 - val_loss: 43910.7188 - val_accuracy: 0.7682\n",
      "Epoch 69/100\n",
      "153/153 [==============================] - 1s 4ms/step - loss: 122055.8281 - accuracy: 0.7554 - val_loss: 18480.0625 - val_accuracy: 0.7781\n",
      "Epoch 70/100\n",
      "153/153 [==============================] - 1s 4ms/step - loss: 146354.8125 - accuracy: 0.7585 - val_loss: 120022.1641 - val_accuracy: 0.8033\n",
      "Epoch 71/100\n",
      "153/153 [==============================] - 1s 4ms/step - loss: 180405.6094 - accuracy: 0.7667 - val_loss: 43039.7188 - val_accuracy: 0.7491\n",
      "Epoch 72/100\n",
      "153/153 [==============================] - 1s 4ms/step - loss: 183012.9375 - accuracy: 0.7612 - val_loss: 173300.1562 - val_accuracy: 0.8033\n",
      "Epoch 73/100\n",
      "153/153 [==============================] - 1s 4ms/step - loss: 190519.1562 - accuracy: 0.7589 - val_loss: 29513.1738 - val_accuracy: 0.7602\n",
      "Epoch 74/100\n",
      "153/153 [==============================] - 1s 4ms/step - loss: 202386.6875 - accuracy: 0.7562 - val_loss: 156868.1719 - val_accuracy: 0.8033\n",
      "Epoch 75/100\n",
      "153/153 [==============================] - 1s 3ms/step - loss: 256649.5781 - accuracy: 0.7509 - val_loss: 63286.5039 - val_accuracy: 0.8033\n",
      "Epoch 76/100\n",
      "153/153 [==============================] - 1s 4ms/step - loss: 401233.2812 - accuracy: 0.7671 - val_loss: 134836.7031 - val_accuracy: 0.8033\n",
      "Epoch 77/100\n",
      "153/153 [==============================] - 1s 4ms/step - loss: 258460.9688 - accuracy: 0.7649 - val_loss: 244671.5000 - val_accuracy: 0.8033\n",
      "Epoch 78/100\n",
      "153/153 [==============================] - 1s 4ms/step - loss: 377500.3750 - accuracy: 0.7655 - val_loss: 203748.9062 - val_accuracy: 0.8033\n",
      "Epoch 79/100\n",
      "153/153 [==============================] - 1s 4ms/step - loss: 311314.8438 - accuracy: 0.7523 - val_loss: 17582.0078 - val_accuracy: 0.7263\n",
      "Epoch 80/100\n",
      "153/153 [==============================] - 1s 4ms/step - loss: 302267.0625 - accuracy: 0.7570 - val_loss: 255616.2188 - val_accuracy: 0.4932\n",
      "Epoch 81/100\n",
      "153/153 [==============================] - 1s 4ms/step - loss: 489643.6562 - accuracy: 0.7546 - val_loss: 537955.6250 - val_accuracy: 0.8033\n",
      "Epoch 82/100\n",
      "153/153 [==============================] - 1s 4ms/step - loss: 385446.1875 - accuracy: 0.7466 - val_loss: 86752.1406 - val_accuracy: 0.8033\n",
      "Epoch 83/100\n",
      "153/153 [==============================] - 1s 4ms/step - loss: 444751.2500 - accuracy: 0.7628 - val_loss: 147454.4219 - val_accuracy: 0.7990\n",
      "Epoch 84/100\n",
      "153/153 [==============================] - 1s 4ms/step - loss: 387108.4062 - accuracy: 0.7550 - val_loss: 122441.7656 - val_accuracy: 0.8033\n",
      "Epoch 85/100\n",
      "153/153 [==============================] - 1s 5ms/step - loss: 355008.1562 - accuracy: 0.7507 - val_loss: 295478.1875 - val_accuracy: 0.8033\n",
      "Epoch 86/100\n",
      "153/153 [==============================] - 1s 6ms/step - loss: 615856.4375 - accuracy: 0.7535 - val_loss: 92902.4453 - val_accuracy: 0.7213\n",
      "Epoch 87/100\n",
      "153/153 [==============================] - 1s 5ms/step - loss: 456194.4688 - accuracy: 0.7566 - val_loss: 142579.9375 - val_accuracy: 0.7201\n",
      "Epoch 88/100\n",
      "153/153 [==============================] - 1s 5ms/step - loss: 597623.1250 - accuracy: 0.7568 - val_loss: 833709.6250 - val_accuracy: 0.4766\n",
      "Epoch 89/100\n",
      "153/153 [==============================] - 1s 3ms/step - loss: 726161.5000 - accuracy: 0.7468 - val_loss: 367969.6875 - val_accuracy: 0.8033\n",
      "Epoch 90/100\n",
      "153/153 [==============================] - 1s 3ms/step - loss: 707341.6250 - accuracy: 0.7558 - val_loss: 321439.3125 - val_accuracy: 0.4457\n",
      "Epoch 91/100\n",
      "153/153 [==============================] - 1s 4ms/step - loss: 1040214.1250 - accuracy: 0.7607 - val_loss: 1516189.2500 - val_accuracy: 0.4741\n",
      "Epoch 92/100\n",
      "153/153 [==============================] - 1s 4ms/step - loss: 534766.1875 - accuracy: 0.7519 - val_loss: 54499.8711 - val_accuracy: 0.6874\n",
      "Epoch 93/100\n",
      "153/153 [==============================] - 1s 4ms/step - loss: 1043816.5625 - accuracy: 0.7605 - val_loss: 302929.6875 - val_accuracy: 0.7485\n",
      "Epoch 94/100\n",
      "153/153 [==============================] - 1s 4ms/step - loss: 880401.7500 - accuracy: 0.7295 - val_loss: 136289.5938 - val_accuracy: 0.7910\n",
      "Epoch 95/100\n",
      "153/153 [==============================] - 1s 4ms/step - loss: 949706.1250 - accuracy: 0.7529 - val_loss: 57408.5586 - val_accuracy: 0.6424\n",
      "Epoch 96/100\n",
      "153/153 [==============================] - 1s 3ms/step - loss: 1204472.0000 - accuracy: 0.7447 - val_loss: 1015820.5625 - val_accuracy: 0.8033\n",
      "Epoch 97/100\n",
      "153/153 [==============================] - 1s 3ms/step - loss: 2391181.7500 - accuracy: 0.7566 - val_loss: 569466.5625 - val_accuracy: 0.8033\n",
      "Epoch 98/100\n",
      "153/153 [==============================] - 1s 3ms/step - loss: 1143667.8750 - accuracy: 0.7443 - val_loss: 654295.6875 - val_accuracy: 0.8033\n",
      "Epoch 99/100\n",
      "153/153 [==============================] - 1s 4ms/step - loss: 1108061.7500 - accuracy: 0.7256 - val_loss: 552428.2500 - val_accuracy: 0.8033\n",
      "Epoch 100/100\n",
      "153/153 [==============================] - 1s 4ms/step - loss: 1482453.7500 - accuracy: 0.7427 - val_loss: 1019822.5625 - val_accuracy: 0.7935\n",
      "51/51 [==============================] - 0s 2ms/step - loss: 1019822.5625 - accuracy: 0.7935\n",
      "Accuracy: 79.35\n",
      " Training accuracy: 0.7807\n",
      " Validation accuracy: 0.7935\n"
     ]
    }
   ],
   "source": [
    "from keras.models import Sequential\n",
    "from keras.layers import Dense\n",
    "\n",
    "# Define the model\n",
    "clasmodl2 = Sequential()\n",
    "clasmodl2.add(Dense(16, input_dim=12, activation='relu'))\n",
    "clasmodl2.add(Dense(32, activation='relu'))\n",
    "clasmodl2.add(Dense(64, activation='relu'))\n",
    "clasmodl2.add(Dense(128, activation='relu'))\n",
    "clasmodl2.add(Dense(256, activation='relu'))\n",
    "clasmodl2.add(Dense(4, activation='softmax'))\n",
    "\n",
    "# Compile the model\n",
    "clasmodl2.compile(loss='categorical_crossentropy', optimizer='adam', metrics=['accuracy'])\n",
    "history_clasmodl2 = clasmodl2.fit(X_tr_norm, y_train_categorical, epochs=100, validation_data=(X_val_norm, y_val_categorical))\n",
    "\n",
    "\n",
    "train_loss, train_acc = clasmodl2.evaluate(X_tr_norm, y_train_categorical, verbose=0)\n",
    "val_loss, val_acc = clasmodl2.evaluate(X_val_norm, y_val_categorical, verbose=0)\n",
    "\n",
    "loss, accuracy = clasmodl2.evaluate(X_val_norm, y_val_categorical)\n",
    "print('Accuracy: %.2f' % (accuracy*100))\n",
    "print(f\" Training accuracy: {train_acc:.4f}\")\n",
    "print(f\" Validation accuracy: {val_acc:.4f}\")"
   ]
  },
  {
   "cell_type": "code",
   "execution_count": 42,
   "metadata": {
    "colab": {
     "base_uri": "https://localhost:8080/",
     "height": 295
    },
    "id": "h0K4rVSQVJXe",
    "outputId": "09d449f2-668d-4a63-c0a1-e6b8303428ff"
   },
   "outputs": [
    {
     "data": {
      "image/png": "[encoded data removed]",
      "text/plain": [
       "<Figure size 432x288 with 1 Axes>"
      ]
     },
     "metadata": {
      "needs_background": "light"
     },
     "output_type": "display_data"
    }
   ],
   "source": [
    "plt.plot(history_clasmodl2.history['loss'])\n",
    "plt.plot(history_clasmodl2.history['val_loss'])\n",
    "plt.title('Model loss')\n",
    "plt.xlabel('Epoch')\n",
    "plt.ylabel('Loss')\n",
    "plt.legend(['Train', 'Validation'], loc='upper right')\n",
    "plt.show()"
   ]
  },
  {
   "cell_type": "markdown",
   "metadata": {
    "id": "VqRlCOwEVJXf"
   },
   "source": [
    "### III.3 Use your iterative observations of the performance of the model in III.2 to modify / tune hyperparameters (for example deciding how many epochs of training to allow) to arrive at a “Final Classification Model” (clasmodl3), which will be considered to be the “best model” you could develop to solve this classification task.- There must be at least 2 hidden layers in this model."
   ]
  },
  {
   "cell_type": "code",
   "execution_count": 43,
   "metadata": {
    "colab": {
     "base_uri": "https://localhost:8080/"
    },
    "id": "gZFkwXghVJXg",
    "outputId": "6a4a43c9-a124-4425-9319-408ad9968b82"
   },
   "outputs": [
    {
     "name": "stderr",
     "output_type": "stream",
     "text": [
      "<ipython-input-43-80f4c4533807>:26: DeprecationWarning: KerasClassifier is deprecated, use Sci-Keras (https://github.com/adriangb/scikeras) instead. See https://www.adriangb.com/scikeras/stable/migration.html for help migrating.\n",
      "  Kmodel = KerasClassifier(build_fn=create_model, verbose=1)\n"
     ]
    },
    {
     "name": "stdout",
     "output_type": "stream",
     "text": [
      "102/102 [==============================] - 1s 2ms/step - loss: 1.5872 - accuracy: 0.2091\n",
      "51/51 [==============================] - 0s 1ms/step\n"
     ]
    },
    {
     "name": "stderr",
     "output_type": "stream",
     "text": [
      "/usr/local/lib/python3.9/dist-packages/sklearn/model_selection/_validation.py:778: UserWarning: Scoring failed. The score on this train-test partition for these parameters will be set to nan. Details: \n",
      "Traceback (most recent call last):\n",
      "  File \"/usr/local/lib/python3.9/dist-packages/sklearn/model_selection/_validation.py\", line 767, in _score\n",
      "    scores = scorer(estimator, X_test, y_test)\n",
      "  File \"/usr/local/lib/python3.9/dist-packages/sklearn/metrics/_scorer.py\", line 234, in __call__\n",
      "    return self._score(\n",
      "  File \"/usr/local/lib/python3.9/dist-packages/sklearn/metrics/_scorer.py\", line 282, in _score\n",
      "    return self._sign * self._score_func(y_true, y_pred, **self._kwargs)\n",
      "  File \"/usr/local/lib/python3.9/dist-packages/sklearn/utils/_param_validation.py\", line 192, in wrapper\n",
      "    return func(*args, **kwargs)\n",
      "  File \"/usr/local/lib/python3.9/dist-packages/sklearn/metrics/_classification.py\", line 221, in accuracy_score\n",
      "    y_type, y_true, y_pred = _check_targets(y_true, y_pred)\n",
      "  File \"/usr/local/lib/python3.9/dist-packages/sklearn/metrics/_classification.py\", line 95, in _check_targets\n",
      "    raise ValueError(\n",
      "ValueError: Classification metrics can't handle a mix of multilabel-indicator and multiclass targets\n",
      "\n",
      "  warnings.warn(\n"
     ]
    },
    {
     "name": "stdout",
     "output_type": "stream",
     "text": [
      "102/102 [==============================] - 1s 2ms/step - loss: 1.4171 - accuracy: 0.3824\n",
      "51/51 [==============================] - 0s 1ms/step\n"
     ]
    },
    {
     "name": "stderr",
     "output_type": "stream",
     "text": [
      "/usr/local/lib/python3.9/dist-packages/sklearn/model_selection/_validation.py:778: UserWarning: Scoring failed. The score on this train-test partition for these parameters will be set to nan. Details: \n",
      "Traceback (most recent call last):\n",
      "  File \"/usr/local/lib/python3.9/dist-packages/sklearn/model_selection/_validation.py\", line 767, in _score\n",
      "    scores = scorer(estimator, X_test, y_test)\n",
      "  File \"/usr/local/lib/python3.9/dist-packages/sklearn/metrics/_scorer.py\", line 234, in __call__\n",
      "    return self._score(\n",
      "  File \"/usr/local/lib/python3.9/dist-packages/sklearn/metrics/_scorer.py\", line 282, in _score\n",
      "    return self._sign * self._score_func(y_true, y_pred, **self._kwargs)\n",
      "  File \"/usr/local/lib/python3.9/dist-packages/sklearn/utils/_param_validation.py\", line 192, in wrapper\n",
      "    return func(*args, **kwargs)\n",
      "  File \"/usr/local/lib/python3.9/dist-packages/sklearn/metrics/_classification.py\", line 221, in accuracy_score\n",
      "    y_type, y_true, y_pred = _check_targets(y_true, y_pred)\n",
      "  File \"/usr/local/lib/python3.9/dist-packages/sklearn/metrics/_classification.py\", line 95, in _check_targets\n",
      "    raise ValueError(\n",
      "ValueError: Classification metrics can't handle a mix of multilabel-indicator and multiclass targets\n",
      "\n",
      "  warnings.warn(\n"
     ]
    },
    {
     "name": "stdout",
     "output_type": "stream",
     "text": [
      "102/102 [==============================] - 1s 2ms/step - loss: 1.5559 - accuracy: 0.2805\n",
      "51/51 [==============================] - 0s 1ms/step\n"
     ]
    },
    {
     "name": "stderr",
     "output_type": "stream",
     "text": [
      "/usr/local/lib/python3.9/dist-packages/sklearn/model_selection/_validation.py:778: UserWarning: Scoring failed. The score on this train-test partition for these parameters will be set to nan. Details: \n",
      "Traceback (most recent call last):\n",
      "  File \"/usr/local/lib/python3.9/dist-packages/sklearn/model_selection/_validation.py\", line 767, in _score\n",
      "    scores = scorer(estimator, X_test, y_test)\n",
      "  File \"/usr/local/lib/python3.9/dist-packages/sklearn/metrics/_scorer.py\", line 234, in __call__\n",
      "    return self._score(\n",
      "  File \"/usr/local/lib/python3.9/dist-packages/sklearn/metrics/_scorer.py\", line 282, in _score\n",
      "    return self._sign * self._score_func(y_true, y_pred, **self._kwargs)\n",
      "  File \"/usr/local/lib/python3.9/dist-packages/sklearn/utils/_param_validation.py\", line 192, in wrapper\n",
      "    return func(*args, **kwargs)\n",
      "  File \"/usr/local/lib/python3.9/dist-packages/sklearn/metrics/_classification.py\", line 221, in accuracy_score\n",
      "    y_type, y_true, y_pred = _check_targets(y_true, y_pred)\n",
      "  File \"/usr/local/lib/python3.9/dist-packages/sklearn/metrics/_classification.py\", line 95, in _check_targets\n",
      "    raise ValueError(\n",
      "ValueError: Classification metrics can't handle a mix of multilabel-indicator and binary targets\n",
      "\n",
      "  warnings.warn(\n"
     ]
    },
    {
     "name": "stdout",
     "output_type": "stream",
     "text": [
      "102/102 [==============================] - 1s 2ms/step - loss: 1.3402 - accuracy: 0.4376\n",
      "51/51 [==============================] - 0s 1ms/step\n"
     ]
    },
    {
     "name": "stderr",
     "output_type": "stream",
     "text": [
      "/usr/local/lib/python3.9/dist-packages/sklearn/model_selection/_validation.py:778: UserWarning: Scoring failed. The score on this train-test partition for these parameters will be set to nan. Details: \n",
      "Traceback (most recent call last):\n",
      "  File \"/usr/local/lib/python3.9/dist-packages/sklearn/model_selection/_validation.py\", line 767, in _score\n",
      "    scores = scorer(estimator, X_test, y_test)\n",
      "  File \"/usr/local/lib/python3.9/dist-packages/sklearn/metrics/_scorer.py\", line 234, in __call__\n",
      "    return self._score(\n",
      "  File \"/usr/local/lib/python3.9/dist-packages/sklearn/metrics/_scorer.py\", line 282, in _score\n",
      "    return self._sign * self._score_func(y_true, y_pred, **self._kwargs)\n",
      "  File \"/usr/local/lib/python3.9/dist-packages/sklearn/utils/_param_validation.py\", line 192, in wrapper\n",
      "    return func(*args, **kwargs)\n",
      "  File \"/usr/local/lib/python3.9/dist-packages/sklearn/metrics/_classification.py\", line 221, in accuracy_score\n",
      "    y_type, y_true, y_pred = _check_targets(y_true, y_pred)\n",
      "  File \"/usr/local/lib/python3.9/dist-packages/sklearn/metrics/_classification.py\", line 95, in _check_targets\n",
      "    raise ValueError(\n",
      "ValueError: Classification metrics can't handle a mix of multilabel-indicator and multiclass targets\n",
      "\n",
      "  warnings.warn(\n"
     ]
    },
    {
     "name": "stdout",
     "output_type": "stream",
     "text": [
      "102/102 [==============================] - 1s 2ms/step - loss: 1.0915 - accuracy: 0.5587\n",
      "51/51 [==============================] - 0s 1ms/step\n"
     ]
    },
    {
     "name": "stderr",
     "output_type": "stream",
     "text": [
      "/usr/local/lib/python3.9/dist-packages/sklearn/model_selection/_validation.py:778: UserWarning: Scoring failed. The score on this train-test partition for these parameters will be set to nan. Details: \n",
      "Traceback (most recent call last):\n",
      "  File \"/usr/local/lib/python3.9/dist-packages/sklearn/model_selection/_validation.py\", line 767, in _score\n",
      "    scores = scorer(estimator, X_test, y_test)\n",
      "  File \"/usr/local/lib/python3.9/dist-packages/sklearn/metrics/_scorer.py\", line 234, in __call__\n",
      "    return self._score(\n",
      "  File \"/usr/local/lib/python3.9/dist-packages/sklearn/metrics/_scorer.py\", line 282, in _score\n",
      "    return self._sign * self._score_func(y_true, y_pred, **self._kwargs)\n",
      "  File \"/usr/local/lib/python3.9/dist-packages/sklearn/utils/_param_validation.py\", line 192, in wrapper\n",
      "    return func(*args, **kwargs)\n",
      "  File \"/usr/local/lib/python3.9/dist-packages/sklearn/metrics/_classification.py\", line 221, in accuracy_score\n",
      "    y_type, y_true, y_pred = _check_targets(y_true, y_pred)\n",
      "  File \"/usr/local/lib/python3.9/dist-packages/sklearn/metrics/_classification.py\", line 95, in _check_targets\n",
      "    raise ValueError(\n",
      "ValueError: Classification metrics can't handle a mix of multilabel-indicator and multiclass targets\n",
      "\n",
      "  warnings.warn(\n"
     ]
    },
    {
     "name": "stdout",
     "output_type": "stream",
     "text": [
      "102/102 [==============================] - 1s 2ms/step - loss: 1.3391 - accuracy: 0.3551\n",
      "51/51 [==============================] - 0s 2ms/step\n"
     ]
    },
    {
     "name": "stderr",
     "output_type": "stream",
     "text": [
      "/usr/local/lib/python3.9/dist-packages/sklearn/model_selection/_validation.py:778: UserWarning: Scoring failed. The score on this train-test partition for these parameters will be set to nan. Details: \n",
      "Traceback (most recent call last):\n",
      "  File \"/usr/local/lib/python3.9/dist-packages/sklearn/model_selection/_validation.py\", line 767, in _score\n",
      "    scores = scorer(estimator, X_test, y_test)\n",
      "  File \"/usr/local/lib/python3.9/dist-packages/sklearn/metrics/_scorer.py\", line 234, in __call__\n",
      "    return self._score(\n",
      "  File \"/usr/local/lib/python3.9/dist-packages/sklearn/metrics/_scorer.py\", line 282, in _score\n",
      "    return self._sign * self._score_func(y_true, y_pred, **self._kwargs)\n",
      "  File \"/usr/local/lib/python3.9/dist-packages/sklearn/utils/_param_validation.py\", line 192, in wrapper\n",
      "    return func(*args, **kwargs)\n",
      "  File \"/usr/local/lib/python3.9/dist-packages/sklearn/metrics/_classification.py\", line 221, in accuracy_score\n",
      "    y_type, y_true, y_pred = _check_targets(y_true, y_pred)\n",
      "  File \"/usr/local/lib/python3.9/dist-packages/sklearn/metrics/_classification.py\", line 95, in _check_targets\n",
      "    raise ValueError(\n",
      "ValueError: Classification metrics can't handle a mix of multilabel-indicator and multiclass targets\n",
      "\n",
      "  warnings.warn(\n"
     ]
    },
    {
     "name": "stdout",
     "output_type": "stream",
     "text": [
      "102/102 [==============================] - 1s 2ms/step - loss: 0.9655 - accuracy: 0.6297\n",
      "51/51 [==============================] - 0s 1ms/step\n"
     ]
    },
    {
     "name": "stderr",
     "output_type": "stream",
     "text": [
      "/usr/local/lib/python3.9/dist-packages/sklearn/model_selection/_validation.py:778: UserWarning: Scoring failed. The score on this train-test partition for these parameters will be set to nan. Details: \n",
      "Traceback (most recent call last):\n",
      "  File \"/usr/local/lib/python3.9/dist-packages/sklearn/model_selection/_validation.py\", line 767, in _score\n",
      "    scores = scorer(estimator, X_test, y_test)\n",
      "  File \"/usr/local/lib/python3.9/dist-packages/sklearn/metrics/_scorer.py\", line 234, in __call__\n",
      "    return self._score(\n",
      "  File \"/usr/local/lib/python3.9/dist-packages/sklearn/metrics/_scorer.py\", line 282, in _score\n",
      "    return self._sign * self._score_func(y_true, y_pred, **self._kwargs)\n",
      "  File \"/usr/local/lib/python3.9/dist-packages/sklearn/utils/_param_validation.py\", line 192, in wrapper\n",
      "    return func(*args, **kwargs)\n",
      "  File \"/usr/local/lib/python3.9/dist-packages/sklearn/metrics/_classification.py\", line 221, in accuracy_score\n",
      "    y_type, y_true, y_pred = _check_targets(y_true, y_pred)\n",
      "  File \"/usr/local/lib/python3.9/dist-packages/sklearn/metrics/_classification.py\", line 95, in _check_targets\n",
      "    raise ValueError(\n",
      "ValueError: Classification metrics can't handle a mix of multilabel-indicator and binary targets\n",
      "\n",
      "  warnings.warn(\n"
     ]
    },
    {
     "name": "stdout",
     "output_type": "stream",
     "text": [
      "102/102 [==============================] - 2s 3ms/step - loss: 1.0560 - accuracy: 0.6022\n",
      "51/51 [==============================] - 0s 2ms/step\n"
     ]
    },
    {
     "name": "stderr",
     "output_type": "stream",
     "text": [
      "/usr/local/lib/python3.9/dist-packages/sklearn/model_selection/_validation.py:778: UserWarning: Scoring failed. The score on this train-test partition for these parameters will be set to nan. Details: \n",
      "Traceback (most recent call last):\n",
      "  File \"/usr/local/lib/python3.9/dist-packages/sklearn/model_selection/_validation.py\", line 767, in _score\n",
      "    scores = scorer(estimator, X_test, y_test)\n",
      "  File \"/usr/local/lib/python3.9/dist-packages/sklearn/metrics/_scorer.py\", line 234, in __call__\n",
      "    return self._score(\n",
      "  File \"/usr/local/lib/python3.9/dist-packages/sklearn/metrics/_scorer.py\", line 282, in _score\n",
      "    return self._sign * self._score_func(y_true, y_pred, **self._kwargs)\n",
      "  File \"/usr/local/lib/python3.9/dist-packages/sklearn/utils/_param_validation.py\", line 192, in wrapper\n",
      "    return func(*args, **kwargs)\n",
      "  File \"/usr/local/lib/python3.9/dist-packages/sklearn/metrics/_classification.py\", line 221, in accuracy_score\n",
      "    y_type, y_true, y_pred = _check_targets(y_true, y_pred)\n",
      "  File \"/usr/local/lib/python3.9/dist-packages/sklearn/metrics/_classification.py\", line 95, in _check_targets\n",
      "    raise ValueError(\n",
      "ValueError: Classification metrics can't handle a mix of multilabel-indicator and binary targets\n",
      "\n",
      "  warnings.warn(\n"
     ]
    },
    {
     "name": "stdout",
     "output_type": "stream",
     "text": [
      "102/102 [==============================] - 1s 2ms/step - loss: 1.0267 - accuracy: 0.5487\n",
      "51/51 [==============================] - 0s 1ms/step\n"
     ]
    },
    {
     "name": "stderr",
     "output_type": "stream",
     "text": [
      "/usr/local/lib/python3.9/dist-packages/sklearn/model_selection/_validation.py:778: UserWarning: Scoring failed. The score on this train-test partition for these parameters will be set to nan. Details: \n",
      "Traceback (most recent call last):\n",
      "  File \"/usr/local/lib/python3.9/dist-packages/sklearn/model_selection/_validation.py\", line 767, in _score\n",
      "    scores = scorer(estimator, X_test, y_test)\n",
      "  File \"/usr/local/lib/python3.9/dist-packages/sklearn/metrics/_scorer.py\", line 234, in __call__\n",
      "    return self._score(\n",
      "  File \"/usr/local/lib/python3.9/dist-packages/sklearn/metrics/_scorer.py\", line 282, in _score\n",
      "    return self._sign * self._score_func(y_true, y_pred, **self._kwargs)\n",
      "  File \"/usr/local/lib/python3.9/dist-packages/sklearn/utils/_param_validation.py\", line 192, in wrapper\n",
      "    return func(*args, **kwargs)\n",
      "  File \"/usr/local/lib/python3.9/dist-packages/sklearn/metrics/_classification.py\", line 221, in accuracy_score\n",
      "    y_type, y_true, y_pred = _check_targets(y_true, y_pred)\n",
      "  File \"/usr/local/lib/python3.9/dist-packages/sklearn/metrics/_classification.py\", line 95, in _check_targets\n",
      "    raise ValueError(\n",
      "ValueError: Classification metrics can't handle a mix of multilabel-indicator and binary targets\n",
      "\n",
      "  warnings.warn(\n"
     ]
    },
    {
     "name": "stdout",
     "output_type": "stream",
     "text": [
      "102/102 [==============================] - 1s 2ms/step - loss: 0.6684 - accuracy: 0.7656\n",
      "51/51 [==============================] - 0s 1ms/step\n"
     ]
    },
    {
     "name": "stderr",
     "output_type": "stream",
     "text": [
      "/usr/local/lib/python3.9/dist-packages/sklearn/model_selection/_validation.py:778: UserWarning: Scoring failed. The score on this train-test partition for these parameters will be set to nan. Details: \n",
      "Traceback (most recent call last):\n",
      "  File \"/usr/local/lib/python3.9/dist-packages/sklearn/model_selection/_validation.py\", line 767, in _score\n",
      "    scores = scorer(estimator, X_test, y_test)\n",
      "  File \"/usr/local/lib/python3.9/dist-packages/sklearn/metrics/_scorer.py\", line 234, in __call__\n",
      "    return self._score(\n",
      "  File \"/usr/local/lib/python3.9/dist-packages/sklearn/metrics/_scorer.py\", line 282, in _score\n",
      "    return self._sign * self._score_func(y_true, y_pred, **self._kwargs)\n",
      "  File \"/usr/local/lib/python3.9/dist-packages/sklearn/utils/_param_validation.py\", line 192, in wrapper\n",
      "    return func(*args, **kwargs)\n",
      "  File \"/usr/local/lib/python3.9/dist-packages/sklearn/metrics/_classification.py\", line 221, in accuracy_score\n",
      "    y_type, y_true, y_pred = _check_targets(y_true, y_pred)\n",
      "  File \"/usr/local/lib/python3.9/dist-packages/sklearn/metrics/_classification.py\", line 95, in _check_targets\n",
      "    raise ValueError(\n",
      "ValueError: Classification metrics can't handle a mix of multilabel-indicator and binary targets\n",
      "\n",
      "  warnings.warn(\n"
     ]
    },
    {
     "name": "stdout",
     "output_type": "stream",
     "text": [
      "102/102 [==============================] - 1s 2ms/step - loss: 0.6828 - accuracy: 0.7727\n",
      "51/51 [==============================] - 0s 1ms/step\n"
     ]
    },
    {
     "name": "stderr",
     "output_type": "stream",
     "text": [
      "/usr/local/lib/python3.9/dist-packages/sklearn/model_selection/_validation.py:778: UserWarning: Scoring failed. The score on this train-test partition for these parameters will be set to nan. Details: \n",
      "Traceback (most recent call last):\n",
      "  File \"/usr/local/lib/python3.9/dist-packages/sklearn/model_selection/_validation.py\", line 767, in _score\n",
      "    scores = scorer(estimator, X_test, y_test)\n",
      "  File \"/usr/local/lib/python3.9/dist-packages/sklearn/metrics/_scorer.py\", line 234, in __call__\n",
      "    return self._score(\n",
      "  File \"/usr/local/lib/python3.9/dist-packages/sklearn/metrics/_scorer.py\", line 282, in _score\n",
      "    return self._sign * self._score_func(y_true, y_pred, **self._kwargs)\n",
      "  File \"/usr/local/lib/python3.9/dist-packages/sklearn/utils/_param_validation.py\", line 192, in wrapper\n",
      "    return func(*args, **kwargs)\n",
      "  File \"/usr/local/lib/python3.9/dist-packages/sklearn/metrics/_classification.py\", line 221, in accuracy_score\n",
      "    y_type, y_true, y_pred = _check_targets(y_true, y_pred)\n",
      "  File \"/usr/local/lib/python3.9/dist-packages/sklearn/metrics/_classification.py\", line 95, in _check_targets\n",
      "    raise ValueError(\n",
      "ValueError: Classification metrics can't handle a mix of multilabel-indicator and binary targets\n",
      "\n",
      "  warnings.warn(\n"
     ]
    },
    {
     "name": "stdout",
     "output_type": "stream",
     "text": [
      "102/102 [==============================] - 1s 2ms/step - loss: 0.6809 - accuracy: 0.7901\n",
      "51/51 [==============================] - 0s 1ms/step\n"
     ]
    },
    {
     "name": "stderr",
     "output_type": "stream",
     "text": [
      "/usr/local/lib/python3.9/dist-packages/sklearn/model_selection/_validation.py:778: UserWarning: Scoring failed. The score on this train-test partition for these parameters will be set to nan. Details: \n",
      "Traceback (most recent call last):\n",
      "  File \"/usr/local/lib/python3.9/dist-packages/sklearn/model_selection/_validation.py\", line 767, in _score\n",
      "    scores = scorer(estimator, X_test, y_test)\n",
      "  File \"/usr/local/lib/python3.9/dist-packages/sklearn/metrics/_scorer.py\", line 234, in __call__\n",
      "    return self._score(\n",
      "  File \"/usr/local/lib/python3.9/dist-packages/sklearn/metrics/_scorer.py\", line 282, in _score\n",
      "    return self._sign * self._score_func(y_true, y_pred, **self._kwargs)\n",
      "  File \"/usr/local/lib/python3.9/dist-packages/sklearn/utils/_param_validation.py\", line 192, in wrapper\n",
      "    return func(*args, **kwargs)\n",
      "  File \"/usr/local/lib/python3.9/dist-packages/sklearn/metrics/_classification.py\", line 221, in accuracy_score\n",
      "    y_type, y_true, y_pred = _check_targets(y_true, y_pred)\n",
      "  File \"/usr/local/lib/python3.9/dist-packages/sklearn/metrics/_classification.py\", line 95, in _check_targets\n",
      "    raise ValueError(\n",
      "ValueError: Classification metrics can't handle a mix of multilabel-indicator and binary targets\n",
      "\n",
      "  warnings.warn(\n"
     ]
    },
    {
     "name": "stdout",
     "output_type": "stream",
     "text": [
      "102/102 [==============================] - 1s 2ms/step - loss: 0.6057 - accuracy: 0.7983\n",
      "51/51 [==============================] - 0s 1ms/step\n"
     ]
    },
    {
     "name": "stderr",
     "output_type": "stream",
     "text": [
      "/usr/local/lib/python3.9/dist-packages/sklearn/model_selection/_validation.py:778: UserWarning: Scoring failed. The score on this train-test partition for these parameters will be set to nan. Details: \n",
      "Traceback (most recent call last):\n",
      "  File \"/usr/local/lib/python3.9/dist-packages/sklearn/model_selection/_validation.py\", line 767, in _score\n",
      "    scores = scorer(estimator, X_test, y_test)\n",
      "  File \"/usr/local/lib/python3.9/dist-packages/sklearn/metrics/_scorer.py\", line 234, in __call__\n",
      "    return self._score(\n",
      "  File \"/usr/local/lib/python3.9/dist-packages/sklearn/metrics/_scorer.py\", line 282, in _score\n",
      "    return self._sign * self._score_func(y_true, y_pred, **self._kwargs)\n",
      "  File \"/usr/local/lib/python3.9/dist-packages/sklearn/utils/_param_validation.py\", line 192, in wrapper\n",
      "    return func(*args, **kwargs)\n",
      "  File \"/usr/local/lib/python3.9/dist-packages/sklearn/metrics/_classification.py\", line 221, in accuracy_score\n",
      "    y_type, y_true, y_pred = _check_targets(y_true, y_pred)\n",
      "  File \"/usr/local/lib/python3.9/dist-packages/sklearn/metrics/_classification.py\", line 95, in _check_targets\n",
      "    raise ValueError(\n",
      "ValueError: Classification metrics can't handle a mix of multilabel-indicator and binary targets\n",
      "\n",
      "  warnings.warn(\n"
     ]
    },
    {
     "name": "stdout",
     "output_type": "stream",
     "text": [
      "102/102 [==============================] - 1s 2ms/step - loss: 0.6907 - accuracy: 0.7709\n",
      "51/51 [==============================] - 0s 1ms/step\n"
     ]
    },
    {
     "name": "stderr",
     "output_type": "stream",
     "text": [
      "/usr/local/lib/python3.9/dist-packages/sklearn/model_selection/_validation.py:778: UserWarning: Scoring failed. The score on this train-test partition for these parameters will be set to nan. Details: \n",
      "Traceback (most recent call last):\n",
      "  File \"/usr/local/lib/python3.9/dist-packages/sklearn/model_selection/_validation.py\", line 767, in _score\n",
      "    scores = scorer(estimator, X_test, y_test)\n",
      "  File \"/usr/local/lib/python3.9/dist-packages/sklearn/metrics/_scorer.py\", line 234, in __call__\n",
      "    return self._score(\n",
      "  File \"/usr/local/lib/python3.9/dist-packages/sklearn/metrics/_scorer.py\", line 282, in _score\n",
      "    return self._sign * self._score_func(y_true, y_pred, **self._kwargs)\n",
      "  File \"/usr/local/lib/python3.9/dist-packages/sklearn/utils/_param_validation.py\", line 192, in wrapper\n",
      "    return func(*args, **kwargs)\n",
      "  File \"/usr/local/lib/python3.9/dist-packages/sklearn/metrics/_classification.py\", line 221, in accuracy_score\n",
      "    y_type, y_true, y_pred = _check_targets(y_true, y_pred)\n",
      "  File \"/usr/local/lib/python3.9/dist-packages/sklearn/metrics/_classification.py\", line 95, in _check_targets\n",
      "    raise ValueError(\n",
      "ValueError: Classification metrics can't handle a mix of multilabel-indicator and binary targets\n",
      "\n",
      "  warnings.warn(\n"
     ]
    },
    {
     "name": "stdout",
     "output_type": "stream",
     "text": [
      "102/102 [==============================] - 1s 2ms/step - loss: 0.6004 - accuracy: 0.7814\n",
      "51/51 [==============================] - 0s 1ms/step\n"
     ]
    },
    {
     "name": "stderr",
     "output_type": "stream",
     "text": [
      "/usr/local/lib/python3.9/dist-packages/sklearn/model_selection/_validation.py:778: UserWarning: Scoring failed. The score on this train-test partition for these parameters will be set to nan. Details: \n",
      "Traceback (most recent call last):\n",
      "  File \"/usr/local/lib/python3.9/dist-packages/sklearn/model_selection/_validation.py\", line 767, in _score\n",
      "    scores = scorer(estimator, X_test, y_test)\n",
      "  File \"/usr/local/lib/python3.9/dist-packages/sklearn/metrics/_scorer.py\", line 234, in __call__\n",
      "    return self._score(\n",
      "  File \"/usr/local/lib/python3.9/dist-packages/sklearn/metrics/_scorer.py\", line 282, in _score\n",
      "    return self._sign * self._score_func(y_true, y_pred, **self._kwargs)\n",
      "  File \"/usr/local/lib/python3.9/dist-packages/sklearn/utils/_param_validation.py\", line 192, in wrapper\n",
      "    return func(*args, **kwargs)\n",
      "  File \"/usr/local/lib/python3.9/dist-packages/sklearn/metrics/_classification.py\", line 221, in accuracy_score\n",
      "    y_type, y_true, y_pred = _check_targets(y_true, y_pred)\n",
      "  File \"/usr/local/lib/python3.9/dist-packages/sklearn/metrics/_classification.py\", line 95, in _check_targets\n",
      "    raise ValueError(\n",
      "ValueError: Classification metrics can't handle a mix of multilabel-indicator and binary targets\n",
      "\n",
      "  warnings.warn(\n"
     ]
    },
    {
     "name": "stdout",
     "output_type": "stream",
     "text": [
      "102/102 [==============================] - 1s 2ms/step - loss: 0.5982 - accuracy: 0.7746\n",
      "51/51 [==============================] - 0s 2ms/step\n"
     ]
    },
    {
     "name": "stderr",
     "output_type": "stream",
     "text": [
      "/usr/local/lib/python3.9/dist-packages/sklearn/model_selection/_validation.py:778: UserWarning: Scoring failed. The score on this train-test partition for these parameters will be set to nan. Details: \n",
      "Traceback (most recent call last):\n",
      "  File \"/usr/local/lib/python3.9/dist-packages/sklearn/model_selection/_validation.py\", line 767, in _score\n",
      "    scores = scorer(estimator, X_test, y_test)\n",
      "  File \"/usr/local/lib/python3.9/dist-packages/sklearn/metrics/_scorer.py\", line 234, in __call__\n",
      "    return self._score(\n",
      "  File \"/usr/local/lib/python3.9/dist-packages/sklearn/metrics/_scorer.py\", line 282, in _score\n",
      "    return self._sign * self._score_func(y_true, y_pred, **self._kwargs)\n",
      "  File \"/usr/local/lib/python3.9/dist-packages/sklearn/utils/_param_validation.py\", line 192, in wrapper\n",
      "    return func(*args, **kwargs)\n",
      "  File \"/usr/local/lib/python3.9/dist-packages/sklearn/metrics/_classification.py\", line 221, in accuracy_score\n",
      "    y_type, y_true, y_pred = _check_targets(y_true, y_pred)\n",
      "  File \"/usr/local/lib/python3.9/dist-packages/sklearn/metrics/_classification.py\", line 95, in _check_targets\n",
      "    raise ValueError(\n",
      "ValueError: Classification metrics can't handle a mix of multilabel-indicator and binary targets\n",
      "\n",
      "  warnings.warn(\n"
     ]
    },
    {
     "name": "stdout",
     "output_type": "stream",
     "text": [
      "102/102 [==============================] - 1s 3ms/step - loss: 0.8043 - accuracy: 0.7222\n",
      "51/51 [==============================] - 0s 2ms/step\n"
     ]
    },
    {
     "name": "stderr",
     "output_type": "stream",
     "text": [
      "/usr/local/lib/python3.9/dist-packages/sklearn/model_selection/_validation.py:778: UserWarning: Scoring failed. The score on this train-test partition for these parameters will be set to nan. Details: \n",
      "Traceback (most recent call last):\n",
      "  File \"/usr/local/lib/python3.9/dist-packages/sklearn/model_selection/_validation.py\", line 767, in _score\n",
      "    scores = scorer(estimator, X_test, y_test)\n",
      "  File \"/usr/local/lib/python3.9/dist-packages/sklearn/metrics/_scorer.py\", line 234, in __call__\n",
      "    return self._score(\n",
      "  File \"/usr/local/lib/python3.9/dist-packages/sklearn/metrics/_scorer.py\", line 282, in _score\n",
      "    return self._sign * self._score_func(y_true, y_pred, **self._kwargs)\n",
      "  File \"/usr/local/lib/python3.9/dist-packages/sklearn/utils/_param_validation.py\", line 192, in wrapper\n",
      "    return func(*args, **kwargs)\n",
      "  File \"/usr/local/lib/python3.9/dist-packages/sklearn/metrics/_classification.py\", line 221, in accuracy_score\n",
      "    y_type, y_true, y_pred = _check_targets(y_true, y_pred)\n",
      "  File \"/usr/local/lib/python3.9/dist-packages/sklearn/metrics/_classification.py\", line 95, in _check_targets\n",
      "    raise ValueError(\n",
      "ValueError: Classification metrics can't handle a mix of multilabel-indicator and binary targets\n",
      "\n",
      "  warnings.warn(\n"
     ]
    },
    {
     "name": "stdout",
     "output_type": "stream",
     "text": [
      "102/102 [==============================] - 1s 3ms/step - loss: 0.5433 - accuracy: 0.7999\n",
      "51/51 [==============================] - 0s 1ms/step\n"
     ]
    },
    {
     "name": "stderr",
     "output_type": "stream",
     "text": [
      "/usr/local/lib/python3.9/dist-packages/sklearn/model_selection/_validation.py:778: UserWarning: Scoring failed. The score on this train-test partition for these parameters will be set to nan. Details: \n",
      "Traceback (most recent call last):\n",
      "  File \"/usr/local/lib/python3.9/dist-packages/sklearn/model_selection/_validation.py\", line 767, in _score\n",
      "    scores = scorer(estimator, X_test, y_test)\n",
      "  File \"/usr/local/lib/python3.9/dist-packages/sklearn/metrics/_scorer.py\", line 234, in __call__\n",
      "    return self._score(\n",
      "  File \"/usr/local/lib/python3.9/dist-packages/sklearn/metrics/_scorer.py\", line 282, in _score\n",
      "    return self._sign * self._score_func(y_true, y_pred, **self._kwargs)\n",
      "  File \"/usr/local/lib/python3.9/dist-packages/sklearn/utils/_param_validation.py\", line 192, in wrapper\n",
      "    return func(*args, **kwargs)\n",
      "  File \"/usr/local/lib/python3.9/dist-packages/sklearn/metrics/_classification.py\", line 221, in accuracy_score\n",
      "    y_type, y_true, y_pred = _check_targets(y_true, y_pred)\n",
      "  File \"/usr/local/lib/python3.9/dist-packages/sklearn/metrics/_classification.py\", line 95, in _check_targets\n",
      "    raise ValueError(\n",
      "ValueError: Classification metrics can't handle a mix of multilabel-indicator and binary targets\n",
      "\n",
      "  warnings.warn(\n"
     ]
    },
    {
     "name": "stdout",
     "output_type": "stream",
     "text": [
      "102/102 [==============================] - 1s 2ms/step - loss: 0.5278 - accuracy: 0.7999\n",
      "51/51 [==============================] - 0s 1ms/step\n"
     ]
    },
    {
     "name": "stderr",
     "output_type": "stream",
     "text": [
      "/usr/local/lib/python3.9/dist-packages/sklearn/model_selection/_validation.py:778: UserWarning: Scoring failed. The score on this train-test partition for these parameters will be set to nan. Details: \n",
      "Traceback (most recent call last):\n",
      "  File \"/usr/local/lib/python3.9/dist-packages/sklearn/model_selection/_validation.py\", line 767, in _score\n",
      "    scores = scorer(estimator, X_test, y_test)\n",
      "  File \"/usr/local/lib/python3.9/dist-packages/sklearn/metrics/_scorer.py\", line 234, in __call__\n",
      "    return self._score(\n",
      "  File \"/usr/local/lib/python3.9/dist-packages/sklearn/metrics/_scorer.py\", line 282, in _score\n",
      "    return self._sign * self._score_func(y_true, y_pred, **self._kwargs)\n",
      "  File \"/usr/local/lib/python3.9/dist-packages/sklearn/utils/_param_validation.py\", line 192, in wrapper\n",
      "    return func(*args, **kwargs)\n",
      "  File \"/usr/local/lib/python3.9/dist-packages/sklearn/metrics/_classification.py\", line 221, in accuracy_score\n",
      "    y_type, y_true, y_pred = _check_targets(y_true, y_pred)\n",
      "  File \"/usr/local/lib/python3.9/dist-packages/sklearn/metrics/_classification.py\", line 95, in _check_targets\n",
      "    raise ValueError(\n",
      "ValueError: Classification metrics can't handle a mix of multilabel-indicator and binary targets\n",
      "\n",
      "  warnings.warn(\n"
     ]
    },
    {
     "name": "stdout",
     "output_type": "stream",
     "text": [
      "102/102 [==============================] - 1s 2ms/step - loss: 0.5408 - accuracy: 0.8005\n",
      "51/51 [==============================] - 0s 2ms/step\n"
     ]
    },
    {
     "name": "stderr",
     "output_type": "stream",
     "text": [
      "/usr/local/lib/python3.9/dist-packages/sklearn/model_selection/_validation.py:778: UserWarning: Scoring failed. The score on this train-test partition for these parameters will be set to nan. Details: \n",
      "Traceback (most recent call last):\n",
      "  File \"/usr/local/lib/python3.9/dist-packages/sklearn/model_selection/_validation.py\", line 767, in _score\n",
      "    scores = scorer(estimator, X_test, y_test)\n",
      "  File \"/usr/local/lib/python3.9/dist-packages/sklearn/metrics/_scorer.py\", line 234, in __call__\n",
      "    return self._score(\n",
      "  File \"/usr/local/lib/python3.9/dist-packages/sklearn/metrics/_scorer.py\", line 282, in _score\n",
      "    return self._sign * self._score_func(y_true, y_pred, **self._kwargs)\n",
      "  File \"/usr/local/lib/python3.9/dist-packages/sklearn/utils/_param_validation.py\", line 192, in wrapper\n",
      "    return func(*args, **kwargs)\n",
      "  File \"/usr/local/lib/python3.9/dist-packages/sklearn/metrics/_classification.py\", line 221, in accuracy_score\n",
      "    y_type, y_true, y_pred = _check_targets(y_true, y_pred)\n",
      "  File \"/usr/local/lib/python3.9/dist-packages/sklearn/metrics/_classification.py\", line 95, in _check_targets\n",
      "    raise ValueError(\n",
      "ValueError: Classification metrics can't handle a mix of multilabel-indicator and binary targets\n",
      "\n",
      "  warnings.warn(\n"
     ]
    },
    {
     "name": "stdout",
     "output_type": "stream",
     "text": [
      "102/102 [==============================] - 1s 2ms/step - loss: 0.5571 - accuracy: 0.7759\n",
      "51/51 [==============================] - 0s 1ms/step\n"
     ]
    },
    {
     "name": "stderr",
     "output_type": "stream",
     "text": [
      "/usr/local/lib/python3.9/dist-packages/sklearn/model_selection/_validation.py:778: UserWarning: Scoring failed. The score on this train-test partition for these parameters will be set to nan. Details: \n",
      "Traceback (most recent call last):\n",
      "  File \"/usr/local/lib/python3.9/dist-packages/sklearn/model_selection/_validation.py\", line 767, in _score\n",
      "    scores = scorer(estimator, X_test, y_test)\n",
      "  File \"/usr/local/lib/python3.9/dist-packages/sklearn/metrics/_scorer.py\", line 234, in __call__\n",
      "    return self._score(\n",
      "  File \"/usr/local/lib/python3.9/dist-packages/sklearn/metrics/_scorer.py\", line 282, in _score\n",
      "    return self._sign * self._score_func(y_true, y_pred, **self._kwargs)\n",
      "  File \"/usr/local/lib/python3.9/dist-packages/sklearn/utils/_param_validation.py\", line 192, in wrapper\n",
      "    return func(*args, **kwargs)\n",
      "  File \"/usr/local/lib/python3.9/dist-packages/sklearn/metrics/_classification.py\", line 221, in accuracy_score\n",
      "    y_type, y_true, y_pred = _check_targets(y_true, y_pred)\n",
      "  File \"/usr/local/lib/python3.9/dist-packages/sklearn/metrics/_classification.py\", line 95, in _check_targets\n",
      "    raise ValueError(\n",
      "ValueError: Classification metrics can't handle a mix of multilabel-indicator and binary targets\n",
      "\n",
      "  warnings.warn(\n"
     ]
    },
    {
     "name": "stdout",
     "output_type": "stream",
     "text": [
      "102/102 [==============================] - 1s 2ms/step - loss: 0.5036 - accuracy: 0.7934\n",
      "51/51 [==============================] - 0s 1ms/step\n"
     ]
    },
    {
     "name": "stderr",
     "output_type": "stream",
     "text": [
      "/usr/local/lib/python3.9/dist-packages/sklearn/model_selection/_validation.py:778: UserWarning: Scoring failed. The score on this train-test partition for these parameters will be set to nan. Details: \n",
      "Traceback (most recent call last):\n",
      "  File \"/usr/local/lib/python3.9/dist-packages/sklearn/model_selection/_validation.py\", line 767, in _score\n",
      "    scores = scorer(estimator, X_test, y_test)\n",
      "  File \"/usr/local/lib/python3.9/dist-packages/sklearn/metrics/_scorer.py\", line 234, in __call__\n",
      "    return self._score(\n",
      "  File \"/usr/local/lib/python3.9/dist-packages/sklearn/metrics/_scorer.py\", line 282, in _score\n",
      "    return self._sign * self._score_func(y_true, y_pred, **self._kwargs)\n",
      "  File \"/usr/local/lib/python3.9/dist-packages/sklearn/utils/_param_validation.py\", line 192, in wrapper\n",
      "    return func(*args, **kwargs)\n",
      "  File \"/usr/local/lib/python3.9/dist-packages/sklearn/metrics/_classification.py\", line 221, in accuracy_score\n",
      "    y_type, y_true, y_pred = _check_targets(y_true, y_pred)\n",
      "  File \"/usr/local/lib/python3.9/dist-packages/sklearn/metrics/_classification.py\", line 95, in _check_targets\n",
      "    raise ValueError(\n",
      "ValueError: Classification metrics can't handle a mix of multilabel-indicator and binary targets\n",
      "\n",
      "  warnings.warn(\n"
     ]
    },
    {
     "name": "stdout",
     "output_type": "stream",
     "text": [
      "102/102 [==============================] - 1s 2ms/step - loss: 0.5297 - accuracy: 0.7882\n",
      "51/51 [==============================] - 0s 1ms/step\n"
     ]
    },
    {
     "name": "stderr",
     "output_type": "stream",
     "text": [
      "/usr/local/lib/python3.9/dist-packages/sklearn/model_selection/_validation.py:778: UserWarning: Scoring failed. The score on this train-test partition for these parameters will be set to nan. Details: \n",
      "Traceback (most recent call last):\n",
      "  File \"/usr/local/lib/python3.9/dist-packages/sklearn/model_selection/_validation.py\", line 767, in _score\n",
      "    scores = scorer(estimator, X_test, y_test)\n",
      "  File \"/usr/local/lib/python3.9/dist-packages/sklearn/metrics/_scorer.py\", line 234, in __call__\n",
      "    return self._score(\n",
      "  File \"/usr/local/lib/python3.9/dist-packages/sklearn/metrics/_scorer.py\", line 282, in _score\n",
      "    return self._sign * self._score_func(y_true, y_pred, **self._kwargs)\n",
      "  File \"/usr/local/lib/python3.9/dist-packages/sklearn/utils/_param_validation.py\", line 192, in wrapper\n",
      "    return func(*args, **kwargs)\n",
      "  File \"/usr/local/lib/python3.9/dist-packages/sklearn/metrics/_classification.py\", line 221, in accuracy_score\n",
      "    y_type, y_true, y_pred = _check_targets(y_true, y_pred)\n",
      "  File \"/usr/local/lib/python3.9/dist-packages/sklearn/metrics/_classification.py\", line 95, in _check_targets\n",
      "    raise ValueError(\n",
      "ValueError: Classification metrics can't handle a mix of multilabel-indicator and binary targets\n",
      "\n",
      "  warnings.warn(\n"
     ]
    },
    {
     "name": "stdout",
     "output_type": "stream",
     "text": [
      "102/102 [==============================] - 1s 2ms/step - loss: 0.5176 - accuracy: 0.7907\n",
      "51/51 [==============================] - 0s 1ms/step\n"
     ]
    },
    {
     "name": "stderr",
     "output_type": "stream",
     "text": [
      "/usr/local/lib/python3.9/dist-packages/sklearn/model_selection/_validation.py:778: UserWarning: Scoring failed. The score on this train-test partition for these parameters will be set to nan. Details: \n",
      "Traceback (most recent call last):\n",
      "  File \"/usr/local/lib/python3.9/dist-packages/sklearn/model_selection/_validation.py\", line 767, in _score\n",
      "    scores = scorer(estimator, X_test, y_test)\n",
      "  File \"/usr/local/lib/python3.9/dist-packages/sklearn/metrics/_scorer.py\", line 234, in __call__\n",
      "    return self._score(\n",
      "  File \"/usr/local/lib/python3.9/dist-packages/sklearn/metrics/_scorer.py\", line 282, in _score\n",
      "    return self._sign * self._score_func(y_true, y_pred, **self._kwargs)\n",
      "  File \"/usr/local/lib/python3.9/dist-packages/sklearn/utils/_param_validation.py\", line 192, in wrapper\n",
      "    return func(*args, **kwargs)\n",
      "  File \"/usr/local/lib/python3.9/dist-packages/sklearn/metrics/_classification.py\", line 221, in accuracy_score\n",
      "    y_type, y_true, y_pred = _check_targets(y_true, y_pred)\n",
      "  File \"/usr/local/lib/python3.9/dist-packages/sklearn/metrics/_classification.py\", line 95, in _check_targets\n",
      "    raise ValueError(\n",
      "ValueError: Classification metrics can't handle a mix of multilabel-indicator and binary targets\n",
      "\n",
      "  warnings.warn(\n"
     ]
    },
    {
     "name": "stdout",
     "output_type": "stream",
     "text": [
      "102/102 [==============================] - 1s 3ms/step - loss: 0.5801 - accuracy: 0.7875\n",
      "51/51 [==============================] - 0s 2ms/step\n"
     ]
    },
    {
     "name": "stderr",
     "output_type": "stream",
     "text": [
      "/usr/local/lib/python3.9/dist-packages/sklearn/model_selection/_validation.py:778: UserWarning: Scoring failed. The score on this train-test partition for these parameters will be set to nan. Details: \n",
      "Traceback (most recent call last):\n",
      "  File \"/usr/local/lib/python3.9/dist-packages/sklearn/model_selection/_validation.py\", line 767, in _score\n",
      "    scores = scorer(estimator, X_test, y_test)\n",
      "  File \"/usr/local/lib/python3.9/dist-packages/sklearn/metrics/_scorer.py\", line 234, in __call__\n",
      "    return self._score(\n",
      "  File \"/usr/local/lib/python3.9/dist-packages/sklearn/metrics/_scorer.py\", line 282, in _score\n",
      "    return self._sign * self._score_func(y_true, y_pred, **self._kwargs)\n",
      "  File \"/usr/local/lib/python3.9/dist-packages/sklearn/utils/_param_validation.py\", line 192, in wrapper\n",
      "    return func(*args, **kwargs)\n",
      "  File \"/usr/local/lib/python3.9/dist-packages/sklearn/metrics/_classification.py\", line 221, in accuracy_score\n",
      "    y_type, y_true, y_pred = _check_targets(y_true, y_pred)\n",
      "  File \"/usr/local/lib/python3.9/dist-packages/sklearn/metrics/_classification.py\", line 95, in _check_targets\n",
      "    raise ValueError(\n",
      "ValueError: Classification metrics can't handle a mix of multilabel-indicator and binary targets\n",
      "\n",
      "  warnings.warn(\n"
     ]
    },
    {
     "name": "stdout",
     "output_type": "stream",
     "text": [
      "102/102 [==============================] - 1s 3ms/step - loss: 0.5296 - accuracy: 0.7820\n",
      "51/51 [==============================] - 0s 2ms/step\n"
     ]
    },
    {
     "name": "stderr",
     "output_type": "stream",
     "text": [
      "/usr/local/lib/python3.9/dist-packages/sklearn/model_selection/_validation.py:778: UserWarning: Scoring failed. The score on this train-test partition for these parameters will be set to nan. Details: \n",
      "Traceback (most recent call last):\n",
      "  File \"/usr/local/lib/python3.9/dist-packages/sklearn/model_selection/_validation.py\", line 767, in _score\n",
      "    scores = scorer(estimator, X_test, y_test)\n",
      "  File \"/usr/local/lib/python3.9/dist-packages/sklearn/metrics/_scorer.py\", line 234, in __call__\n",
      "    return self._score(\n",
      "  File \"/usr/local/lib/python3.9/dist-packages/sklearn/metrics/_scorer.py\", line 282, in _score\n",
      "    return self._sign * self._score_func(y_true, y_pred, **self._kwargs)\n",
      "  File \"/usr/local/lib/python3.9/dist-packages/sklearn/utils/_param_validation.py\", line 192, in wrapper\n",
      "    return func(*args, **kwargs)\n",
      "  File \"/usr/local/lib/python3.9/dist-packages/sklearn/metrics/_classification.py\", line 221, in accuracy_score\n",
      "    y_type, y_true, y_pred = _check_targets(y_true, y_pred)\n",
      "  File \"/usr/local/lib/python3.9/dist-packages/sklearn/metrics/_classification.py\", line 95, in _check_targets\n",
      "    raise ValueError(\n",
      "ValueError: Classification metrics can't handle a mix of multilabel-indicator and binary targets\n",
      "\n",
      "  warnings.warn(\n"
     ]
    },
    {
     "name": "stdout",
     "output_type": "stream",
     "text": [
      "102/102 [==============================] - 1s 2ms/step - loss: 0.5372 - accuracy: 0.7855\n",
      "51/51 [==============================] - 0s 1ms/step\n"
     ]
    },
    {
     "name": "stderr",
     "output_type": "stream",
     "text": [
      "/usr/local/lib/python3.9/dist-packages/sklearn/model_selection/_validation.py:778: UserWarning: Scoring failed. The score on this train-test partition for these parameters will be set to nan. Details: \n",
      "Traceback (most recent call last):\n",
      "  File \"/usr/local/lib/python3.9/dist-packages/sklearn/model_selection/_validation.py\", line 767, in _score\n",
      "    scores = scorer(estimator, X_test, y_test)\n",
      "  File \"/usr/local/lib/python3.9/dist-packages/sklearn/metrics/_scorer.py\", line 234, in __call__\n",
      "    return self._score(\n",
      "  File \"/usr/local/lib/python3.9/dist-packages/sklearn/metrics/_scorer.py\", line 282, in _score\n",
      "    return self._sign * self._score_func(y_true, y_pred, **self._kwargs)\n",
      "  File \"/usr/local/lib/python3.9/dist-packages/sklearn/utils/_param_validation.py\", line 192, in wrapper\n",
      "    return func(*args, **kwargs)\n",
      "  File \"/usr/local/lib/python3.9/dist-packages/sklearn/metrics/_classification.py\", line 221, in accuracy_score\n",
      "    y_type, y_true, y_pred = _check_targets(y_true, y_pred)\n",
      "  File \"/usr/local/lib/python3.9/dist-packages/sklearn/metrics/_classification.py\", line 95, in _check_targets\n",
      "    raise ValueError(\n",
      "ValueError: Classification metrics can't handle a mix of multilabel-indicator and binary targets\n",
      "\n",
      "  warnings.warn(\n"
     ]
    },
    {
     "name": "stdout",
     "output_type": "stream",
     "text": [
      "102/102 [==============================] - 1s 2ms/step - loss: 0.5234 - accuracy: 0.7885\n",
      "51/51 [==============================] - 0s 1ms/step\n"
     ]
    },
    {
     "name": "stderr",
     "output_type": "stream",
     "text": [
      "/usr/local/lib/python3.9/dist-packages/sklearn/model_selection/_validation.py:778: UserWarning: Scoring failed. The score on this train-test partition for these parameters will be set to nan. Details: \n",
      "Traceback (most recent call last):\n",
      "  File \"/usr/local/lib/python3.9/dist-packages/sklearn/model_selection/_validation.py\", line 767, in _score\n",
      "    scores = scorer(estimator, X_test, y_test)\n",
      "  File \"/usr/local/lib/python3.9/dist-packages/sklearn/metrics/_scorer.py\", line 234, in __call__\n",
      "    return self._score(\n",
      "  File \"/usr/local/lib/python3.9/dist-packages/sklearn/metrics/_scorer.py\", line 282, in _score\n",
      "    return self._sign * self._score_func(y_true, y_pred, **self._kwargs)\n",
      "  File \"/usr/local/lib/python3.9/dist-packages/sklearn/utils/_param_validation.py\", line 192, in wrapper\n",
      "    return func(*args, **kwargs)\n",
      "  File \"/usr/local/lib/python3.9/dist-packages/sklearn/metrics/_classification.py\", line 221, in accuracy_score\n",
      "    y_type, y_true, y_pred = _check_targets(y_true, y_pred)\n",
      "  File \"/usr/local/lib/python3.9/dist-packages/sklearn/metrics/_classification.py\", line 95, in _check_targets\n",
      "    raise ValueError(\n",
      "ValueError: Classification metrics can't handle a mix of multilabel-indicator and binary targets\n",
      "\n",
      "  warnings.warn(\n"
     ]
    },
    {
     "name": "stdout",
     "output_type": "stream",
     "text": [
      "102/102 [==============================] - 1s 2ms/step - loss: 0.5300 - accuracy: 0.7798\n",
      "51/51 [==============================] - 0s 1ms/step\n"
     ]
    },
    {
     "name": "stderr",
     "output_type": "stream",
     "text": [
      "/usr/local/lib/python3.9/dist-packages/sklearn/model_selection/_validation.py:778: UserWarning: Scoring failed. The score on this train-test partition for these parameters will be set to nan. Details: \n",
      "Traceback (most recent call last):\n",
      "  File \"/usr/local/lib/python3.9/dist-packages/sklearn/model_selection/_validation.py\", line 767, in _score\n",
      "    scores = scorer(estimator, X_test, y_test)\n",
      "  File \"/usr/local/lib/python3.9/dist-packages/sklearn/metrics/_scorer.py\", line 234, in __call__\n",
      "    return self._score(\n",
      "  File \"/usr/local/lib/python3.9/dist-packages/sklearn/metrics/_scorer.py\", line 282, in _score\n",
      "    return self._sign * self._score_func(y_true, y_pred, **self._kwargs)\n",
      "  File \"/usr/local/lib/python3.9/dist-packages/sklearn/utils/_param_validation.py\", line 192, in wrapper\n",
      "    return func(*args, **kwargs)\n",
      "  File \"/usr/local/lib/python3.9/dist-packages/sklearn/metrics/_classification.py\", line 221, in accuracy_score\n",
      "    y_type, y_true, y_pred = _check_targets(y_true, y_pred)\n",
      "  File \"/usr/local/lib/python3.9/dist-packages/sklearn/metrics/_classification.py\", line 95, in _check_targets\n",
      "    raise ValueError(\n",
      "ValueError: Classification metrics can't handle a mix of multilabel-indicator and binary targets\n",
      "\n",
      "  warnings.warn(\n"
     ]
    },
    {
     "name": "stdout",
     "output_type": "stream",
     "text": [
      "102/102 [==============================] - 1s 2ms/step - loss: 0.5244 - accuracy: 0.8015\n",
      "51/51 [==============================] - 0s 2ms/step\n"
     ]
    },
    {
     "name": "stderr",
     "output_type": "stream",
     "text": [
      "/usr/local/lib/python3.9/dist-packages/sklearn/model_selection/_validation.py:778: UserWarning: Scoring failed. The score on this train-test partition for these parameters will be set to nan. Details: \n",
      "Traceback (most recent call last):\n",
      "  File \"/usr/local/lib/python3.9/dist-packages/sklearn/model_selection/_validation.py\", line 767, in _score\n",
      "    scores = scorer(estimator, X_test, y_test)\n",
      "  File \"/usr/local/lib/python3.9/dist-packages/sklearn/metrics/_scorer.py\", line 234, in __call__\n",
      "    return self._score(\n",
      "  File \"/usr/local/lib/python3.9/dist-packages/sklearn/metrics/_scorer.py\", line 282, in _score\n",
      "    return self._sign * self._score_func(y_true, y_pred, **self._kwargs)\n",
      "  File \"/usr/local/lib/python3.9/dist-packages/sklearn/utils/_param_validation.py\", line 192, in wrapper\n",
      "    return func(*args, **kwargs)\n",
      "  File \"/usr/local/lib/python3.9/dist-packages/sklearn/metrics/_classification.py\", line 221, in accuracy_score\n",
      "    y_type, y_true, y_pred = _check_targets(y_true, y_pred)\n",
      "  File \"/usr/local/lib/python3.9/dist-packages/sklearn/metrics/_classification.py\", line 95, in _check_targets\n",
      "    raise ValueError(\n",
      "ValueError: Classification metrics can't handle a mix of multilabel-indicator and binary targets\n",
      "\n",
      "  warnings.warn(\n"
     ]
    },
    {
     "name": "stdout",
     "output_type": "stream",
     "text": [
      "102/102 [==============================] - 1s 2ms/step - loss: 0.5240 - accuracy: 0.7949\n",
      "51/51 [==============================] - 0s 2ms/step\n"
     ]
    },
    {
     "name": "stderr",
     "output_type": "stream",
     "text": [
      "/usr/local/lib/python3.9/dist-packages/sklearn/model_selection/_validation.py:778: UserWarning: Scoring failed. The score on this train-test partition for these parameters will be set to nan. Details: \n",
      "Traceback (most recent call last):\n",
      "  File \"/usr/local/lib/python3.9/dist-packages/sklearn/model_selection/_validation.py\", line 767, in _score\n",
      "    scores = scorer(estimator, X_test, y_test)\n",
      "  File \"/usr/local/lib/python3.9/dist-packages/sklearn/metrics/_scorer.py\", line 234, in __call__\n",
      "    return self._score(\n",
      "  File \"/usr/local/lib/python3.9/dist-packages/sklearn/metrics/_scorer.py\", line 282, in _score\n",
      "    return self._sign * self._score_func(y_true, y_pred, **self._kwargs)\n",
      "  File \"/usr/local/lib/python3.9/dist-packages/sklearn/utils/_param_validation.py\", line 192, in wrapper\n",
      "    return func(*args, **kwargs)\n",
      "  File \"/usr/local/lib/python3.9/dist-packages/sklearn/metrics/_classification.py\", line 221, in accuracy_score\n",
      "    y_type, y_true, y_pred = _check_targets(y_true, y_pred)\n",
      "  File \"/usr/local/lib/python3.9/dist-packages/sklearn/metrics/_classification.py\", line 95, in _check_targets\n",
      "    raise ValueError(\n",
      "ValueError: Classification metrics can't handle a mix of multilabel-indicator and binary targets\n",
      "\n",
      "  warnings.warn(\n"
     ]
    },
    {
     "name": "stdout",
     "output_type": "stream",
     "text": [
      "102/102 [==============================] - 1s 2ms/step - loss: 0.5623 - accuracy: 0.7838\n",
      "51/51 [==============================] - 0s 2ms/step\n"
     ]
    },
    {
     "name": "stderr",
     "output_type": "stream",
     "text": [
      "/usr/local/lib/python3.9/dist-packages/sklearn/model_selection/_validation.py:778: UserWarning: Scoring failed. The score on this train-test partition for these parameters will be set to nan. Details: \n",
      "Traceback (most recent call last):\n",
      "  File \"/usr/local/lib/python3.9/dist-packages/sklearn/model_selection/_validation.py\", line 767, in _score\n",
      "    scores = scorer(estimator, X_test, y_test)\n",
      "  File \"/usr/local/lib/python3.9/dist-packages/sklearn/metrics/_scorer.py\", line 234, in __call__\n",
      "    return self._score(\n",
      "  File \"/usr/local/lib/python3.9/dist-packages/sklearn/metrics/_scorer.py\", line 282, in _score\n",
      "    return self._sign * self._score_func(y_true, y_pred, **self._kwargs)\n",
      "  File \"/usr/local/lib/python3.9/dist-packages/sklearn/utils/_param_validation.py\", line 192, in wrapper\n",
      "    return func(*args, **kwargs)\n",
      "  File \"/usr/local/lib/python3.9/dist-packages/sklearn/metrics/_classification.py\", line 221, in accuracy_score\n",
      "    y_type, y_true, y_pred = _check_targets(y_true, y_pred)\n",
      "  File \"/usr/local/lib/python3.9/dist-packages/sklearn/metrics/_classification.py\", line 95, in _check_targets\n",
      "    raise ValueError(\n",
      "ValueError: Classification metrics can't handle a mix of multilabel-indicator and binary targets\n",
      "\n",
      "  warnings.warn(\n"
     ]
    },
    {
     "name": "stdout",
     "output_type": "stream",
     "text": [
      "102/102 [==============================] - 1s 2ms/step - loss: 0.5221 - accuracy: 0.7975\n",
      "51/51 [==============================] - 0s 2ms/step\n"
     ]
    },
    {
     "name": "stderr",
     "output_type": "stream",
     "text": [
      "/usr/local/lib/python3.9/dist-packages/sklearn/model_selection/_validation.py:778: UserWarning: Scoring failed. The score on this train-test partition for these parameters will be set to nan. Details: \n",
      "Traceback (most recent call last):\n",
      "  File \"/usr/local/lib/python3.9/dist-packages/sklearn/model_selection/_validation.py\", line 767, in _score\n",
      "    scores = scorer(estimator, X_test, y_test)\n",
      "  File \"/usr/local/lib/python3.9/dist-packages/sklearn/metrics/_scorer.py\", line 234, in __call__\n",
      "    return self._score(\n",
      "  File \"/usr/local/lib/python3.9/dist-packages/sklearn/metrics/_scorer.py\", line 282, in _score\n",
      "    return self._sign * self._score_func(y_true, y_pred, **self._kwargs)\n",
      "  File \"/usr/local/lib/python3.9/dist-packages/sklearn/utils/_param_validation.py\", line 192, in wrapper\n",
      "    return func(*args, **kwargs)\n",
      "  File \"/usr/local/lib/python3.9/dist-packages/sklearn/metrics/_classification.py\", line 221, in accuracy_score\n",
      "    y_type, y_true, y_pred = _check_targets(y_true, y_pred)\n",
      "  File \"/usr/local/lib/python3.9/dist-packages/sklearn/metrics/_classification.py\", line 95, in _check_targets\n",
      "    raise ValueError(\n",
      "ValueError: Classification metrics can't handle a mix of multilabel-indicator and binary targets\n",
      "\n",
      "  warnings.warn(\n"
     ]
    },
    {
     "name": "stdout",
     "output_type": "stream",
     "text": [
      "102/102 [==============================] - 1s 3ms/step - loss: 0.5653 - accuracy: 0.7922\n",
      "51/51 [==============================] - 0s 2ms/step\n"
     ]
    },
    {
     "name": "stderr",
     "output_type": "stream",
     "text": [
      "/usr/local/lib/python3.9/dist-packages/sklearn/model_selection/_validation.py:778: UserWarning: Scoring failed. The score on this train-test partition for these parameters will be set to nan. Details: \n",
      "Traceback (most recent call last):\n",
      "  File \"/usr/local/lib/python3.9/dist-packages/sklearn/model_selection/_validation.py\", line 767, in _score\n",
      "    scores = scorer(estimator, X_test, y_test)\n",
      "  File \"/usr/local/lib/python3.9/dist-packages/sklearn/metrics/_scorer.py\", line 234, in __call__\n",
      "    return self._score(\n",
      "  File \"/usr/local/lib/python3.9/dist-packages/sklearn/metrics/_scorer.py\", line 282, in _score\n",
      "    return self._sign * self._score_func(y_true, y_pred, **self._kwargs)\n",
      "  File \"/usr/local/lib/python3.9/dist-packages/sklearn/utils/_param_validation.py\", line 192, in wrapper\n",
      "    return func(*args, **kwargs)\n",
      "  File \"/usr/local/lib/python3.9/dist-packages/sklearn/metrics/_classification.py\", line 221, in accuracy_score\n",
      "    y_type, y_true, y_pred = _check_targets(y_true, y_pred)\n",
      "  File \"/usr/local/lib/python3.9/dist-packages/sklearn/metrics/_classification.py\", line 95, in _check_targets\n",
      "    raise ValueError(\n",
      "ValueError: Classification metrics can't handle a mix of multilabel-indicator and binary targets\n",
      "\n",
      "  warnings.warn(\n"
     ]
    },
    {
     "name": "stdout",
     "output_type": "stream",
     "text": [
      "102/102 [==============================] - 2s 2ms/step - loss: 0.6597 - accuracy: 0.7783\n",
      "51/51 [==============================] - 0s 1ms/step\n"
     ]
    },
    {
     "name": "stderr",
     "output_type": "stream",
     "text": [
      "/usr/local/lib/python3.9/dist-packages/sklearn/model_selection/_validation.py:778: UserWarning: Scoring failed. The score on this train-test partition for these parameters will be set to nan. Details: \n",
      "Traceback (most recent call last):\n",
      "  File \"/usr/local/lib/python3.9/dist-packages/sklearn/model_selection/_validation.py\", line 767, in _score\n",
      "    scores = scorer(estimator, X_test, y_test)\n",
      "  File \"/usr/local/lib/python3.9/dist-packages/sklearn/metrics/_scorer.py\", line 234, in __call__\n",
      "    return self._score(\n",
      "  File \"/usr/local/lib/python3.9/dist-packages/sklearn/metrics/_scorer.py\", line 282, in _score\n",
      "    return self._sign * self._score_func(y_true, y_pred, **self._kwargs)\n",
      "  File \"/usr/local/lib/python3.9/dist-packages/sklearn/utils/_param_validation.py\", line 192, in wrapper\n",
      "    return func(*args, **kwargs)\n",
      "  File \"/usr/local/lib/python3.9/dist-packages/sklearn/metrics/_classification.py\", line 221, in accuracy_score\n",
      "    y_type, y_true, y_pred = _check_targets(y_true, y_pred)\n",
      "  File \"/usr/local/lib/python3.9/dist-packages/sklearn/metrics/_classification.py\", line 95, in _check_targets\n",
      "    raise ValueError(\n",
      "ValueError: Classification metrics can't handle a mix of multilabel-indicator and binary targets\n",
      "\n",
      "  warnings.warn(\n"
     ]
    },
    {
     "name": "stdout",
     "output_type": "stream",
     "text": [
      "102/102 [==============================] - 1s 2ms/step - loss: 0.5776 - accuracy: 0.7932\n",
      "51/51 [==============================] - 0s 1ms/step\n"
     ]
    },
    {
     "name": "stderr",
     "output_type": "stream",
     "text": [
      "/usr/local/lib/python3.9/dist-packages/sklearn/model_selection/_validation.py:778: UserWarning: Scoring failed. The score on this train-test partition for these parameters will be set to nan. Details: \n",
      "Traceback (most recent call last):\n",
      "  File \"/usr/local/lib/python3.9/dist-packages/sklearn/model_selection/_validation.py\", line 767, in _score\n",
      "    scores = scorer(estimator, X_test, y_test)\n",
      "  File \"/usr/local/lib/python3.9/dist-packages/sklearn/metrics/_scorer.py\", line 234, in __call__\n",
      "    return self._score(\n",
      "  File \"/usr/local/lib/python3.9/dist-packages/sklearn/metrics/_scorer.py\", line 282, in _score\n",
      "    return self._sign * self._score_func(y_true, y_pred, **self._kwargs)\n",
      "  File \"/usr/local/lib/python3.9/dist-packages/sklearn/utils/_param_validation.py\", line 192, in wrapper\n",
      "    return func(*args, **kwargs)\n",
      "  File \"/usr/local/lib/python3.9/dist-packages/sklearn/metrics/_classification.py\", line 221, in accuracy_score\n",
      "    y_type, y_true, y_pred = _check_targets(y_true, y_pred)\n",
      "  File \"/usr/local/lib/python3.9/dist-packages/sklearn/metrics/_classification.py\", line 95, in _check_targets\n",
      "    raise ValueError(\n",
      "ValueError: Classification metrics can't handle a mix of multilabel-indicator and binary targets\n",
      "\n",
      "  warnings.warn(\n"
     ]
    },
    {
     "name": "stdout",
     "output_type": "stream",
     "text": [
      "102/102 [==============================] - 1s 2ms/step - loss: 1.0975 - accuracy: 0.6318\n",
      "51/51 [==============================] - 0s 1ms/step\n"
     ]
    },
    {
     "name": "stderr",
     "output_type": "stream",
     "text": [
      "/usr/local/lib/python3.9/dist-packages/sklearn/model_selection/_validation.py:778: UserWarning: Scoring failed. The score on this train-test partition for these parameters will be set to nan. Details: \n",
      "Traceback (most recent call last):\n",
      "  File \"/usr/local/lib/python3.9/dist-packages/sklearn/model_selection/_validation.py\", line 767, in _score\n",
      "    scores = scorer(estimator, X_test, y_test)\n",
      "  File \"/usr/local/lib/python3.9/dist-packages/sklearn/metrics/_scorer.py\", line 234, in __call__\n",
      "    return self._score(\n",
      "  File \"/usr/local/lib/python3.9/dist-packages/sklearn/metrics/_scorer.py\", line 282, in _score\n",
      "    return self._sign * self._score_func(y_true, y_pred, **self._kwargs)\n",
      "  File \"/usr/local/lib/python3.9/dist-packages/sklearn/utils/_param_validation.py\", line 192, in wrapper\n",
      "    return func(*args, **kwargs)\n",
      "  File \"/usr/local/lib/python3.9/dist-packages/sklearn/metrics/_classification.py\", line 221, in accuracy_score\n",
      "    y_type, y_true, y_pred = _check_targets(y_true, y_pred)\n",
      "  File \"/usr/local/lib/python3.9/dist-packages/sklearn/metrics/_classification.py\", line 95, in _check_targets\n",
      "    raise ValueError(\n",
      "ValueError: Classification metrics can't handle a mix of multilabel-indicator and binary targets\n",
      "\n",
      "  warnings.warn(\n"
     ]
    },
    {
     "name": "stdout",
     "output_type": "stream",
     "text": [
      "102/102 [==============================] - 1s 2ms/step - loss: 1.2983 - accuracy: 0.6620\n",
      "51/51 [==============================] - 0s 1ms/step\n"
     ]
    },
    {
     "name": "stderr",
     "output_type": "stream",
     "text": [
      "/usr/local/lib/python3.9/dist-packages/sklearn/model_selection/_validation.py:778: UserWarning: Scoring failed. The score on this train-test partition for these parameters will be set to nan. Details: \n",
      "Traceback (most recent call last):\n",
      "  File \"/usr/local/lib/python3.9/dist-packages/sklearn/model_selection/_validation.py\", line 767, in _score\n",
      "    scores = scorer(estimator, X_test, y_test)\n",
      "  File \"/usr/local/lib/python3.9/dist-packages/sklearn/metrics/_scorer.py\", line 234, in __call__\n",
      "    return self._score(\n",
      "  File \"/usr/local/lib/python3.9/dist-packages/sklearn/metrics/_scorer.py\", line 282, in _score\n",
      "    return self._sign * self._score_func(y_true, y_pred, **self._kwargs)\n",
      "  File \"/usr/local/lib/python3.9/dist-packages/sklearn/utils/_param_validation.py\", line 192, in wrapper\n",
      "    return func(*args, **kwargs)\n",
      "  File \"/usr/local/lib/python3.9/dist-packages/sklearn/metrics/_classification.py\", line 221, in accuracy_score\n",
      "    y_type, y_true, y_pred = _check_targets(y_true, y_pred)\n",
      "  File \"/usr/local/lib/python3.9/dist-packages/sklearn/metrics/_classification.py\", line 95, in _check_targets\n",
      "    raise ValueError(\n",
      "ValueError: Classification metrics can't handle a mix of multilabel-indicator and binary targets\n",
      "\n",
      "  warnings.warn(\n"
     ]
    },
    {
     "name": "stdout",
     "output_type": "stream",
     "text": [
      "102/102 [==============================] - 1s 2ms/step - loss: 1.3664 - accuracy: 0.6803\n",
      "51/51 [==============================] - 0s 2ms/step\n"
     ]
    },
    {
     "name": "stderr",
     "output_type": "stream",
     "text": [
      "/usr/local/lib/python3.9/dist-packages/sklearn/model_selection/_validation.py:778: UserWarning: Scoring failed. The score on this train-test partition for these parameters will be set to nan. Details: \n",
      "Traceback (most recent call last):\n",
      "  File \"/usr/local/lib/python3.9/dist-packages/sklearn/model_selection/_validation.py\", line 767, in _score\n",
      "    scores = scorer(estimator, X_test, y_test)\n",
      "  File \"/usr/local/lib/python3.9/dist-packages/sklearn/metrics/_scorer.py\", line 234, in __call__\n",
      "    return self._score(\n",
      "  File \"/usr/local/lib/python3.9/dist-packages/sklearn/metrics/_scorer.py\", line 282, in _score\n",
      "    return self._sign * self._score_func(y_true, y_pred, **self._kwargs)\n",
      "  File \"/usr/local/lib/python3.9/dist-packages/sklearn/utils/_param_validation.py\", line 192, in wrapper\n",
      "    return func(*args, **kwargs)\n",
      "  File \"/usr/local/lib/python3.9/dist-packages/sklearn/metrics/_classification.py\", line 221, in accuracy_score\n",
      "    y_type, y_true, y_pred = _check_targets(y_true, y_pred)\n",
      "  File \"/usr/local/lib/python3.9/dist-packages/sklearn/metrics/_classification.py\", line 95, in _check_targets\n",
      "    raise ValueError(\n",
      "ValueError: Classification metrics can't handle a mix of multilabel-indicator and binary targets\n",
      "\n",
      "  warnings.warn(\n"
     ]
    },
    {
     "name": "stdout",
     "output_type": "stream",
     "text": [
      "102/102 [==============================] - 1s 2ms/step - loss: 1.0254 - accuracy: 0.7114\n",
      "51/51 [==============================] - 0s 2ms/step\n"
     ]
    },
    {
     "name": "stderr",
     "output_type": "stream",
     "text": [
      "/usr/local/lib/python3.9/dist-packages/sklearn/model_selection/_validation.py:778: UserWarning: Scoring failed. The score on this train-test partition for these parameters will be set to nan. Details: \n",
      "Traceback (most recent call last):\n",
      "  File \"/usr/local/lib/python3.9/dist-packages/sklearn/model_selection/_validation.py\", line 767, in _score\n",
      "    scores = scorer(estimator, X_test, y_test)\n",
      "  File \"/usr/local/lib/python3.9/dist-packages/sklearn/metrics/_scorer.py\", line 234, in __call__\n",
      "    return self._score(\n",
      "  File \"/usr/local/lib/python3.9/dist-packages/sklearn/metrics/_scorer.py\", line 282, in _score\n",
      "    return self._sign * self._score_func(y_true, y_pred, **self._kwargs)\n",
      "  File \"/usr/local/lib/python3.9/dist-packages/sklearn/utils/_param_validation.py\", line 192, in wrapper\n",
      "    return func(*args, **kwargs)\n",
      "  File \"/usr/local/lib/python3.9/dist-packages/sklearn/metrics/_classification.py\", line 221, in accuracy_score\n",
      "    y_type, y_true, y_pred = _check_targets(y_true, y_pred)\n",
      "  File \"/usr/local/lib/python3.9/dist-packages/sklearn/metrics/_classification.py\", line 95, in _check_targets\n",
      "    raise ValueError(\n",
      "ValueError: Classification metrics can't handle a mix of multilabel-indicator and binary targets\n",
      "\n",
      "  warnings.warn(\n"
     ]
    },
    {
     "name": "stdout",
     "output_type": "stream",
     "text": [
      "102/102 [==============================] - 1s 2ms/step - loss: 1.0727 - accuracy: 0.6623\n",
      "51/51 [==============================] - 0s 1ms/step\n"
     ]
    },
    {
     "name": "stderr",
     "output_type": "stream",
     "text": [
      "/usr/local/lib/python3.9/dist-packages/sklearn/model_selection/_validation.py:778: UserWarning: Scoring failed. The score on this train-test partition for these parameters will be set to nan. Details: \n",
      "Traceback (most recent call last):\n",
      "  File \"/usr/local/lib/python3.9/dist-packages/sklearn/model_selection/_validation.py\", line 767, in _score\n",
      "    scores = scorer(estimator, X_test, y_test)\n",
      "  File \"/usr/local/lib/python3.9/dist-packages/sklearn/metrics/_scorer.py\", line 234, in __call__\n",
      "    return self._score(\n",
      "  File \"/usr/local/lib/python3.9/dist-packages/sklearn/metrics/_scorer.py\", line 282, in _score\n",
      "    return self._sign * self._score_func(y_true, y_pred, **self._kwargs)\n",
      "  File \"/usr/local/lib/python3.9/dist-packages/sklearn/utils/_param_validation.py\", line 192, in wrapper\n",
      "    return func(*args, **kwargs)\n",
      "  File \"/usr/local/lib/python3.9/dist-packages/sklearn/metrics/_classification.py\", line 221, in accuracy_score\n",
      "    y_type, y_true, y_pred = _check_targets(y_true, y_pred)\n",
      "  File \"/usr/local/lib/python3.9/dist-packages/sklearn/metrics/_classification.py\", line 95, in _check_targets\n",
      "    raise ValueError(\n",
      "ValueError: Classification metrics can't handle a mix of multilabel-indicator and binary targets\n",
      "\n",
      "  warnings.warn(\n"
     ]
    },
    {
     "name": "stdout",
     "output_type": "stream",
     "text": [
      "102/102 [==============================] - 1s 2ms/step - loss: 1.0492 - accuracy: 0.6594\n",
      "51/51 [==============================] - 0s 3ms/step\n"
     ]
    },
    {
     "name": "stderr",
     "output_type": "stream",
     "text": [
      "/usr/local/lib/python3.9/dist-packages/sklearn/model_selection/_validation.py:778: UserWarning: Scoring failed. The score on this train-test partition for these parameters will be set to nan. Details: \n",
      "Traceback (most recent call last):\n",
      "  File \"/usr/local/lib/python3.9/dist-packages/sklearn/model_selection/_validation.py\", line 767, in _score\n",
      "    scores = scorer(estimator, X_test, y_test)\n",
      "  File \"/usr/local/lib/python3.9/dist-packages/sklearn/metrics/_scorer.py\", line 234, in __call__\n",
      "    return self._score(\n",
      "  File \"/usr/local/lib/python3.9/dist-packages/sklearn/metrics/_scorer.py\", line 282, in _score\n",
      "    return self._sign * self._score_func(y_true, y_pred, **self._kwargs)\n",
      "  File \"/usr/local/lib/python3.9/dist-packages/sklearn/utils/_param_validation.py\", line 192, in wrapper\n",
      "    return func(*args, **kwargs)\n",
      "  File \"/usr/local/lib/python3.9/dist-packages/sklearn/metrics/_classification.py\", line 221, in accuracy_score\n",
      "    y_type, y_true, y_pred = _check_targets(y_true, y_pred)\n",
      "  File \"/usr/local/lib/python3.9/dist-packages/sklearn/metrics/_classification.py\", line 95, in _check_targets\n",
      "    raise ValueError(\n",
      "ValueError: Classification metrics can't handle a mix of multilabel-indicator and binary targets\n",
      "\n",
      "  warnings.warn(\n"
     ]
    },
    {
     "name": "stdout",
     "output_type": "stream",
     "text": [
      "102/102 [==============================] - 1s 3ms/step - loss: 0.9832 - accuracy: 0.6346\n",
      "51/51 [==============================] - 0s 2ms/step\n"
     ]
    },
    {
     "name": "stderr",
     "output_type": "stream",
     "text": [
      "/usr/local/lib/python3.9/dist-packages/sklearn/model_selection/_validation.py:778: UserWarning: Scoring failed. The score on this train-test partition for these parameters will be set to nan. Details: \n",
      "Traceback (most recent call last):\n",
      "  File \"/usr/local/lib/python3.9/dist-packages/sklearn/model_selection/_validation.py\", line 767, in _score\n",
      "    scores = scorer(estimator, X_test, y_test)\n",
      "  File \"/usr/local/lib/python3.9/dist-packages/sklearn/metrics/_scorer.py\", line 234, in __call__\n",
      "    return self._score(\n",
      "  File \"/usr/local/lib/python3.9/dist-packages/sklearn/metrics/_scorer.py\", line 282, in _score\n",
      "    return self._sign * self._score_func(y_true, y_pred, **self._kwargs)\n",
      "  File \"/usr/local/lib/python3.9/dist-packages/sklearn/utils/_param_validation.py\", line 192, in wrapper\n",
      "    return func(*args, **kwargs)\n",
      "  File \"/usr/local/lib/python3.9/dist-packages/sklearn/metrics/_classification.py\", line 221, in accuracy_score\n",
      "    y_type, y_true, y_pred = _check_targets(y_true, y_pred)\n",
      "  File \"/usr/local/lib/python3.9/dist-packages/sklearn/metrics/_classification.py\", line 95, in _check_targets\n",
      "    raise ValueError(\n",
      "ValueError: Classification metrics can't handle a mix of multilabel-indicator and binary targets\n",
      "\n",
      "  warnings.warn(\n"
     ]
    },
    {
     "name": "stdout",
     "output_type": "stream",
     "text": [
      "102/102 [==============================] - 1s 2ms/step - loss: 1.0786 - accuracy: 0.5754\n",
      "51/51 [==============================] - 0s 1ms/step\n"
     ]
    },
    {
     "name": "stderr",
     "output_type": "stream",
     "text": [
      "/usr/local/lib/python3.9/dist-packages/sklearn/model_selection/_validation.py:778: UserWarning: Scoring failed. The score on this train-test partition for these parameters will be set to nan. Details: \n",
      "Traceback (most recent call last):\n",
      "  File \"/usr/local/lib/python3.9/dist-packages/sklearn/model_selection/_validation.py\", line 767, in _score\n",
      "    scores = scorer(estimator, X_test, y_test)\n",
      "  File \"/usr/local/lib/python3.9/dist-packages/sklearn/metrics/_scorer.py\", line 234, in __call__\n",
      "    return self._score(\n",
      "  File \"/usr/local/lib/python3.9/dist-packages/sklearn/metrics/_scorer.py\", line 282, in _score\n",
      "    return self._sign * self._score_func(y_true, y_pred, **self._kwargs)\n",
      "  File \"/usr/local/lib/python3.9/dist-packages/sklearn/utils/_param_validation.py\", line 192, in wrapper\n",
      "    return func(*args, **kwargs)\n",
      "  File \"/usr/local/lib/python3.9/dist-packages/sklearn/metrics/_classification.py\", line 221, in accuracy_score\n",
      "    y_type, y_true, y_pred = _check_targets(y_true, y_pred)\n",
      "  File \"/usr/local/lib/python3.9/dist-packages/sklearn/metrics/_classification.py\", line 95, in _check_targets\n",
      "    raise ValueError(\n",
      "ValueError: Classification metrics can't handle a mix of multilabel-indicator and binary targets\n",
      "\n",
      "  warnings.warn(\n"
     ]
    },
    {
     "name": "stdout",
     "output_type": "stream",
     "text": [
      "102/102 [==============================] - 1s 2ms/step - loss: 0.9547 - accuracy: 0.6449\n",
      "51/51 [==============================] - 0s 2ms/step\n"
     ]
    },
    {
     "name": "stderr",
     "output_type": "stream",
     "text": [
      "/usr/local/lib/python3.9/dist-packages/sklearn/model_selection/_validation.py:778: UserWarning: Scoring failed. The score on this train-test partition for these parameters will be set to nan. Details: \n",
      "Traceback (most recent call last):\n",
      "  File \"/usr/local/lib/python3.9/dist-packages/sklearn/model_selection/_validation.py\", line 767, in _score\n",
      "    scores = scorer(estimator, X_test, y_test)\n",
      "  File \"/usr/local/lib/python3.9/dist-packages/sklearn/metrics/_scorer.py\", line 234, in __call__\n",
      "    return self._score(\n",
      "  File \"/usr/local/lib/python3.9/dist-packages/sklearn/metrics/_scorer.py\", line 282, in _score\n",
      "    return self._sign * self._score_func(y_true, y_pred, **self._kwargs)\n",
      "  File \"/usr/local/lib/python3.9/dist-packages/sklearn/utils/_param_validation.py\", line 192, in wrapper\n",
      "    return func(*args, **kwargs)\n",
      "  File \"/usr/local/lib/python3.9/dist-packages/sklearn/metrics/_classification.py\", line 221, in accuracy_score\n",
      "    y_type, y_true, y_pred = _check_targets(y_true, y_pred)\n",
      "  File \"/usr/local/lib/python3.9/dist-packages/sklearn/metrics/_classification.py\", line 95, in _check_targets\n",
      "    raise ValueError(\n",
      "ValueError: Classification metrics can't handle a mix of multilabel-indicator and binary targets\n",
      "\n",
      "  warnings.warn(\n"
     ]
    },
    {
     "name": "stdout",
     "output_type": "stream",
     "text": [
      "102/102 [==============================] - 1s 2ms/step - loss: 0.9586 - accuracy: 0.6096\n",
      "51/51 [==============================] - 0s 1ms/step\n"
     ]
    },
    {
     "name": "stderr",
     "output_type": "stream",
     "text": [
      "/usr/local/lib/python3.9/dist-packages/sklearn/model_selection/_validation.py:778: UserWarning: Scoring failed. The score on this train-test partition for these parameters will be set to nan. Details: \n",
      "Traceback (most recent call last):\n",
      "  File \"/usr/local/lib/python3.9/dist-packages/sklearn/model_selection/_validation.py\", line 767, in _score\n",
      "    scores = scorer(estimator, X_test, y_test)\n",
      "  File \"/usr/local/lib/python3.9/dist-packages/sklearn/metrics/_scorer.py\", line 234, in __call__\n",
      "    return self._score(\n",
      "  File \"/usr/local/lib/python3.9/dist-packages/sklearn/metrics/_scorer.py\", line 282, in _score\n",
      "    return self._sign * self._score_func(y_true, y_pred, **self._kwargs)\n",
      "  File \"/usr/local/lib/python3.9/dist-packages/sklearn/utils/_param_validation.py\", line 192, in wrapper\n",
      "    return func(*args, **kwargs)\n",
      "  File \"/usr/local/lib/python3.9/dist-packages/sklearn/metrics/_classification.py\", line 221, in accuracy_score\n",
      "    y_type, y_true, y_pred = _check_targets(y_true, y_pred)\n",
      "  File \"/usr/local/lib/python3.9/dist-packages/sklearn/metrics/_classification.py\", line 95, in _check_targets\n",
      "    raise ValueError(\n",
      "ValueError: Classification metrics can't handle a mix of multilabel-indicator and binary targets\n",
      "\n",
      "  warnings.warn(\n"
     ]
    },
    {
     "name": "stdout",
     "output_type": "stream",
     "text": [
      "102/102 [==============================] - 1s 2ms/step - loss: 0.7694 - accuracy: 0.7354\n",
      "51/51 [==============================] - 0s 1ms/step\n"
     ]
    },
    {
     "name": "stderr",
     "output_type": "stream",
     "text": [
      "/usr/local/lib/python3.9/dist-packages/sklearn/model_selection/_validation.py:778: UserWarning: Scoring failed. The score on this train-test partition for these parameters will be set to nan. Details: \n",
      "Traceback (most recent call last):\n",
      "  File \"/usr/local/lib/python3.9/dist-packages/sklearn/model_selection/_validation.py\", line 767, in _score\n",
      "    scores = scorer(estimator, X_test, y_test)\n",
      "  File \"/usr/local/lib/python3.9/dist-packages/sklearn/metrics/_scorer.py\", line 234, in __call__\n",
      "    return self._score(\n",
      "  File \"/usr/local/lib/python3.9/dist-packages/sklearn/metrics/_scorer.py\", line 282, in _score\n",
      "    return self._sign * self._score_func(y_true, y_pred, **self._kwargs)\n",
      "  File \"/usr/local/lib/python3.9/dist-packages/sklearn/utils/_param_validation.py\", line 192, in wrapper\n",
      "    return func(*args, **kwargs)\n",
      "  File \"/usr/local/lib/python3.9/dist-packages/sklearn/metrics/_classification.py\", line 221, in accuracy_score\n",
      "    y_type, y_true, y_pred = _check_targets(y_true, y_pred)\n",
      "  File \"/usr/local/lib/python3.9/dist-packages/sklearn/metrics/_classification.py\", line 95, in _check_targets\n",
      "    raise ValueError(\n",
      "ValueError: Classification metrics can't handle a mix of multilabel-indicator and binary targets\n",
      "\n",
      "  warnings.warn(\n"
     ]
    },
    {
     "name": "stdout",
     "output_type": "stream",
     "text": [
      "102/102 [==============================] - 2s 2ms/step - loss: 0.7501 - accuracy: 0.7494\n",
      "51/51 [==============================] - 0s 2ms/step\n"
     ]
    },
    {
     "name": "stderr",
     "output_type": "stream",
     "text": [
      "/usr/local/lib/python3.9/dist-packages/sklearn/model_selection/_validation.py:778: UserWarning: Scoring failed. The score on this train-test partition for these parameters will be set to nan. Details: \n",
      "Traceback (most recent call last):\n",
      "  File \"/usr/local/lib/python3.9/dist-packages/sklearn/model_selection/_validation.py\", line 767, in _score\n",
      "    scores = scorer(estimator, X_test, y_test)\n",
      "  File \"/usr/local/lib/python3.9/dist-packages/sklearn/metrics/_scorer.py\", line 234, in __call__\n",
      "    return self._score(\n",
      "  File \"/usr/local/lib/python3.9/dist-packages/sklearn/metrics/_scorer.py\", line 282, in _score\n",
      "    return self._sign * self._score_func(y_true, y_pred, **self._kwargs)\n",
      "  File \"/usr/local/lib/python3.9/dist-packages/sklearn/utils/_param_validation.py\", line 192, in wrapper\n",
      "    return func(*args, **kwargs)\n",
      "  File \"/usr/local/lib/python3.9/dist-packages/sklearn/metrics/_classification.py\", line 221, in accuracy_score\n",
      "    y_type, y_true, y_pred = _check_targets(y_true, y_pred)\n",
      "  File \"/usr/local/lib/python3.9/dist-packages/sklearn/metrics/_classification.py\", line 95, in _check_targets\n",
      "    raise ValueError(\n",
      "ValueError: Classification metrics can't handle a mix of multilabel-indicator and binary targets\n",
      "\n",
      "  warnings.warn(\n"
     ]
    },
    {
     "name": "stdout",
     "output_type": "stream",
     "text": [
      "102/102 [==============================] - 1s 2ms/step - loss: 0.7380 - accuracy: 0.7385\n",
      "51/51 [==============================] - 0s 1ms/step\n"
     ]
    },
    {
     "name": "stderr",
     "output_type": "stream",
     "text": [
      "/usr/local/lib/python3.9/dist-packages/sklearn/model_selection/_validation.py:778: UserWarning: Scoring failed. The score on this train-test partition for these parameters will be set to nan. Details: \n",
      "Traceback (most recent call last):\n",
      "  File \"/usr/local/lib/python3.9/dist-packages/sklearn/model_selection/_validation.py\", line 767, in _score\n",
      "    scores = scorer(estimator, X_test, y_test)\n",
      "  File \"/usr/local/lib/python3.9/dist-packages/sklearn/metrics/_scorer.py\", line 234, in __call__\n",
      "    return self._score(\n",
      "  File \"/usr/local/lib/python3.9/dist-packages/sklearn/metrics/_scorer.py\", line 282, in _score\n",
      "    return self._sign * self._score_func(y_true, y_pred, **self._kwargs)\n",
      "  File \"/usr/local/lib/python3.9/dist-packages/sklearn/utils/_param_validation.py\", line 192, in wrapper\n",
      "    return func(*args, **kwargs)\n",
      "  File \"/usr/local/lib/python3.9/dist-packages/sklearn/metrics/_classification.py\", line 221, in accuracy_score\n",
      "    y_type, y_true, y_pred = _check_targets(y_true, y_pred)\n",
      "  File \"/usr/local/lib/python3.9/dist-packages/sklearn/metrics/_classification.py\", line 95, in _check_targets\n",
      "    raise ValueError(\n",
      "ValueError: Classification metrics can't handle a mix of multilabel-indicator and binary targets\n",
      "\n",
      "  warnings.warn(\n"
     ]
    },
    {
     "name": "stdout",
     "output_type": "stream",
     "text": [
      "102/102 [==============================] - 1s 3ms/step - loss: 0.7314 - accuracy: 0.7499\n",
      "51/51 [==============================] - 0s 2ms/step\n"
     ]
    },
    {
     "name": "stderr",
     "output_type": "stream",
     "text": [
      "/usr/local/lib/python3.9/dist-packages/sklearn/model_selection/_validation.py:778: UserWarning: Scoring failed. The score on this train-test partition for these parameters will be set to nan. Details: \n",
      "Traceback (most recent call last):\n",
      "  File \"/usr/local/lib/python3.9/dist-packages/sklearn/model_selection/_validation.py\", line 767, in _score\n",
      "    scores = scorer(estimator, X_test, y_test)\n",
      "  File \"/usr/local/lib/python3.9/dist-packages/sklearn/metrics/_scorer.py\", line 234, in __call__\n",
      "    return self._score(\n",
      "  File \"/usr/local/lib/python3.9/dist-packages/sklearn/metrics/_scorer.py\", line 282, in _score\n",
      "    return self._sign * self._score_func(y_true, y_pred, **self._kwargs)\n",
      "  File \"/usr/local/lib/python3.9/dist-packages/sklearn/utils/_param_validation.py\", line 192, in wrapper\n",
      "    return func(*args, **kwargs)\n",
      "  File \"/usr/local/lib/python3.9/dist-packages/sklearn/metrics/_classification.py\", line 221, in accuracy_score\n",
      "    y_type, y_true, y_pred = _check_targets(y_true, y_pred)\n",
      "  File \"/usr/local/lib/python3.9/dist-packages/sklearn/metrics/_classification.py\", line 95, in _check_targets\n",
      "    raise ValueError(\n",
      "ValueError: Classification metrics can't handle a mix of multilabel-indicator and binary targets\n",
      "\n",
      "  warnings.warn(\n"
     ]
    },
    {
     "name": "stdout",
     "output_type": "stream",
     "text": [
      "102/102 [==============================] - 1s 2ms/step - loss: 0.7395 - accuracy: 0.7596\n",
      "51/51 [==============================] - 0s 1ms/step\n"
     ]
    },
    {
     "name": "stderr",
     "output_type": "stream",
     "text": [
      "/usr/local/lib/python3.9/dist-packages/sklearn/model_selection/_validation.py:778: UserWarning: Scoring failed. The score on this train-test partition for these parameters will be set to nan. Details: \n",
      "Traceback (most recent call last):\n",
      "  File \"/usr/local/lib/python3.9/dist-packages/sklearn/model_selection/_validation.py\", line 767, in _score\n",
      "    scores = scorer(estimator, X_test, y_test)\n",
      "  File \"/usr/local/lib/python3.9/dist-packages/sklearn/metrics/_scorer.py\", line 234, in __call__\n",
      "    return self._score(\n",
      "  File \"/usr/local/lib/python3.9/dist-packages/sklearn/metrics/_scorer.py\", line 282, in _score\n",
      "    return self._sign * self._score_func(y_true, y_pred, **self._kwargs)\n",
      "  File \"/usr/local/lib/python3.9/dist-packages/sklearn/utils/_param_validation.py\", line 192, in wrapper\n",
      "    return func(*args, **kwargs)\n",
      "  File \"/usr/local/lib/python3.9/dist-packages/sklearn/metrics/_classification.py\", line 221, in accuracy_score\n",
      "    y_type, y_true, y_pred = _check_targets(y_true, y_pred)\n",
      "  File \"/usr/local/lib/python3.9/dist-packages/sklearn/metrics/_classification.py\", line 95, in _check_targets\n",
      "    raise ValueError(\n",
      "ValueError: Classification metrics can't handle a mix of multilabel-indicator and binary targets\n",
      "\n",
      "  warnings.warn(\n"
     ]
    },
    {
     "name": "stdout",
     "output_type": "stream",
     "text": [
      "102/102 [==============================] - 1s 2ms/step - loss: 0.5993 - accuracy: 0.7687\n",
      "51/51 [==============================] - 0s 1ms/step\n"
     ]
    },
    {
     "name": "stderr",
     "output_type": "stream",
     "text": [
      "/usr/local/lib/python3.9/dist-packages/sklearn/model_selection/_validation.py:778: UserWarning: Scoring failed. The score on this train-test partition for these parameters will be set to nan. Details: \n",
      "Traceback (most recent call last):\n",
      "  File \"/usr/local/lib/python3.9/dist-packages/sklearn/model_selection/_validation.py\", line 767, in _score\n",
      "    scores = scorer(estimator, X_test, y_test)\n",
      "  File \"/usr/local/lib/python3.9/dist-packages/sklearn/metrics/_scorer.py\", line 234, in __call__\n",
      "    return self._score(\n",
      "  File \"/usr/local/lib/python3.9/dist-packages/sklearn/metrics/_scorer.py\", line 282, in _score\n",
      "    return self._sign * self._score_func(y_true, y_pred, **self._kwargs)\n",
      "  File \"/usr/local/lib/python3.9/dist-packages/sklearn/utils/_param_validation.py\", line 192, in wrapper\n",
      "    return func(*args, **kwargs)\n",
      "  File \"/usr/local/lib/python3.9/dist-packages/sklearn/metrics/_classification.py\", line 221, in accuracy_score\n",
      "    y_type, y_true, y_pred = _check_targets(y_true, y_pred)\n",
      "  File \"/usr/local/lib/python3.9/dist-packages/sklearn/metrics/_classification.py\", line 95, in _check_targets\n",
      "    raise ValueError(\n",
      "ValueError: Classification metrics can't handle a mix of multilabel-indicator and binary targets\n",
      "\n",
      "  warnings.warn(\n"
     ]
    },
    {
     "name": "stdout",
     "output_type": "stream",
     "text": [
      "102/102 [==============================] - 1s 2ms/step - loss: 0.5988 - accuracy: 0.7746\n",
      "51/51 [==============================] - 0s 1ms/step\n"
     ]
    },
    {
     "name": "stderr",
     "output_type": "stream",
     "text": [
      "/usr/local/lib/python3.9/dist-packages/sklearn/model_selection/_validation.py:778: UserWarning: Scoring failed. The score on this train-test partition for these parameters will be set to nan. Details: \n",
      "Traceback (most recent call last):\n",
      "  File \"/usr/local/lib/python3.9/dist-packages/sklearn/model_selection/_validation.py\", line 767, in _score\n",
      "    scores = scorer(estimator, X_test, y_test)\n",
      "  File \"/usr/local/lib/python3.9/dist-packages/sklearn/metrics/_scorer.py\", line 234, in __call__\n",
      "    return self._score(\n",
      "  File \"/usr/local/lib/python3.9/dist-packages/sklearn/metrics/_scorer.py\", line 282, in _score\n",
      "    return self._sign * self._score_func(y_true, y_pred, **self._kwargs)\n",
      "  File \"/usr/local/lib/python3.9/dist-packages/sklearn/utils/_param_validation.py\", line 192, in wrapper\n",
      "    return func(*args, **kwargs)\n",
      "  File \"/usr/local/lib/python3.9/dist-packages/sklearn/metrics/_classification.py\", line 221, in accuracy_score\n",
      "    y_type, y_true, y_pred = _check_targets(y_true, y_pred)\n",
      "  File \"/usr/local/lib/python3.9/dist-packages/sklearn/metrics/_classification.py\", line 95, in _check_targets\n",
      "    raise ValueError(\n",
      "ValueError: Classification metrics can't handle a mix of multilabel-indicator and binary targets\n",
      "\n",
      "  warnings.warn(\n"
     ]
    },
    {
     "name": "stdout",
     "output_type": "stream",
     "text": [
      "102/102 [==============================] - 1s 2ms/step - loss: 0.5763 - accuracy: 0.7839\n",
      "51/51 [==============================] - 0s 1ms/step\n"
     ]
    },
    {
     "name": "stderr",
     "output_type": "stream",
     "text": [
      "/usr/local/lib/python3.9/dist-packages/sklearn/model_selection/_validation.py:778: UserWarning: Scoring failed. The score on this train-test partition for these parameters will be set to nan. Details: \n",
      "Traceback (most recent call last):\n",
      "  File \"/usr/local/lib/python3.9/dist-packages/sklearn/model_selection/_validation.py\", line 767, in _score\n",
      "    scores = scorer(estimator, X_test, y_test)\n",
      "  File \"/usr/local/lib/python3.9/dist-packages/sklearn/metrics/_scorer.py\", line 234, in __call__\n",
      "    return self._score(\n",
      "  File \"/usr/local/lib/python3.9/dist-packages/sklearn/metrics/_scorer.py\", line 282, in _score\n",
      "    return self._sign * self._score_func(y_true, y_pred, **self._kwargs)\n",
      "  File \"/usr/local/lib/python3.9/dist-packages/sklearn/utils/_param_validation.py\", line 192, in wrapper\n",
      "    return func(*args, **kwargs)\n",
      "  File \"/usr/local/lib/python3.9/dist-packages/sklearn/metrics/_classification.py\", line 221, in accuracy_score\n",
      "    y_type, y_true, y_pred = _check_targets(y_true, y_pred)\n",
      "  File \"/usr/local/lib/python3.9/dist-packages/sklearn/metrics/_classification.py\", line 95, in _check_targets\n",
      "    raise ValueError(\n",
      "ValueError: Classification metrics can't handle a mix of multilabel-indicator and binary targets\n",
      "\n",
      "  warnings.warn(\n"
     ]
    },
    {
     "name": "stdout",
     "output_type": "stream",
     "text": [
      "102/102 [==============================] - 1s 2ms/step - loss: 0.5757 - accuracy: 0.7792\n",
      "51/51 [==============================] - 0s 1ms/step\n"
     ]
    },
    {
     "name": "stderr",
     "output_type": "stream",
     "text": [
      "/usr/local/lib/python3.9/dist-packages/sklearn/model_selection/_validation.py:778: UserWarning: Scoring failed. The score on this train-test partition for these parameters will be set to nan. Details: \n",
      "Traceback (most recent call last):\n",
      "  File \"/usr/local/lib/python3.9/dist-packages/sklearn/model_selection/_validation.py\", line 767, in _score\n",
      "    scores = scorer(estimator, X_test, y_test)\n",
      "  File \"/usr/local/lib/python3.9/dist-packages/sklearn/metrics/_scorer.py\", line 234, in __call__\n",
      "    return self._score(\n",
      "  File \"/usr/local/lib/python3.9/dist-packages/sklearn/metrics/_scorer.py\", line 282, in _score\n",
      "    return self._sign * self._score_func(y_true, y_pred, **self._kwargs)\n",
      "  File \"/usr/local/lib/python3.9/dist-packages/sklearn/utils/_param_validation.py\", line 192, in wrapper\n",
      "    return func(*args, **kwargs)\n",
      "  File \"/usr/local/lib/python3.9/dist-packages/sklearn/metrics/_classification.py\", line 221, in accuracy_score\n",
      "    y_type, y_true, y_pred = _check_targets(y_true, y_pred)\n",
      "  File \"/usr/local/lib/python3.9/dist-packages/sklearn/metrics/_classification.py\", line 95, in _check_targets\n",
      "    raise ValueError(\n",
      "ValueError: Classification metrics can't handle a mix of multilabel-indicator and binary targets\n",
      "\n",
      "  warnings.warn(\n"
     ]
    },
    {
     "name": "stdout",
     "output_type": "stream",
     "text": [
      "102/102 [==============================] - 1s 2ms/step - loss: 0.5659 - accuracy: 0.7888\n",
      "51/51 [==============================] - 0s 1ms/step\n"
     ]
    },
    {
     "name": "stderr",
     "output_type": "stream",
     "text": [
      "/usr/local/lib/python3.9/dist-packages/sklearn/model_selection/_validation.py:778: UserWarning: Scoring failed. The score on this train-test partition for these parameters will be set to nan. Details: \n",
      "Traceback (most recent call last):\n",
      "  File \"/usr/local/lib/python3.9/dist-packages/sklearn/model_selection/_validation.py\", line 767, in _score\n",
      "    scores = scorer(estimator, X_test, y_test)\n",
      "  File \"/usr/local/lib/python3.9/dist-packages/sklearn/metrics/_scorer.py\", line 234, in __call__\n",
      "    return self._score(\n",
      "  File \"/usr/local/lib/python3.9/dist-packages/sklearn/metrics/_scorer.py\", line 282, in _score\n",
      "    return self._sign * self._score_func(y_true, y_pred, **self._kwargs)\n",
      "  File \"/usr/local/lib/python3.9/dist-packages/sklearn/utils/_param_validation.py\", line 192, in wrapper\n",
      "    return func(*args, **kwargs)\n",
      "  File \"/usr/local/lib/python3.9/dist-packages/sklearn/metrics/_classification.py\", line 221, in accuracy_score\n",
      "    y_type, y_true, y_pred = _check_targets(y_true, y_pred)\n",
      "  File \"/usr/local/lib/python3.9/dist-packages/sklearn/metrics/_classification.py\", line 95, in _check_targets\n",
      "    raise ValueError(\n",
      "ValueError: Classification metrics can't handle a mix of multilabel-indicator and binary targets\n",
      "\n",
      "  warnings.warn(\n"
     ]
    },
    {
     "name": "stdout",
     "output_type": "stream",
     "text": [
      "102/102 [==============================] - 1s 2ms/step - loss: 0.5567 - accuracy: 0.7925\n",
      "51/51 [==============================] - 0s 1ms/step\n"
     ]
    },
    {
     "name": "stderr",
     "output_type": "stream",
     "text": [
      "/usr/local/lib/python3.9/dist-packages/sklearn/model_selection/_validation.py:778: UserWarning: Scoring failed. The score on this train-test partition for these parameters will be set to nan. Details: \n",
      "Traceback (most recent call last):\n",
      "  File \"/usr/local/lib/python3.9/dist-packages/sklearn/model_selection/_validation.py\", line 767, in _score\n",
      "    scores = scorer(estimator, X_test, y_test)\n",
      "  File \"/usr/local/lib/python3.9/dist-packages/sklearn/metrics/_scorer.py\", line 234, in __call__\n",
      "    return self._score(\n",
      "  File \"/usr/local/lib/python3.9/dist-packages/sklearn/metrics/_scorer.py\", line 282, in _score\n",
      "    return self._sign * self._score_func(y_true, y_pred, **self._kwargs)\n",
      "  File \"/usr/local/lib/python3.9/dist-packages/sklearn/utils/_param_validation.py\", line 192, in wrapper\n",
      "    return func(*args, **kwargs)\n",
      "  File \"/usr/local/lib/python3.9/dist-packages/sklearn/metrics/_classification.py\", line 221, in accuracy_score\n",
      "    y_type, y_true, y_pred = _check_targets(y_true, y_pred)\n",
      "  File \"/usr/local/lib/python3.9/dist-packages/sklearn/metrics/_classification.py\", line 95, in _check_targets\n",
      "    raise ValueError(\n",
      "ValueError: Classification metrics can't handle a mix of multilabel-indicator and binary targets\n",
      "\n",
      "  warnings.warn(\n"
     ]
    },
    {
     "name": "stdout",
     "output_type": "stream",
     "text": [
      "102/102 [==============================] - 1s 3ms/step - loss: 0.5005 - accuracy: 0.8011\n",
      "51/51 [==============================] - 0s 2ms/step\n"
     ]
    },
    {
     "name": "stderr",
     "output_type": "stream",
     "text": [
      "/usr/local/lib/python3.9/dist-packages/sklearn/model_selection/_validation.py:778: UserWarning: Scoring failed. The score on this train-test partition for these parameters will be set to nan. Details: \n",
      "Traceback (most recent call last):\n",
      "  File \"/usr/local/lib/python3.9/dist-packages/sklearn/model_selection/_validation.py\", line 767, in _score\n",
      "    scores = scorer(estimator, X_test, y_test)\n",
      "  File \"/usr/local/lib/python3.9/dist-packages/sklearn/metrics/_scorer.py\", line 234, in __call__\n",
      "    return self._score(\n",
      "  File \"/usr/local/lib/python3.9/dist-packages/sklearn/metrics/_scorer.py\", line 282, in _score\n",
      "    return self._sign * self._score_func(y_true, y_pred, **self._kwargs)\n",
      "  File \"/usr/local/lib/python3.9/dist-packages/sklearn/utils/_param_validation.py\", line 192, in wrapper\n",
      "    return func(*args, **kwargs)\n",
      "  File \"/usr/local/lib/python3.9/dist-packages/sklearn/metrics/_classification.py\", line 221, in accuracy_score\n",
      "    y_type, y_true, y_pred = _check_targets(y_true, y_pred)\n",
      "  File \"/usr/local/lib/python3.9/dist-packages/sklearn/metrics/_classification.py\", line 95, in _check_targets\n",
      "    raise ValueError(\n",
      "ValueError: Classification metrics can't handle a mix of multilabel-indicator and binary targets\n",
      "\n",
      "  warnings.warn(\n"
     ]
    },
    {
     "name": "stdout",
     "output_type": "stream",
     "text": [
      "102/102 [==============================] - 1s 3ms/step - loss: 0.5396 - accuracy: 0.7875\n",
      "51/51 [==============================] - 0s 1ms/step\n"
     ]
    },
    {
     "name": "stderr",
     "output_type": "stream",
     "text": [
      "/usr/local/lib/python3.9/dist-packages/sklearn/model_selection/_validation.py:778: UserWarning: Scoring failed. The score on this train-test partition for these parameters will be set to nan. Details: \n",
      "Traceback (most recent call last):\n",
      "  File \"/usr/local/lib/python3.9/dist-packages/sklearn/model_selection/_validation.py\", line 767, in _score\n",
      "    scores = scorer(estimator, X_test, y_test)\n",
      "  File \"/usr/local/lib/python3.9/dist-packages/sklearn/metrics/_scorer.py\", line 234, in __call__\n",
      "    return self._score(\n",
      "  File \"/usr/local/lib/python3.9/dist-packages/sklearn/metrics/_scorer.py\", line 282, in _score\n",
      "    return self._sign * self._score_func(y_true, y_pred, **self._kwargs)\n",
      "  File \"/usr/local/lib/python3.9/dist-packages/sklearn/utils/_param_validation.py\", line 192, in wrapper\n",
      "    return func(*args, **kwargs)\n",
      "  File \"/usr/local/lib/python3.9/dist-packages/sklearn/metrics/_classification.py\", line 221, in accuracy_score\n",
      "    y_type, y_true, y_pred = _check_targets(y_true, y_pred)\n",
      "  File \"/usr/local/lib/python3.9/dist-packages/sklearn/metrics/_classification.py\", line 95, in _check_targets\n",
      "    raise ValueError(\n",
      "ValueError: Classification metrics can't handle a mix of multilabel-indicator and binary targets\n",
      "\n",
      "  warnings.warn(\n"
     ]
    },
    {
     "name": "stdout",
     "output_type": "stream",
     "text": [
      "102/102 [==============================] - 1s 2ms/step - loss: 0.5270 - accuracy: 0.7947\n",
      "51/51 [==============================] - 0s 2ms/step\n"
     ]
    },
    {
     "name": "stderr",
     "output_type": "stream",
     "text": [
      "/usr/local/lib/python3.9/dist-packages/sklearn/model_selection/_validation.py:778: UserWarning: Scoring failed. The score on this train-test partition for these parameters will be set to nan. Details: \n",
      "Traceback (most recent call last):\n",
      "  File \"/usr/local/lib/python3.9/dist-packages/sklearn/model_selection/_validation.py\", line 767, in _score\n",
      "    scores = scorer(estimator, X_test, y_test)\n",
      "  File \"/usr/local/lib/python3.9/dist-packages/sklearn/metrics/_scorer.py\", line 234, in __call__\n",
      "    return self._score(\n",
      "  File \"/usr/local/lib/python3.9/dist-packages/sklearn/metrics/_scorer.py\", line 282, in _score\n",
      "    return self._sign * self._score_func(y_true, y_pred, **self._kwargs)\n",
      "  File \"/usr/local/lib/python3.9/dist-packages/sklearn/utils/_param_validation.py\", line 192, in wrapper\n",
      "    return func(*args, **kwargs)\n",
      "  File \"/usr/local/lib/python3.9/dist-packages/sklearn/metrics/_classification.py\", line 221, in accuracy_score\n",
      "    y_type, y_true, y_pred = _check_targets(y_true, y_pred)\n",
      "  File \"/usr/local/lib/python3.9/dist-packages/sklearn/metrics/_classification.py\", line 95, in _check_targets\n",
      "    raise ValueError(\n",
      "ValueError: Classification metrics can't handle a mix of multilabel-indicator and binary targets\n",
      "\n",
      "  warnings.warn(\n"
     ]
    },
    {
     "name": "stdout",
     "output_type": "stream",
     "text": [
      "102/102 [==============================] - 2s 2ms/step - loss: 0.5737 - accuracy: 0.7894\n",
      "51/51 [==============================] - 0s 1ms/step\n"
     ]
    },
    {
     "name": "stderr",
     "output_type": "stream",
     "text": [
      "/usr/local/lib/python3.9/dist-packages/sklearn/model_selection/_validation.py:778: UserWarning: Scoring failed. The score on this train-test partition for these parameters will be set to nan. Details: \n",
      "Traceback (most recent call last):\n",
      "  File \"/usr/local/lib/python3.9/dist-packages/sklearn/model_selection/_validation.py\", line 767, in _score\n",
      "    scores = scorer(estimator, X_test, y_test)\n",
      "  File \"/usr/local/lib/python3.9/dist-packages/sklearn/metrics/_scorer.py\", line 234, in __call__\n",
      "    return self._score(\n",
      "  File \"/usr/local/lib/python3.9/dist-packages/sklearn/metrics/_scorer.py\", line 282, in _score\n",
      "    return self._sign * self._score_func(y_true, y_pred, **self._kwargs)\n",
      "  File \"/usr/local/lib/python3.9/dist-packages/sklearn/utils/_param_validation.py\", line 192, in wrapper\n",
      "    return func(*args, **kwargs)\n",
      "  File \"/usr/local/lib/python3.9/dist-packages/sklearn/metrics/_classification.py\", line 221, in accuracy_score\n",
      "    y_type, y_true, y_pred = _check_targets(y_true, y_pred)\n",
      "  File \"/usr/local/lib/python3.9/dist-packages/sklearn/metrics/_classification.py\", line 95, in _check_targets\n",
      "    raise ValueError(\n",
      "ValueError: Classification metrics can't handle a mix of multilabel-indicator and binary targets\n",
      "\n",
      "  warnings.warn(\n"
     ]
    },
    {
     "name": "stdout",
     "output_type": "stream",
     "text": [
      "102/102 [==============================] - 1s 2ms/step - loss: 0.5668 - accuracy: 0.7761\n",
      "51/51 [==============================] - 0s 2ms/step\n"
     ]
    },
    {
     "name": "stderr",
     "output_type": "stream",
     "text": [
      "/usr/local/lib/python3.9/dist-packages/sklearn/model_selection/_validation.py:778: UserWarning: Scoring failed. The score on this train-test partition for these parameters will be set to nan. Details: \n",
      "Traceback (most recent call last):\n",
      "  File \"/usr/local/lib/python3.9/dist-packages/sklearn/model_selection/_validation.py\", line 767, in _score\n",
      "    scores = scorer(estimator, X_test, y_test)\n",
      "  File \"/usr/local/lib/python3.9/dist-packages/sklearn/metrics/_scorer.py\", line 234, in __call__\n",
      "    return self._score(\n",
      "  File \"/usr/local/lib/python3.9/dist-packages/sklearn/metrics/_scorer.py\", line 282, in _score\n",
      "    return self._sign * self._score_func(y_true, y_pred, **self._kwargs)\n",
      "  File \"/usr/local/lib/python3.9/dist-packages/sklearn/utils/_param_validation.py\", line 192, in wrapper\n",
      "    return func(*args, **kwargs)\n",
      "  File \"/usr/local/lib/python3.9/dist-packages/sklearn/metrics/_classification.py\", line 221, in accuracy_score\n",
      "    y_type, y_true, y_pred = _check_targets(y_true, y_pred)\n",
      "  File \"/usr/local/lib/python3.9/dist-packages/sklearn/metrics/_classification.py\", line 95, in _check_targets\n",
      "    raise ValueError(\n",
      "ValueError: Classification metrics can't handle a mix of multilabel-indicator and binary targets\n",
      "\n",
      "  warnings.warn(\n"
     ]
    },
    {
     "name": "stdout",
     "output_type": "stream",
     "text": [
      "102/102 [==============================] - 1s 2ms/step - loss: 0.5492 - accuracy: 0.7895\n",
      "51/51 [==============================] - 0s 2ms/step\n"
     ]
    },
    {
     "name": "stderr",
     "output_type": "stream",
     "text": [
      "/usr/local/lib/python3.9/dist-packages/sklearn/model_selection/_validation.py:778: UserWarning: Scoring failed. The score on this train-test partition for these parameters will be set to nan. Details: \n",
      "Traceback (most recent call last):\n",
      "  File \"/usr/local/lib/python3.9/dist-packages/sklearn/model_selection/_validation.py\", line 767, in _score\n",
      "    scores = scorer(estimator, X_test, y_test)\n",
      "  File \"/usr/local/lib/python3.9/dist-packages/sklearn/metrics/_scorer.py\", line 234, in __call__\n",
      "    return self._score(\n",
      "  File \"/usr/local/lib/python3.9/dist-packages/sklearn/metrics/_scorer.py\", line 282, in _score\n",
      "    return self._sign * self._score_func(y_true, y_pred, **self._kwargs)\n",
      "  File \"/usr/local/lib/python3.9/dist-packages/sklearn/utils/_param_validation.py\", line 192, in wrapper\n",
      "    return func(*args, **kwargs)\n",
      "  File \"/usr/local/lib/python3.9/dist-packages/sklearn/metrics/_classification.py\", line 221, in accuracy_score\n",
      "    y_type, y_true, y_pred = _check_targets(y_true, y_pred)\n",
      "  File \"/usr/local/lib/python3.9/dist-packages/sklearn/metrics/_classification.py\", line 95, in _check_targets\n",
      "    raise ValueError(\n",
      "ValueError: Classification metrics can't handle a mix of multilabel-indicator and binary targets\n",
      "\n",
      "  warnings.warn(\n"
     ]
    },
    {
     "name": "stdout",
     "output_type": "stream",
     "text": [
      "102/102 [==============================] - 1s 2ms/step - loss: 0.5530 - accuracy: 0.7990\n",
      "51/51 [==============================] - 0s 1ms/step\n"
     ]
    },
    {
     "name": "stderr",
     "output_type": "stream",
     "text": [
      "/usr/local/lib/python3.9/dist-packages/sklearn/model_selection/_validation.py:778: UserWarning: Scoring failed. The score on this train-test partition for these parameters will be set to nan. Details: \n",
      "Traceback (most recent call last):\n",
      "  File \"/usr/local/lib/python3.9/dist-packages/sklearn/model_selection/_validation.py\", line 767, in _score\n",
      "    scores = scorer(estimator, X_test, y_test)\n",
      "  File \"/usr/local/lib/python3.9/dist-packages/sklearn/metrics/_scorer.py\", line 234, in __call__\n",
      "    return self._score(\n",
      "  File \"/usr/local/lib/python3.9/dist-packages/sklearn/metrics/_scorer.py\", line 282, in _score\n",
      "    return self._sign * self._score_func(y_true, y_pred, **self._kwargs)\n",
      "  File \"/usr/local/lib/python3.9/dist-packages/sklearn/utils/_param_validation.py\", line 192, in wrapper\n",
      "    return func(*args, **kwargs)\n",
      "  File \"/usr/local/lib/python3.9/dist-packages/sklearn/metrics/_classification.py\", line 221, in accuracy_score\n",
      "    y_type, y_true, y_pred = _check_targets(y_true, y_pred)\n",
      "  File \"/usr/local/lib/python3.9/dist-packages/sklearn/metrics/_classification.py\", line 95, in _check_targets\n",
      "    raise ValueError(\n",
      "ValueError: Classification metrics can't handle a mix of multilabel-indicator and binary targets\n",
      "\n",
      "  warnings.warn(\n"
     ]
    },
    {
     "name": "stdout",
     "output_type": "stream",
     "text": [
      "102/102 [==============================] - 1s 2ms/step - loss: 0.5373 - accuracy: 0.7925\n",
      "51/51 [==============================] - 0s 2ms/step\n"
     ]
    },
    {
     "name": "stderr",
     "output_type": "stream",
     "text": [
      "/usr/local/lib/python3.9/dist-packages/sklearn/model_selection/_validation.py:778: UserWarning: Scoring failed. The score on this train-test partition for these parameters will be set to nan. Details: \n",
      "Traceback (most recent call last):\n",
      "  File \"/usr/local/lib/python3.9/dist-packages/sklearn/model_selection/_validation.py\", line 767, in _score\n",
      "    scores = scorer(estimator, X_test, y_test)\n",
      "  File \"/usr/local/lib/python3.9/dist-packages/sklearn/metrics/_scorer.py\", line 234, in __call__\n",
      "    return self._score(\n",
      "  File \"/usr/local/lib/python3.9/dist-packages/sklearn/metrics/_scorer.py\", line 282, in _score\n",
      "    return self._sign * self._score_func(y_true, y_pred, **self._kwargs)\n",
      "  File \"/usr/local/lib/python3.9/dist-packages/sklearn/utils/_param_validation.py\", line 192, in wrapper\n",
      "    return func(*args, **kwargs)\n",
      "  File \"/usr/local/lib/python3.9/dist-packages/sklearn/metrics/_classification.py\", line 221, in accuracy_score\n",
      "    y_type, y_true, y_pred = _check_targets(y_true, y_pred)\n",
      "  File \"/usr/local/lib/python3.9/dist-packages/sklearn/metrics/_classification.py\", line 95, in _check_targets\n",
      "    raise ValueError(\n",
      "ValueError: Classification metrics can't handle a mix of multilabel-indicator and binary targets\n",
      "\n",
      "  warnings.warn(\n"
     ]
    },
    {
     "name": "stdout",
     "output_type": "stream",
     "text": [
      "102/102 [==============================] - 1s 3ms/step - loss: 0.5510 - accuracy: 0.7784\n",
      "51/51 [==============================] - 0s 2ms/step\n"
     ]
    },
    {
     "name": "stderr",
     "output_type": "stream",
     "text": [
      "/usr/local/lib/python3.9/dist-packages/sklearn/model_selection/_validation.py:778: UserWarning: Scoring failed. The score on this train-test partition for these parameters will be set to nan. Details: \n",
      "Traceback (most recent call last):\n",
      "  File \"/usr/local/lib/python3.9/dist-packages/sklearn/model_selection/_validation.py\", line 767, in _score\n",
      "    scores = scorer(estimator, X_test, y_test)\n",
      "  File \"/usr/local/lib/python3.9/dist-packages/sklearn/metrics/_scorer.py\", line 234, in __call__\n",
      "    return self._score(\n",
      "  File \"/usr/local/lib/python3.9/dist-packages/sklearn/metrics/_scorer.py\", line 282, in _score\n",
      "    return self._sign * self._score_func(y_true, y_pred, **self._kwargs)\n",
      "  File \"/usr/local/lib/python3.9/dist-packages/sklearn/utils/_param_validation.py\", line 192, in wrapper\n",
      "    return func(*args, **kwargs)\n",
      "  File \"/usr/local/lib/python3.9/dist-packages/sklearn/metrics/_classification.py\", line 221, in accuracy_score\n",
      "    y_type, y_true, y_pred = _check_targets(y_true, y_pred)\n",
      "  File \"/usr/local/lib/python3.9/dist-packages/sklearn/metrics/_classification.py\", line 95, in _check_targets\n",
      "    raise ValueError(\n",
      "ValueError: Classification metrics can't handle a mix of multilabel-indicator and binary targets\n",
      "\n",
      "  warnings.warn(\n"
     ]
    },
    {
     "name": "stdout",
     "output_type": "stream",
     "text": [
      "102/102 [==============================] - 1s 2ms/step - loss: 0.5543 - accuracy: 0.7882\n",
      "51/51 [==============================] - 0s 2ms/step\n"
     ]
    },
    {
     "name": "stderr",
     "output_type": "stream",
     "text": [
      "/usr/local/lib/python3.9/dist-packages/sklearn/model_selection/_validation.py:778: UserWarning: Scoring failed. The score on this train-test partition for these parameters will be set to nan. Details: \n",
      "Traceback (most recent call last):\n",
      "  File \"/usr/local/lib/python3.9/dist-packages/sklearn/model_selection/_validation.py\", line 767, in _score\n",
      "    scores = scorer(estimator, X_test, y_test)\n",
      "  File \"/usr/local/lib/python3.9/dist-packages/sklearn/metrics/_scorer.py\", line 234, in __call__\n",
      "    return self._score(\n",
      "  File \"/usr/local/lib/python3.9/dist-packages/sklearn/metrics/_scorer.py\", line 282, in _score\n",
      "    return self._sign * self._score_func(y_true, y_pred, **self._kwargs)\n",
      "  File \"/usr/local/lib/python3.9/dist-packages/sklearn/utils/_param_validation.py\", line 192, in wrapper\n",
      "    return func(*args, **kwargs)\n",
      "  File \"/usr/local/lib/python3.9/dist-packages/sklearn/metrics/_classification.py\", line 221, in accuracy_score\n",
      "    y_type, y_true, y_pred = _check_targets(y_true, y_pred)\n",
      "  File \"/usr/local/lib/python3.9/dist-packages/sklearn/metrics/_classification.py\", line 95, in _check_targets\n",
      "    raise ValueError(\n",
      "ValueError: Classification metrics can't handle a mix of multilabel-indicator and binary targets\n",
      "\n",
      "  warnings.warn(\n"
     ]
    },
    {
     "name": "stdout",
     "output_type": "stream",
     "text": [
      "102/102 [==============================] - 1s 2ms/step - loss: 0.5633 - accuracy: 0.7869\n",
      "51/51 [==============================] - 0s 1ms/step\n"
     ]
    },
    {
     "name": "stderr",
     "output_type": "stream",
     "text": [
      "/usr/local/lib/python3.9/dist-packages/sklearn/model_selection/_validation.py:778: UserWarning: Scoring failed. The score on this train-test partition for these parameters will be set to nan. Details: \n",
      "Traceback (most recent call last):\n",
      "  File \"/usr/local/lib/python3.9/dist-packages/sklearn/model_selection/_validation.py\", line 767, in _score\n",
      "    scores = scorer(estimator, X_test, y_test)\n",
      "  File \"/usr/local/lib/python3.9/dist-packages/sklearn/metrics/_scorer.py\", line 234, in __call__\n",
      "    return self._score(\n",
      "  File \"/usr/local/lib/python3.9/dist-packages/sklearn/metrics/_scorer.py\", line 282, in _score\n",
      "    return self._sign * self._score_func(y_true, y_pred, **self._kwargs)\n",
      "  File \"/usr/local/lib/python3.9/dist-packages/sklearn/utils/_param_validation.py\", line 192, in wrapper\n",
      "    return func(*args, **kwargs)\n",
      "  File \"/usr/local/lib/python3.9/dist-packages/sklearn/metrics/_classification.py\", line 221, in accuracy_score\n",
      "    y_type, y_true, y_pred = _check_targets(y_true, y_pred)\n",
      "  File \"/usr/local/lib/python3.9/dist-packages/sklearn/metrics/_classification.py\", line 95, in _check_targets\n",
      "    raise ValueError(\n",
      "ValueError: Classification metrics can't handle a mix of multilabel-indicator and binary targets\n",
      "\n",
      "  warnings.warn(\n"
     ]
    },
    {
     "name": "stdout",
     "output_type": "stream",
     "text": [
      "102/102 [==============================] - 1s 2ms/step - loss: 0.5717 - accuracy: 0.7858\n",
      "51/51 [==============================] - 0s 1ms/step\n"
     ]
    },
    {
     "name": "stderr",
     "output_type": "stream",
     "text": [
      "/usr/local/lib/python3.9/dist-packages/sklearn/model_selection/_validation.py:778: UserWarning: Scoring failed. The score on this train-test partition for these parameters will be set to nan. Details: \n",
      "Traceback (most recent call last):\n",
      "  File \"/usr/local/lib/python3.9/dist-packages/sklearn/model_selection/_validation.py\", line 767, in _score\n",
      "    scores = scorer(estimator, X_test, y_test)\n",
      "  File \"/usr/local/lib/python3.9/dist-packages/sklearn/metrics/_scorer.py\", line 234, in __call__\n",
      "    return self._score(\n",
      "  File \"/usr/local/lib/python3.9/dist-packages/sklearn/metrics/_scorer.py\", line 282, in _score\n",
      "    return self._sign * self._score_func(y_true, y_pred, **self._kwargs)\n",
      "  File \"/usr/local/lib/python3.9/dist-packages/sklearn/utils/_param_validation.py\", line 192, in wrapper\n",
      "    return func(*args, **kwargs)\n",
      "  File \"/usr/local/lib/python3.9/dist-packages/sklearn/metrics/_classification.py\", line 221, in accuracy_score\n",
      "    y_type, y_true, y_pred = _check_targets(y_true, y_pred)\n",
      "  File \"/usr/local/lib/python3.9/dist-packages/sklearn/metrics/_classification.py\", line 95, in _check_targets\n",
      "    raise ValueError(\n",
      "ValueError: Classification metrics can't handle a mix of multilabel-indicator and binary targets\n",
      "\n",
      "  warnings.warn(\n"
     ]
    },
    {
     "name": "stdout",
     "output_type": "stream",
     "text": [
      "102/102 [==============================] - 1s 2ms/step - loss: 0.5668 - accuracy: 0.7863\n",
      "51/51 [==============================] - 0s 1ms/step\n"
     ]
    },
    {
     "name": "stderr",
     "output_type": "stream",
     "text": [
      "/usr/local/lib/python3.9/dist-packages/sklearn/model_selection/_validation.py:778: UserWarning: Scoring failed. The score on this train-test partition for these parameters will be set to nan. Details: \n",
      "Traceback (most recent call last):\n",
      "  File \"/usr/local/lib/python3.9/dist-packages/sklearn/model_selection/_validation.py\", line 767, in _score\n",
      "    scores = scorer(estimator, X_test, y_test)\n",
      "  File \"/usr/local/lib/python3.9/dist-packages/sklearn/metrics/_scorer.py\", line 234, in __call__\n",
      "    return self._score(\n",
      "  File \"/usr/local/lib/python3.9/dist-packages/sklearn/metrics/_scorer.py\", line 282, in _score\n",
      "    return self._sign * self._score_func(y_true, y_pred, **self._kwargs)\n",
      "  File \"/usr/local/lib/python3.9/dist-packages/sklearn/utils/_param_validation.py\", line 192, in wrapper\n",
      "    return func(*args, **kwargs)\n",
      "  File \"/usr/local/lib/python3.9/dist-packages/sklearn/metrics/_classification.py\", line 221, in accuracy_score\n",
      "    y_type, y_true, y_pred = _check_targets(y_true, y_pred)\n",
      "  File \"/usr/local/lib/python3.9/dist-packages/sklearn/metrics/_classification.py\", line 95, in _check_targets\n",
      "    raise ValueError(\n",
      "ValueError: Classification metrics can't handle a mix of multilabel-indicator and binary targets\n",
      "\n",
      "  warnings.warn(\n"
     ]
    },
    {
     "name": "stdout",
     "output_type": "stream",
     "text": [
      "102/102 [==============================] - 1s 2ms/step - loss: 0.6562 - accuracy: 0.7780\n",
      "51/51 [==============================] - 0s 1ms/step\n"
     ]
    },
    {
     "name": "stderr",
     "output_type": "stream",
     "text": [
      "/usr/local/lib/python3.9/dist-packages/sklearn/model_selection/_validation.py:778: UserWarning: Scoring failed. The score on this train-test partition for these parameters will be set to nan. Details: \n",
      "Traceback (most recent call last):\n",
      "  File \"/usr/local/lib/python3.9/dist-packages/sklearn/model_selection/_validation.py\", line 767, in _score\n",
      "    scores = scorer(estimator, X_test, y_test)\n",
      "  File \"/usr/local/lib/python3.9/dist-packages/sklearn/metrics/_scorer.py\", line 234, in __call__\n",
      "    return self._score(\n",
      "  File \"/usr/local/lib/python3.9/dist-packages/sklearn/metrics/_scorer.py\", line 282, in _score\n",
      "    return self._sign * self._score_func(y_true, y_pred, **self._kwargs)\n",
      "  File \"/usr/local/lib/python3.9/dist-packages/sklearn/utils/_param_validation.py\", line 192, in wrapper\n",
      "    return func(*args, **kwargs)\n",
      "  File \"/usr/local/lib/python3.9/dist-packages/sklearn/metrics/_classification.py\", line 221, in accuracy_score\n",
      "    y_type, y_true, y_pred = _check_targets(y_true, y_pred)\n",
      "  File \"/usr/local/lib/python3.9/dist-packages/sklearn/metrics/_classification.py\", line 95, in _check_targets\n",
      "    raise ValueError(\n",
      "ValueError: Classification metrics can't handle a mix of multilabel-indicator and binary targets\n",
      "\n",
      "  warnings.warn(\n"
     ]
    },
    {
     "name": "stdout",
     "output_type": "stream",
     "text": [
      "102/102 [==============================] - 1s 2ms/step - loss: 0.6070 - accuracy: 0.7756\n",
      "51/51 [==============================] - 0s 1ms/step\n"
     ]
    },
    {
     "name": "stderr",
     "output_type": "stream",
     "text": [
      "/usr/local/lib/python3.9/dist-packages/sklearn/model_selection/_validation.py:778: UserWarning: Scoring failed. The score on this train-test partition for these parameters will be set to nan. Details: \n",
      "Traceback (most recent call last):\n",
      "  File \"/usr/local/lib/python3.9/dist-packages/sklearn/model_selection/_validation.py\", line 767, in _score\n",
      "    scores = scorer(estimator, X_test, y_test)\n",
      "  File \"/usr/local/lib/python3.9/dist-packages/sklearn/metrics/_scorer.py\", line 234, in __call__\n",
      "    return self._score(\n",
      "  File \"/usr/local/lib/python3.9/dist-packages/sklearn/metrics/_scorer.py\", line 282, in _score\n",
      "    return self._sign * self._score_func(y_true, y_pred, **self._kwargs)\n",
      "  File \"/usr/local/lib/python3.9/dist-packages/sklearn/utils/_param_validation.py\", line 192, in wrapper\n",
      "    return func(*args, **kwargs)\n",
      "  File \"/usr/local/lib/python3.9/dist-packages/sklearn/metrics/_classification.py\", line 221, in accuracy_score\n",
      "    y_type, y_true, y_pred = _check_targets(y_true, y_pred)\n",
      "  File \"/usr/local/lib/python3.9/dist-packages/sklearn/metrics/_classification.py\", line 95, in _check_targets\n",
      "    raise ValueError(\n",
      "ValueError: Classification metrics can't handle a mix of multilabel-indicator and binary targets\n",
      "\n",
      "  warnings.warn(\n"
     ]
    },
    {
     "name": "stdout",
     "output_type": "stream",
     "text": [
      "102/102 [==============================] - 1s 2ms/step - loss: 1.4888 - accuracy: 0.4857\n",
      "51/51 [==============================] - 0s 2ms/step\n"
     ]
    },
    {
     "name": "stderr",
     "output_type": "stream",
     "text": [
      "/usr/local/lib/python3.9/dist-packages/sklearn/model_selection/_validation.py:778: UserWarning: Scoring failed. The score on this train-test partition for these parameters will be set to nan. Details: \n",
      "Traceback (most recent call last):\n",
      "  File \"/usr/local/lib/python3.9/dist-packages/sklearn/model_selection/_validation.py\", line 767, in _score\n",
      "    scores = scorer(estimator, X_test, y_test)\n",
      "  File \"/usr/local/lib/python3.9/dist-packages/sklearn/metrics/_scorer.py\", line 234, in __call__\n",
      "    return self._score(\n",
      "  File \"/usr/local/lib/python3.9/dist-packages/sklearn/metrics/_scorer.py\", line 282, in _score\n",
      "    return self._sign * self._score_func(y_true, y_pred, **self._kwargs)\n",
      "  File \"/usr/local/lib/python3.9/dist-packages/sklearn/utils/_param_validation.py\", line 192, in wrapper\n",
      "    return func(*args, **kwargs)\n",
      "  File \"/usr/local/lib/python3.9/dist-packages/sklearn/metrics/_classification.py\", line 221, in accuracy_score\n",
      "    y_type, y_true, y_pred = _check_targets(y_true, y_pred)\n",
      "  File \"/usr/local/lib/python3.9/dist-packages/sklearn/metrics/_classification.py\", line 95, in _check_targets\n",
      "    raise ValueError(\n",
      "ValueError: Classification metrics can't handle a mix of multilabel-indicator and multiclass targets\n",
      "\n",
      "  warnings.warn(\n"
     ]
    },
    {
     "name": "stdout",
     "output_type": "stream",
     "text": [
      "102/102 [==============================] - 1s 3ms/step - loss: 1.4564 - accuracy: 0.3796\n",
      "51/51 [==============================] - 0s 2ms/step\n"
     ]
    },
    {
     "name": "stderr",
     "output_type": "stream",
     "text": [
      "/usr/local/lib/python3.9/dist-packages/sklearn/model_selection/_validation.py:778: UserWarning: Scoring failed. The score on this train-test partition for these parameters will be set to nan. Details: \n",
      "Traceback (most recent call last):\n",
      "  File \"/usr/local/lib/python3.9/dist-packages/sklearn/model_selection/_validation.py\", line 767, in _score\n",
      "    scores = scorer(estimator, X_test, y_test)\n",
      "  File \"/usr/local/lib/python3.9/dist-packages/sklearn/metrics/_scorer.py\", line 234, in __call__\n",
      "    return self._score(\n",
      "  File \"/usr/local/lib/python3.9/dist-packages/sklearn/metrics/_scorer.py\", line 282, in _score\n",
      "    return self._sign * self._score_func(y_true, y_pred, **self._kwargs)\n",
      "  File \"/usr/local/lib/python3.9/dist-packages/sklearn/utils/_param_validation.py\", line 192, in wrapper\n",
      "    return func(*args, **kwargs)\n",
      "  File \"/usr/local/lib/python3.9/dist-packages/sklearn/metrics/_classification.py\", line 221, in accuracy_score\n",
      "    y_type, y_true, y_pred = _check_targets(y_true, y_pred)\n",
      "  File \"/usr/local/lib/python3.9/dist-packages/sklearn/metrics/_classification.py\", line 95, in _check_targets\n",
      "    raise ValueError(\n",
      "ValueError: Classification metrics can't handle a mix of multilabel-indicator and binary targets\n",
      "\n",
      "  warnings.warn(\n"
     ]
    },
    {
     "name": "stdout",
     "output_type": "stream",
     "text": [
      "102/102 [==============================] - 1s 2ms/step - loss: 1.3102 - accuracy: 0.6588\n",
      "51/51 [==============================] - 0s 2ms/step\n"
     ]
    },
    {
     "name": "stderr",
     "output_type": "stream",
     "text": [
      "/usr/local/lib/python3.9/dist-packages/sklearn/model_selection/_validation.py:778: UserWarning: Scoring failed. The score on this train-test partition for these parameters will be set to nan. Details: \n",
      "Traceback (most recent call last):\n",
      "  File \"/usr/local/lib/python3.9/dist-packages/sklearn/model_selection/_validation.py\", line 767, in _score\n",
      "    scores = scorer(estimator, X_test, y_test)\n",
      "  File \"/usr/local/lib/python3.9/dist-packages/sklearn/metrics/_scorer.py\", line 234, in __call__\n",
      "    return self._score(\n",
      "  File \"/usr/local/lib/python3.9/dist-packages/sklearn/metrics/_scorer.py\", line 282, in _score\n",
      "    return self._sign * self._score_func(y_true, y_pred, **self._kwargs)\n",
      "  File \"/usr/local/lib/python3.9/dist-packages/sklearn/utils/_param_validation.py\", line 192, in wrapper\n",
      "    return func(*args, **kwargs)\n",
      "  File \"/usr/local/lib/python3.9/dist-packages/sklearn/metrics/_classification.py\", line 221, in accuracy_score\n",
      "    y_type, y_true, y_pred = _check_targets(y_true, y_pred)\n",
      "  File \"/usr/local/lib/python3.9/dist-packages/sklearn/metrics/_classification.py\", line 95, in _check_targets\n",
      "    raise ValueError(\n",
      "ValueError: Classification metrics can't handle a mix of multilabel-indicator and binary targets\n",
      "\n",
      "  warnings.warn(\n"
     ]
    },
    {
     "name": "stdout",
     "output_type": "stream",
     "text": [
      "102/102 [==============================] - 1s 2ms/step - loss: 1.2804 - accuracy: 0.5365\n",
      "51/51 [==============================] - 0s 2ms/step\n"
     ]
    },
    {
     "name": "stderr",
     "output_type": "stream",
     "text": [
      "/usr/local/lib/python3.9/dist-packages/sklearn/model_selection/_validation.py:778: UserWarning: Scoring failed. The score on this train-test partition for these parameters will be set to nan. Details: \n",
      "Traceback (most recent call last):\n",
      "  File \"/usr/local/lib/python3.9/dist-packages/sklearn/model_selection/_validation.py\", line 767, in _score\n",
      "    scores = scorer(estimator, X_test, y_test)\n",
      "  File \"/usr/local/lib/python3.9/dist-packages/sklearn/metrics/_scorer.py\", line 234, in __call__\n",
      "    return self._score(\n",
      "  File \"/usr/local/lib/python3.9/dist-packages/sklearn/metrics/_scorer.py\", line 282, in _score\n",
      "    return self._sign * self._score_func(y_true, y_pred, **self._kwargs)\n",
      "  File \"/usr/local/lib/python3.9/dist-packages/sklearn/utils/_param_validation.py\", line 192, in wrapper\n",
      "    return func(*args, **kwargs)\n",
      "  File \"/usr/local/lib/python3.9/dist-packages/sklearn/metrics/_classification.py\", line 221, in accuracy_score\n",
      "    y_type, y_true, y_pred = _check_targets(y_true, y_pred)\n",
      "  File \"/usr/local/lib/python3.9/dist-packages/sklearn/metrics/_classification.py\", line 95, in _check_targets\n",
      "    raise ValueError(\n",
      "ValueError: Classification metrics can't handle a mix of multilabel-indicator and binary targets\n",
      "\n",
      "  warnings.warn(\n"
     ]
    },
    {
     "name": "stdout",
     "output_type": "stream",
     "text": [
      "102/102 [==============================] - 3s 7ms/step - loss: 1.1914 - accuracy: 0.3959\n",
      "51/51 [==============================] - 0s 2ms/step\n"
     ]
    },
    {
     "name": "stderr",
     "output_type": "stream",
     "text": [
      "/usr/local/lib/python3.9/dist-packages/sklearn/model_selection/_validation.py:778: UserWarning: Scoring failed. The score on this train-test partition for these parameters will be set to nan. Details: \n",
      "Traceback (most recent call last):\n",
      "  File \"/usr/local/lib/python3.9/dist-packages/sklearn/model_selection/_validation.py\", line 767, in _score\n",
      "    scores = scorer(estimator, X_test, y_test)\n",
      "  File \"/usr/local/lib/python3.9/dist-packages/sklearn/metrics/_scorer.py\", line 234, in __call__\n",
      "    return self._score(\n",
      "  File \"/usr/local/lib/python3.9/dist-packages/sklearn/metrics/_scorer.py\", line 282, in _score\n",
      "    return self._sign * self._score_func(y_true, y_pred, **self._kwargs)\n",
      "  File \"/usr/local/lib/python3.9/dist-packages/sklearn/utils/_param_validation.py\", line 192, in wrapper\n",
      "    return func(*args, **kwargs)\n",
      "  File \"/usr/local/lib/python3.9/dist-packages/sklearn/metrics/_classification.py\", line 221, in accuracy_score\n",
      "    y_type, y_true, y_pred = _check_targets(y_true, y_pred)\n",
      "  File \"/usr/local/lib/python3.9/dist-packages/sklearn/metrics/_classification.py\", line 95, in _check_targets\n",
      "    raise ValueError(\n",
      "ValueError: Classification metrics can't handle a mix of multilabel-indicator and multiclass targets\n",
      "\n",
      "  warnings.warn(\n"
     ]
    },
    {
     "name": "stdout",
     "output_type": "stream",
     "text": [
      "102/102 [==============================] - 1s 3ms/step - loss: 1.0166 - accuracy: 0.6760\n",
      "51/51 [==============================] - 0s 2ms/step\n"
     ]
    },
    {
     "name": "stderr",
     "output_type": "stream",
     "text": [
      "/usr/local/lib/python3.9/dist-packages/sklearn/model_selection/_validation.py:778: UserWarning: Scoring failed. The score on this train-test partition for these parameters will be set to nan. Details: \n",
      "Traceback (most recent call last):\n",
      "  File \"/usr/local/lib/python3.9/dist-packages/sklearn/model_selection/_validation.py\", line 767, in _score\n",
      "    scores = scorer(estimator, X_test, y_test)\n",
      "  File \"/usr/local/lib/python3.9/dist-packages/sklearn/metrics/_scorer.py\", line 234, in __call__\n",
      "    return self._score(\n",
      "  File \"/usr/local/lib/python3.9/dist-packages/sklearn/metrics/_scorer.py\", line 282, in _score\n",
      "    return self._sign * self._score_func(y_true, y_pred, **self._kwargs)\n",
      "  File \"/usr/local/lib/python3.9/dist-packages/sklearn/utils/_param_validation.py\", line 192, in wrapper\n",
      "    return func(*args, **kwargs)\n",
      "  File \"/usr/local/lib/python3.9/dist-packages/sklearn/metrics/_classification.py\", line 221, in accuracy_score\n",
      "    y_type, y_true, y_pred = _check_targets(y_true, y_pred)\n",
      "  File \"/usr/local/lib/python3.9/dist-packages/sklearn/metrics/_classification.py\", line 95, in _check_targets\n",
      "    raise ValueError(\n",
      "ValueError: Classification metrics can't handle a mix of multilabel-indicator and binary targets\n",
      "\n",
      "  warnings.warn(\n"
     ]
    },
    {
     "name": "stdout",
     "output_type": "stream",
     "text": [
      "102/102 [==============================] - 1s 3ms/step - loss: 1.1537 - accuracy: 0.4514\n",
      "51/51 [==============================] - 0s 2ms/step\n"
     ]
    },
    {
     "name": "stderr",
     "output_type": "stream",
     "text": [
      "/usr/local/lib/python3.9/dist-packages/sklearn/model_selection/_validation.py:778: UserWarning: Scoring failed. The score on this train-test partition for these parameters will be set to nan. Details: \n",
      "Traceback (most recent call last):\n",
      "  File \"/usr/local/lib/python3.9/dist-packages/sklearn/model_selection/_validation.py\", line 767, in _score\n",
      "    scores = scorer(estimator, X_test, y_test)\n",
      "  File \"/usr/local/lib/python3.9/dist-packages/sklearn/metrics/_scorer.py\", line 234, in __call__\n",
      "    return self._score(\n",
      "  File \"/usr/local/lib/python3.9/dist-packages/sklearn/metrics/_scorer.py\", line 282, in _score\n",
      "    return self._sign * self._score_func(y_true, y_pred, **self._kwargs)\n",
      "  File \"/usr/local/lib/python3.9/dist-packages/sklearn/utils/_param_validation.py\", line 192, in wrapper\n",
      "    return func(*args, **kwargs)\n",
      "  File \"/usr/local/lib/python3.9/dist-packages/sklearn/metrics/_classification.py\", line 221, in accuracy_score\n",
      "    y_type, y_true, y_pred = _check_targets(y_true, y_pred)\n",
      "  File \"/usr/local/lib/python3.9/dist-packages/sklearn/metrics/_classification.py\", line 95, in _check_targets\n",
      "    raise ValueError(\n",
      "ValueError: Classification metrics can't handle a mix of multilabel-indicator and binary targets\n",
      "\n",
      "  warnings.warn(\n"
     ]
    },
    {
     "name": "stdout",
     "output_type": "stream",
     "text": [
      "102/102 [==============================] - 2s 5ms/step - loss: 0.8932 - accuracy: 0.7234\n",
      "51/51 [==============================] - 1s 6ms/step\n"
     ]
    },
    {
     "name": "stderr",
     "output_type": "stream",
     "text": [
      "/usr/local/lib/python3.9/dist-packages/sklearn/model_selection/_validation.py:778: UserWarning: Scoring failed. The score on this train-test partition for these parameters will be set to nan. Details: \n",
      "Traceback (most recent call last):\n",
      "  File \"/usr/local/lib/python3.9/dist-packages/sklearn/model_selection/_validation.py\", line 767, in _score\n",
      "    scores = scorer(estimator, X_test, y_test)\n",
      "  File \"/usr/local/lib/python3.9/dist-packages/sklearn/metrics/_scorer.py\", line 234, in __call__\n",
      "    return self._score(\n",
      "  File \"/usr/local/lib/python3.9/dist-packages/sklearn/metrics/_scorer.py\", line 282, in _score\n",
      "    return self._sign * self._score_func(y_true, y_pred, **self._kwargs)\n",
      "  File \"/usr/local/lib/python3.9/dist-packages/sklearn/utils/_param_validation.py\", line 192, in wrapper\n",
      "    return func(*args, **kwargs)\n",
      "  File \"/usr/local/lib/python3.9/dist-packages/sklearn/metrics/_classification.py\", line 221, in accuracy_score\n",
      "    y_type, y_true, y_pred = _check_targets(y_true, y_pred)\n",
      "  File \"/usr/local/lib/python3.9/dist-packages/sklearn/metrics/_classification.py\", line 95, in _check_targets\n",
      "    raise ValueError(\n",
      "ValueError: Classification metrics can't handle a mix of multilabel-indicator and binary targets\n",
      "\n",
      "  warnings.warn(\n"
     ]
    },
    {
     "name": "stdout",
     "output_type": "stream",
     "text": [
      "102/102 [==============================] - 2s 3ms/step - loss: 1.0288 - accuracy: 0.6097\n",
      "51/51 [==============================] - 0s 2ms/step\n"
     ]
    },
    {
     "name": "stderr",
     "output_type": "stream",
     "text": [
      "/usr/local/lib/python3.9/dist-packages/sklearn/model_selection/_validation.py:778: UserWarning: Scoring failed. The score on this train-test partition for these parameters will be set to nan. Details: \n",
      "Traceback (most recent call last):\n",
      "  File \"/usr/local/lib/python3.9/dist-packages/sklearn/model_selection/_validation.py\", line 767, in _score\n",
      "    scores = scorer(estimator, X_test, y_test)\n",
      "  File \"/usr/local/lib/python3.9/dist-packages/sklearn/metrics/_scorer.py\", line 234, in __call__\n",
      "    return self._score(\n",
      "  File \"/usr/local/lib/python3.9/dist-packages/sklearn/metrics/_scorer.py\", line 282, in _score\n",
      "    return self._sign * self._score_func(y_true, y_pred, **self._kwargs)\n",
      "  File \"/usr/local/lib/python3.9/dist-packages/sklearn/utils/_param_validation.py\", line 192, in wrapper\n",
      "    return func(*args, **kwargs)\n",
      "  File \"/usr/local/lib/python3.9/dist-packages/sklearn/metrics/_classification.py\", line 221, in accuracy_score\n",
      "    y_type, y_true, y_pred = _check_targets(y_true, y_pred)\n",
      "  File \"/usr/local/lib/python3.9/dist-packages/sklearn/metrics/_classification.py\", line 95, in _check_targets\n",
      "    raise ValueError(\n",
      "ValueError: Classification metrics can't handle a mix of multilabel-indicator and binary targets\n",
      "\n",
      "  warnings.warn(\n"
     ]
    },
    {
     "name": "stdout",
     "output_type": "stream",
     "text": [
      "102/102 [==============================] - 1s 2ms/step - loss: 0.8289 - accuracy: 0.6864\n",
      "51/51 [==============================] - 0s 2ms/step\n"
     ]
    },
    {
     "name": "stderr",
     "output_type": "stream",
     "text": [
      "/usr/local/lib/python3.9/dist-packages/sklearn/model_selection/_validation.py:778: UserWarning: Scoring failed. The score on this train-test partition for these parameters will be set to nan. Details: \n",
      "Traceback (most recent call last):\n",
      "  File \"/usr/local/lib/python3.9/dist-packages/sklearn/model_selection/_validation.py\", line 767, in _score\n",
      "    scores = scorer(estimator, X_test, y_test)\n",
      "  File \"/usr/local/lib/python3.9/dist-packages/sklearn/metrics/_scorer.py\", line 234, in __call__\n",
      "    return self._score(\n",
      "  File \"/usr/local/lib/python3.9/dist-packages/sklearn/metrics/_scorer.py\", line 282, in _score\n",
      "    return self._sign * self._score_func(y_true, y_pred, **self._kwargs)\n",
      "  File \"/usr/local/lib/python3.9/dist-packages/sklearn/utils/_param_validation.py\", line 192, in wrapper\n",
      "    return func(*args, **kwargs)\n",
      "  File \"/usr/local/lib/python3.9/dist-packages/sklearn/metrics/_classification.py\", line 221, in accuracy_score\n",
      "    y_type, y_true, y_pred = _check_targets(y_true, y_pred)\n",
      "  File \"/usr/local/lib/python3.9/dist-packages/sklearn/metrics/_classification.py\", line 95, in _check_targets\n",
      "    raise ValueError(\n",
      "ValueError: Classification metrics can't handle a mix of multilabel-indicator and binary targets\n",
      "\n",
      "  warnings.warn(\n"
     ]
    },
    {
     "name": "stdout",
     "output_type": "stream",
     "text": [
      "102/102 [==============================] - 1s 2ms/step - loss: 0.8448 - accuracy: 0.7216\n",
      "51/51 [==============================] - 0s 2ms/step\n"
     ]
    },
    {
     "name": "stderr",
     "output_type": "stream",
     "text": [
      "/usr/local/lib/python3.9/dist-packages/sklearn/model_selection/_validation.py:778: UserWarning: Scoring failed. The score on this train-test partition for these parameters will be set to nan. Details: \n",
      "Traceback (most recent call last):\n",
      "  File \"/usr/local/lib/python3.9/dist-packages/sklearn/model_selection/_validation.py\", line 767, in _score\n",
      "    scores = scorer(estimator, X_test, y_test)\n",
      "  File \"/usr/local/lib/python3.9/dist-packages/sklearn/metrics/_scorer.py\", line 234, in __call__\n",
      "    return self._score(\n",
      "  File \"/usr/local/lib/python3.9/dist-packages/sklearn/metrics/_scorer.py\", line 282, in _score\n",
      "    return self._sign * self._score_func(y_true, y_pred, **self._kwargs)\n",
      "  File \"/usr/local/lib/python3.9/dist-packages/sklearn/utils/_param_validation.py\", line 192, in wrapper\n",
      "    return func(*args, **kwargs)\n",
      "  File \"/usr/local/lib/python3.9/dist-packages/sklearn/metrics/_classification.py\", line 221, in accuracy_score\n",
      "    y_type, y_true, y_pred = _check_targets(y_true, y_pred)\n",
      "  File \"/usr/local/lib/python3.9/dist-packages/sklearn/metrics/_classification.py\", line 95, in _check_targets\n",
      "    raise ValueError(\n",
      "ValueError: Classification metrics can't handle a mix of multilabel-indicator and binary targets\n",
      "\n",
      "  warnings.warn(\n"
     ]
    },
    {
     "name": "stdout",
     "output_type": "stream",
     "text": [
      "102/102 [==============================] - 1s 2ms/step - loss: 0.8747 - accuracy: 0.6658\n",
      "51/51 [==============================] - 0s 2ms/step\n"
     ]
    },
    {
     "name": "stderr",
     "output_type": "stream",
     "text": [
      "/usr/local/lib/python3.9/dist-packages/sklearn/model_selection/_validation.py:778: UserWarning: Scoring failed. The score on this train-test partition for these parameters will be set to nan. Details: \n",
      "Traceback (most recent call last):\n",
      "  File \"/usr/local/lib/python3.9/dist-packages/sklearn/model_selection/_validation.py\", line 767, in _score\n",
      "    scores = scorer(estimator, X_test, y_test)\n",
      "  File \"/usr/local/lib/python3.9/dist-packages/sklearn/metrics/_scorer.py\", line 234, in __call__\n",
      "    return self._score(\n",
      "  File \"/usr/local/lib/python3.9/dist-packages/sklearn/metrics/_scorer.py\", line 282, in _score\n",
      "    return self._sign * self._score_func(y_true, y_pred, **self._kwargs)\n",
      "  File \"/usr/local/lib/python3.9/dist-packages/sklearn/utils/_param_validation.py\", line 192, in wrapper\n",
      "    return func(*args, **kwargs)\n",
      "  File \"/usr/local/lib/python3.9/dist-packages/sklearn/metrics/_classification.py\", line 221, in accuracy_score\n",
      "    y_type, y_true, y_pred = _check_targets(y_true, y_pred)\n",
      "  File \"/usr/local/lib/python3.9/dist-packages/sklearn/metrics/_classification.py\", line 95, in _check_targets\n",
      "    raise ValueError(\n",
      "ValueError: Classification metrics can't handle a mix of multilabel-indicator and binary targets\n",
      "\n",
      "  warnings.warn(\n"
     ]
    },
    {
     "name": "stdout",
     "output_type": "stream",
     "text": [
      "102/102 [==============================] - 1s 2ms/step - loss: 0.7029 - accuracy: 0.7891\n",
      "51/51 [==============================] - 0s 2ms/step\n"
     ]
    },
    {
     "name": "stderr",
     "output_type": "stream",
     "text": [
      "/usr/local/lib/python3.9/dist-packages/sklearn/model_selection/_validation.py:778: UserWarning: Scoring failed. The score on this train-test partition for these parameters will be set to nan. Details: \n",
      "Traceback (most recent call last):\n",
      "  File \"/usr/local/lib/python3.9/dist-packages/sklearn/model_selection/_validation.py\", line 767, in _score\n",
      "    scores = scorer(estimator, X_test, y_test)\n",
      "  File \"/usr/local/lib/python3.9/dist-packages/sklearn/metrics/_scorer.py\", line 234, in __call__\n",
      "    return self._score(\n",
      "  File \"/usr/local/lib/python3.9/dist-packages/sklearn/metrics/_scorer.py\", line 282, in _score\n",
      "    return self._sign * self._score_func(y_true, y_pred, **self._kwargs)\n",
      "  File \"/usr/local/lib/python3.9/dist-packages/sklearn/utils/_param_validation.py\", line 192, in wrapper\n",
      "    return func(*args, **kwargs)\n",
      "  File \"/usr/local/lib/python3.9/dist-packages/sklearn/metrics/_classification.py\", line 221, in accuracy_score\n",
      "    y_type, y_true, y_pred = _check_targets(y_true, y_pred)\n",
      "  File \"/usr/local/lib/python3.9/dist-packages/sklearn/metrics/_classification.py\", line 95, in _check_targets\n",
      "    raise ValueError(\n",
      "ValueError: Classification metrics can't handle a mix of multilabel-indicator and binary targets\n",
      "\n",
      "  warnings.warn(\n"
     ]
    },
    {
     "name": "stdout",
     "output_type": "stream",
     "text": [
      "102/102 [==============================] - 1s 2ms/step - loss: 0.7430 - accuracy: 0.7724\n",
      "51/51 [==============================] - 0s 1ms/step\n"
     ]
    },
    {
     "name": "stderr",
     "output_type": "stream",
     "text": [
      "/usr/local/lib/python3.9/dist-packages/sklearn/model_selection/_validation.py:778: UserWarning: Scoring failed. The score on this train-test partition for these parameters will be set to nan. Details: \n",
      "Traceback (most recent call last):\n",
      "  File \"/usr/local/lib/python3.9/dist-packages/sklearn/model_selection/_validation.py\", line 767, in _score\n",
      "    scores = scorer(estimator, X_test, y_test)\n",
      "  File \"/usr/local/lib/python3.9/dist-packages/sklearn/metrics/_scorer.py\", line 234, in __call__\n",
      "    return self._score(\n",
      "  File \"/usr/local/lib/python3.9/dist-packages/sklearn/metrics/_scorer.py\", line 282, in _score\n",
      "    return self._sign * self._score_func(y_true, y_pred, **self._kwargs)\n",
      "  File \"/usr/local/lib/python3.9/dist-packages/sklearn/utils/_param_validation.py\", line 192, in wrapper\n",
      "    return func(*args, **kwargs)\n",
      "  File \"/usr/local/lib/python3.9/dist-packages/sklearn/metrics/_classification.py\", line 221, in accuracy_score\n",
      "    y_type, y_true, y_pred = _check_targets(y_true, y_pred)\n",
      "  File \"/usr/local/lib/python3.9/dist-packages/sklearn/metrics/_classification.py\", line 95, in _check_targets\n",
      "    raise ValueError(\n",
      "ValueError: Classification metrics can't handle a mix of multilabel-indicator and binary targets\n",
      "\n",
      "  warnings.warn(\n"
     ]
    },
    {
     "name": "stdout",
     "output_type": "stream",
     "text": [
      "102/102 [==============================] - 1s 2ms/step - loss: 0.7396 - accuracy: 0.7821\n",
      "51/51 [==============================] - 0s 1ms/step\n"
     ]
    },
    {
     "name": "stderr",
     "output_type": "stream",
     "text": [
      "/usr/local/lib/python3.9/dist-packages/sklearn/model_selection/_validation.py:778: UserWarning: Scoring failed. The score on this train-test partition for these parameters will be set to nan. Details: \n",
      "Traceback (most recent call last):\n",
      "  File \"/usr/local/lib/python3.9/dist-packages/sklearn/model_selection/_validation.py\", line 767, in _score\n",
      "    scores = scorer(estimator, X_test, y_test)\n",
      "  File \"/usr/local/lib/python3.9/dist-packages/sklearn/metrics/_scorer.py\", line 234, in __call__\n",
      "    return self._score(\n",
      "  File \"/usr/local/lib/python3.9/dist-packages/sklearn/metrics/_scorer.py\", line 282, in _score\n",
      "    return self._sign * self._score_func(y_true, y_pred, **self._kwargs)\n",
      "  File \"/usr/local/lib/python3.9/dist-packages/sklearn/utils/_param_validation.py\", line 192, in wrapper\n",
      "    return func(*args, **kwargs)\n",
      "  File \"/usr/local/lib/python3.9/dist-packages/sklearn/metrics/_classification.py\", line 221, in accuracy_score\n",
      "    y_type, y_true, y_pred = _check_targets(y_true, y_pred)\n",
      "  File \"/usr/local/lib/python3.9/dist-packages/sklearn/metrics/_classification.py\", line 95, in _check_targets\n",
      "    raise ValueError(\n",
      "ValueError: Classification metrics can't handle a mix of multilabel-indicator and binary targets\n",
      "\n",
      "  warnings.warn(\n"
     ]
    },
    {
     "name": "stdout",
     "output_type": "stream",
     "text": [
      "102/102 [==============================] - 2s 3ms/step - loss: 0.5989 - accuracy: 0.7838\n",
      "51/51 [==============================] - 0s 2ms/step\n"
     ]
    },
    {
     "name": "stderr",
     "output_type": "stream",
     "text": [
      "/usr/local/lib/python3.9/dist-packages/sklearn/model_selection/_validation.py:778: UserWarning: Scoring failed. The score on this train-test partition for these parameters will be set to nan. Details: \n",
      "Traceback (most recent call last):\n",
      "  File \"/usr/local/lib/python3.9/dist-packages/sklearn/model_selection/_validation.py\", line 767, in _score\n",
      "    scores = scorer(estimator, X_test, y_test)\n",
      "  File \"/usr/local/lib/python3.9/dist-packages/sklearn/metrics/_scorer.py\", line 234, in __call__\n",
      "    return self._score(\n",
      "  File \"/usr/local/lib/python3.9/dist-packages/sklearn/metrics/_scorer.py\", line 282, in _score\n",
      "    return self._sign * self._score_func(y_true, y_pred, **self._kwargs)\n",
      "  File \"/usr/local/lib/python3.9/dist-packages/sklearn/utils/_param_validation.py\", line 192, in wrapper\n",
      "    return func(*args, **kwargs)\n",
      "  File \"/usr/local/lib/python3.9/dist-packages/sklearn/metrics/_classification.py\", line 221, in accuracy_score\n",
      "    y_type, y_true, y_pred = _check_targets(y_true, y_pred)\n",
      "  File \"/usr/local/lib/python3.9/dist-packages/sklearn/metrics/_classification.py\", line 95, in _check_targets\n",
      "    raise ValueError(\n",
      "ValueError: Classification metrics can't handle a mix of multilabel-indicator and binary targets\n",
      "\n",
      "  warnings.warn(\n"
     ]
    },
    {
     "name": "stdout",
     "output_type": "stream",
     "text": [
      "102/102 [==============================] - 2s 3ms/step - loss: 0.6248 - accuracy: 0.7660\n",
      "51/51 [==============================] - 0s 2ms/step\n"
     ]
    },
    {
     "name": "stderr",
     "output_type": "stream",
     "text": [
      "/usr/local/lib/python3.9/dist-packages/sklearn/model_selection/_validation.py:778: UserWarning: Scoring failed. The score on this train-test partition for these parameters will be set to nan. Details: \n",
      "Traceback (most recent call last):\n",
      "  File \"/usr/local/lib/python3.9/dist-packages/sklearn/model_selection/_validation.py\", line 767, in _score\n",
      "    scores = scorer(estimator, X_test, y_test)\n",
      "  File \"/usr/local/lib/python3.9/dist-packages/sklearn/metrics/_scorer.py\", line 234, in __call__\n",
      "    return self._score(\n",
      "  File \"/usr/local/lib/python3.9/dist-packages/sklearn/metrics/_scorer.py\", line 282, in _score\n",
      "    return self._sign * self._score_func(y_true, y_pred, **self._kwargs)\n",
      "  File \"/usr/local/lib/python3.9/dist-packages/sklearn/utils/_param_validation.py\", line 192, in wrapper\n",
      "    return func(*args, **kwargs)\n",
      "  File \"/usr/local/lib/python3.9/dist-packages/sklearn/metrics/_classification.py\", line 221, in accuracy_score\n",
      "    y_type, y_true, y_pred = _check_targets(y_true, y_pred)\n",
      "  File \"/usr/local/lib/python3.9/dist-packages/sklearn/metrics/_classification.py\", line 95, in _check_targets\n",
      "    raise ValueError(\n",
      "ValueError: Classification metrics can't handle a mix of multilabel-indicator and binary targets\n",
      "\n",
      "  warnings.warn(\n"
     ]
    },
    {
     "name": "stdout",
     "output_type": "stream",
     "text": [
      "102/102 [==============================] - 1s 2ms/step - loss: 0.7457 - accuracy: 0.7475\n",
      "51/51 [==============================] - 0s 2ms/step\n"
     ]
    },
    {
     "name": "stderr",
     "output_type": "stream",
     "text": [
      "/usr/local/lib/python3.9/dist-packages/sklearn/model_selection/_validation.py:778: UserWarning: Scoring failed. The score on this train-test partition for these parameters will be set to nan. Details: \n",
      "Traceback (most recent call last):\n",
      "  File \"/usr/local/lib/python3.9/dist-packages/sklearn/model_selection/_validation.py\", line 767, in _score\n",
      "    scores = scorer(estimator, X_test, y_test)\n",
      "  File \"/usr/local/lib/python3.9/dist-packages/sklearn/metrics/_scorer.py\", line 234, in __call__\n",
      "    return self._score(\n",
      "  File \"/usr/local/lib/python3.9/dist-packages/sklearn/metrics/_scorer.py\", line 282, in _score\n",
      "    return self._sign * self._score_func(y_true, y_pred, **self._kwargs)\n",
      "  File \"/usr/local/lib/python3.9/dist-packages/sklearn/utils/_param_validation.py\", line 192, in wrapper\n",
      "    return func(*args, **kwargs)\n",
      "  File \"/usr/local/lib/python3.9/dist-packages/sklearn/metrics/_classification.py\", line 221, in accuracy_score\n",
      "    y_type, y_true, y_pred = _check_targets(y_true, y_pred)\n",
      "  File \"/usr/local/lib/python3.9/dist-packages/sklearn/metrics/_classification.py\", line 95, in _check_targets\n",
      "    raise ValueError(\n",
      "ValueError: Classification metrics can't handle a mix of multilabel-indicator and binary targets\n",
      "\n",
      "  warnings.warn(\n"
     ]
    },
    {
     "name": "stdout",
     "output_type": "stream",
     "text": [
      "102/102 [==============================] - 1s 2ms/step - loss: 0.5816 - accuracy: 0.7774\n",
      "51/51 [==============================] - 0s 2ms/step\n"
     ]
    },
    {
     "name": "stderr",
     "output_type": "stream",
     "text": [
      "/usr/local/lib/python3.9/dist-packages/sklearn/model_selection/_validation.py:778: UserWarning: Scoring failed. The score on this train-test partition for these parameters will be set to nan. Details: \n",
      "Traceback (most recent call last):\n",
      "  File \"/usr/local/lib/python3.9/dist-packages/sklearn/model_selection/_validation.py\", line 767, in _score\n",
      "    scores = scorer(estimator, X_test, y_test)\n",
      "  File \"/usr/local/lib/python3.9/dist-packages/sklearn/metrics/_scorer.py\", line 234, in __call__\n",
      "    return self._score(\n",
      "  File \"/usr/local/lib/python3.9/dist-packages/sklearn/metrics/_scorer.py\", line 282, in _score\n",
      "    return self._sign * self._score_func(y_true, y_pred, **self._kwargs)\n",
      "  File \"/usr/local/lib/python3.9/dist-packages/sklearn/utils/_param_validation.py\", line 192, in wrapper\n",
      "    return func(*args, **kwargs)\n",
      "  File \"/usr/local/lib/python3.9/dist-packages/sklearn/metrics/_classification.py\", line 221, in accuracy_score\n",
      "    y_type, y_true, y_pred = _check_targets(y_true, y_pred)\n",
      "  File \"/usr/local/lib/python3.9/dist-packages/sklearn/metrics/_classification.py\", line 95, in _check_targets\n",
      "    raise ValueError(\n",
      "ValueError: Classification metrics can't handle a mix of multilabel-indicator and binary targets\n",
      "\n",
      "  warnings.warn(\n"
     ]
    },
    {
     "name": "stdout",
     "output_type": "stream",
     "text": [
      "102/102 [==============================] - 1s 2ms/step - loss: 0.5741 - accuracy: 0.7857\n",
      "51/51 [==============================] - 0s 2ms/step\n"
     ]
    },
    {
     "name": "stderr",
     "output_type": "stream",
     "text": [
      "/usr/local/lib/python3.9/dist-packages/sklearn/model_selection/_validation.py:778: UserWarning: Scoring failed. The score on this train-test partition for these parameters will be set to nan. Details: \n",
      "Traceback (most recent call last):\n",
      "  File \"/usr/local/lib/python3.9/dist-packages/sklearn/model_selection/_validation.py\", line 767, in _score\n",
      "    scores = scorer(estimator, X_test, y_test)\n",
      "  File \"/usr/local/lib/python3.9/dist-packages/sklearn/metrics/_scorer.py\", line 234, in __call__\n",
      "    return self._score(\n",
      "  File \"/usr/local/lib/python3.9/dist-packages/sklearn/metrics/_scorer.py\", line 282, in _score\n",
      "    return self._sign * self._score_func(y_true, y_pred, **self._kwargs)\n",
      "  File \"/usr/local/lib/python3.9/dist-packages/sklearn/utils/_param_validation.py\", line 192, in wrapper\n",
      "    return func(*args, **kwargs)\n",
      "  File \"/usr/local/lib/python3.9/dist-packages/sklearn/metrics/_classification.py\", line 221, in accuracy_score\n",
      "    y_type, y_true, y_pred = _check_targets(y_true, y_pred)\n",
      "  File \"/usr/local/lib/python3.9/dist-packages/sklearn/metrics/_classification.py\", line 95, in _check_targets\n",
      "    raise ValueError(\n",
      "ValueError: Classification metrics can't handle a mix of multilabel-indicator and binary targets\n",
      "\n",
      "  warnings.warn(\n"
     ]
    },
    {
     "name": "stdout",
     "output_type": "stream",
     "text": [
      "102/102 [==============================] - 1s 2ms/step - loss: 0.6278 - accuracy: 0.7571\n",
      "51/51 [==============================] - 0s 2ms/step\n"
     ]
    },
    {
     "name": "stderr",
     "output_type": "stream",
     "text": [
      "/usr/local/lib/python3.9/dist-packages/sklearn/model_selection/_validation.py:778: UserWarning: Scoring failed. The score on this train-test partition for these parameters will be set to nan. Details: \n",
      "Traceback (most recent call last):\n",
      "  File \"/usr/local/lib/python3.9/dist-packages/sklearn/model_selection/_validation.py\", line 767, in _score\n",
      "    scores = scorer(estimator, X_test, y_test)\n",
      "  File \"/usr/local/lib/python3.9/dist-packages/sklearn/metrics/_scorer.py\", line 234, in __call__\n",
      "    return self._score(\n",
      "  File \"/usr/local/lib/python3.9/dist-packages/sklearn/metrics/_scorer.py\", line 282, in _score\n",
      "    return self._sign * self._score_func(y_true, y_pred, **self._kwargs)\n",
      "  File \"/usr/local/lib/python3.9/dist-packages/sklearn/utils/_param_validation.py\", line 192, in wrapper\n",
      "    return func(*args, **kwargs)\n",
      "  File \"/usr/local/lib/python3.9/dist-packages/sklearn/metrics/_classification.py\", line 221, in accuracy_score\n",
      "    y_type, y_true, y_pred = _check_targets(y_true, y_pred)\n",
      "  File \"/usr/local/lib/python3.9/dist-packages/sklearn/metrics/_classification.py\", line 95, in _check_targets\n",
      "    raise ValueError(\n",
      "ValueError: Classification metrics can't handle a mix of multilabel-indicator and binary targets\n",
      "\n",
      "  warnings.warn(\n"
     ]
    },
    {
     "name": "stdout",
     "output_type": "stream",
     "text": [
      "102/102 [==============================] - 1s 2ms/step - loss: 0.5350 - accuracy: 0.7857\n",
      "51/51 [==============================] - 0s 2ms/step\n"
     ]
    },
    {
     "name": "stderr",
     "output_type": "stream",
     "text": [
      "/usr/local/lib/python3.9/dist-packages/sklearn/model_selection/_validation.py:778: UserWarning: Scoring failed. The score on this train-test partition for these parameters will be set to nan. Details: \n",
      "Traceback (most recent call last):\n",
      "  File \"/usr/local/lib/python3.9/dist-packages/sklearn/model_selection/_validation.py\", line 767, in _score\n",
      "    scores = scorer(estimator, X_test, y_test)\n",
      "  File \"/usr/local/lib/python3.9/dist-packages/sklearn/metrics/_scorer.py\", line 234, in __call__\n",
      "    return self._score(\n",
      "  File \"/usr/local/lib/python3.9/dist-packages/sklearn/metrics/_scorer.py\", line 282, in _score\n",
      "    return self._sign * self._score_func(y_true, y_pred, **self._kwargs)\n",
      "  File \"/usr/local/lib/python3.9/dist-packages/sklearn/utils/_param_validation.py\", line 192, in wrapper\n",
      "    return func(*args, **kwargs)\n",
      "  File \"/usr/local/lib/python3.9/dist-packages/sklearn/metrics/_classification.py\", line 221, in accuracy_score\n",
      "    y_type, y_true, y_pred = _check_targets(y_true, y_pred)\n",
      "  File \"/usr/local/lib/python3.9/dist-packages/sklearn/metrics/_classification.py\", line 95, in _check_targets\n",
      "    raise ValueError(\n",
      "ValueError: Classification metrics can't handle a mix of multilabel-indicator and binary targets\n",
      "\n",
      "  warnings.warn(\n"
     ]
    },
    {
     "name": "stdout",
     "output_type": "stream",
     "text": [
      "102/102 [==============================] - 1s 2ms/step - loss: 0.5470 - accuracy: 0.7891\n",
      "51/51 [==============================] - 0s 1ms/step\n"
     ]
    },
    {
     "name": "stderr",
     "output_type": "stream",
     "text": [
      "/usr/local/lib/python3.9/dist-packages/sklearn/model_selection/_validation.py:778: UserWarning: Scoring failed. The score on this train-test partition for these parameters will be set to nan. Details: \n",
      "Traceback (most recent call last):\n",
      "  File \"/usr/local/lib/python3.9/dist-packages/sklearn/model_selection/_validation.py\", line 767, in _score\n",
      "    scores = scorer(estimator, X_test, y_test)\n",
      "  File \"/usr/local/lib/python3.9/dist-packages/sklearn/metrics/_scorer.py\", line 234, in __call__\n",
      "    return self._score(\n",
      "  File \"/usr/local/lib/python3.9/dist-packages/sklearn/metrics/_scorer.py\", line 282, in _score\n",
      "    return self._sign * self._score_func(y_true, y_pred, **self._kwargs)\n",
      "  File \"/usr/local/lib/python3.9/dist-packages/sklearn/utils/_param_validation.py\", line 192, in wrapper\n",
      "    return func(*args, **kwargs)\n",
      "  File \"/usr/local/lib/python3.9/dist-packages/sklearn/metrics/_classification.py\", line 221, in accuracy_score\n",
      "    y_type, y_true, y_pred = _check_targets(y_true, y_pred)\n",
      "  File \"/usr/local/lib/python3.9/dist-packages/sklearn/metrics/_classification.py\", line 95, in _check_targets\n",
      "    raise ValueError(\n",
      "ValueError: Classification metrics can't handle a mix of multilabel-indicator and binary targets\n",
      "\n",
      "  warnings.warn(\n"
     ]
    },
    {
     "name": "stdout",
     "output_type": "stream",
     "text": [
      "102/102 [==============================] - 1s 3ms/step - loss: 0.5236 - accuracy: 0.7882\n",
      "51/51 [==============================] - 0s 2ms/step\n"
     ]
    },
    {
     "name": "stderr",
     "output_type": "stream",
     "text": [
      "/usr/local/lib/python3.9/dist-packages/sklearn/model_selection/_validation.py:778: UserWarning: Scoring failed. The score on this train-test partition for these parameters will be set to nan. Details: \n",
      "Traceback (most recent call last):\n",
      "  File \"/usr/local/lib/python3.9/dist-packages/sklearn/model_selection/_validation.py\", line 767, in _score\n",
      "    scores = scorer(estimator, X_test, y_test)\n",
      "  File \"/usr/local/lib/python3.9/dist-packages/sklearn/metrics/_scorer.py\", line 234, in __call__\n",
      "    return self._score(\n",
      "  File \"/usr/local/lib/python3.9/dist-packages/sklearn/metrics/_scorer.py\", line 282, in _score\n",
      "    return self._sign * self._score_func(y_true, y_pred, **self._kwargs)\n",
      "  File \"/usr/local/lib/python3.9/dist-packages/sklearn/utils/_param_validation.py\", line 192, in wrapper\n",
      "    return func(*args, **kwargs)\n",
      "  File \"/usr/local/lib/python3.9/dist-packages/sklearn/metrics/_classification.py\", line 221, in accuracy_score\n",
      "    y_type, y_true, y_pred = _check_targets(y_true, y_pred)\n",
      "  File \"/usr/local/lib/python3.9/dist-packages/sklearn/metrics/_classification.py\", line 95, in _check_targets\n",
      "    raise ValueError(\n",
      "ValueError: Classification metrics can't handle a mix of multilabel-indicator and binary targets\n",
      "\n",
      "  warnings.warn(\n"
     ]
    },
    {
     "name": "stdout",
     "output_type": "stream",
     "text": [
      "102/102 [==============================] - 1s 3ms/step - loss: 0.5632 - accuracy: 0.7925\n",
      "51/51 [==============================] - 0s 2ms/step\n"
     ]
    },
    {
     "name": "stderr",
     "output_type": "stream",
     "text": [
      "/usr/local/lib/python3.9/dist-packages/sklearn/model_selection/_validation.py:778: UserWarning: Scoring failed. The score on this train-test partition for these parameters will be set to nan. Details: \n",
      "Traceback (most recent call last):\n",
      "  File \"/usr/local/lib/python3.9/dist-packages/sklearn/model_selection/_validation.py\", line 767, in _score\n",
      "    scores = scorer(estimator, X_test, y_test)\n",
      "  File \"/usr/local/lib/python3.9/dist-packages/sklearn/metrics/_scorer.py\", line 234, in __call__\n",
      "    return self._score(\n",
      "  File \"/usr/local/lib/python3.9/dist-packages/sklearn/metrics/_scorer.py\", line 282, in _score\n",
      "    return self._sign * self._score_func(y_true, y_pred, **self._kwargs)\n",
      "  File \"/usr/local/lib/python3.9/dist-packages/sklearn/utils/_param_validation.py\", line 192, in wrapper\n",
      "    return func(*args, **kwargs)\n",
      "  File \"/usr/local/lib/python3.9/dist-packages/sklearn/metrics/_classification.py\", line 221, in accuracy_score\n",
      "    y_type, y_true, y_pred = _check_targets(y_true, y_pred)\n",
      "  File \"/usr/local/lib/python3.9/dist-packages/sklearn/metrics/_classification.py\", line 95, in _check_targets\n",
      "    raise ValueError(\n",
      "ValueError: Classification metrics can't handle a mix of multilabel-indicator and binary targets\n",
      "\n",
      "  warnings.warn(\n"
     ]
    },
    {
     "name": "stdout",
     "output_type": "stream",
     "text": [
      "102/102 [==============================] - 1s 2ms/step - loss: 0.5977 - accuracy: 0.7842\n",
      "51/51 [==============================] - 0s 2ms/step\n"
     ]
    },
    {
     "name": "stderr",
     "output_type": "stream",
     "text": [
      "/usr/local/lib/python3.9/dist-packages/sklearn/model_selection/_validation.py:778: UserWarning: Scoring failed. The score on this train-test partition for these parameters will be set to nan. Details: \n",
      "Traceback (most recent call last):\n",
      "  File \"/usr/local/lib/python3.9/dist-packages/sklearn/model_selection/_validation.py\", line 767, in _score\n",
      "    scores = scorer(estimator, X_test, y_test)\n",
      "  File \"/usr/local/lib/python3.9/dist-packages/sklearn/metrics/_scorer.py\", line 234, in __call__\n",
      "    return self._score(\n",
      "  File \"/usr/local/lib/python3.9/dist-packages/sklearn/metrics/_scorer.py\", line 282, in _score\n",
      "    return self._sign * self._score_func(y_true, y_pred, **self._kwargs)\n",
      "  File \"/usr/local/lib/python3.9/dist-packages/sklearn/utils/_param_validation.py\", line 192, in wrapper\n",
      "    return func(*args, **kwargs)\n",
      "  File \"/usr/local/lib/python3.9/dist-packages/sklearn/metrics/_classification.py\", line 221, in accuracy_score\n",
      "    y_type, y_true, y_pred = _check_targets(y_true, y_pred)\n",
      "  File \"/usr/local/lib/python3.9/dist-packages/sklearn/metrics/_classification.py\", line 95, in _check_targets\n",
      "    raise ValueError(\n",
      "ValueError: Classification metrics can't handle a mix of multilabel-indicator and binary targets\n",
      "\n",
      "  warnings.warn(\n"
     ]
    },
    {
     "name": "stdout",
     "output_type": "stream",
     "text": [
      "102/102 [==============================] - 1s 2ms/step - loss: 0.5905 - accuracy: 0.7864\n",
      "51/51 [==============================] - 0s 1ms/step\n"
     ]
    },
    {
     "name": "stderr",
     "output_type": "stream",
     "text": [
      "/usr/local/lib/python3.9/dist-packages/sklearn/model_selection/_validation.py:778: UserWarning: Scoring failed. The score on this train-test partition for these parameters will be set to nan. Details: \n",
      "Traceback (most recent call last):\n",
      "  File \"/usr/local/lib/python3.9/dist-packages/sklearn/model_selection/_validation.py\", line 767, in _score\n",
      "    scores = scorer(estimator, X_test, y_test)\n",
      "  File \"/usr/local/lib/python3.9/dist-packages/sklearn/metrics/_scorer.py\", line 234, in __call__\n",
      "    return self._score(\n",
      "  File \"/usr/local/lib/python3.9/dist-packages/sklearn/metrics/_scorer.py\", line 282, in _score\n",
      "    return self._sign * self._score_func(y_true, y_pred, **self._kwargs)\n",
      "  File \"/usr/local/lib/python3.9/dist-packages/sklearn/utils/_param_validation.py\", line 192, in wrapper\n",
      "    return func(*args, **kwargs)\n",
      "  File \"/usr/local/lib/python3.9/dist-packages/sklearn/metrics/_classification.py\", line 221, in accuracy_score\n",
      "    y_type, y_true, y_pred = _check_targets(y_true, y_pred)\n",
      "  File \"/usr/local/lib/python3.9/dist-packages/sklearn/metrics/_classification.py\", line 95, in _check_targets\n",
      "    raise ValueError(\n",
      "ValueError: Classification metrics can't handle a mix of multilabel-indicator and binary targets\n",
      "\n",
      "  warnings.warn(\n"
     ]
    },
    {
     "name": "stdout",
     "output_type": "stream",
     "text": [
      "102/102 [==============================] - 1s 2ms/step - loss: 0.5782 - accuracy: 0.7869\n",
      "51/51 [==============================] - 0s 2ms/step\n"
     ]
    },
    {
     "name": "stderr",
     "output_type": "stream",
     "text": [
      "/usr/local/lib/python3.9/dist-packages/sklearn/model_selection/_validation.py:778: UserWarning: Scoring failed. The score on this train-test partition for these parameters will be set to nan. Details: \n",
      "Traceback (most recent call last):\n",
      "  File \"/usr/local/lib/python3.9/dist-packages/sklearn/model_selection/_validation.py\", line 767, in _score\n",
      "    scores = scorer(estimator, X_test, y_test)\n",
      "  File \"/usr/local/lib/python3.9/dist-packages/sklearn/metrics/_scorer.py\", line 234, in __call__\n",
      "    return self._score(\n",
      "  File \"/usr/local/lib/python3.9/dist-packages/sklearn/metrics/_scorer.py\", line 282, in _score\n",
      "    return self._sign * self._score_func(y_true, y_pred, **self._kwargs)\n",
      "  File \"/usr/local/lib/python3.9/dist-packages/sklearn/utils/_param_validation.py\", line 192, in wrapper\n",
      "    return func(*args, **kwargs)\n",
      "  File \"/usr/local/lib/python3.9/dist-packages/sklearn/metrics/_classification.py\", line 221, in accuracy_score\n",
      "    y_type, y_true, y_pred = _check_targets(y_true, y_pred)\n",
      "  File \"/usr/local/lib/python3.9/dist-packages/sklearn/metrics/_classification.py\", line 95, in _check_targets\n",
      "    raise ValueError(\n",
      "ValueError: Classification metrics can't handle a mix of multilabel-indicator and binary targets\n",
      "\n",
      "  warnings.warn(\n"
     ]
    },
    {
     "name": "stdout",
     "output_type": "stream",
     "text": [
      "102/102 [==============================] - 2s 3ms/step - loss: 0.5732 - accuracy: 0.7789\n",
      "51/51 [==============================] - 0s 2ms/step\n"
     ]
    },
    {
     "name": "stderr",
     "output_type": "stream",
     "text": [
      "/usr/local/lib/python3.9/dist-packages/sklearn/model_selection/_validation.py:778: UserWarning: Scoring failed. The score on this train-test partition for these parameters will be set to nan. Details: \n",
      "Traceback (most recent call last):\n",
      "  File \"/usr/local/lib/python3.9/dist-packages/sklearn/model_selection/_validation.py\", line 767, in _score\n",
      "    scores = scorer(estimator, X_test, y_test)\n",
      "  File \"/usr/local/lib/python3.9/dist-packages/sklearn/metrics/_scorer.py\", line 234, in __call__\n",
      "    return self._score(\n",
      "  File \"/usr/local/lib/python3.9/dist-packages/sklearn/metrics/_scorer.py\", line 282, in _score\n",
      "    return self._sign * self._score_func(y_true, y_pred, **self._kwargs)\n",
      "  File \"/usr/local/lib/python3.9/dist-packages/sklearn/utils/_param_validation.py\", line 192, in wrapper\n",
      "    return func(*args, **kwargs)\n",
      "  File \"/usr/local/lib/python3.9/dist-packages/sklearn/metrics/_classification.py\", line 221, in accuracy_score\n",
      "    y_type, y_true, y_pred = _check_targets(y_true, y_pred)\n",
      "  File \"/usr/local/lib/python3.9/dist-packages/sklearn/metrics/_classification.py\", line 95, in _check_targets\n",
      "    raise ValueError(\n",
      "ValueError: Classification metrics can't handle a mix of multilabel-indicator and binary targets\n",
      "\n",
      "  warnings.warn(\n"
     ]
    },
    {
     "name": "stdout",
     "output_type": "stream",
     "text": [
      "102/102 [==============================] - 1s 2ms/step - loss: 0.5855 - accuracy: 0.7787\n",
      "51/51 [==============================] - 0s 1ms/step\n"
     ]
    },
    {
     "name": "stderr",
     "output_type": "stream",
     "text": [
      "/usr/local/lib/python3.9/dist-packages/sklearn/model_selection/_validation.py:778: UserWarning: Scoring failed. The score on this train-test partition for these parameters will be set to nan. Details: \n",
      "Traceback (most recent call last):\n",
      "  File \"/usr/local/lib/python3.9/dist-packages/sklearn/model_selection/_validation.py\", line 767, in _score\n",
      "    scores = scorer(estimator, X_test, y_test)\n",
      "  File \"/usr/local/lib/python3.9/dist-packages/sklearn/metrics/_scorer.py\", line 234, in __call__\n",
      "    return self._score(\n",
      "  File \"/usr/local/lib/python3.9/dist-packages/sklearn/metrics/_scorer.py\", line 282, in _score\n",
      "    return self._sign * self._score_func(y_true, y_pred, **self._kwargs)\n",
      "  File \"/usr/local/lib/python3.9/dist-packages/sklearn/utils/_param_validation.py\", line 192, in wrapper\n",
      "    return func(*args, **kwargs)\n",
      "  File \"/usr/local/lib/python3.9/dist-packages/sklearn/metrics/_classification.py\", line 221, in accuracy_score\n",
      "    y_type, y_true, y_pred = _check_targets(y_true, y_pred)\n",
      "  File \"/usr/local/lib/python3.9/dist-packages/sklearn/metrics/_classification.py\", line 95, in _check_targets\n",
      "    raise ValueError(\n",
      "ValueError: Classification metrics can't handle a mix of multilabel-indicator and binary targets\n",
      "\n",
      "  warnings.warn(\n"
     ]
    },
    {
     "name": "stdout",
     "output_type": "stream",
     "text": [
      "102/102 [==============================] - 1s 2ms/step - loss: 0.6005 - accuracy: 0.7912\n",
      "51/51 [==============================] - 0s 1ms/step\n"
     ]
    },
    {
     "name": "stderr",
     "output_type": "stream",
     "text": [
      "/usr/local/lib/python3.9/dist-packages/sklearn/model_selection/_validation.py:778: UserWarning: Scoring failed. The score on this train-test partition for these parameters will be set to nan. Details: \n",
      "Traceback (most recent call last):\n",
      "  File \"/usr/local/lib/python3.9/dist-packages/sklearn/model_selection/_validation.py\", line 767, in _score\n",
      "    scores = scorer(estimator, X_test, y_test)\n",
      "  File \"/usr/local/lib/python3.9/dist-packages/sklearn/metrics/_scorer.py\", line 234, in __call__\n",
      "    return self._score(\n",
      "  File \"/usr/local/lib/python3.9/dist-packages/sklearn/metrics/_scorer.py\", line 282, in _score\n",
      "    return self._sign * self._score_func(y_true, y_pred, **self._kwargs)\n",
      "  File \"/usr/local/lib/python3.9/dist-packages/sklearn/utils/_param_validation.py\", line 192, in wrapper\n",
      "    return func(*args, **kwargs)\n",
      "  File \"/usr/local/lib/python3.9/dist-packages/sklearn/metrics/_classification.py\", line 221, in accuracy_score\n",
      "    y_type, y_true, y_pred = _check_targets(y_true, y_pred)\n",
      "  File \"/usr/local/lib/python3.9/dist-packages/sklearn/metrics/_classification.py\", line 95, in _check_targets\n",
      "    raise ValueError(\n",
      "ValueError: Classification metrics can't handle a mix of multilabel-indicator and binary targets\n",
      "\n",
      "  warnings.warn(\n"
     ]
    },
    {
     "name": "stdout",
     "output_type": "stream",
     "text": [
      "102/102 [==============================] - 2s 3ms/step - loss: 0.5940 - accuracy: 0.7749\n",
      "51/51 [==============================] - 0s 3ms/step\n"
     ]
    },
    {
     "name": "stderr",
     "output_type": "stream",
     "text": [
      "/usr/local/lib/python3.9/dist-packages/sklearn/model_selection/_validation.py:778: UserWarning: Scoring failed. The score on this train-test partition for these parameters will be set to nan. Details: \n",
      "Traceback (most recent call last):\n",
      "  File \"/usr/local/lib/python3.9/dist-packages/sklearn/model_selection/_validation.py\", line 767, in _score\n",
      "    scores = scorer(estimator, X_test, y_test)\n",
      "  File \"/usr/local/lib/python3.9/dist-packages/sklearn/metrics/_scorer.py\", line 234, in __call__\n",
      "    return self._score(\n",
      "  File \"/usr/local/lib/python3.9/dist-packages/sklearn/metrics/_scorer.py\", line 282, in _score\n",
      "    return self._sign * self._score_func(y_true, y_pred, **self._kwargs)\n",
      "  File \"/usr/local/lib/python3.9/dist-packages/sklearn/utils/_param_validation.py\", line 192, in wrapper\n",
      "    return func(*args, **kwargs)\n",
      "  File \"/usr/local/lib/python3.9/dist-packages/sklearn/metrics/_classification.py\", line 221, in accuracy_score\n",
      "    y_type, y_true, y_pred = _check_targets(y_true, y_pred)\n",
      "  File \"/usr/local/lib/python3.9/dist-packages/sklearn/metrics/_classification.py\", line 95, in _check_targets\n",
      "    raise ValueError(\n",
      "ValueError: Classification metrics can't handle a mix of multilabel-indicator and binary targets\n",
      "\n",
      "  warnings.warn(\n"
     ]
    },
    {
     "name": "stdout",
     "output_type": "stream",
     "text": [
      "102/102 [==============================] - 1s 2ms/step - loss: 0.5648 - accuracy: 0.7848\n",
      "51/51 [==============================] - 0s 2ms/step\n"
     ]
    },
    {
     "name": "stderr",
     "output_type": "stream",
     "text": [
      "/usr/local/lib/python3.9/dist-packages/sklearn/model_selection/_validation.py:778: UserWarning: Scoring failed. The score on this train-test partition for these parameters will be set to nan. Details: \n",
      "Traceback (most recent call last):\n",
      "  File \"/usr/local/lib/python3.9/dist-packages/sklearn/model_selection/_validation.py\", line 767, in _score\n",
      "    scores = scorer(estimator, X_test, y_test)\n",
      "  File \"/usr/local/lib/python3.9/dist-packages/sklearn/metrics/_scorer.py\", line 234, in __call__\n",
      "    return self._score(\n",
      "  File \"/usr/local/lib/python3.9/dist-packages/sklearn/metrics/_scorer.py\", line 282, in _score\n",
      "    return self._sign * self._score_func(y_true, y_pred, **self._kwargs)\n",
      "  File \"/usr/local/lib/python3.9/dist-packages/sklearn/utils/_param_validation.py\", line 192, in wrapper\n",
      "    return func(*args, **kwargs)\n",
      "  File \"/usr/local/lib/python3.9/dist-packages/sklearn/metrics/_classification.py\", line 221, in accuracy_score\n",
      "    y_type, y_true, y_pred = _check_targets(y_true, y_pred)\n",
      "  File \"/usr/local/lib/python3.9/dist-packages/sklearn/metrics/_classification.py\", line 95, in _check_targets\n",
      "    raise ValueError(\n",
      "ValueError: Classification metrics can't handle a mix of multilabel-indicator and binary targets\n",
      "\n",
      "  warnings.warn(\n"
     ]
    },
    {
     "name": "stdout",
     "output_type": "stream",
     "text": [
      "102/102 [==============================] - 1s 2ms/step - loss: 0.6373 - accuracy: 0.7786\n",
      "51/51 [==============================] - 0s 1ms/step\n"
     ]
    },
    {
     "name": "stderr",
     "output_type": "stream",
     "text": [
      "/usr/local/lib/python3.9/dist-packages/sklearn/model_selection/_validation.py:778: UserWarning: Scoring failed. The score on this train-test partition for these parameters will be set to nan. Details: \n",
      "Traceback (most recent call last):\n",
      "  File \"/usr/local/lib/python3.9/dist-packages/sklearn/model_selection/_validation.py\", line 767, in _score\n",
      "    scores = scorer(estimator, X_test, y_test)\n",
      "  File \"/usr/local/lib/python3.9/dist-packages/sklearn/metrics/_scorer.py\", line 234, in __call__\n",
      "    return self._score(\n",
      "  File \"/usr/local/lib/python3.9/dist-packages/sklearn/metrics/_scorer.py\", line 282, in _score\n",
      "    return self._sign * self._score_func(y_true, y_pred, **self._kwargs)\n",
      "  File \"/usr/local/lib/python3.9/dist-packages/sklearn/utils/_param_validation.py\", line 192, in wrapper\n",
      "    return func(*args, **kwargs)\n",
      "  File \"/usr/local/lib/python3.9/dist-packages/sklearn/metrics/_classification.py\", line 221, in accuracy_score\n",
      "    y_type, y_true, y_pred = _check_targets(y_true, y_pred)\n",
      "  File \"/usr/local/lib/python3.9/dist-packages/sklearn/metrics/_classification.py\", line 95, in _check_targets\n",
      "    raise ValueError(\n",
      "ValueError: Classification metrics can't handle a mix of multilabel-indicator and binary targets\n",
      "\n",
      "  warnings.warn(\n"
     ]
    },
    {
     "name": "stdout",
     "output_type": "stream",
     "text": [
      "102/102 [==============================] - 1s 2ms/step - loss: 0.6307 - accuracy: 0.7789\n",
      "51/51 [==============================] - 0s 2ms/step\n"
     ]
    },
    {
     "name": "stderr",
     "output_type": "stream",
     "text": [
      "/usr/local/lib/python3.9/dist-packages/sklearn/model_selection/_validation.py:778: UserWarning: Scoring failed. The score on this train-test partition for these parameters will be set to nan. Details: \n",
      "Traceback (most recent call last):\n",
      "  File \"/usr/local/lib/python3.9/dist-packages/sklearn/model_selection/_validation.py\", line 767, in _score\n",
      "    scores = scorer(estimator, X_test, y_test)\n",
      "  File \"/usr/local/lib/python3.9/dist-packages/sklearn/metrics/_scorer.py\", line 234, in __call__\n",
      "    return self._score(\n",
      "  File \"/usr/local/lib/python3.9/dist-packages/sklearn/metrics/_scorer.py\", line 282, in _score\n",
      "    return self._sign * self._score_func(y_true, y_pred, **self._kwargs)\n",
      "  File \"/usr/local/lib/python3.9/dist-packages/sklearn/utils/_param_validation.py\", line 192, in wrapper\n",
      "    return func(*args, **kwargs)\n",
      "  File \"/usr/local/lib/python3.9/dist-packages/sklearn/metrics/_classification.py\", line 221, in accuracy_score\n",
      "    y_type, y_true, y_pred = _check_targets(y_true, y_pred)\n",
      "  File \"/usr/local/lib/python3.9/dist-packages/sklearn/metrics/_classification.py\", line 95, in _check_targets\n",
      "    raise ValueError(\n",
      "ValueError: Classification metrics can't handle a mix of multilabel-indicator and binary targets\n",
      "\n",
      "  warnings.warn(\n"
     ]
    },
    {
     "name": "stdout",
     "output_type": "stream",
     "text": [
      "102/102 [==============================] - 1s 2ms/step - loss: 0.6373 - accuracy: 0.7707\n",
      "51/51 [==============================] - 0s 2ms/step\n"
     ]
    },
    {
     "name": "stderr",
     "output_type": "stream",
     "text": [
      "/usr/local/lib/python3.9/dist-packages/sklearn/model_selection/_validation.py:778: UserWarning: Scoring failed. The score on this train-test partition for these parameters will be set to nan. Details: \n",
      "Traceback (most recent call last):\n",
      "  File \"/usr/local/lib/python3.9/dist-packages/sklearn/model_selection/_validation.py\", line 767, in _score\n",
      "    scores = scorer(estimator, X_test, y_test)\n",
      "  File \"/usr/local/lib/python3.9/dist-packages/sklearn/metrics/_scorer.py\", line 234, in __call__\n",
      "    return self._score(\n",
      "  File \"/usr/local/lib/python3.9/dist-packages/sklearn/metrics/_scorer.py\", line 282, in _score\n",
      "    return self._sign * self._score_func(y_true, y_pred, **self._kwargs)\n",
      "  File \"/usr/local/lib/python3.9/dist-packages/sklearn/utils/_param_validation.py\", line 192, in wrapper\n",
      "    return func(*args, **kwargs)\n",
      "  File \"/usr/local/lib/python3.9/dist-packages/sklearn/metrics/_classification.py\", line 221, in accuracy_score\n",
      "    y_type, y_true, y_pred = _check_targets(y_true, y_pred)\n",
      "  File \"/usr/local/lib/python3.9/dist-packages/sklearn/metrics/_classification.py\", line 95, in _check_targets\n",
      "    raise ValueError(\n",
      "ValueError: Classification metrics can't handle a mix of multilabel-indicator and binary targets\n",
      "\n",
      "  warnings.warn(\n"
     ]
    },
    {
     "name": "stdout",
     "output_type": "stream",
     "text": [
      "102/102 [==============================] - 1s 2ms/step - loss: 1.3573 - accuracy: 0.4542\n",
      "51/51 [==============================] - 0s 2ms/step\n"
     ]
    },
    {
     "name": "stderr",
     "output_type": "stream",
     "text": [
      "/usr/local/lib/python3.9/dist-packages/sklearn/model_selection/_validation.py:778: UserWarning: Scoring failed. The score on this train-test partition for these parameters will be set to nan. Details: \n",
      "Traceback (most recent call last):\n",
      "  File \"/usr/local/lib/python3.9/dist-packages/sklearn/model_selection/_validation.py\", line 767, in _score\n",
      "    scores = scorer(estimator, X_test, y_test)\n",
      "  File \"/usr/local/lib/python3.9/dist-packages/sklearn/metrics/_scorer.py\", line 234, in __call__\n",
      "    return self._score(\n",
      "  File \"/usr/local/lib/python3.9/dist-packages/sklearn/metrics/_scorer.py\", line 282, in _score\n",
      "    return self._sign * self._score_func(y_true, y_pred, **self._kwargs)\n",
      "  File \"/usr/local/lib/python3.9/dist-packages/sklearn/utils/_param_validation.py\", line 192, in wrapper\n",
      "    return func(*args, **kwargs)\n",
      "  File \"/usr/local/lib/python3.9/dist-packages/sklearn/metrics/_classification.py\", line 221, in accuracy_score\n",
      "    y_type, y_true, y_pred = _check_targets(y_true, y_pred)\n",
      "  File \"/usr/local/lib/python3.9/dist-packages/sklearn/metrics/_classification.py\", line 95, in _check_targets\n",
      "    raise ValueError(\n",
      "ValueError: Classification metrics can't handle a mix of multilabel-indicator and multiclass targets\n",
      "\n",
      "  warnings.warn(\n"
     ]
    },
    {
     "name": "stdout",
     "output_type": "stream",
     "text": [
      "102/102 [==============================] - 1s 2ms/step - loss: 1.3367 - accuracy: 0.3056\n",
      "51/51 [==============================] - 0s 2ms/step\n"
     ]
    },
    {
     "name": "stderr",
     "output_type": "stream",
     "text": [
      "/usr/local/lib/python3.9/dist-packages/sklearn/model_selection/_validation.py:778: UserWarning: Scoring failed. The score on this train-test partition for these parameters will be set to nan. Details: \n",
      "Traceback (most recent call last):\n",
      "  File \"/usr/local/lib/python3.9/dist-packages/sklearn/model_selection/_validation.py\", line 767, in _score\n",
      "    scores = scorer(estimator, X_test, y_test)\n",
      "  File \"/usr/local/lib/python3.9/dist-packages/sklearn/metrics/_scorer.py\", line 234, in __call__\n",
      "    return self._score(\n",
      "  File \"/usr/local/lib/python3.9/dist-packages/sklearn/metrics/_scorer.py\", line 282, in _score\n",
      "    return self._sign * self._score_func(y_true, y_pred, **self._kwargs)\n",
      "  File \"/usr/local/lib/python3.9/dist-packages/sklearn/utils/_param_validation.py\", line 192, in wrapper\n",
      "    return func(*args, **kwargs)\n",
      "  File \"/usr/local/lib/python3.9/dist-packages/sklearn/metrics/_classification.py\", line 221, in accuracy_score\n",
      "    y_type, y_true, y_pred = _check_targets(y_true, y_pred)\n",
      "  File \"/usr/local/lib/python3.9/dist-packages/sklearn/metrics/_classification.py\", line 95, in _check_targets\n",
      "    raise ValueError(\n",
      "ValueError: Classification metrics can't handle a mix of multilabel-indicator and multiclass targets\n",
      "\n",
      "  warnings.warn(\n"
     ]
    },
    {
     "name": "stdout",
     "output_type": "stream",
     "text": [
      "102/102 [==============================] - 1s 2ms/step - loss: 1.3432 - accuracy: 0.3980\n",
      "51/51 [==============================] - 0s 1ms/step\n"
     ]
    },
    {
     "name": "stderr",
     "output_type": "stream",
     "text": [
      "/usr/local/lib/python3.9/dist-packages/sklearn/model_selection/_validation.py:778: UserWarning: Scoring failed. The score on this train-test partition for these parameters will be set to nan. Details: \n",
      "Traceback (most recent call last):\n",
      "  File \"/usr/local/lib/python3.9/dist-packages/sklearn/model_selection/_validation.py\", line 767, in _score\n",
      "    scores = scorer(estimator, X_test, y_test)\n",
      "  File \"/usr/local/lib/python3.9/dist-packages/sklearn/metrics/_scorer.py\", line 234, in __call__\n",
      "    return self._score(\n",
      "  File \"/usr/local/lib/python3.9/dist-packages/sklearn/metrics/_scorer.py\", line 282, in _score\n",
      "    return self._sign * self._score_func(y_true, y_pred, **self._kwargs)\n",
      "  File \"/usr/local/lib/python3.9/dist-packages/sklearn/utils/_param_validation.py\", line 192, in wrapper\n",
      "    return func(*args, **kwargs)\n",
      "  File \"/usr/local/lib/python3.9/dist-packages/sklearn/metrics/_classification.py\", line 221, in accuracy_score\n",
      "    y_type, y_true, y_pred = _check_targets(y_true, y_pred)\n",
      "  File \"/usr/local/lib/python3.9/dist-packages/sklearn/metrics/_classification.py\", line 95, in _check_targets\n",
      "    raise ValueError(\n",
      "ValueError: Classification metrics can't handle a mix of multilabel-indicator and multiclass targets\n",
      "\n",
      "  warnings.warn(\n"
     ]
    },
    {
     "name": "stdout",
     "output_type": "stream",
     "text": [
      "102/102 [==============================] - 1s 3ms/step - loss: 1.2530 - accuracy: 0.4706\n",
      "51/51 [==============================] - 0s 2ms/step\n"
     ]
    },
    {
     "name": "stderr",
     "output_type": "stream",
     "text": [
      "/usr/local/lib/python3.9/dist-packages/sklearn/model_selection/_validation.py:778: UserWarning: Scoring failed. The score on this train-test partition for these parameters will be set to nan. Details: \n",
      "Traceback (most recent call last):\n",
      "  File \"/usr/local/lib/python3.9/dist-packages/sklearn/model_selection/_validation.py\", line 767, in _score\n",
      "    scores = scorer(estimator, X_test, y_test)\n",
      "  File \"/usr/local/lib/python3.9/dist-packages/sklearn/metrics/_scorer.py\", line 234, in __call__\n",
      "    return self._score(\n",
      "  File \"/usr/local/lib/python3.9/dist-packages/sklearn/metrics/_scorer.py\", line 282, in _score\n",
      "    return self._sign * self._score_func(y_true, y_pred, **self._kwargs)\n",
      "  File \"/usr/local/lib/python3.9/dist-packages/sklearn/utils/_param_validation.py\", line 192, in wrapper\n",
      "    return func(*args, **kwargs)\n",
      "  File \"/usr/local/lib/python3.9/dist-packages/sklearn/metrics/_classification.py\", line 221, in accuracy_score\n",
      "    y_type, y_true, y_pred = _check_targets(y_true, y_pred)\n",
      "  File \"/usr/local/lib/python3.9/dist-packages/sklearn/metrics/_classification.py\", line 95, in _check_targets\n",
      "    raise ValueError(\n",
      "ValueError: Classification metrics can't handle a mix of multilabel-indicator and multiclass targets\n",
      "\n",
      "  warnings.warn(\n"
     ]
    },
    {
     "name": "stdout",
     "output_type": "stream",
     "text": [
      "102/102 [==============================] - 1s 3ms/step - loss: 1.3006 - accuracy: 0.3602\n",
      "51/51 [==============================] - 0s 1ms/step\n"
     ]
    },
    {
     "name": "stderr",
     "output_type": "stream",
     "text": [
      "/usr/local/lib/python3.9/dist-packages/sklearn/model_selection/_validation.py:778: UserWarning: Scoring failed. The score on this train-test partition for these parameters will be set to nan. Details: \n",
      "Traceback (most recent call last):\n",
      "  File \"/usr/local/lib/python3.9/dist-packages/sklearn/model_selection/_validation.py\", line 767, in _score\n",
      "    scores = scorer(estimator, X_test, y_test)\n",
      "  File \"/usr/local/lib/python3.9/dist-packages/sklearn/metrics/_scorer.py\", line 234, in __call__\n",
      "    return self._score(\n",
      "  File \"/usr/local/lib/python3.9/dist-packages/sklearn/metrics/_scorer.py\", line 282, in _score\n",
      "    return self._sign * self._score_func(y_true, y_pred, **self._kwargs)\n",
      "  File \"/usr/local/lib/python3.9/dist-packages/sklearn/utils/_param_validation.py\", line 192, in wrapper\n",
      "    return func(*args, **kwargs)\n",
      "  File \"/usr/local/lib/python3.9/dist-packages/sklearn/metrics/_classification.py\", line 221, in accuracy_score\n",
      "    y_type, y_true, y_pred = _check_targets(y_true, y_pred)\n",
      "  File \"/usr/local/lib/python3.9/dist-packages/sklearn/metrics/_classification.py\", line 95, in _check_targets\n",
      "    raise ValueError(\n",
      "ValueError: Classification metrics can't handle a mix of multilabel-indicator and multiclass targets\n",
      "\n",
      "  warnings.warn(\n"
     ]
    },
    {
     "name": "stdout",
     "output_type": "stream",
     "text": [
      "102/102 [==============================] - 1s 2ms/step - loss: 1.3185 - accuracy: 0.3388\n",
      "51/51 [==============================] - 0s 2ms/step\n"
     ]
    },
    {
     "name": "stderr",
     "output_type": "stream",
     "text": [
      "/usr/local/lib/python3.9/dist-packages/sklearn/model_selection/_validation.py:778: UserWarning: Scoring failed. The score on this train-test partition for these parameters will be set to nan. Details: \n",
      "Traceback (most recent call last):\n",
      "  File \"/usr/local/lib/python3.9/dist-packages/sklearn/model_selection/_validation.py\", line 767, in _score\n",
      "    scores = scorer(estimator, X_test, y_test)\n",
      "  File \"/usr/local/lib/python3.9/dist-packages/sklearn/metrics/_scorer.py\", line 234, in __call__\n",
      "    return self._score(\n",
      "  File \"/usr/local/lib/python3.9/dist-packages/sklearn/metrics/_scorer.py\", line 282, in _score\n",
      "    return self._sign * self._score_func(y_true, y_pred, **self._kwargs)\n",
      "  File \"/usr/local/lib/python3.9/dist-packages/sklearn/utils/_param_validation.py\", line 192, in wrapper\n",
      "    return func(*args, **kwargs)\n",
      "  File \"/usr/local/lib/python3.9/dist-packages/sklearn/metrics/_classification.py\", line 221, in accuracy_score\n",
      "    y_type, y_true, y_pred = _check_targets(y_true, y_pred)\n",
      "  File \"/usr/local/lib/python3.9/dist-packages/sklearn/metrics/_classification.py\", line 95, in _check_targets\n",
      "    raise ValueError(\n",
      "ValueError: Classification metrics can't handle a mix of multilabel-indicator and multiclass targets\n",
      "\n",
      "  warnings.warn(\n"
     ]
    },
    {
     "name": "stdout",
     "output_type": "stream",
     "text": [
      "102/102 [==============================] - 2s 2ms/step - loss: 1.0970 - accuracy: 0.6038\n",
      "51/51 [==============================] - 0s 1ms/step\n"
     ]
    },
    {
     "name": "stderr",
     "output_type": "stream",
     "text": [
      "/usr/local/lib/python3.9/dist-packages/sklearn/model_selection/_validation.py:778: UserWarning: Scoring failed. The score on this train-test partition for these parameters will be set to nan. Details: \n",
      "Traceback (most recent call last):\n",
      "  File \"/usr/local/lib/python3.9/dist-packages/sklearn/model_selection/_validation.py\", line 767, in _score\n",
      "    scores = scorer(estimator, X_test, y_test)\n",
      "  File \"/usr/local/lib/python3.9/dist-packages/sklearn/metrics/_scorer.py\", line 234, in __call__\n",
      "    return self._score(\n",
      "  File \"/usr/local/lib/python3.9/dist-packages/sklearn/metrics/_scorer.py\", line 282, in _score\n",
      "    return self._sign * self._score_func(y_true, y_pred, **self._kwargs)\n",
      "  File \"/usr/local/lib/python3.9/dist-packages/sklearn/utils/_param_validation.py\", line 192, in wrapper\n",
      "    return func(*args, **kwargs)\n",
      "  File \"/usr/local/lib/python3.9/dist-packages/sklearn/metrics/_classification.py\", line 221, in accuracy_score\n",
      "    y_type, y_true, y_pred = _check_targets(y_true, y_pred)\n",
      "  File \"/usr/local/lib/python3.9/dist-packages/sklearn/metrics/_classification.py\", line 95, in _check_targets\n",
      "    raise ValueError(\n",
      "ValueError: Classification metrics can't handle a mix of multilabel-indicator and multiclass targets\n",
      "\n",
      "  warnings.warn(\n"
     ]
    },
    {
     "name": "stdout",
     "output_type": "stream",
     "text": [
      "102/102 [==============================] - 1s 2ms/step - loss: 1.1340 - accuracy: 0.5828\n",
      "51/51 [==============================] - 0s 2ms/step\n"
     ]
    },
    {
     "name": "stderr",
     "output_type": "stream",
     "text": [
      "/usr/local/lib/python3.9/dist-packages/sklearn/model_selection/_validation.py:778: UserWarning: Scoring failed. The score on this train-test partition for these parameters will be set to nan. Details: \n",
      "Traceback (most recent call last):\n",
      "  File \"/usr/local/lib/python3.9/dist-packages/sklearn/model_selection/_validation.py\", line 767, in _score\n",
      "    scores = scorer(estimator, X_test, y_test)\n",
      "  File \"/usr/local/lib/python3.9/dist-packages/sklearn/metrics/_scorer.py\", line 234, in __call__\n",
      "    return self._score(\n",
      "  File \"/usr/local/lib/python3.9/dist-packages/sklearn/metrics/_scorer.py\", line 282, in _score\n",
      "    return self._sign * self._score_func(y_true, y_pred, **self._kwargs)\n",
      "  File \"/usr/local/lib/python3.9/dist-packages/sklearn/utils/_param_validation.py\", line 192, in wrapper\n",
      "    return func(*args, **kwargs)\n",
      "  File \"/usr/local/lib/python3.9/dist-packages/sklearn/metrics/_classification.py\", line 221, in accuracy_score\n",
      "    y_type, y_true, y_pred = _check_targets(y_true, y_pred)\n",
      "  File \"/usr/local/lib/python3.9/dist-packages/sklearn/metrics/_classification.py\", line 95, in _check_targets\n",
      "    raise ValueError(\n",
      "ValueError: Classification metrics can't handle a mix of multilabel-indicator and multiclass targets\n",
      "\n",
      "  warnings.warn(\n"
     ]
    },
    {
     "name": "stdout",
     "output_type": "stream",
     "text": [
      "102/102 [==============================] - 1s 2ms/step - loss: 1.1905 - accuracy: 0.5200\n",
      "51/51 [==============================] - 0s 2ms/step\n"
     ]
    },
    {
     "name": "stderr",
     "output_type": "stream",
     "text": [
      "/usr/local/lib/python3.9/dist-packages/sklearn/model_selection/_validation.py:778: UserWarning: Scoring failed. The score on this train-test partition for these parameters will be set to nan. Details: \n",
      "Traceback (most recent call last):\n",
      "  File \"/usr/local/lib/python3.9/dist-packages/sklearn/model_selection/_validation.py\", line 767, in _score\n",
      "    scores = scorer(estimator, X_test, y_test)\n",
      "  File \"/usr/local/lib/python3.9/dist-packages/sklearn/metrics/_scorer.py\", line 234, in __call__\n",
      "    return self._score(\n",
      "  File \"/usr/local/lib/python3.9/dist-packages/sklearn/metrics/_scorer.py\", line 282, in _score\n",
      "    return self._sign * self._score_func(y_true, y_pred, **self._kwargs)\n",
      "  File \"/usr/local/lib/python3.9/dist-packages/sklearn/utils/_param_validation.py\", line 192, in wrapper\n",
      "    return func(*args, **kwargs)\n",
      "  File \"/usr/local/lib/python3.9/dist-packages/sklearn/metrics/_classification.py\", line 221, in accuracy_score\n",
      "    y_type, y_true, y_pred = _check_targets(y_true, y_pred)\n",
      "  File \"/usr/local/lib/python3.9/dist-packages/sklearn/metrics/_classification.py\", line 95, in _check_targets\n",
      "    raise ValueError(\n",
      "ValueError: Classification metrics can't handle a mix of multilabel-indicator and multiclass targets\n",
      "\n",
      "  warnings.warn(\n"
     ]
    },
    {
     "name": "stdout",
     "output_type": "stream",
     "text": [
      "102/102 [==============================] - 1s 2ms/step - loss: 1.0092 - accuracy: 0.6457\n",
      "51/51 [==============================] - 0s 2ms/step\n"
     ]
    },
    {
     "name": "stderr",
     "output_type": "stream",
     "text": [
      "/usr/local/lib/python3.9/dist-packages/sklearn/model_selection/_validation.py:778: UserWarning: Scoring failed. The score on this train-test partition for these parameters will be set to nan. Details: \n",
      "Traceback (most recent call last):\n",
      "  File \"/usr/local/lib/python3.9/dist-packages/sklearn/model_selection/_validation.py\", line 767, in _score\n",
      "    scores = scorer(estimator, X_test, y_test)\n",
      "  File \"/usr/local/lib/python3.9/dist-packages/sklearn/metrics/_scorer.py\", line 234, in __call__\n",
      "    return self._score(\n",
      "  File \"/usr/local/lib/python3.9/dist-packages/sklearn/metrics/_scorer.py\", line 282, in _score\n",
      "    return self._sign * self._score_func(y_true, y_pred, **self._kwargs)\n",
      "  File \"/usr/local/lib/python3.9/dist-packages/sklearn/utils/_param_validation.py\", line 192, in wrapper\n",
      "    return func(*args, **kwargs)\n",
      "  File \"/usr/local/lib/python3.9/dist-packages/sklearn/metrics/_classification.py\", line 221, in accuracy_score\n",
      "    y_type, y_true, y_pred = _check_targets(y_true, y_pred)\n",
      "  File \"/usr/local/lib/python3.9/dist-packages/sklearn/metrics/_classification.py\", line 95, in _check_targets\n",
      "    raise ValueError(\n",
      "ValueError: Classification metrics can't handle a mix of multilabel-indicator and multiclass targets\n",
      "\n",
      "  warnings.warn(\n"
     ]
    },
    {
     "name": "stdout",
     "output_type": "stream",
     "text": [
      "102/102 [==============================] - 1s 2ms/step - loss: 1.0462 - accuracy: 0.6142\n",
      "51/51 [==============================] - 0s 2ms/step\n"
     ]
    },
    {
     "name": "stderr",
     "output_type": "stream",
     "text": [
      "/usr/local/lib/python3.9/dist-packages/sklearn/model_selection/_validation.py:778: UserWarning: Scoring failed. The score on this train-test partition for these parameters will be set to nan. Details: \n",
      "Traceback (most recent call last):\n",
      "  File \"/usr/local/lib/python3.9/dist-packages/sklearn/model_selection/_validation.py\", line 767, in _score\n",
      "    scores = scorer(estimator, X_test, y_test)\n",
      "  File \"/usr/local/lib/python3.9/dist-packages/sklearn/metrics/_scorer.py\", line 234, in __call__\n",
      "    return self._score(\n",
      "  File \"/usr/local/lib/python3.9/dist-packages/sklearn/metrics/_scorer.py\", line 282, in _score\n",
      "    return self._sign * self._score_func(y_true, y_pred, **self._kwargs)\n",
      "  File \"/usr/local/lib/python3.9/dist-packages/sklearn/utils/_param_validation.py\", line 192, in wrapper\n",
      "    return func(*args, **kwargs)\n",
      "  File \"/usr/local/lib/python3.9/dist-packages/sklearn/metrics/_classification.py\", line 221, in accuracy_score\n",
      "    y_type, y_true, y_pred = _check_targets(y_true, y_pred)\n",
      "  File \"/usr/local/lib/python3.9/dist-packages/sklearn/metrics/_classification.py\", line 95, in _check_targets\n",
      "    raise ValueError(\n",
      "ValueError: Classification metrics can't handle a mix of multilabel-indicator and multiclass targets\n",
      "\n",
      "  warnings.warn(\n"
     ]
    },
    {
     "name": "stdout",
     "output_type": "stream",
     "text": [
      "102/102 [==============================] - 1s 4ms/step - loss: 1.0006 - accuracy: 0.6609\n",
      "51/51 [==============================] - 0s 2ms/step\n"
     ]
    },
    {
     "name": "stderr",
     "output_type": "stream",
     "text": [
      "/usr/local/lib/python3.9/dist-packages/sklearn/model_selection/_validation.py:778: UserWarning: Scoring failed. The score on this train-test partition for these parameters will be set to nan. Details: \n",
      "Traceback (most recent call last):\n",
      "  File \"/usr/local/lib/python3.9/dist-packages/sklearn/model_selection/_validation.py\", line 767, in _score\n",
      "    scores = scorer(estimator, X_test, y_test)\n",
      "  File \"/usr/local/lib/python3.9/dist-packages/sklearn/metrics/_scorer.py\", line 234, in __call__\n",
      "    return self._score(\n",
      "  File \"/usr/local/lib/python3.9/dist-packages/sklearn/metrics/_scorer.py\", line 282, in _score\n",
      "    return self._sign * self._score_func(y_true, y_pred, **self._kwargs)\n",
      "  File \"/usr/local/lib/python3.9/dist-packages/sklearn/utils/_param_validation.py\", line 192, in wrapper\n",
      "    return func(*args, **kwargs)\n",
      "  File \"/usr/local/lib/python3.9/dist-packages/sklearn/metrics/_classification.py\", line 221, in accuracy_score\n",
      "    y_type, y_true, y_pred = _check_targets(y_true, y_pred)\n",
      "  File \"/usr/local/lib/python3.9/dist-packages/sklearn/metrics/_classification.py\", line 95, in _check_targets\n",
      "    raise ValueError(\n",
      "ValueError: Classification metrics can't handle a mix of multilabel-indicator and binary targets\n",
      "\n",
      "  warnings.warn(\n"
     ]
    },
    {
     "name": "stdout",
     "output_type": "stream",
     "text": [
      "102/102 [==============================] - 1s 2ms/step - loss: 0.7073 - accuracy: 0.7508\n",
      "51/51 [==============================] - 0s 2ms/step\n"
     ]
    },
    {
     "name": "stderr",
     "output_type": "stream",
     "text": [
      "/usr/local/lib/python3.9/dist-packages/sklearn/model_selection/_validation.py:778: UserWarning: Scoring failed. The score on this train-test partition for these parameters will be set to nan. Details: \n",
      "Traceback (most recent call last):\n",
      "  File \"/usr/local/lib/python3.9/dist-packages/sklearn/model_selection/_validation.py\", line 767, in _score\n",
      "    scores = scorer(estimator, X_test, y_test)\n",
      "  File \"/usr/local/lib/python3.9/dist-packages/sklearn/metrics/_scorer.py\", line 234, in __call__\n",
      "    return self._score(\n",
      "  File \"/usr/local/lib/python3.9/dist-packages/sklearn/metrics/_scorer.py\", line 282, in _score\n",
      "    return self._sign * self._score_func(y_true, y_pred, **self._kwargs)\n",
      "  File \"/usr/local/lib/python3.9/dist-packages/sklearn/utils/_param_validation.py\", line 192, in wrapper\n",
      "    return func(*args, **kwargs)\n",
      "  File \"/usr/local/lib/python3.9/dist-packages/sklearn/metrics/_classification.py\", line 221, in accuracy_score\n",
      "    y_type, y_true, y_pred = _check_targets(y_true, y_pred)\n",
      "  File \"/usr/local/lib/python3.9/dist-packages/sklearn/metrics/_classification.py\", line 95, in _check_targets\n",
      "    raise ValueError(\n",
      "ValueError: Classification metrics can't handle a mix of multilabel-indicator and binary targets\n",
      "\n",
      "  warnings.warn(\n"
     ]
    },
    {
     "name": "stdout",
     "output_type": "stream",
     "text": [
      "102/102 [==============================] - 1s 2ms/step - loss: 0.7093 - accuracy: 0.7641\n",
      "51/51 [==============================] - 0s 2ms/step\n"
     ]
    },
    {
     "name": "stderr",
     "output_type": "stream",
     "text": [
      "/usr/local/lib/python3.9/dist-packages/sklearn/model_selection/_validation.py:778: UserWarning: Scoring failed. The score on this train-test partition for these parameters will be set to nan. Details: \n",
      "Traceback (most recent call last):\n",
      "  File \"/usr/local/lib/python3.9/dist-packages/sklearn/model_selection/_validation.py\", line 767, in _score\n",
      "    scores = scorer(estimator, X_test, y_test)\n",
      "  File \"/usr/local/lib/python3.9/dist-packages/sklearn/metrics/_scorer.py\", line 234, in __call__\n",
      "    return self._score(\n",
      "  File \"/usr/local/lib/python3.9/dist-packages/sklearn/metrics/_scorer.py\", line 282, in _score\n",
      "    return self._sign * self._score_func(y_true, y_pred, **self._kwargs)\n",
      "  File \"/usr/local/lib/python3.9/dist-packages/sklearn/utils/_param_validation.py\", line 192, in wrapper\n",
      "    return func(*args, **kwargs)\n",
      "  File \"/usr/local/lib/python3.9/dist-packages/sklearn/metrics/_classification.py\", line 221, in accuracy_score\n",
      "    y_type, y_true, y_pred = _check_targets(y_true, y_pred)\n",
      "  File \"/usr/local/lib/python3.9/dist-packages/sklearn/metrics/_classification.py\", line 95, in _check_targets\n",
      "    raise ValueError(\n",
      "ValueError: Classification metrics can't handle a mix of multilabel-indicator and binary targets\n",
      "\n",
      "  warnings.warn(\n"
     ]
    },
    {
     "name": "stdout",
     "output_type": "stream",
     "text": [
      "102/102 [==============================] - 1s 3ms/step - loss: 0.6760 - accuracy: 0.7565\n",
      "51/51 [==============================] - 0s 2ms/step\n"
     ]
    },
    {
     "name": "stderr",
     "output_type": "stream",
     "text": [
      "/usr/local/lib/python3.9/dist-packages/sklearn/model_selection/_validation.py:778: UserWarning: Scoring failed. The score on this train-test partition for these parameters will be set to nan. Details: \n",
      "Traceback (most recent call last):\n",
      "  File \"/usr/local/lib/python3.9/dist-packages/sklearn/model_selection/_validation.py\", line 767, in _score\n",
      "    scores = scorer(estimator, X_test, y_test)\n",
      "  File \"/usr/local/lib/python3.9/dist-packages/sklearn/metrics/_scorer.py\", line 234, in __call__\n",
      "    return self._score(\n",
      "  File \"/usr/local/lib/python3.9/dist-packages/sklearn/metrics/_scorer.py\", line 282, in _score\n",
      "    return self._sign * self._score_func(y_true, y_pred, **self._kwargs)\n",
      "  File \"/usr/local/lib/python3.9/dist-packages/sklearn/utils/_param_validation.py\", line 192, in wrapper\n",
      "    return func(*args, **kwargs)\n",
      "  File \"/usr/local/lib/python3.9/dist-packages/sklearn/metrics/_classification.py\", line 221, in accuracy_score\n",
      "    y_type, y_true, y_pred = _check_targets(y_true, y_pred)\n",
      "  File \"/usr/local/lib/python3.9/dist-packages/sklearn/metrics/_classification.py\", line 95, in _check_targets\n",
      "    raise ValueError(\n",
      "ValueError: Classification metrics can't handle a mix of multilabel-indicator and binary targets\n",
      "\n",
      "  warnings.warn(\n"
     ]
    },
    {
     "name": "stdout",
     "output_type": "stream",
     "text": [
      "102/102 [==============================] - 1s 2ms/step - loss: 0.6010 - accuracy: 0.7761\n",
      "51/51 [==============================] - 0s 2ms/step\n"
     ]
    },
    {
     "name": "stderr",
     "output_type": "stream",
     "text": [
      "/usr/local/lib/python3.9/dist-packages/sklearn/model_selection/_validation.py:778: UserWarning: Scoring failed. The score on this train-test partition for these parameters will be set to nan. Details: \n",
      "Traceback (most recent call last):\n",
      "  File \"/usr/local/lib/python3.9/dist-packages/sklearn/model_selection/_validation.py\", line 767, in _score\n",
      "    scores = scorer(estimator, X_test, y_test)\n",
      "  File \"/usr/local/lib/python3.9/dist-packages/sklearn/metrics/_scorer.py\", line 234, in __call__\n",
      "    return self._score(\n",
      "  File \"/usr/local/lib/python3.9/dist-packages/sklearn/metrics/_scorer.py\", line 282, in _score\n",
      "    return self._sign * self._score_func(y_true, y_pred, **self._kwargs)\n",
      "  File \"/usr/local/lib/python3.9/dist-packages/sklearn/utils/_param_validation.py\", line 192, in wrapper\n",
      "    return func(*args, **kwargs)\n",
      "  File \"/usr/local/lib/python3.9/dist-packages/sklearn/metrics/_classification.py\", line 221, in accuracy_score\n",
      "    y_type, y_true, y_pred = _check_targets(y_true, y_pred)\n",
      "  File \"/usr/local/lib/python3.9/dist-packages/sklearn/metrics/_classification.py\", line 95, in _check_targets\n",
      "    raise ValueError(\n",
      "ValueError: Classification metrics can't handle a mix of multilabel-indicator and binary targets\n",
      "\n",
      "  warnings.warn(\n"
     ]
    },
    {
     "name": "stdout",
     "output_type": "stream",
     "text": [
      "102/102 [==============================] - 1s 2ms/step - loss: 0.5974 - accuracy: 0.7743\n",
      "51/51 [==============================] - 0s 2ms/step\n"
     ]
    },
    {
     "name": "stderr",
     "output_type": "stream",
     "text": [
      "/usr/local/lib/python3.9/dist-packages/sklearn/model_selection/_validation.py:778: UserWarning: Scoring failed. The score on this train-test partition for these parameters will be set to nan. Details: \n",
      "Traceback (most recent call last):\n",
      "  File \"/usr/local/lib/python3.9/dist-packages/sklearn/model_selection/_validation.py\", line 767, in _score\n",
      "    scores = scorer(estimator, X_test, y_test)\n",
      "  File \"/usr/local/lib/python3.9/dist-packages/sklearn/metrics/_scorer.py\", line 234, in __call__\n",
      "    return self._score(\n",
      "  File \"/usr/local/lib/python3.9/dist-packages/sklearn/metrics/_scorer.py\", line 282, in _score\n",
      "    return self._sign * self._score_func(y_true, y_pred, **self._kwargs)\n",
      "  File \"/usr/local/lib/python3.9/dist-packages/sklearn/utils/_param_validation.py\", line 192, in wrapper\n",
      "    return func(*args, **kwargs)\n",
      "  File \"/usr/local/lib/python3.9/dist-packages/sklearn/metrics/_classification.py\", line 221, in accuracy_score\n",
      "    y_type, y_true, y_pred = _check_targets(y_true, y_pred)\n",
      "  File \"/usr/local/lib/python3.9/dist-packages/sklearn/metrics/_classification.py\", line 95, in _check_targets\n",
      "    raise ValueError(\n",
      "ValueError: Classification metrics can't handle a mix of multilabel-indicator and multiclass targets\n",
      "\n",
      "  warnings.warn(\n"
     ]
    },
    {
     "name": "stdout",
     "output_type": "stream",
     "text": [
      "102/102 [==============================] - 1s 2ms/step - loss: 0.6123 - accuracy: 0.7697\n",
      "51/51 [==============================] - 0s 2ms/step\n"
     ]
    },
    {
     "name": "stderr",
     "output_type": "stream",
     "text": [
      "/usr/local/lib/python3.9/dist-packages/sklearn/model_selection/_validation.py:778: UserWarning: Scoring failed. The score on this train-test partition for these parameters will be set to nan. Details: \n",
      "Traceback (most recent call last):\n",
      "  File \"/usr/local/lib/python3.9/dist-packages/sklearn/model_selection/_validation.py\", line 767, in _score\n",
      "    scores = scorer(estimator, X_test, y_test)\n",
      "  File \"/usr/local/lib/python3.9/dist-packages/sklearn/metrics/_scorer.py\", line 234, in __call__\n",
      "    return self._score(\n",
      "  File \"/usr/local/lib/python3.9/dist-packages/sklearn/metrics/_scorer.py\", line 282, in _score\n",
      "    return self._sign * self._score_func(y_true, y_pred, **self._kwargs)\n",
      "  File \"/usr/local/lib/python3.9/dist-packages/sklearn/utils/_param_validation.py\", line 192, in wrapper\n",
      "    return func(*args, **kwargs)\n",
      "  File \"/usr/local/lib/python3.9/dist-packages/sklearn/metrics/_classification.py\", line 221, in accuracy_score\n",
      "    y_type, y_true, y_pred = _check_targets(y_true, y_pred)\n",
      "  File \"/usr/local/lib/python3.9/dist-packages/sklearn/metrics/_classification.py\", line 95, in _check_targets\n",
      "    raise ValueError(\n",
      "ValueError: Classification metrics can't handle a mix of multilabel-indicator and multiclass targets\n",
      "\n",
      "  warnings.warn(\n"
     ]
    },
    {
     "name": "stdout",
     "output_type": "stream",
     "text": [
      "102/102 [==============================] - 1s 2ms/step - loss: 0.5567 - accuracy: 0.7838\n",
      "51/51 [==============================] - 0s 2ms/step\n"
     ]
    },
    {
     "name": "stderr",
     "output_type": "stream",
     "text": [
      "/usr/local/lib/python3.9/dist-packages/sklearn/model_selection/_validation.py:778: UserWarning: Scoring failed. The score on this train-test partition for these parameters will be set to nan. Details: \n",
      "Traceback (most recent call last):\n",
      "  File \"/usr/local/lib/python3.9/dist-packages/sklearn/model_selection/_validation.py\", line 767, in _score\n",
      "    scores = scorer(estimator, X_test, y_test)\n",
      "  File \"/usr/local/lib/python3.9/dist-packages/sklearn/metrics/_scorer.py\", line 234, in __call__\n",
      "    return self._score(\n",
      "  File \"/usr/local/lib/python3.9/dist-packages/sklearn/metrics/_scorer.py\", line 282, in _score\n",
      "    return self._sign * self._score_func(y_true, y_pred, **self._kwargs)\n",
      "  File \"/usr/local/lib/python3.9/dist-packages/sklearn/utils/_param_validation.py\", line 192, in wrapper\n",
      "    return func(*args, **kwargs)\n",
      "  File \"/usr/local/lib/python3.9/dist-packages/sklearn/metrics/_classification.py\", line 221, in accuracy_score\n",
      "    y_type, y_true, y_pred = _check_targets(y_true, y_pred)\n",
      "  File \"/usr/local/lib/python3.9/dist-packages/sklearn/metrics/_classification.py\", line 95, in _check_targets\n",
      "    raise ValueError(\n",
      "ValueError: Classification metrics can't handle a mix of multilabel-indicator and binary targets\n",
      "\n",
      "  warnings.warn(\n"
     ]
    },
    {
     "name": "stdout",
     "output_type": "stream",
     "text": [
      "102/102 [==============================] - 1s 3ms/step - loss: 0.5805 - accuracy: 0.7632\n",
      "51/51 [==============================] - 0s 3ms/step\n"
     ]
    },
    {
     "name": "stderr",
     "output_type": "stream",
     "text": [
      "/usr/local/lib/python3.9/dist-packages/sklearn/model_selection/_validation.py:778: UserWarning: Scoring failed. The score on this train-test partition for these parameters will be set to nan. Details: \n",
      "Traceback (most recent call last):\n",
      "  File \"/usr/local/lib/python3.9/dist-packages/sklearn/model_selection/_validation.py\", line 767, in _score\n",
      "    scores = scorer(estimator, X_test, y_test)\n",
      "  File \"/usr/local/lib/python3.9/dist-packages/sklearn/metrics/_scorer.py\", line 234, in __call__\n",
      "    return self._score(\n",
      "  File \"/usr/local/lib/python3.9/dist-packages/sklearn/metrics/_scorer.py\", line 282, in _score\n",
      "    return self._sign * self._score_func(y_true, y_pred, **self._kwargs)\n",
      "  File \"/usr/local/lib/python3.9/dist-packages/sklearn/utils/_param_validation.py\", line 192, in wrapper\n",
      "    return func(*args, **kwargs)\n",
      "  File \"/usr/local/lib/python3.9/dist-packages/sklearn/metrics/_classification.py\", line 221, in accuracy_score\n",
      "    y_type, y_true, y_pred = _check_targets(y_true, y_pred)\n",
      "  File \"/usr/local/lib/python3.9/dist-packages/sklearn/metrics/_classification.py\", line 95, in _check_targets\n",
      "    raise ValueError(\n",
      "ValueError: Classification metrics can't handle a mix of multilabel-indicator and multiclass targets\n",
      "\n",
      "  warnings.warn(\n"
     ]
    },
    {
     "name": "stdout",
     "output_type": "stream",
     "text": [
      "102/102 [==============================] - 2s 2ms/step - loss: 0.5972 - accuracy: 0.7608\n",
      "51/51 [==============================] - 0s 2ms/step\n"
     ]
    },
    {
     "name": "stderr",
     "output_type": "stream",
     "text": [
      "/usr/local/lib/python3.9/dist-packages/sklearn/model_selection/_validation.py:778: UserWarning: Scoring failed. The score on this train-test partition for these parameters will be set to nan. Details: \n",
      "Traceback (most recent call last):\n",
      "  File \"/usr/local/lib/python3.9/dist-packages/sklearn/model_selection/_validation.py\", line 767, in _score\n",
      "    scores = scorer(estimator, X_test, y_test)\n",
      "  File \"/usr/local/lib/python3.9/dist-packages/sklearn/metrics/_scorer.py\", line 234, in __call__\n",
      "    return self._score(\n",
      "  File \"/usr/local/lib/python3.9/dist-packages/sklearn/metrics/_scorer.py\", line 282, in _score\n",
      "    return self._sign * self._score_func(y_true, y_pred, **self._kwargs)\n",
      "  File \"/usr/local/lib/python3.9/dist-packages/sklearn/utils/_param_validation.py\", line 192, in wrapper\n",
      "    return func(*args, **kwargs)\n",
      "  File \"/usr/local/lib/python3.9/dist-packages/sklearn/metrics/_classification.py\", line 221, in accuracy_score\n",
      "    y_type, y_true, y_pred = _check_targets(y_true, y_pred)\n",
      "  File \"/usr/local/lib/python3.9/dist-packages/sklearn/metrics/_classification.py\", line 95, in _check_targets\n",
      "    raise ValueError(\n",
      "ValueError: Classification metrics can't handle a mix of multilabel-indicator and binary targets\n",
      "\n",
      "  warnings.warn(\n"
     ]
    },
    {
     "name": "stdout",
     "output_type": "stream",
     "text": [
      "102/102 [==============================] - 1s 2ms/step - loss: 0.5113 - accuracy: 0.7814\n",
      "51/51 [==============================] - 0s 2ms/step\n"
     ]
    },
    {
     "name": "stderr",
     "output_type": "stream",
     "text": [
      "/usr/local/lib/python3.9/dist-packages/sklearn/model_selection/_validation.py:778: UserWarning: Scoring failed. The score on this train-test partition for these parameters will be set to nan. Details: \n",
      "Traceback (most recent call last):\n",
      "  File \"/usr/local/lib/python3.9/dist-packages/sklearn/model_selection/_validation.py\", line 767, in _score\n",
      "    scores = scorer(estimator, X_test, y_test)\n",
      "  File \"/usr/local/lib/python3.9/dist-packages/sklearn/metrics/_scorer.py\", line 234, in __call__\n",
      "    return self._score(\n",
      "  File \"/usr/local/lib/python3.9/dist-packages/sklearn/metrics/_scorer.py\", line 282, in _score\n",
      "    return self._sign * self._score_func(y_true, y_pred, **self._kwargs)\n",
      "  File \"/usr/local/lib/python3.9/dist-packages/sklearn/utils/_param_validation.py\", line 192, in wrapper\n",
      "    return func(*args, **kwargs)\n",
      "  File \"/usr/local/lib/python3.9/dist-packages/sklearn/metrics/_classification.py\", line 221, in accuracy_score\n",
      "    y_type, y_true, y_pred = _check_targets(y_true, y_pred)\n",
      "  File \"/usr/local/lib/python3.9/dist-packages/sklearn/metrics/_classification.py\", line 95, in _check_targets\n",
      "    raise ValueError(\n",
      "ValueError: Classification metrics can't handle a mix of multilabel-indicator and binary targets\n",
      "\n",
      "  warnings.warn(\n"
     ]
    },
    {
     "name": "stdout",
     "output_type": "stream",
     "text": [
      "102/102 [==============================] - 1s 2ms/step - loss: 0.5456 - accuracy: 0.7758\n",
      "51/51 [==============================] - 0s 2ms/step\n"
     ]
    },
    {
     "name": "stderr",
     "output_type": "stream",
     "text": [
      "/usr/local/lib/python3.9/dist-packages/sklearn/model_selection/_validation.py:778: UserWarning: Scoring failed. The score on this train-test partition for these parameters will be set to nan. Details: \n",
      "Traceback (most recent call last):\n",
      "  File \"/usr/local/lib/python3.9/dist-packages/sklearn/model_selection/_validation.py\", line 767, in _score\n",
      "    scores = scorer(estimator, X_test, y_test)\n",
      "  File \"/usr/local/lib/python3.9/dist-packages/sklearn/metrics/_scorer.py\", line 234, in __call__\n",
      "    return self._score(\n",
      "  File \"/usr/local/lib/python3.9/dist-packages/sklearn/metrics/_scorer.py\", line 282, in _score\n",
      "    return self._sign * self._score_func(y_true, y_pred, **self._kwargs)\n",
      "  File \"/usr/local/lib/python3.9/dist-packages/sklearn/utils/_param_validation.py\", line 192, in wrapper\n",
      "    return func(*args, **kwargs)\n",
      "  File \"/usr/local/lib/python3.9/dist-packages/sklearn/metrics/_classification.py\", line 221, in accuracy_score\n",
      "    y_type, y_true, y_pred = _check_targets(y_true, y_pred)\n",
      "  File \"/usr/local/lib/python3.9/dist-packages/sklearn/metrics/_classification.py\", line 95, in _check_targets\n",
      "    raise ValueError(\n",
      "ValueError: Classification metrics can't handle a mix of multilabel-indicator and binary targets\n",
      "\n",
      "  warnings.warn(\n"
     ]
    },
    {
     "name": "stdout",
     "output_type": "stream",
     "text": [
      "102/102 [==============================] - 1s 2ms/step - loss: 0.5225 - accuracy: 0.7898\n",
      "51/51 [==============================] - 0s 1ms/step\n"
     ]
    },
    {
     "name": "stderr",
     "output_type": "stream",
     "text": [
      "/usr/local/lib/python3.9/dist-packages/sklearn/model_selection/_validation.py:778: UserWarning: Scoring failed. The score on this train-test partition for these parameters will be set to nan. Details: \n",
      "Traceback (most recent call last):\n",
      "  File \"/usr/local/lib/python3.9/dist-packages/sklearn/model_selection/_validation.py\", line 767, in _score\n",
      "    scores = scorer(estimator, X_test, y_test)\n",
      "  File \"/usr/local/lib/python3.9/dist-packages/sklearn/metrics/_scorer.py\", line 234, in __call__\n",
      "    return self._score(\n",
      "  File \"/usr/local/lib/python3.9/dist-packages/sklearn/metrics/_scorer.py\", line 282, in _score\n",
      "    return self._sign * self._score_func(y_true, y_pred, **self._kwargs)\n",
      "  File \"/usr/local/lib/python3.9/dist-packages/sklearn/utils/_param_validation.py\", line 192, in wrapper\n",
      "    return func(*args, **kwargs)\n",
      "  File \"/usr/local/lib/python3.9/dist-packages/sklearn/metrics/_classification.py\", line 221, in accuracy_score\n",
      "    y_type, y_true, y_pred = _check_targets(y_true, y_pred)\n",
      "  File \"/usr/local/lib/python3.9/dist-packages/sklearn/metrics/_classification.py\", line 95, in _check_targets\n",
      "    raise ValueError(\n",
      "ValueError: Classification metrics can't handle a mix of multilabel-indicator and multiclass targets\n",
      "\n",
      "  warnings.warn(\n"
     ]
    },
    {
     "name": "stdout",
     "output_type": "stream",
     "text": [
      "102/102 [==============================] - 1s 2ms/step - loss: 0.4961 - accuracy: 0.7928\n",
      "51/51 [==============================] - 0s 1ms/step\n"
     ]
    },
    {
     "name": "stderr",
     "output_type": "stream",
     "text": [
      "/usr/local/lib/python3.9/dist-packages/sklearn/model_selection/_validation.py:778: UserWarning: Scoring failed. The score on this train-test partition for these parameters will be set to nan. Details: \n",
      "Traceback (most recent call last):\n",
      "  File \"/usr/local/lib/python3.9/dist-packages/sklearn/model_selection/_validation.py\", line 767, in _score\n",
      "    scores = scorer(estimator, X_test, y_test)\n",
      "  File \"/usr/local/lib/python3.9/dist-packages/sklearn/metrics/_scorer.py\", line 234, in __call__\n",
      "    return self._score(\n",
      "  File \"/usr/local/lib/python3.9/dist-packages/sklearn/metrics/_scorer.py\", line 282, in _score\n",
      "    return self._sign * self._score_func(y_true, y_pred, **self._kwargs)\n",
      "  File \"/usr/local/lib/python3.9/dist-packages/sklearn/utils/_param_validation.py\", line 192, in wrapper\n",
      "    return func(*args, **kwargs)\n",
      "  File \"/usr/local/lib/python3.9/dist-packages/sklearn/metrics/_classification.py\", line 221, in accuracy_score\n",
      "    y_type, y_true, y_pred = _check_targets(y_true, y_pred)\n",
      "  File \"/usr/local/lib/python3.9/dist-packages/sklearn/metrics/_classification.py\", line 95, in _check_targets\n",
      "    raise ValueError(\n",
      "ValueError: Classification metrics can't handle a mix of multilabel-indicator and binary targets\n",
      "\n",
      "  warnings.warn(\n"
     ]
    },
    {
     "name": "stdout",
     "output_type": "stream",
     "text": [
      "102/102 [==============================] - 1s 2ms/step - loss: 0.5054 - accuracy: 0.7829\n",
      "51/51 [==============================] - 0s 1ms/step\n"
     ]
    },
    {
     "name": "stderr",
     "output_type": "stream",
     "text": [
      "/usr/local/lib/python3.9/dist-packages/sklearn/model_selection/_validation.py:778: UserWarning: Scoring failed. The score on this train-test partition for these parameters will be set to nan. Details: \n",
      "Traceback (most recent call last):\n",
      "  File \"/usr/local/lib/python3.9/dist-packages/sklearn/model_selection/_validation.py\", line 767, in _score\n",
      "    scores = scorer(estimator, X_test, y_test)\n",
      "  File \"/usr/local/lib/python3.9/dist-packages/sklearn/metrics/_scorer.py\", line 234, in __call__\n",
      "    return self._score(\n",
      "  File \"/usr/local/lib/python3.9/dist-packages/sklearn/metrics/_scorer.py\", line 282, in _score\n",
      "    return self._sign * self._score_func(y_true, y_pred, **self._kwargs)\n",
      "  File \"/usr/local/lib/python3.9/dist-packages/sklearn/utils/_param_validation.py\", line 192, in wrapper\n",
      "    return func(*args, **kwargs)\n",
      "  File \"/usr/local/lib/python3.9/dist-packages/sklearn/metrics/_classification.py\", line 221, in accuracy_score\n",
      "    y_type, y_true, y_pred = _check_targets(y_true, y_pred)\n",
      "  File \"/usr/local/lib/python3.9/dist-packages/sklearn/metrics/_classification.py\", line 95, in _check_targets\n",
      "    raise ValueError(\n",
      "ValueError: Classification metrics can't handle a mix of multilabel-indicator and binary targets\n",
      "\n",
      "  warnings.warn(\n"
     ]
    },
    {
     "name": "stdout",
     "output_type": "stream",
     "text": [
      "102/102 [==============================] - 1s 2ms/step - loss: 0.5170 - accuracy: 0.7836\n",
      "51/51 [==============================] - 0s 2ms/step\n"
     ]
    },
    {
     "name": "stderr",
     "output_type": "stream",
     "text": [
      "/usr/local/lib/python3.9/dist-packages/sklearn/model_selection/_validation.py:778: UserWarning: Scoring failed. The score on this train-test partition for these parameters will be set to nan. Details: \n",
      "Traceback (most recent call last):\n",
      "  File \"/usr/local/lib/python3.9/dist-packages/sklearn/model_selection/_validation.py\", line 767, in _score\n",
      "    scores = scorer(estimator, X_test, y_test)\n",
      "  File \"/usr/local/lib/python3.9/dist-packages/sklearn/metrics/_scorer.py\", line 234, in __call__\n",
      "    return self._score(\n",
      "  File \"/usr/local/lib/python3.9/dist-packages/sklearn/metrics/_scorer.py\", line 282, in _score\n",
      "    return self._sign * self._score_func(y_true, y_pred, **self._kwargs)\n",
      "  File \"/usr/local/lib/python3.9/dist-packages/sklearn/utils/_param_validation.py\", line 192, in wrapper\n",
      "    return func(*args, **kwargs)\n",
      "  File \"/usr/local/lib/python3.9/dist-packages/sklearn/metrics/_classification.py\", line 221, in accuracy_score\n",
      "    y_type, y_true, y_pred = _check_targets(y_true, y_pred)\n",
      "  File \"/usr/local/lib/python3.9/dist-packages/sklearn/metrics/_classification.py\", line 95, in _check_targets\n",
      "    raise ValueError(\n",
      "ValueError: Classification metrics can't handle a mix of multilabel-indicator and binary targets\n",
      "\n",
      "  warnings.warn(\n"
     ]
    },
    {
     "name": "stdout",
     "output_type": "stream",
     "text": [
      "102/102 [==============================] - 1s 3ms/step - loss: 0.5181 - accuracy: 0.7789\n",
      "51/51 [==============================] - 0s 2ms/step\n"
     ]
    },
    {
     "name": "stderr",
     "output_type": "stream",
     "text": [
      "/usr/local/lib/python3.9/dist-packages/sklearn/model_selection/_validation.py:778: UserWarning: Scoring failed. The score on this train-test partition for these parameters will be set to nan. Details: \n",
      "Traceback (most recent call last):\n",
      "  File \"/usr/local/lib/python3.9/dist-packages/sklearn/model_selection/_validation.py\", line 767, in _score\n",
      "    scores = scorer(estimator, X_test, y_test)\n",
      "  File \"/usr/local/lib/python3.9/dist-packages/sklearn/metrics/_scorer.py\", line 234, in __call__\n",
      "    return self._score(\n",
      "  File \"/usr/local/lib/python3.9/dist-packages/sklearn/metrics/_scorer.py\", line 282, in _score\n",
      "    return self._sign * self._score_func(y_true, y_pred, **self._kwargs)\n",
      "  File \"/usr/local/lib/python3.9/dist-packages/sklearn/utils/_param_validation.py\", line 192, in wrapper\n",
      "    return func(*args, **kwargs)\n",
      "  File \"/usr/local/lib/python3.9/dist-packages/sklearn/metrics/_classification.py\", line 221, in accuracy_score\n",
      "    y_type, y_true, y_pred = _check_targets(y_true, y_pred)\n",
      "  File \"/usr/local/lib/python3.9/dist-packages/sklearn/metrics/_classification.py\", line 95, in _check_targets\n",
      "    raise ValueError(\n",
      "ValueError: Classification metrics can't handle a mix of multilabel-indicator and binary targets\n",
      "\n",
      "  warnings.warn(\n"
     ]
    },
    {
     "name": "stdout",
     "output_type": "stream",
     "text": [
      "102/102 [==============================] - 1s 3ms/step - loss: 0.5254 - accuracy: 0.7684\n",
      "51/51 [==============================] - 0s 1ms/step\n"
     ]
    },
    {
     "name": "stderr",
     "output_type": "stream",
     "text": [
      "/usr/local/lib/python3.9/dist-packages/sklearn/model_selection/_validation.py:778: UserWarning: Scoring failed. The score on this train-test partition for these parameters will be set to nan. Details: \n",
      "Traceback (most recent call last):\n",
      "  File \"/usr/local/lib/python3.9/dist-packages/sklearn/model_selection/_validation.py\", line 767, in _score\n",
      "    scores = scorer(estimator, X_test, y_test)\n",
      "  File \"/usr/local/lib/python3.9/dist-packages/sklearn/metrics/_scorer.py\", line 234, in __call__\n",
      "    return self._score(\n",
      "  File \"/usr/local/lib/python3.9/dist-packages/sklearn/metrics/_scorer.py\", line 282, in _score\n",
      "    return self._sign * self._score_func(y_true, y_pred, **self._kwargs)\n",
      "  File \"/usr/local/lib/python3.9/dist-packages/sklearn/utils/_param_validation.py\", line 192, in wrapper\n",
      "    return func(*args, **kwargs)\n",
      "  File \"/usr/local/lib/python3.9/dist-packages/sklearn/metrics/_classification.py\", line 221, in accuracy_score\n",
      "    y_type, y_true, y_pred = _check_targets(y_true, y_pred)\n",
      "  File \"/usr/local/lib/python3.9/dist-packages/sklearn/metrics/_classification.py\", line 95, in _check_targets\n",
      "    raise ValueError(\n",
      "ValueError: Classification metrics can't handle a mix of multilabel-indicator and binary targets\n",
      "\n",
      "  warnings.warn(\n"
     ]
    },
    {
     "name": "stdout",
     "output_type": "stream",
     "text": [
      "102/102 [==============================] - 1s 2ms/step - loss: 0.5078 - accuracy: 0.7891\n",
      "51/51 [==============================] - 0s 2ms/step\n"
     ]
    },
    {
     "name": "stderr",
     "output_type": "stream",
     "text": [
      "/usr/local/lib/python3.9/dist-packages/sklearn/model_selection/_validation.py:778: UserWarning: Scoring failed. The score on this train-test partition for these parameters will be set to nan. Details: \n",
      "Traceback (most recent call last):\n",
      "  File \"/usr/local/lib/python3.9/dist-packages/sklearn/model_selection/_validation.py\", line 767, in _score\n",
      "    scores = scorer(estimator, X_test, y_test)\n",
      "  File \"/usr/local/lib/python3.9/dist-packages/sklearn/metrics/_scorer.py\", line 234, in __call__\n",
      "    return self._score(\n",
      "  File \"/usr/local/lib/python3.9/dist-packages/sklearn/metrics/_scorer.py\", line 282, in _score\n",
      "    return self._sign * self._score_func(y_true, y_pred, **self._kwargs)\n",
      "  File \"/usr/local/lib/python3.9/dist-packages/sklearn/utils/_param_validation.py\", line 192, in wrapper\n",
      "    return func(*args, **kwargs)\n",
      "  File \"/usr/local/lib/python3.9/dist-packages/sklearn/metrics/_classification.py\", line 221, in accuracy_score\n",
      "    y_type, y_true, y_pred = _check_targets(y_true, y_pred)\n",
      "  File \"/usr/local/lib/python3.9/dist-packages/sklearn/metrics/_classification.py\", line 95, in _check_targets\n",
      "    raise ValueError(\n",
      "ValueError: Classification metrics can't handle a mix of multilabel-indicator and binary targets\n",
      "\n",
      "  warnings.warn(\n"
     ]
    },
    {
     "name": "stdout",
     "output_type": "stream",
     "text": [
      "102/102 [==============================] - 1s 2ms/step - loss: 0.5258 - accuracy: 0.7814\n",
      "51/51 [==============================] - 0s 1ms/step\n"
     ]
    },
    {
     "name": "stderr",
     "output_type": "stream",
     "text": [
      "/usr/local/lib/python3.9/dist-packages/sklearn/model_selection/_validation.py:778: UserWarning: Scoring failed. The score on this train-test partition for these parameters will be set to nan. Details: \n",
      "Traceback (most recent call last):\n",
      "  File \"/usr/local/lib/python3.9/dist-packages/sklearn/model_selection/_validation.py\", line 767, in _score\n",
      "    scores = scorer(estimator, X_test, y_test)\n",
      "  File \"/usr/local/lib/python3.9/dist-packages/sklearn/metrics/_scorer.py\", line 234, in __call__\n",
      "    return self._score(\n",
      "  File \"/usr/local/lib/python3.9/dist-packages/sklearn/metrics/_scorer.py\", line 282, in _score\n",
      "    return self._sign * self._score_func(y_true, y_pred, **self._kwargs)\n",
      "  File \"/usr/local/lib/python3.9/dist-packages/sklearn/utils/_param_validation.py\", line 192, in wrapper\n",
      "    return func(*args, **kwargs)\n",
      "  File \"/usr/local/lib/python3.9/dist-packages/sklearn/metrics/_classification.py\", line 221, in accuracy_score\n",
      "    y_type, y_true, y_pred = _check_targets(y_true, y_pred)\n",
      "  File \"/usr/local/lib/python3.9/dist-packages/sklearn/metrics/_classification.py\", line 95, in _check_targets\n",
      "    raise ValueError(\n",
      "ValueError: Classification metrics can't handle a mix of multilabel-indicator and binary targets\n",
      "\n",
      "  warnings.warn(\n"
     ]
    },
    {
     "name": "stdout",
     "output_type": "stream",
     "text": [
      "102/102 [==============================] - 1s 2ms/step - loss: 0.5477 - accuracy: 0.7743\n",
      "51/51 [==============================] - 0s 2ms/step\n"
     ]
    },
    {
     "name": "stderr",
     "output_type": "stream",
     "text": [
      "/usr/local/lib/python3.9/dist-packages/sklearn/model_selection/_validation.py:778: UserWarning: Scoring failed. The score on this train-test partition for these parameters will be set to nan. Details: \n",
      "Traceback (most recent call last):\n",
      "  File \"/usr/local/lib/python3.9/dist-packages/sklearn/model_selection/_validation.py\", line 767, in _score\n",
      "    scores = scorer(estimator, X_test, y_test)\n",
      "  File \"/usr/local/lib/python3.9/dist-packages/sklearn/metrics/_scorer.py\", line 234, in __call__\n",
      "    return self._score(\n",
      "  File \"/usr/local/lib/python3.9/dist-packages/sklearn/metrics/_scorer.py\", line 282, in _score\n",
      "    return self._sign * self._score_func(y_true, y_pred, **self._kwargs)\n",
      "  File \"/usr/local/lib/python3.9/dist-packages/sklearn/utils/_param_validation.py\", line 192, in wrapper\n",
      "    return func(*args, **kwargs)\n",
      "  File \"/usr/local/lib/python3.9/dist-packages/sklearn/metrics/_classification.py\", line 221, in accuracy_score\n",
      "    y_type, y_true, y_pred = _check_targets(y_true, y_pred)\n",
      "  File \"/usr/local/lib/python3.9/dist-packages/sklearn/metrics/_classification.py\", line 95, in _check_targets\n",
      "    raise ValueError(\n",
      "ValueError: Classification metrics can't handle a mix of multilabel-indicator and binary targets\n",
      "\n",
      "  warnings.warn(\n"
     ]
    },
    {
     "name": "stdout",
     "output_type": "stream",
     "text": [
      "102/102 [==============================] - 1s 2ms/step - loss: 0.5270 - accuracy: 0.7700\n",
      "51/51 [==============================] - 0s 1ms/step\n"
     ]
    },
    {
     "name": "stderr",
     "output_type": "stream",
     "text": [
      "/usr/local/lib/python3.9/dist-packages/sklearn/model_selection/_validation.py:778: UserWarning: Scoring failed. The score on this train-test partition for these parameters will be set to nan. Details: \n",
      "Traceback (most recent call last):\n",
      "  File \"/usr/local/lib/python3.9/dist-packages/sklearn/model_selection/_validation.py\", line 767, in _score\n",
      "    scores = scorer(estimator, X_test, y_test)\n",
      "  File \"/usr/local/lib/python3.9/dist-packages/sklearn/metrics/_scorer.py\", line 234, in __call__\n",
      "    return self._score(\n",
      "  File \"/usr/local/lib/python3.9/dist-packages/sklearn/metrics/_scorer.py\", line 282, in _score\n",
      "    return self._sign * self._score_func(y_true, y_pred, **self._kwargs)\n",
      "  File \"/usr/local/lib/python3.9/dist-packages/sklearn/utils/_param_validation.py\", line 192, in wrapper\n",
      "    return func(*args, **kwargs)\n",
      "  File \"/usr/local/lib/python3.9/dist-packages/sklearn/metrics/_classification.py\", line 221, in accuracy_score\n",
      "    y_type, y_true, y_pred = _check_targets(y_true, y_pred)\n",
      "  File \"/usr/local/lib/python3.9/dist-packages/sklearn/metrics/_classification.py\", line 95, in _check_targets\n",
      "    raise ValueError(\n",
      "ValueError: Classification metrics can't handle a mix of multilabel-indicator and binary targets\n",
      "\n",
      "  warnings.warn(\n"
     ]
    },
    {
     "name": "stdout",
     "output_type": "stream",
     "text": [
      "102/102 [==============================] - 1s 2ms/step - loss: 0.5887 - accuracy: 0.7697\n",
      "51/51 [==============================] - 0s 2ms/step\n"
     ]
    },
    {
     "name": "stderr",
     "output_type": "stream",
     "text": [
      "/usr/local/lib/python3.9/dist-packages/sklearn/model_selection/_validation.py:778: UserWarning: Scoring failed. The score on this train-test partition for these parameters will be set to nan. Details: \n",
      "Traceback (most recent call last):\n",
      "  File \"/usr/local/lib/python3.9/dist-packages/sklearn/model_selection/_validation.py\", line 767, in _score\n",
      "    scores = scorer(estimator, X_test, y_test)\n",
      "  File \"/usr/local/lib/python3.9/dist-packages/sklearn/metrics/_scorer.py\", line 234, in __call__\n",
      "    return self._score(\n",
      "  File \"/usr/local/lib/python3.9/dist-packages/sklearn/metrics/_scorer.py\", line 282, in _score\n",
      "    return self._sign * self._score_func(y_true, y_pred, **self._kwargs)\n",
      "  File \"/usr/local/lib/python3.9/dist-packages/sklearn/utils/_param_validation.py\", line 192, in wrapper\n",
      "    return func(*args, **kwargs)\n",
      "  File \"/usr/local/lib/python3.9/dist-packages/sklearn/metrics/_classification.py\", line 221, in accuracy_score\n",
      "    y_type, y_true, y_pred = _check_targets(y_true, y_pred)\n",
      "  File \"/usr/local/lib/python3.9/dist-packages/sklearn/metrics/_classification.py\", line 95, in _check_targets\n",
      "    raise ValueError(\n",
      "ValueError: Classification metrics can't handle a mix of multilabel-indicator and binary targets\n",
      "\n",
      "  warnings.warn(\n"
     ]
    },
    {
     "name": "stdout",
     "output_type": "stream",
     "text": [
      "102/102 [==============================] - 2s 3ms/step - loss: 0.6019 - accuracy: 0.7613\n",
      "51/51 [==============================] - 0s 2ms/step\n"
     ]
    },
    {
     "name": "stderr",
     "output_type": "stream",
     "text": [
      "/usr/local/lib/python3.9/dist-packages/sklearn/model_selection/_validation.py:778: UserWarning: Scoring failed. The score on this train-test partition for these parameters will be set to nan. Details: \n",
      "Traceback (most recent call last):\n",
      "  File \"/usr/local/lib/python3.9/dist-packages/sklearn/model_selection/_validation.py\", line 767, in _score\n",
      "    scores = scorer(estimator, X_test, y_test)\n",
      "  File \"/usr/local/lib/python3.9/dist-packages/sklearn/metrics/_scorer.py\", line 234, in __call__\n",
      "    return self._score(\n",
      "  File \"/usr/local/lib/python3.9/dist-packages/sklearn/metrics/_scorer.py\", line 282, in _score\n",
      "    return self._sign * self._score_func(y_true, y_pred, **self._kwargs)\n",
      "  File \"/usr/local/lib/python3.9/dist-packages/sklearn/utils/_param_validation.py\", line 192, in wrapper\n",
      "    return func(*args, **kwargs)\n",
      "  File \"/usr/local/lib/python3.9/dist-packages/sklearn/metrics/_classification.py\", line 221, in accuracy_score\n",
      "    y_type, y_true, y_pred = _check_targets(y_true, y_pred)\n",
      "  File \"/usr/local/lib/python3.9/dist-packages/sklearn/metrics/_classification.py\", line 95, in _check_targets\n",
      "    raise ValueError(\n",
      "ValueError: Classification metrics can't handle a mix of multilabel-indicator and multiclass targets\n",
      "\n",
      "  warnings.warn(\n"
     ]
    },
    {
     "name": "stdout",
     "output_type": "stream",
     "text": [
      "102/102 [==============================] - 1s 4ms/step - loss: 0.5807 - accuracy: 0.7771\n",
      "51/51 [==============================] - 0s 2ms/step\n"
     ]
    },
    {
     "name": "stderr",
     "output_type": "stream",
     "text": [
      "/usr/local/lib/python3.9/dist-packages/sklearn/model_selection/_validation.py:778: UserWarning: Scoring failed. The score on this train-test partition for these parameters will be set to nan. Details: \n",
      "Traceback (most recent call last):\n",
      "  File \"/usr/local/lib/python3.9/dist-packages/sklearn/model_selection/_validation.py\", line 767, in _score\n",
      "    scores = scorer(estimator, X_test, y_test)\n",
      "  File \"/usr/local/lib/python3.9/dist-packages/sklearn/metrics/_scorer.py\", line 234, in __call__\n",
      "    return self._score(\n",
      "  File \"/usr/local/lib/python3.9/dist-packages/sklearn/metrics/_scorer.py\", line 282, in _score\n",
      "    return self._sign * self._score_func(y_true, y_pred, **self._kwargs)\n",
      "  File \"/usr/local/lib/python3.9/dist-packages/sklearn/utils/_param_validation.py\", line 192, in wrapper\n",
      "    return func(*args, **kwargs)\n",
      "  File \"/usr/local/lib/python3.9/dist-packages/sklearn/metrics/_classification.py\", line 221, in accuracy_score\n",
      "    y_type, y_true, y_pred = _check_targets(y_true, y_pred)\n",
      "  File \"/usr/local/lib/python3.9/dist-packages/sklearn/metrics/_classification.py\", line 95, in _check_targets\n",
      "    raise ValueError(\n",
      "ValueError: Classification metrics can't handle a mix of multilabel-indicator and binary targets\n",
      "\n",
      "  warnings.warn(\n"
     ]
    },
    {
     "name": "stdout",
     "output_type": "stream",
     "text": [
      "102/102 [==============================] - 1s 2ms/step - loss: 1.3760 - accuracy: 0.2430\n",
      "51/51 [==============================] - 0s 2ms/step\n"
     ]
    },
    {
     "name": "stderr",
     "output_type": "stream",
     "text": [
      "/usr/local/lib/python3.9/dist-packages/sklearn/model_selection/_validation.py:778: UserWarning: Scoring failed. The score on this train-test partition for these parameters will be set to nan. Details: \n",
      "Traceback (most recent call last):\n",
      "  File \"/usr/local/lib/python3.9/dist-packages/sklearn/model_selection/_validation.py\", line 767, in _score\n",
      "    scores = scorer(estimator, X_test, y_test)\n",
      "  File \"/usr/local/lib/python3.9/dist-packages/sklearn/metrics/_scorer.py\", line 234, in __call__\n",
      "    return self._score(\n",
      "  File \"/usr/local/lib/python3.9/dist-packages/sklearn/metrics/_scorer.py\", line 282, in _score\n",
      "    return self._sign * self._score_func(y_true, y_pred, **self._kwargs)\n",
      "  File \"/usr/local/lib/python3.9/dist-packages/sklearn/utils/_param_validation.py\", line 192, in wrapper\n",
      "    return func(*args, **kwargs)\n",
      "  File \"/usr/local/lib/python3.9/dist-packages/sklearn/metrics/_classification.py\", line 221, in accuracy_score\n",
      "    y_type, y_true, y_pred = _check_targets(y_true, y_pred)\n",
      "  File \"/usr/local/lib/python3.9/dist-packages/sklearn/metrics/_classification.py\", line 95, in _check_targets\n",
      "    raise ValueError(\n",
      "ValueError: Classification metrics can't handle a mix of multilabel-indicator and multiclass targets\n",
      "\n",
      "  warnings.warn(\n"
     ]
    },
    {
     "name": "stdout",
     "output_type": "stream",
     "text": [
      "102/102 [==============================] - 1s 2ms/step - loss: 1.3052 - accuracy: 0.3225\n",
      "51/51 [==============================] - 0s 1ms/step\n"
     ]
    },
    {
     "name": "stderr",
     "output_type": "stream",
     "text": [
      "/usr/local/lib/python3.9/dist-packages/sklearn/model_selection/_validation.py:778: UserWarning: Scoring failed. The score on this train-test partition for these parameters will be set to nan. Details: \n",
      "Traceback (most recent call last):\n",
      "  File \"/usr/local/lib/python3.9/dist-packages/sklearn/model_selection/_validation.py\", line 767, in _score\n",
      "    scores = scorer(estimator, X_test, y_test)\n",
      "  File \"/usr/local/lib/python3.9/dist-packages/sklearn/metrics/_scorer.py\", line 234, in __call__\n",
      "    return self._score(\n",
      "  File \"/usr/local/lib/python3.9/dist-packages/sklearn/metrics/_scorer.py\", line 282, in _score\n",
      "    return self._sign * self._score_func(y_true, y_pred, **self._kwargs)\n",
      "  File \"/usr/local/lib/python3.9/dist-packages/sklearn/utils/_param_validation.py\", line 192, in wrapper\n",
      "    return func(*args, **kwargs)\n",
      "  File \"/usr/local/lib/python3.9/dist-packages/sklearn/metrics/_classification.py\", line 221, in accuracy_score\n",
      "    y_type, y_true, y_pred = _check_targets(y_true, y_pred)\n",
      "  File \"/usr/local/lib/python3.9/dist-packages/sklearn/metrics/_classification.py\", line 95, in _check_targets\n",
      "    raise ValueError(\n",
      "ValueError: Classification metrics can't handle a mix of multilabel-indicator and multiclass targets\n",
      "\n",
      "  warnings.warn(\n"
     ]
    },
    {
     "name": "stdout",
     "output_type": "stream",
     "text": [
      "102/102 [==============================] - 1s 2ms/step - loss: 1.3010 - accuracy: 0.5154\n",
      "51/51 [==============================] - 0s 1ms/step\n"
     ]
    },
    {
     "name": "stderr",
     "output_type": "stream",
     "text": [
      "/usr/local/lib/python3.9/dist-packages/sklearn/model_selection/_validation.py:778: UserWarning: Scoring failed. The score on this train-test partition for these parameters will be set to nan. Details: \n",
      "Traceback (most recent call last):\n",
      "  File \"/usr/local/lib/python3.9/dist-packages/sklearn/model_selection/_validation.py\", line 767, in _score\n",
      "    scores = scorer(estimator, X_test, y_test)\n",
      "  File \"/usr/local/lib/python3.9/dist-packages/sklearn/metrics/_scorer.py\", line 234, in __call__\n",
      "    return self._score(\n",
      "  File \"/usr/local/lib/python3.9/dist-packages/sklearn/metrics/_scorer.py\", line 282, in _score\n",
      "    return self._sign * self._score_func(y_true, y_pred, **self._kwargs)\n",
      "  File \"/usr/local/lib/python3.9/dist-packages/sklearn/utils/_param_validation.py\", line 192, in wrapper\n",
      "    return func(*args, **kwargs)\n",
      "  File \"/usr/local/lib/python3.9/dist-packages/sklearn/metrics/_classification.py\", line 221, in accuracy_score\n",
      "    y_type, y_true, y_pred = _check_targets(y_true, y_pred)\n",
      "  File \"/usr/local/lib/python3.9/dist-packages/sklearn/metrics/_classification.py\", line 95, in _check_targets\n",
      "    raise ValueError(\n",
      "ValueError: Classification metrics can't handle a mix of multilabel-indicator and multiclass targets\n",
      "\n",
      "  warnings.warn(\n"
     ]
    },
    {
     "name": "stdout",
     "output_type": "stream",
     "text": [
      "102/102 [==============================] - 1s 2ms/step - loss: 1.2576 - accuracy: 0.4955\n",
      "51/51 [==============================] - 0s 2ms/step\n"
     ]
    },
    {
     "name": "stderr",
     "output_type": "stream",
     "text": [
      "/usr/local/lib/python3.9/dist-packages/sklearn/model_selection/_validation.py:778: UserWarning: Scoring failed. The score on this train-test partition for these parameters will be set to nan. Details: \n",
      "Traceback (most recent call last):\n",
      "  File \"/usr/local/lib/python3.9/dist-packages/sklearn/model_selection/_validation.py\", line 767, in _score\n",
      "    scores = scorer(estimator, X_test, y_test)\n",
      "  File \"/usr/local/lib/python3.9/dist-packages/sklearn/metrics/_scorer.py\", line 234, in __call__\n",
      "    return self._score(\n",
      "  File \"/usr/local/lib/python3.9/dist-packages/sklearn/metrics/_scorer.py\", line 282, in _score\n",
      "    return self._sign * self._score_func(y_true, y_pred, **self._kwargs)\n",
      "  File \"/usr/local/lib/python3.9/dist-packages/sklearn/utils/_param_validation.py\", line 192, in wrapper\n",
      "    return func(*args, **kwargs)\n",
      "  File \"/usr/local/lib/python3.9/dist-packages/sklearn/metrics/_classification.py\", line 221, in accuracy_score\n",
      "    y_type, y_true, y_pred = _check_targets(y_true, y_pred)\n",
      "  File \"/usr/local/lib/python3.9/dist-packages/sklearn/metrics/_classification.py\", line 95, in _check_targets\n",
      "    raise ValueError(\n",
      "ValueError: Classification metrics can't handle a mix of multilabel-indicator and multiclass targets\n",
      "\n",
      "  warnings.warn(\n"
     ]
    },
    {
     "name": "stdout",
     "output_type": "stream",
     "text": [
      "102/102 [==============================] - 1s 2ms/step - loss: 1.2555 - accuracy: 0.4807\n",
      "51/51 [==============================] - 0s 2ms/step\n"
     ]
    },
    {
     "name": "stderr",
     "output_type": "stream",
     "text": [
      "/usr/local/lib/python3.9/dist-packages/sklearn/model_selection/_validation.py:778: UserWarning: Scoring failed. The score on this train-test partition for these parameters will be set to nan. Details: \n",
      "Traceback (most recent call last):\n",
      "  File \"/usr/local/lib/python3.9/dist-packages/sklearn/model_selection/_validation.py\", line 767, in _score\n",
      "    scores = scorer(estimator, X_test, y_test)\n",
      "  File \"/usr/local/lib/python3.9/dist-packages/sklearn/metrics/_scorer.py\", line 234, in __call__\n",
      "    return self._score(\n",
      "  File \"/usr/local/lib/python3.9/dist-packages/sklearn/metrics/_scorer.py\", line 282, in _score\n",
      "    return self._sign * self._score_func(y_true, y_pred, **self._kwargs)\n",
      "  File \"/usr/local/lib/python3.9/dist-packages/sklearn/utils/_param_validation.py\", line 192, in wrapper\n",
      "    return func(*args, **kwargs)\n",
      "  File \"/usr/local/lib/python3.9/dist-packages/sklearn/metrics/_classification.py\", line 221, in accuracy_score\n",
      "    y_type, y_true, y_pred = _check_targets(y_true, y_pred)\n",
      "  File \"/usr/local/lib/python3.9/dist-packages/sklearn/metrics/_classification.py\", line 95, in _check_targets\n",
      "    raise ValueError(\n",
      "ValueError: Classification metrics can't handle a mix of multilabel-indicator and multiclass targets\n",
      "\n",
      "  warnings.warn(\n"
     ]
    },
    {
     "name": "stdout",
     "output_type": "stream",
     "text": [
      "102/102 [==============================] - 1s 2ms/step - loss: 1.3099 - accuracy: 0.5086\n",
      "51/51 [==============================] - 0s 1ms/step\n"
     ]
    },
    {
     "name": "stderr",
     "output_type": "stream",
     "text": [
      "/usr/local/lib/python3.9/dist-packages/sklearn/model_selection/_validation.py:778: UserWarning: Scoring failed. The score on this train-test partition for these parameters will be set to nan. Details: \n",
      "Traceback (most recent call last):\n",
      "  File \"/usr/local/lib/python3.9/dist-packages/sklearn/model_selection/_validation.py\", line 767, in _score\n",
      "    scores = scorer(estimator, X_test, y_test)\n",
      "  File \"/usr/local/lib/python3.9/dist-packages/sklearn/metrics/_scorer.py\", line 234, in __call__\n",
      "    return self._score(\n",
      "  File \"/usr/local/lib/python3.9/dist-packages/sklearn/metrics/_scorer.py\", line 282, in _score\n",
      "    return self._sign * self._score_func(y_true, y_pred, **self._kwargs)\n",
      "  File \"/usr/local/lib/python3.9/dist-packages/sklearn/utils/_param_validation.py\", line 192, in wrapper\n",
      "    return func(*args, **kwargs)\n",
      "  File \"/usr/local/lib/python3.9/dist-packages/sklearn/metrics/_classification.py\", line 221, in accuracy_score\n",
      "    y_type, y_true, y_pred = _check_targets(y_true, y_pred)\n",
      "  File \"/usr/local/lib/python3.9/dist-packages/sklearn/metrics/_classification.py\", line 95, in _check_targets\n",
      "    raise ValueError(\n",
      "ValueError: Classification metrics can't handle a mix of multilabel-indicator and multiclass targets\n",
      "\n",
      "  warnings.warn(\n"
     ]
    },
    {
     "name": "stdout",
     "output_type": "stream",
     "text": [
      "102/102 [==============================] - 1s 2ms/step - loss: 1.1956 - accuracy: 0.5020\n",
      "51/51 [==============================] - 0s 2ms/step\n"
     ]
    },
    {
     "name": "stderr",
     "output_type": "stream",
     "text": [
      "/usr/local/lib/python3.9/dist-packages/sklearn/model_selection/_validation.py:778: UserWarning: Scoring failed. The score on this train-test partition for these parameters will be set to nan. Details: \n",
      "Traceback (most recent call last):\n",
      "  File \"/usr/local/lib/python3.9/dist-packages/sklearn/model_selection/_validation.py\", line 767, in _score\n",
      "    scores = scorer(estimator, X_test, y_test)\n",
      "  File \"/usr/local/lib/python3.9/dist-packages/sklearn/metrics/_scorer.py\", line 234, in __call__\n",
      "    return self._score(\n",
      "  File \"/usr/local/lib/python3.9/dist-packages/sklearn/metrics/_scorer.py\", line 282, in _score\n",
      "    return self._sign * self._score_func(y_true, y_pred, **self._kwargs)\n",
      "  File \"/usr/local/lib/python3.9/dist-packages/sklearn/utils/_param_validation.py\", line 192, in wrapper\n",
      "    return func(*args, **kwargs)\n",
      "  File \"/usr/local/lib/python3.9/dist-packages/sklearn/metrics/_classification.py\", line 221, in accuracy_score\n",
      "    y_type, y_true, y_pred = _check_targets(y_true, y_pred)\n",
      "  File \"/usr/local/lib/python3.9/dist-packages/sklearn/metrics/_classification.py\", line 95, in _check_targets\n",
      "    raise ValueError(\n",
      "ValueError: Classification metrics can't handle a mix of multilabel-indicator and multiclass targets\n",
      "\n",
      "  warnings.warn(\n"
     ]
    },
    {
     "name": "stdout",
     "output_type": "stream",
     "text": [
      "102/102 [==============================] - 1s 3ms/step - loss: 1.1809 - accuracy: 0.5560\n",
      "51/51 [==============================] - 0s 2ms/step\n"
     ]
    },
    {
     "name": "stderr",
     "output_type": "stream",
     "text": [
      "/usr/local/lib/python3.9/dist-packages/sklearn/model_selection/_validation.py:778: UserWarning: Scoring failed. The score on this train-test partition for these parameters will be set to nan. Details: \n",
      "Traceback (most recent call last):\n",
      "  File \"/usr/local/lib/python3.9/dist-packages/sklearn/model_selection/_validation.py\", line 767, in _score\n",
      "    scores = scorer(estimator, X_test, y_test)\n",
      "  File \"/usr/local/lib/python3.9/dist-packages/sklearn/metrics/_scorer.py\", line 234, in __call__\n",
      "    return self._score(\n",
      "  File \"/usr/local/lib/python3.9/dist-packages/sklearn/metrics/_scorer.py\", line 282, in _score\n",
      "    return self._sign * self._score_func(y_true, y_pred, **self._kwargs)\n",
      "  File \"/usr/local/lib/python3.9/dist-packages/sklearn/utils/_param_validation.py\", line 192, in wrapper\n",
      "    return func(*args, **kwargs)\n",
      "  File \"/usr/local/lib/python3.9/dist-packages/sklearn/metrics/_classification.py\", line 221, in accuracy_score\n",
      "    y_type, y_true, y_pred = _check_targets(y_true, y_pred)\n",
      "  File \"/usr/local/lib/python3.9/dist-packages/sklearn/metrics/_classification.py\", line 95, in _check_targets\n",
      "    raise ValueError(\n",
      "ValueError: Classification metrics can't handle a mix of multilabel-indicator and multiclass targets\n",
      "\n",
      "  warnings.warn(\n"
     ]
    },
    {
     "name": "stdout",
     "output_type": "stream",
     "text": [
      "102/102 [==============================] - 1s 2ms/step - loss: 1.1506 - accuracy: 0.5629\n",
      "51/51 [==============================] - 0s 2ms/step\n"
     ]
    },
    {
     "name": "stderr",
     "output_type": "stream",
     "text": [
      "/usr/local/lib/python3.9/dist-packages/sklearn/model_selection/_validation.py:778: UserWarning: Scoring failed. The score on this train-test partition for these parameters will be set to nan. Details: \n",
      "Traceback (most recent call last):\n",
      "  File \"/usr/local/lib/python3.9/dist-packages/sklearn/model_selection/_validation.py\", line 767, in _score\n",
      "    scores = scorer(estimator, X_test, y_test)\n",
      "  File \"/usr/local/lib/python3.9/dist-packages/sklearn/metrics/_scorer.py\", line 234, in __call__\n",
      "    return self._score(\n",
      "  File \"/usr/local/lib/python3.9/dist-packages/sklearn/metrics/_scorer.py\", line 282, in _score\n",
      "    return self._sign * self._score_func(y_true, y_pred, **self._kwargs)\n",
      "  File \"/usr/local/lib/python3.9/dist-packages/sklearn/utils/_param_validation.py\", line 192, in wrapper\n",
      "    return func(*args, **kwargs)\n",
      "  File \"/usr/local/lib/python3.9/dist-packages/sklearn/metrics/_classification.py\", line 221, in accuracy_score\n",
      "    y_type, y_true, y_pred = _check_targets(y_true, y_pred)\n",
      "  File \"/usr/local/lib/python3.9/dist-packages/sklearn/metrics/_classification.py\", line 95, in _check_targets\n",
      "    raise ValueError(\n",
      "ValueError: Classification metrics can't handle a mix of multilabel-indicator and multiclass targets\n",
      "\n",
      "  warnings.warn(\n"
     ]
    },
    {
     "name": "stdout",
     "output_type": "stream",
     "text": [
      "102/102 [==============================] - 1s 2ms/step - loss: 1.0414 - accuracy: 0.6198\n",
      "51/51 [==============================] - 0s 2ms/step\n"
     ]
    },
    {
     "name": "stderr",
     "output_type": "stream",
     "text": [
      "/usr/local/lib/python3.9/dist-packages/sklearn/model_selection/_validation.py:778: UserWarning: Scoring failed. The score on this train-test partition for these parameters will be set to nan. Details: \n",
      "Traceback (most recent call last):\n",
      "  File \"/usr/local/lib/python3.9/dist-packages/sklearn/model_selection/_validation.py\", line 767, in _score\n",
      "    scores = scorer(estimator, X_test, y_test)\n",
      "  File \"/usr/local/lib/python3.9/dist-packages/sklearn/metrics/_scorer.py\", line 234, in __call__\n",
      "    return self._score(\n",
      "  File \"/usr/local/lib/python3.9/dist-packages/sklearn/metrics/_scorer.py\", line 282, in _score\n",
      "    return self._sign * self._score_func(y_true, y_pred, **self._kwargs)\n",
      "  File \"/usr/local/lib/python3.9/dist-packages/sklearn/utils/_param_validation.py\", line 192, in wrapper\n",
      "    return func(*args, **kwargs)\n",
      "  File \"/usr/local/lib/python3.9/dist-packages/sklearn/metrics/_classification.py\", line 221, in accuracy_score\n",
      "    y_type, y_true, y_pred = _check_targets(y_true, y_pred)\n",
      "  File \"/usr/local/lib/python3.9/dist-packages/sklearn/metrics/_classification.py\", line 95, in _check_targets\n",
      "    raise ValueError(\n",
      "ValueError: Classification metrics can't handle a mix of multilabel-indicator and multiclass targets\n",
      "\n",
      "  warnings.warn(\n"
     ]
    },
    {
     "name": "stdout",
     "output_type": "stream",
     "text": [
      "102/102 [==============================] - 1s 2ms/step - loss: 1.0048 - accuracy: 0.6417\n",
      "51/51 [==============================] - 0s 2ms/step\n"
     ]
    },
    {
     "name": "stderr",
     "output_type": "stream",
     "text": [
      "/usr/local/lib/python3.9/dist-packages/sklearn/model_selection/_validation.py:778: UserWarning: Scoring failed. The score on this train-test partition for these parameters will be set to nan. Details: \n",
      "Traceback (most recent call last):\n",
      "  File \"/usr/local/lib/python3.9/dist-packages/sklearn/model_selection/_validation.py\", line 767, in _score\n",
      "    scores = scorer(estimator, X_test, y_test)\n",
      "  File \"/usr/local/lib/python3.9/dist-packages/sklearn/metrics/_scorer.py\", line 234, in __call__\n",
      "    return self._score(\n",
      "  File \"/usr/local/lib/python3.9/dist-packages/sklearn/metrics/_scorer.py\", line 282, in _score\n",
      "    return self._sign * self._score_func(y_true, y_pred, **self._kwargs)\n",
      "  File \"/usr/local/lib/python3.9/dist-packages/sklearn/utils/_param_validation.py\", line 192, in wrapper\n",
      "    return func(*args, **kwargs)\n",
      "  File \"/usr/local/lib/python3.9/dist-packages/sklearn/metrics/_classification.py\", line 221, in accuracy_score\n",
      "    y_type, y_true, y_pred = _check_targets(y_true, y_pred)\n",
      "  File \"/usr/local/lib/python3.9/dist-packages/sklearn/metrics/_classification.py\", line 95, in _check_targets\n",
      "    raise ValueError(\n",
      "ValueError: Classification metrics can't handle a mix of multilabel-indicator and binary targets\n",
      "\n",
      "  warnings.warn(\n"
     ]
    },
    {
     "name": "stdout",
     "output_type": "stream",
     "text": [
      "102/102 [==============================] - 1s 2ms/step - loss: 1.0395 - accuracy: 0.6603\n",
      "51/51 [==============================] - 0s 2ms/step\n"
     ]
    },
    {
     "name": "stderr",
     "output_type": "stream",
     "text": [
      "/usr/local/lib/python3.9/dist-packages/sklearn/model_selection/_validation.py:778: UserWarning: Scoring failed. The score on this train-test partition for these parameters will be set to nan. Details: \n",
      "Traceback (most recent call last):\n",
      "  File \"/usr/local/lib/python3.9/dist-packages/sklearn/model_selection/_validation.py\", line 767, in _score\n",
      "    scores = scorer(estimator, X_test, y_test)\n",
      "  File \"/usr/local/lib/python3.9/dist-packages/sklearn/metrics/_scorer.py\", line 234, in __call__\n",
      "    return self._score(\n",
      "  File \"/usr/local/lib/python3.9/dist-packages/sklearn/metrics/_scorer.py\", line 282, in _score\n",
      "    return self._sign * self._score_func(y_true, y_pred, **self._kwargs)\n",
      "  File \"/usr/local/lib/python3.9/dist-packages/sklearn/utils/_param_validation.py\", line 192, in wrapper\n",
      "    return func(*args, **kwargs)\n",
      "  File \"/usr/local/lib/python3.9/dist-packages/sklearn/metrics/_classification.py\", line 221, in accuracy_score\n",
      "    y_type, y_true, y_pred = _check_targets(y_true, y_pred)\n",
      "  File \"/usr/local/lib/python3.9/dist-packages/sklearn/metrics/_classification.py\", line 95, in _check_targets\n",
      "    raise ValueError(\n",
      "ValueError: Classification metrics can't handle a mix of multilabel-indicator and binary targets\n",
      "\n",
      "  warnings.warn(\n"
     ]
    },
    {
     "name": "stdout",
     "output_type": "stream",
     "text": [
      "102/102 [==============================] - 2s 2ms/step - loss: 0.6706 - accuracy: 0.7533\n",
      "51/51 [==============================] - 0s 2ms/step\n"
     ]
    },
    {
     "name": "stderr",
     "output_type": "stream",
     "text": [
      "/usr/local/lib/python3.9/dist-packages/sklearn/model_selection/_validation.py:778: UserWarning: Scoring failed. The score on this train-test partition for these parameters will be set to nan. Details: \n",
      "Traceback (most recent call last):\n",
      "  File \"/usr/local/lib/python3.9/dist-packages/sklearn/model_selection/_validation.py\", line 767, in _score\n",
      "    scores = scorer(estimator, X_test, y_test)\n",
      "  File \"/usr/local/lib/python3.9/dist-packages/sklearn/metrics/_scorer.py\", line 234, in __call__\n",
      "    return self._score(\n",
      "  File \"/usr/local/lib/python3.9/dist-packages/sklearn/metrics/_scorer.py\", line 282, in _score\n",
      "    return self._sign * self._score_func(y_true, y_pred, **self._kwargs)\n",
      "  File \"/usr/local/lib/python3.9/dist-packages/sklearn/utils/_param_validation.py\", line 192, in wrapper\n",
      "    return func(*args, **kwargs)\n",
      "  File \"/usr/local/lib/python3.9/dist-packages/sklearn/metrics/_classification.py\", line 221, in accuracy_score\n",
      "    y_type, y_true, y_pred = _check_targets(y_true, y_pred)\n",
      "  File \"/usr/local/lib/python3.9/dist-packages/sklearn/metrics/_classification.py\", line 95, in _check_targets\n",
      "    raise ValueError(\n",
      "ValueError: Classification metrics can't handle a mix of multilabel-indicator and binary targets\n",
      "\n",
      "  warnings.warn(\n"
     ]
    },
    {
     "name": "stdout",
     "output_type": "stream",
     "text": [
      "102/102 [==============================] - 1s 2ms/step - loss: 0.7075 - accuracy: 0.7484\n",
      "51/51 [==============================] - 0s 2ms/step\n"
     ]
    },
    {
     "name": "stderr",
     "output_type": "stream",
     "text": [
      "/usr/local/lib/python3.9/dist-packages/sklearn/model_selection/_validation.py:778: UserWarning: Scoring failed. The score on this train-test partition for these parameters will be set to nan. Details: \n",
      "Traceback (most recent call last):\n",
      "  File \"/usr/local/lib/python3.9/dist-packages/sklearn/model_selection/_validation.py\", line 767, in _score\n",
      "    scores = scorer(estimator, X_test, y_test)\n",
      "  File \"/usr/local/lib/python3.9/dist-packages/sklearn/metrics/_scorer.py\", line 234, in __call__\n",
      "    return self._score(\n",
      "  File \"/usr/local/lib/python3.9/dist-packages/sklearn/metrics/_scorer.py\", line 282, in _score\n",
      "    return self._sign * self._score_func(y_true, y_pred, **self._kwargs)\n",
      "  File \"/usr/local/lib/python3.9/dist-packages/sklearn/utils/_param_validation.py\", line 192, in wrapper\n",
      "    return func(*args, **kwargs)\n",
      "  File \"/usr/local/lib/python3.9/dist-packages/sklearn/metrics/_classification.py\", line 221, in accuracy_score\n",
      "    y_type, y_true, y_pred = _check_targets(y_true, y_pred)\n",
      "  File \"/usr/local/lib/python3.9/dist-packages/sklearn/metrics/_classification.py\", line 95, in _check_targets\n",
      "    raise ValueError(\n",
      "ValueError: Classification metrics can't handle a mix of multilabel-indicator and binary targets\n",
      "\n",
      "  warnings.warn(\n"
     ]
    },
    {
     "name": "stdout",
     "output_type": "stream",
     "text": [
      "102/102 [==============================] - 1s 2ms/step - loss: 0.7338 - accuracy: 0.7281\n",
      "51/51 [==============================] - 0s 2ms/step\n"
     ]
    },
    {
     "name": "stderr",
     "output_type": "stream",
     "text": [
      "/usr/local/lib/python3.9/dist-packages/sklearn/model_selection/_validation.py:778: UserWarning: Scoring failed. The score on this train-test partition for these parameters will be set to nan. Details: \n",
      "Traceback (most recent call last):\n",
      "  File \"/usr/local/lib/python3.9/dist-packages/sklearn/model_selection/_validation.py\", line 767, in _score\n",
      "    scores = scorer(estimator, X_test, y_test)\n",
      "  File \"/usr/local/lib/python3.9/dist-packages/sklearn/metrics/_scorer.py\", line 234, in __call__\n",
      "    return self._score(\n",
      "  File \"/usr/local/lib/python3.9/dist-packages/sklearn/metrics/_scorer.py\", line 282, in _score\n",
      "    return self._sign * self._score_func(y_true, y_pred, **self._kwargs)\n",
      "  File \"/usr/local/lib/python3.9/dist-packages/sklearn/utils/_param_validation.py\", line 192, in wrapper\n",
      "    return func(*args, **kwargs)\n",
      "  File \"/usr/local/lib/python3.9/dist-packages/sklearn/metrics/_classification.py\", line 221, in accuracy_score\n",
      "    y_type, y_true, y_pred = _check_targets(y_true, y_pred)\n",
      "  File \"/usr/local/lib/python3.9/dist-packages/sklearn/metrics/_classification.py\", line 95, in _check_targets\n",
      "    raise ValueError(\n",
      "ValueError: Classification metrics can't handle a mix of multilabel-indicator and binary targets\n",
      "\n",
      "  warnings.warn(\n"
     ]
    },
    {
     "name": "stdout",
     "output_type": "stream",
     "text": [
      "102/102 [==============================] - 2s 4ms/step - loss: 0.6566 - accuracy: 0.7490\n",
      "51/51 [==============================] - 0s 2ms/step\n"
     ]
    },
    {
     "name": "stderr",
     "output_type": "stream",
     "text": [
      "/usr/local/lib/python3.9/dist-packages/sklearn/model_selection/_validation.py:778: UserWarning: Scoring failed. The score on this train-test partition for these parameters will be set to nan. Details: \n",
      "Traceback (most recent call last):\n",
      "  File \"/usr/local/lib/python3.9/dist-packages/sklearn/model_selection/_validation.py\", line 767, in _score\n",
      "    scores = scorer(estimator, X_test, y_test)\n",
      "  File \"/usr/local/lib/python3.9/dist-packages/sklearn/metrics/_scorer.py\", line 234, in __call__\n",
      "    return self._score(\n",
      "  File \"/usr/local/lib/python3.9/dist-packages/sklearn/metrics/_scorer.py\", line 282, in _score\n",
      "    return self._sign * self._score_func(y_true, y_pred, **self._kwargs)\n",
      "  File \"/usr/local/lib/python3.9/dist-packages/sklearn/utils/_param_validation.py\", line 192, in wrapper\n",
      "    return func(*args, **kwargs)\n",
      "  File \"/usr/local/lib/python3.9/dist-packages/sklearn/metrics/_classification.py\", line 221, in accuracy_score\n",
      "    y_type, y_true, y_pred = _check_targets(y_true, y_pred)\n",
      "  File \"/usr/local/lib/python3.9/dist-packages/sklearn/metrics/_classification.py\", line 95, in _check_targets\n",
      "    raise ValueError(\n",
      "ValueError: Classification metrics can't handle a mix of multilabel-indicator and binary targets\n",
      "\n",
      "  warnings.warn(\n"
     ]
    },
    {
     "name": "stdout",
     "output_type": "stream",
     "text": [
      "102/102 [==============================] - 1s 3ms/step - loss: 0.6477 - accuracy: 0.7499\n",
      "51/51 [==============================] - 0s 2ms/step\n"
     ]
    },
    {
     "name": "stderr",
     "output_type": "stream",
     "text": [
      "/usr/local/lib/python3.9/dist-packages/sklearn/model_selection/_validation.py:778: UserWarning: Scoring failed. The score on this train-test partition for these parameters will be set to nan. Details: \n",
      "Traceback (most recent call last):\n",
      "  File \"/usr/local/lib/python3.9/dist-packages/sklearn/model_selection/_validation.py\", line 767, in _score\n",
      "    scores = scorer(estimator, X_test, y_test)\n",
      "  File \"/usr/local/lib/python3.9/dist-packages/sklearn/metrics/_scorer.py\", line 234, in __call__\n",
      "    return self._score(\n",
      "  File \"/usr/local/lib/python3.9/dist-packages/sklearn/metrics/_scorer.py\", line 282, in _score\n",
      "    return self._sign * self._score_func(y_true, y_pred, **self._kwargs)\n",
      "  File \"/usr/local/lib/python3.9/dist-packages/sklearn/utils/_param_validation.py\", line 192, in wrapper\n",
      "    return func(*args, **kwargs)\n",
      "  File \"/usr/local/lib/python3.9/dist-packages/sklearn/metrics/_classification.py\", line 221, in accuracy_score\n",
      "    y_type, y_true, y_pred = _check_targets(y_true, y_pred)\n",
      "  File \"/usr/local/lib/python3.9/dist-packages/sklearn/metrics/_classification.py\", line 95, in _check_targets\n",
      "    raise ValueError(\n",
      "ValueError: Classification metrics can't handle a mix of multilabel-indicator and binary targets\n",
      "\n",
      "  warnings.warn(\n"
     ]
    },
    {
     "name": "stdout",
     "output_type": "stream",
     "text": [
      "102/102 [==============================] - 1s 3ms/step - loss: 0.6864 - accuracy: 0.7534\n",
      "51/51 [==============================] - 0s 2ms/step\n"
     ]
    },
    {
     "name": "stderr",
     "output_type": "stream",
     "text": [
      "/usr/local/lib/python3.9/dist-packages/sklearn/model_selection/_validation.py:778: UserWarning: Scoring failed. The score on this train-test partition for these parameters will be set to nan. Details: \n",
      "Traceback (most recent call last):\n",
      "  File \"/usr/local/lib/python3.9/dist-packages/sklearn/model_selection/_validation.py\", line 767, in _score\n",
      "    scores = scorer(estimator, X_test, y_test)\n",
      "  File \"/usr/local/lib/python3.9/dist-packages/sklearn/metrics/_scorer.py\", line 234, in __call__\n",
      "    return self._score(\n",
      "  File \"/usr/local/lib/python3.9/dist-packages/sklearn/metrics/_scorer.py\", line 282, in _score\n",
      "    return self._sign * self._score_func(y_true, y_pred, **self._kwargs)\n",
      "  File \"/usr/local/lib/python3.9/dist-packages/sklearn/utils/_param_validation.py\", line 192, in wrapper\n",
      "    return func(*args, **kwargs)\n",
      "  File \"/usr/local/lib/python3.9/dist-packages/sklearn/metrics/_classification.py\", line 221, in accuracy_score\n",
      "    y_type, y_true, y_pred = _check_targets(y_true, y_pred)\n",
      "  File \"/usr/local/lib/python3.9/dist-packages/sklearn/metrics/_classification.py\", line 95, in _check_targets\n",
      "    raise ValueError(\n",
      "ValueError: Classification metrics can't handle a mix of multilabel-indicator and binary targets\n",
      "\n",
      "  warnings.warn(\n"
     ]
    },
    {
     "name": "stdout",
     "output_type": "stream",
     "text": [
      "102/102 [==============================] - 1s 2ms/step - loss: 0.5826 - accuracy: 0.7660\n",
      "51/51 [==============================] - 0s 2ms/step\n"
     ]
    },
    {
     "name": "stderr",
     "output_type": "stream",
     "text": [
      "/usr/local/lib/python3.9/dist-packages/sklearn/model_selection/_validation.py:778: UserWarning: Scoring failed. The score on this train-test partition for these parameters will be set to nan. Details: \n",
      "Traceback (most recent call last):\n",
      "  File \"/usr/local/lib/python3.9/dist-packages/sklearn/model_selection/_validation.py\", line 767, in _score\n",
      "    scores = scorer(estimator, X_test, y_test)\n",
      "  File \"/usr/local/lib/python3.9/dist-packages/sklearn/metrics/_scorer.py\", line 234, in __call__\n",
      "    return self._score(\n",
      "  File \"/usr/local/lib/python3.9/dist-packages/sklearn/metrics/_scorer.py\", line 282, in _score\n",
      "    return self._sign * self._score_func(y_true, y_pred, **self._kwargs)\n",
      "  File \"/usr/local/lib/python3.9/dist-packages/sklearn/utils/_param_validation.py\", line 192, in wrapper\n",
      "    return func(*args, **kwargs)\n",
      "  File \"/usr/local/lib/python3.9/dist-packages/sklearn/metrics/_classification.py\", line 221, in accuracy_score\n",
      "    y_type, y_true, y_pred = _check_targets(y_true, y_pred)\n",
      "  File \"/usr/local/lib/python3.9/dist-packages/sklearn/metrics/_classification.py\", line 95, in _check_targets\n",
      "    raise ValueError(\n",
      "ValueError: Classification metrics can't handle a mix of multilabel-indicator and binary targets\n",
      "\n",
      "  warnings.warn(\n"
     ]
    },
    {
     "name": "stdout",
     "output_type": "stream",
     "text": [
      "102/102 [==============================] - 1s 2ms/step - loss: 0.5951 - accuracy: 0.7613\n",
      "51/51 [==============================] - 0s 1ms/step\n"
     ]
    },
    {
     "name": "stderr",
     "output_type": "stream",
     "text": [
      "/usr/local/lib/python3.9/dist-packages/sklearn/model_selection/_validation.py:778: UserWarning: Scoring failed. The score on this train-test partition for these parameters will be set to nan. Details: \n",
      "Traceback (most recent call last):\n",
      "  File \"/usr/local/lib/python3.9/dist-packages/sklearn/model_selection/_validation.py\", line 767, in _score\n",
      "    scores = scorer(estimator, X_test, y_test)\n",
      "  File \"/usr/local/lib/python3.9/dist-packages/sklearn/metrics/_scorer.py\", line 234, in __call__\n",
      "    return self._score(\n",
      "  File \"/usr/local/lib/python3.9/dist-packages/sklearn/metrics/_scorer.py\", line 282, in _score\n",
      "    return self._sign * self._score_func(y_true, y_pred, **self._kwargs)\n",
      "  File \"/usr/local/lib/python3.9/dist-packages/sklearn/utils/_param_validation.py\", line 192, in wrapper\n",
      "    return func(*args, **kwargs)\n",
      "  File \"/usr/local/lib/python3.9/dist-packages/sklearn/metrics/_classification.py\", line 221, in accuracy_score\n",
      "    y_type, y_true, y_pred = _check_targets(y_true, y_pred)\n",
      "  File \"/usr/local/lib/python3.9/dist-packages/sklearn/metrics/_classification.py\", line 95, in _check_targets\n",
      "    raise ValueError(\n",
      "ValueError: Classification metrics can't handle a mix of multilabel-indicator and binary targets\n",
      "\n",
      "  warnings.warn(\n"
     ]
    },
    {
     "name": "stdout",
     "output_type": "stream",
     "text": [
      "102/102 [==============================] - 1s 2ms/step - loss: 0.5793 - accuracy: 0.7617\n",
      "51/51 [==============================] - 0s 1ms/step\n"
     ]
    },
    {
     "name": "stderr",
     "output_type": "stream",
     "text": [
      "/usr/local/lib/python3.9/dist-packages/sklearn/model_selection/_validation.py:778: UserWarning: Scoring failed. The score on this train-test partition for these parameters will be set to nan. Details: \n",
      "Traceback (most recent call last):\n",
      "  File \"/usr/local/lib/python3.9/dist-packages/sklearn/model_selection/_validation.py\", line 767, in _score\n",
      "    scores = scorer(estimator, X_test, y_test)\n",
      "  File \"/usr/local/lib/python3.9/dist-packages/sklearn/metrics/_scorer.py\", line 234, in __call__\n",
      "    return self._score(\n",
      "  File \"/usr/local/lib/python3.9/dist-packages/sklearn/metrics/_scorer.py\", line 282, in _score\n",
      "    return self._sign * self._score_func(y_true, y_pred, **self._kwargs)\n",
      "  File \"/usr/local/lib/python3.9/dist-packages/sklearn/utils/_param_validation.py\", line 192, in wrapper\n",
      "    return func(*args, **kwargs)\n",
      "  File \"/usr/local/lib/python3.9/dist-packages/sklearn/metrics/_classification.py\", line 221, in accuracy_score\n",
      "    y_type, y_true, y_pred = _check_targets(y_true, y_pred)\n",
      "  File \"/usr/local/lib/python3.9/dist-packages/sklearn/metrics/_classification.py\", line 95, in _check_targets\n",
      "    raise ValueError(\n",
      "ValueError: Classification metrics can't handle a mix of multilabel-indicator and binary targets\n",
      "\n",
      "  warnings.warn(\n"
     ]
    },
    {
     "name": "stdout",
     "output_type": "stream",
     "text": [
      "102/102 [==============================] - 1s 2ms/step - loss: 0.5471 - accuracy: 0.7786\n",
      "51/51 [==============================] - 0s 2ms/step\n"
     ]
    },
    {
     "name": "stderr",
     "output_type": "stream",
     "text": [
      "/usr/local/lib/python3.9/dist-packages/sklearn/model_selection/_validation.py:778: UserWarning: Scoring failed. The score on this train-test partition for these parameters will be set to nan. Details: \n",
      "Traceback (most recent call last):\n",
      "  File \"/usr/local/lib/python3.9/dist-packages/sklearn/model_selection/_validation.py\", line 767, in _score\n",
      "    scores = scorer(estimator, X_test, y_test)\n",
      "  File \"/usr/local/lib/python3.9/dist-packages/sklearn/metrics/_scorer.py\", line 234, in __call__\n",
      "    return self._score(\n",
      "  File \"/usr/local/lib/python3.9/dist-packages/sklearn/metrics/_scorer.py\", line 282, in _score\n",
      "    return self._sign * self._score_func(y_true, y_pred, **self._kwargs)\n",
      "  File \"/usr/local/lib/python3.9/dist-packages/sklearn/utils/_param_validation.py\", line 192, in wrapper\n",
      "    return func(*args, **kwargs)\n",
      "  File \"/usr/local/lib/python3.9/dist-packages/sklearn/metrics/_classification.py\", line 221, in accuracy_score\n",
      "    y_type, y_true, y_pred = _check_targets(y_true, y_pred)\n",
      "  File \"/usr/local/lib/python3.9/dist-packages/sklearn/metrics/_classification.py\", line 95, in _check_targets\n",
      "    raise ValueError(\n",
      "ValueError: Classification metrics can't handle a mix of multilabel-indicator and binary targets\n",
      "\n",
      "  warnings.warn(\n"
     ]
    },
    {
     "name": "stdout",
     "output_type": "stream",
     "text": [
      "102/102 [==============================] - 1s 2ms/step - loss: 0.5669 - accuracy: 0.7687\n",
      "51/51 [==============================] - 0s 2ms/step\n"
     ]
    },
    {
     "name": "stderr",
     "output_type": "stream",
     "text": [
      "/usr/local/lib/python3.9/dist-packages/sklearn/model_selection/_validation.py:778: UserWarning: Scoring failed. The score on this train-test partition for these parameters will be set to nan. Details: \n",
      "Traceback (most recent call last):\n",
      "  File \"/usr/local/lib/python3.9/dist-packages/sklearn/model_selection/_validation.py\", line 767, in _score\n",
      "    scores = scorer(estimator, X_test, y_test)\n",
      "  File \"/usr/local/lib/python3.9/dist-packages/sklearn/metrics/_scorer.py\", line 234, in __call__\n",
      "    return self._score(\n",
      "  File \"/usr/local/lib/python3.9/dist-packages/sklearn/metrics/_scorer.py\", line 282, in _score\n",
      "    return self._sign * self._score_func(y_true, y_pred, **self._kwargs)\n",
      "  File \"/usr/local/lib/python3.9/dist-packages/sklearn/utils/_param_validation.py\", line 192, in wrapper\n",
      "    return func(*args, **kwargs)\n",
      "  File \"/usr/local/lib/python3.9/dist-packages/sklearn/metrics/_classification.py\", line 221, in accuracy_score\n",
      "    y_type, y_true, y_pred = _check_targets(y_true, y_pred)\n",
      "  File \"/usr/local/lib/python3.9/dist-packages/sklearn/metrics/_classification.py\", line 95, in _check_targets\n",
      "    raise ValueError(\n",
      "ValueError: Classification metrics can't handle a mix of multilabel-indicator and binary targets\n",
      "\n",
      "  warnings.warn(\n"
     ]
    },
    {
     "name": "stdout",
     "output_type": "stream",
     "text": [
      "102/102 [==============================] - 1s 3ms/step - loss: 0.5454 - accuracy: 0.7821\n",
      "51/51 [==============================] - 0s 2ms/step\n"
     ]
    },
    {
     "name": "stderr",
     "output_type": "stream",
     "text": [
      "/usr/local/lib/python3.9/dist-packages/sklearn/model_selection/_validation.py:778: UserWarning: Scoring failed. The score on this train-test partition for these parameters will be set to nan. Details: \n",
      "Traceback (most recent call last):\n",
      "  File \"/usr/local/lib/python3.9/dist-packages/sklearn/model_selection/_validation.py\", line 767, in _score\n",
      "    scores = scorer(estimator, X_test, y_test)\n",
      "  File \"/usr/local/lib/python3.9/dist-packages/sklearn/metrics/_scorer.py\", line 234, in __call__\n",
      "    return self._score(\n",
      "  File \"/usr/local/lib/python3.9/dist-packages/sklearn/metrics/_scorer.py\", line 282, in _score\n",
      "    return self._sign * self._score_func(y_true, y_pred, **self._kwargs)\n",
      "  File \"/usr/local/lib/python3.9/dist-packages/sklearn/utils/_param_validation.py\", line 192, in wrapper\n",
      "    return func(*args, **kwargs)\n",
      "  File \"/usr/local/lib/python3.9/dist-packages/sklearn/metrics/_classification.py\", line 221, in accuracy_score\n",
      "    y_type, y_true, y_pred = _check_targets(y_true, y_pred)\n",
      "  File \"/usr/local/lib/python3.9/dist-packages/sklearn/metrics/_classification.py\", line 95, in _check_targets\n",
      "    raise ValueError(\n",
      "ValueError: Classification metrics can't handle a mix of multilabel-indicator and binary targets\n",
      "\n",
      "  warnings.warn(\n"
     ]
    },
    {
     "name": "stdout",
     "output_type": "stream",
     "text": [
      "102/102 [==============================] - 1s 2ms/step - loss: 0.5161 - accuracy: 0.7798\n",
      "51/51 [==============================] - 0s 2ms/step\n"
     ]
    },
    {
     "name": "stderr",
     "output_type": "stream",
     "text": [
      "/usr/local/lib/python3.9/dist-packages/sklearn/model_selection/_validation.py:778: UserWarning: Scoring failed. The score on this train-test partition for these parameters will be set to nan. Details: \n",
      "Traceback (most recent call last):\n",
      "  File \"/usr/local/lib/python3.9/dist-packages/sklearn/model_selection/_validation.py\", line 767, in _score\n",
      "    scores = scorer(estimator, X_test, y_test)\n",
      "  File \"/usr/local/lib/python3.9/dist-packages/sklearn/metrics/_scorer.py\", line 234, in __call__\n",
      "    return self._score(\n",
      "  File \"/usr/local/lib/python3.9/dist-packages/sklearn/metrics/_scorer.py\", line 282, in _score\n",
      "    return self._sign * self._score_func(y_true, y_pred, **self._kwargs)\n",
      "  File \"/usr/local/lib/python3.9/dist-packages/sklearn/utils/_param_validation.py\", line 192, in wrapper\n",
      "    return func(*args, **kwargs)\n",
      "  File \"/usr/local/lib/python3.9/dist-packages/sklearn/metrics/_classification.py\", line 221, in accuracy_score\n",
      "    y_type, y_true, y_pred = _check_targets(y_true, y_pred)\n",
      "  File \"/usr/local/lib/python3.9/dist-packages/sklearn/metrics/_classification.py\", line 95, in _check_targets\n",
      "    raise ValueError(\n",
      "ValueError: Classification metrics can't handle a mix of multilabel-indicator and binary targets\n",
      "\n",
      "  warnings.warn(\n"
     ]
    },
    {
     "name": "stdout",
     "output_type": "stream",
     "text": [
      "102/102 [==============================] - 2s 3ms/step - loss: 0.5420 - accuracy: 0.7721\n",
      "51/51 [==============================] - 0s 2ms/step\n"
     ]
    },
    {
     "name": "stderr",
     "output_type": "stream",
     "text": [
      "/usr/local/lib/python3.9/dist-packages/sklearn/model_selection/_validation.py:778: UserWarning: Scoring failed. The score on this train-test partition for these parameters will be set to nan. Details: \n",
      "Traceback (most recent call last):\n",
      "  File \"/usr/local/lib/python3.9/dist-packages/sklearn/model_selection/_validation.py\", line 767, in _score\n",
      "    scores = scorer(estimator, X_test, y_test)\n",
      "  File \"/usr/local/lib/python3.9/dist-packages/sklearn/metrics/_scorer.py\", line 234, in __call__\n",
      "    return self._score(\n",
      "  File \"/usr/local/lib/python3.9/dist-packages/sklearn/metrics/_scorer.py\", line 282, in _score\n",
      "    return self._sign * self._score_func(y_true, y_pred, **self._kwargs)\n",
      "  File \"/usr/local/lib/python3.9/dist-packages/sklearn/utils/_param_validation.py\", line 192, in wrapper\n",
      "    return func(*args, **kwargs)\n",
      "  File \"/usr/local/lib/python3.9/dist-packages/sklearn/metrics/_classification.py\", line 221, in accuracy_score\n",
      "    y_type, y_true, y_pred = _check_targets(y_true, y_pred)\n",
      "  File \"/usr/local/lib/python3.9/dist-packages/sklearn/metrics/_classification.py\", line 95, in _check_targets\n",
      "    raise ValueError(\n",
      "ValueError: Classification metrics can't handle a mix of multilabel-indicator and binary targets\n",
      "\n",
      "  warnings.warn(\n"
     ]
    },
    {
     "name": "stdout",
     "output_type": "stream",
     "text": [
      "102/102 [==============================] - 1s 2ms/step - loss: 0.5323 - accuracy: 0.7756\n",
      "51/51 [==============================] - 0s 2ms/step\n"
     ]
    },
    {
     "name": "stderr",
     "output_type": "stream",
     "text": [
      "/usr/local/lib/python3.9/dist-packages/sklearn/model_selection/_validation.py:778: UserWarning: Scoring failed. The score on this train-test partition for these parameters will be set to nan. Details: \n",
      "Traceback (most recent call last):\n",
      "  File \"/usr/local/lib/python3.9/dist-packages/sklearn/model_selection/_validation.py\", line 767, in _score\n",
      "    scores = scorer(estimator, X_test, y_test)\n",
      "  File \"/usr/local/lib/python3.9/dist-packages/sklearn/metrics/_scorer.py\", line 234, in __call__\n",
      "    return self._score(\n",
      "  File \"/usr/local/lib/python3.9/dist-packages/sklearn/metrics/_scorer.py\", line 282, in _score\n",
      "    return self._sign * self._score_func(y_true, y_pred, **self._kwargs)\n",
      "  File \"/usr/local/lib/python3.9/dist-packages/sklearn/utils/_param_validation.py\", line 192, in wrapper\n",
      "    return func(*args, **kwargs)\n",
      "  File \"/usr/local/lib/python3.9/dist-packages/sklearn/metrics/_classification.py\", line 221, in accuracy_score\n",
      "    y_type, y_true, y_pred = _check_targets(y_true, y_pred)\n",
      "  File \"/usr/local/lib/python3.9/dist-packages/sklearn/metrics/_classification.py\", line 95, in _check_targets\n",
      "    raise ValueError(\n",
      "ValueError: Classification metrics can't handle a mix of multilabel-indicator and binary targets\n",
      "\n",
      "  warnings.warn(\n"
     ]
    },
    {
     "name": "stdout",
     "output_type": "stream",
     "text": [
      "102/102 [==============================] - 1s 2ms/step - loss: 0.5200 - accuracy: 0.7869\n",
      "51/51 [==============================] - 0s 2ms/step\n"
     ]
    },
    {
     "name": "stderr",
     "output_type": "stream",
     "text": [
      "/usr/local/lib/python3.9/dist-packages/sklearn/model_selection/_validation.py:778: UserWarning: Scoring failed. The score on this train-test partition for these parameters will be set to nan. Details: \n",
      "Traceback (most recent call last):\n",
      "  File \"/usr/local/lib/python3.9/dist-packages/sklearn/model_selection/_validation.py\", line 767, in _score\n",
      "    scores = scorer(estimator, X_test, y_test)\n",
      "  File \"/usr/local/lib/python3.9/dist-packages/sklearn/metrics/_scorer.py\", line 234, in __call__\n",
      "    return self._score(\n",
      "  File \"/usr/local/lib/python3.9/dist-packages/sklearn/metrics/_scorer.py\", line 282, in _score\n",
      "    return self._sign * self._score_func(y_true, y_pred, **self._kwargs)\n",
      "  File \"/usr/local/lib/python3.9/dist-packages/sklearn/utils/_param_validation.py\", line 192, in wrapper\n",
      "    return func(*args, **kwargs)\n",
      "  File \"/usr/local/lib/python3.9/dist-packages/sklearn/metrics/_classification.py\", line 221, in accuracy_score\n",
      "    y_type, y_true, y_pred = _check_targets(y_true, y_pred)\n",
      "  File \"/usr/local/lib/python3.9/dist-packages/sklearn/metrics/_classification.py\", line 95, in _check_targets\n",
      "    raise ValueError(\n",
      "ValueError: Classification metrics can't handle a mix of multilabel-indicator and binary targets\n",
      "\n",
      "  warnings.warn(\n"
     ]
    },
    {
     "name": "stdout",
     "output_type": "stream",
     "text": [
      "102/102 [==============================] - 1s 2ms/step - loss: 0.5259 - accuracy: 0.7752\n",
      "51/51 [==============================] - 0s 2ms/step\n"
     ]
    },
    {
     "name": "stderr",
     "output_type": "stream",
     "text": [
      "/usr/local/lib/python3.9/dist-packages/sklearn/model_selection/_validation.py:778: UserWarning: Scoring failed. The score on this train-test partition for these parameters will be set to nan. Details: \n",
      "Traceback (most recent call last):\n",
      "  File \"/usr/local/lib/python3.9/dist-packages/sklearn/model_selection/_validation.py\", line 767, in _score\n",
      "    scores = scorer(estimator, X_test, y_test)\n",
      "  File \"/usr/local/lib/python3.9/dist-packages/sklearn/metrics/_scorer.py\", line 234, in __call__\n",
      "    return self._score(\n",
      "  File \"/usr/local/lib/python3.9/dist-packages/sklearn/metrics/_scorer.py\", line 282, in _score\n",
      "    return self._sign * self._score_func(y_true, y_pred, **self._kwargs)\n",
      "  File \"/usr/local/lib/python3.9/dist-packages/sklearn/utils/_param_validation.py\", line 192, in wrapper\n",
      "    return func(*args, **kwargs)\n",
      "  File \"/usr/local/lib/python3.9/dist-packages/sklearn/metrics/_classification.py\", line 221, in accuracy_score\n",
      "    y_type, y_true, y_pred = _check_targets(y_true, y_pred)\n",
      "  File \"/usr/local/lib/python3.9/dist-packages/sklearn/metrics/_classification.py\", line 95, in _check_targets\n",
      "    raise ValueError(\n",
      "ValueError: Classification metrics can't handle a mix of multilabel-indicator and binary targets\n",
      "\n",
      "  warnings.warn(\n"
     ]
    },
    {
     "name": "stdout",
     "output_type": "stream",
     "text": [
      "102/102 [==============================] - 1s 2ms/step - loss: 0.5256 - accuracy: 0.7784\n",
      "51/51 [==============================] - 0s 1ms/step\n"
     ]
    },
    {
     "name": "stderr",
     "output_type": "stream",
     "text": [
      "/usr/local/lib/python3.9/dist-packages/sklearn/model_selection/_validation.py:778: UserWarning: Scoring failed. The score on this train-test partition for these parameters will be set to nan. Details: \n",
      "Traceback (most recent call last):\n",
      "  File \"/usr/local/lib/python3.9/dist-packages/sklearn/model_selection/_validation.py\", line 767, in _score\n",
      "    scores = scorer(estimator, X_test, y_test)\n",
      "  File \"/usr/local/lib/python3.9/dist-packages/sklearn/metrics/_scorer.py\", line 234, in __call__\n",
      "    return self._score(\n",
      "  File \"/usr/local/lib/python3.9/dist-packages/sklearn/metrics/_scorer.py\", line 282, in _score\n",
      "    return self._sign * self._score_func(y_true, y_pred, **self._kwargs)\n",
      "  File \"/usr/local/lib/python3.9/dist-packages/sklearn/utils/_param_validation.py\", line 192, in wrapper\n",
      "    return func(*args, **kwargs)\n",
      "  File \"/usr/local/lib/python3.9/dist-packages/sklearn/metrics/_classification.py\", line 221, in accuracy_score\n",
      "    y_type, y_true, y_pred = _check_targets(y_true, y_pred)\n",
      "  File \"/usr/local/lib/python3.9/dist-packages/sklearn/metrics/_classification.py\", line 95, in _check_targets\n",
      "    raise ValueError(\n",
      "ValueError: Classification metrics can't handle a mix of multilabel-indicator and binary targets\n",
      "\n",
      "  warnings.warn(\n"
     ]
    },
    {
     "name": "stdout",
     "output_type": "stream",
     "text": [
      "102/102 [==============================] - 2s 4ms/step - loss: 0.5343 - accuracy: 0.7697\n",
      "51/51 [==============================] - 0s 2ms/step\n"
     ]
    },
    {
     "name": "stderr",
     "output_type": "stream",
     "text": [
      "/usr/local/lib/python3.9/dist-packages/sklearn/model_selection/_validation.py:778: UserWarning: Scoring failed. The score on this train-test partition for these parameters will be set to nan. Details: \n",
      "Traceback (most recent call last):\n",
      "  File \"/usr/local/lib/python3.9/dist-packages/sklearn/model_selection/_validation.py\", line 767, in _score\n",
      "    scores = scorer(estimator, X_test, y_test)\n",
      "  File \"/usr/local/lib/python3.9/dist-packages/sklearn/metrics/_scorer.py\", line 234, in __call__\n",
      "    return self._score(\n",
      "  File \"/usr/local/lib/python3.9/dist-packages/sklearn/metrics/_scorer.py\", line 282, in _score\n",
      "    return self._sign * self._score_func(y_true, y_pred, **self._kwargs)\n",
      "  File \"/usr/local/lib/python3.9/dist-packages/sklearn/utils/_param_validation.py\", line 192, in wrapper\n",
      "    return func(*args, **kwargs)\n",
      "  File \"/usr/local/lib/python3.9/dist-packages/sklearn/metrics/_classification.py\", line 221, in accuracy_score\n",
      "    y_type, y_true, y_pred = _check_targets(y_true, y_pred)\n",
      "  File \"/usr/local/lib/python3.9/dist-packages/sklearn/metrics/_classification.py\", line 95, in _check_targets\n",
      "    raise ValueError(\n",
      "ValueError: Classification metrics can't handle a mix of multilabel-indicator and binary targets\n",
      "\n",
      "  warnings.warn(\n"
     ]
    },
    {
     "name": "stdout",
     "output_type": "stream",
     "text": [
      "102/102 [==============================] - 1s 2ms/step - loss: 0.5602 - accuracy: 0.7610\n",
      "51/51 [==============================] - 0s 2ms/step\n"
     ]
    },
    {
     "name": "stderr",
     "output_type": "stream",
     "text": [
      "/usr/local/lib/python3.9/dist-packages/sklearn/model_selection/_validation.py:778: UserWarning: Scoring failed. The score on this train-test partition for these parameters will be set to nan. Details: \n",
      "Traceback (most recent call last):\n",
      "  File \"/usr/local/lib/python3.9/dist-packages/sklearn/model_selection/_validation.py\", line 767, in _score\n",
      "    scores = scorer(estimator, X_test, y_test)\n",
      "  File \"/usr/local/lib/python3.9/dist-packages/sklearn/metrics/_scorer.py\", line 234, in __call__\n",
      "    return self._score(\n",
      "  File \"/usr/local/lib/python3.9/dist-packages/sklearn/metrics/_scorer.py\", line 282, in _score\n",
      "    return self._sign * self._score_func(y_true, y_pred, **self._kwargs)\n",
      "  File \"/usr/local/lib/python3.9/dist-packages/sklearn/utils/_param_validation.py\", line 192, in wrapper\n",
      "    return func(*args, **kwargs)\n",
      "  File \"/usr/local/lib/python3.9/dist-packages/sklearn/metrics/_classification.py\", line 221, in accuracy_score\n",
      "    y_type, y_true, y_pred = _check_targets(y_true, y_pred)\n",
      "  File \"/usr/local/lib/python3.9/dist-packages/sklearn/metrics/_classification.py\", line 95, in _check_targets\n",
      "    raise ValueError(\n",
      "ValueError: Classification metrics can't handle a mix of multilabel-indicator and binary targets\n",
      "\n",
      "  warnings.warn(\n"
     ]
    },
    {
     "name": "stdout",
     "output_type": "stream",
     "text": [
      "102/102 [==============================] - 1s 2ms/step - loss: 0.5203 - accuracy: 0.7827\n",
      "51/51 [==============================] - 0s 1ms/step\n"
     ]
    },
    {
     "name": "stderr",
     "output_type": "stream",
     "text": [
      "/usr/local/lib/python3.9/dist-packages/sklearn/model_selection/_validation.py:778: UserWarning: Scoring failed. The score on this train-test partition for these parameters will be set to nan. Details: \n",
      "Traceback (most recent call last):\n",
      "  File \"/usr/local/lib/python3.9/dist-packages/sklearn/model_selection/_validation.py\", line 767, in _score\n",
      "    scores = scorer(estimator, X_test, y_test)\n",
      "  File \"/usr/local/lib/python3.9/dist-packages/sklearn/metrics/_scorer.py\", line 234, in __call__\n",
      "    return self._score(\n",
      "  File \"/usr/local/lib/python3.9/dist-packages/sklearn/metrics/_scorer.py\", line 282, in _score\n",
      "    return self._sign * self._score_func(y_true, y_pred, **self._kwargs)\n",
      "  File \"/usr/local/lib/python3.9/dist-packages/sklearn/utils/_param_validation.py\", line 192, in wrapper\n",
      "    return func(*args, **kwargs)\n",
      "  File \"/usr/local/lib/python3.9/dist-packages/sklearn/metrics/_classification.py\", line 221, in accuracy_score\n",
      "    y_type, y_true, y_pred = _check_targets(y_true, y_pred)\n",
      "  File \"/usr/local/lib/python3.9/dist-packages/sklearn/metrics/_classification.py\", line 95, in _check_targets\n",
      "    raise ValueError(\n",
      "ValueError: Classification metrics can't handle a mix of multilabel-indicator and binary targets\n",
      "\n",
      "  warnings.warn(\n"
     ]
    },
    {
     "name": "stdout",
     "output_type": "stream",
     "text": [
      "102/102 [==============================] - 1s 2ms/step - loss: 0.6133 - accuracy: 0.7632\n",
      "51/51 [==============================] - 0s 2ms/step\n"
     ]
    },
    {
     "name": "stderr",
     "output_type": "stream",
     "text": [
      "/usr/local/lib/python3.9/dist-packages/sklearn/model_selection/_validation.py:778: UserWarning: Scoring failed. The score on this train-test partition for these parameters will be set to nan. Details: \n",
      "Traceback (most recent call last):\n",
      "  File \"/usr/local/lib/python3.9/dist-packages/sklearn/model_selection/_validation.py\", line 767, in _score\n",
      "    scores = scorer(estimator, X_test, y_test)\n",
      "  File \"/usr/local/lib/python3.9/dist-packages/sklearn/metrics/_scorer.py\", line 234, in __call__\n",
      "    return self._score(\n",
      "  File \"/usr/local/lib/python3.9/dist-packages/sklearn/metrics/_scorer.py\", line 282, in _score\n",
      "    return self._sign * self._score_func(y_true, y_pred, **self._kwargs)\n",
      "  File \"/usr/local/lib/python3.9/dist-packages/sklearn/utils/_param_validation.py\", line 192, in wrapper\n",
      "    return func(*args, **kwargs)\n",
      "  File \"/usr/local/lib/python3.9/dist-packages/sklearn/metrics/_classification.py\", line 221, in accuracy_score\n",
      "    y_type, y_true, y_pred = _check_targets(y_true, y_pred)\n",
      "  File \"/usr/local/lib/python3.9/dist-packages/sklearn/metrics/_classification.py\", line 95, in _check_targets\n",
      "    raise ValueError(\n",
      "ValueError: Classification metrics can't handle a mix of multilabel-indicator and multiclass targets\n",
      "\n",
      "  warnings.warn(\n"
     ]
    },
    {
     "name": "stdout",
     "output_type": "stream",
     "text": [
      "102/102 [==============================] - 1s 2ms/step - loss: 0.6145 - accuracy: 0.7752\n",
      "51/51 [==============================] - 0s 2ms/step\n"
     ]
    },
    {
     "name": "stderr",
     "output_type": "stream",
     "text": [
      "/usr/local/lib/python3.9/dist-packages/sklearn/model_selection/_validation.py:778: UserWarning: Scoring failed. The score on this train-test partition for these parameters will be set to nan. Details: \n",
      "Traceback (most recent call last):\n",
      "  File \"/usr/local/lib/python3.9/dist-packages/sklearn/model_selection/_validation.py\", line 767, in _score\n",
      "    scores = scorer(estimator, X_test, y_test)\n",
      "  File \"/usr/local/lib/python3.9/dist-packages/sklearn/metrics/_scorer.py\", line 234, in __call__\n",
      "    return self._score(\n",
      "  File \"/usr/local/lib/python3.9/dist-packages/sklearn/metrics/_scorer.py\", line 282, in _score\n",
      "    return self._sign * self._score_func(y_true, y_pred, **self._kwargs)\n",
      "  File \"/usr/local/lib/python3.9/dist-packages/sklearn/utils/_param_validation.py\", line 192, in wrapper\n",
      "    return func(*args, **kwargs)\n",
      "  File \"/usr/local/lib/python3.9/dist-packages/sklearn/metrics/_classification.py\", line 221, in accuracy_score\n",
      "    y_type, y_true, y_pred = _check_targets(y_true, y_pred)\n",
      "  File \"/usr/local/lib/python3.9/dist-packages/sklearn/metrics/_classification.py\", line 95, in _check_targets\n",
      "    raise ValueError(\n",
      "ValueError: Classification metrics can't handle a mix of multilabel-indicator and binary targets\n",
      "\n",
      "  warnings.warn(\n"
     ]
    },
    {
     "name": "stdout",
     "output_type": "stream",
     "text": [
      "102/102 [==============================] - 1s 2ms/step - loss: 0.5851 - accuracy: 0.7771\n",
      "51/51 [==============================] - 0s 2ms/step\n"
     ]
    },
    {
     "name": "stderr",
     "output_type": "stream",
     "text": [
      "/usr/local/lib/python3.9/dist-packages/sklearn/model_selection/_validation.py:778: UserWarning: Scoring failed. The score on this train-test partition for these parameters will be set to nan. Details: \n",
      "Traceback (most recent call last):\n",
      "  File \"/usr/local/lib/python3.9/dist-packages/sklearn/model_selection/_validation.py\", line 767, in _score\n",
      "    scores = scorer(estimator, X_test, y_test)\n",
      "  File \"/usr/local/lib/python3.9/dist-packages/sklearn/metrics/_scorer.py\", line 234, in __call__\n",
      "    return self._score(\n",
      "  File \"/usr/local/lib/python3.9/dist-packages/sklearn/metrics/_scorer.py\", line 282, in _score\n",
      "    return self._sign * self._score_func(y_true, y_pred, **self._kwargs)\n",
      "  File \"/usr/local/lib/python3.9/dist-packages/sklearn/utils/_param_validation.py\", line 192, in wrapper\n",
      "    return func(*args, **kwargs)\n",
      "  File \"/usr/local/lib/python3.9/dist-packages/sklearn/metrics/_classification.py\", line 221, in accuracy_score\n",
      "    y_type, y_true, y_pred = _check_targets(y_true, y_pred)\n",
      "  File \"/usr/local/lib/python3.9/dist-packages/sklearn/metrics/_classification.py\", line 95, in _check_targets\n",
      "    raise ValueError(\n",
      "ValueError: Classification metrics can't handle a mix of multilabel-indicator and multiclass targets\n",
      "\n",
      "  warnings.warn(\n"
     ]
    },
    {
     "name": "stdout",
     "output_type": "stream",
     "text": [
      "102/102 [==============================] - 1s 2ms/step - loss: 1.3191 - accuracy: 0.3281\n",
      "51/51 [==============================] - 0s 2ms/step\n"
     ]
    },
    {
     "name": "stderr",
     "output_type": "stream",
     "text": [
      "/usr/local/lib/python3.9/dist-packages/sklearn/model_selection/_validation.py:778: UserWarning: Scoring failed. The score on this train-test partition for these parameters will be set to nan. Details: \n",
      "Traceback (most recent call last):\n",
      "  File \"/usr/local/lib/python3.9/dist-packages/sklearn/model_selection/_validation.py\", line 767, in _score\n",
      "    scores = scorer(estimator, X_test, y_test)\n",
      "  File \"/usr/local/lib/python3.9/dist-packages/sklearn/metrics/_scorer.py\", line 234, in __call__\n",
      "    return self._score(\n",
      "  File \"/usr/local/lib/python3.9/dist-packages/sklearn/metrics/_scorer.py\", line 282, in _score\n",
      "    return self._sign * self._score_func(y_true, y_pred, **self._kwargs)\n",
      "  File \"/usr/local/lib/python3.9/dist-packages/sklearn/utils/_param_validation.py\", line 192, in wrapper\n",
      "    return func(*args, **kwargs)\n",
      "  File \"/usr/local/lib/python3.9/dist-packages/sklearn/metrics/_classification.py\", line 221, in accuracy_score\n",
      "    y_type, y_true, y_pred = _check_targets(y_true, y_pred)\n",
      "  File \"/usr/local/lib/python3.9/dist-packages/sklearn/metrics/_classification.py\", line 95, in _check_targets\n",
      "    raise ValueError(\n",
      "ValueError: Classification metrics can't handle a mix of multilabel-indicator and multiclass targets\n",
      "\n",
      "  warnings.warn(\n"
     ]
    },
    {
     "name": "stdout",
     "output_type": "stream",
     "text": [
      "102/102 [==============================] - 1s 2ms/step - loss: 1.3311 - accuracy: 0.3306\n",
      "51/51 [==============================] - 0s 2ms/step\n"
     ]
    },
    {
     "name": "stderr",
     "output_type": "stream",
     "text": [
      "/usr/local/lib/python3.9/dist-packages/sklearn/model_selection/_validation.py:778: UserWarning: Scoring failed. The score on this train-test partition for these parameters will be set to nan. Details: \n",
      "Traceback (most recent call last):\n",
      "  File \"/usr/local/lib/python3.9/dist-packages/sklearn/model_selection/_validation.py\", line 767, in _score\n",
      "    scores = scorer(estimator, X_test, y_test)\n",
      "  File \"/usr/local/lib/python3.9/dist-packages/sklearn/metrics/_scorer.py\", line 234, in __call__\n",
      "    return self._score(\n",
      "  File \"/usr/local/lib/python3.9/dist-packages/sklearn/metrics/_scorer.py\", line 282, in _score\n",
      "    return self._sign * self._score_func(y_true, y_pred, **self._kwargs)\n",
      "  File \"/usr/local/lib/python3.9/dist-packages/sklearn/utils/_param_validation.py\", line 192, in wrapper\n",
      "    return func(*args, **kwargs)\n",
      "  File \"/usr/local/lib/python3.9/dist-packages/sklearn/metrics/_classification.py\", line 221, in accuracy_score\n",
      "    y_type, y_true, y_pred = _check_targets(y_true, y_pred)\n",
      "  File \"/usr/local/lib/python3.9/dist-packages/sklearn/metrics/_classification.py\", line 95, in _check_targets\n",
      "    raise ValueError(\n",
      "ValueError: Classification metrics can't handle a mix of multilabel-indicator and multiclass targets\n",
      "\n",
      "  warnings.warn(\n"
     ]
    },
    {
     "name": "stdout",
     "output_type": "stream",
     "text": [
      "102/102 [==============================] - 3s 4ms/step - loss: 1.3403 - accuracy: 0.3721\n",
      "51/51 [==============================] - 0s 2ms/step\n"
     ]
    },
    {
     "name": "stderr",
     "output_type": "stream",
     "text": [
      "/usr/local/lib/python3.9/dist-packages/sklearn/model_selection/_validation.py:778: UserWarning: Scoring failed. The score on this train-test partition for these parameters will be set to nan. Details: \n",
      "Traceback (most recent call last):\n",
      "  File \"/usr/local/lib/python3.9/dist-packages/sklearn/model_selection/_validation.py\", line 767, in _score\n",
      "    scores = scorer(estimator, X_test, y_test)\n",
      "  File \"/usr/local/lib/python3.9/dist-packages/sklearn/metrics/_scorer.py\", line 234, in __call__\n",
      "    return self._score(\n",
      "  File \"/usr/local/lib/python3.9/dist-packages/sklearn/metrics/_scorer.py\", line 282, in _score\n",
      "    return self._sign * self._score_func(y_true, y_pred, **self._kwargs)\n",
      "  File \"/usr/local/lib/python3.9/dist-packages/sklearn/utils/_param_validation.py\", line 192, in wrapper\n",
      "    return func(*args, **kwargs)\n",
      "  File \"/usr/local/lib/python3.9/dist-packages/sklearn/metrics/_classification.py\", line 221, in accuracy_score\n",
      "    y_type, y_true, y_pred = _check_targets(y_true, y_pred)\n",
      "  File \"/usr/local/lib/python3.9/dist-packages/sklearn/metrics/_classification.py\", line 95, in _check_targets\n",
      "    raise ValueError(\n",
      "ValueError: Classification metrics can't handle a mix of multilabel-indicator and multiclass targets\n",
      "\n",
      "  warnings.warn(\n"
     ]
    },
    {
     "name": "stdout",
     "output_type": "stream",
     "text": [
      "102/102 [==============================] - 1s 2ms/step - loss: 1.3014 - accuracy: 0.3642\n",
      "51/51 [==============================] - 0s 2ms/step\n"
     ]
    },
    {
     "name": "stderr",
     "output_type": "stream",
     "text": [
      "/usr/local/lib/python3.9/dist-packages/sklearn/model_selection/_validation.py:778: UserWarning: Scoring failed. The score on this train-test partition for these parameters will be set to nan. Details: \n",
      "Traceback (most recent call last):\n",
      "  File \"/usr/local/lib/python3.9/dist-packages/sklearn/model_selection/_validation.py\", line 767, in _score\n",
      "    scores = scorer(estimator, X_test, y_test)\n",
      "  File \"/usr/local/lib/python3.9/dist-packages/sklearn/metrics/_scorer.py\", line 234, in __call__\n",
      "    return self._score(\n",
      "  File \"/usr/local/lib/python3.9/dist-packages/sklearn/metrics/_scorer.py\", line 282, in _score\n",
      "    return self._sign * self._score_func(y_true, y_pred, **self._kwargs)\n",
      "  File \"/usr/local/lib/python3.9/dist-packages/sklearn/utils/_param_validation.py\", line 192, in wrapper\n",
      "    return func(*args, **kwargs)\n",
      "  File \"/usr/local/lib/python3.9/dist-packages/sklearn/metrics/_classification.py\", line 221, in accuracy_score\n",
      "    y_type, y_true, y_pred = _check_targets(y_true, y_pred)\n",
      "  File \"/usr/local/lib/python3.9/dist-packages/sklearn/metrics/_classification.py\", line 95, in _check_targets\n",
      "    raise ValueError(\n",
      "ValueError: Classification metrics can't handle a mix of multilabel-indicator and multiclass targets\n",
      "\n",
      "  warnings.warn(\n"
     ]
    },
    {
     "name": "stdout",
     "output_type": "stream",
     "text": [
      "102/102 [==============================] - 1s 2ms/step - loss: 1.3181 - accuracy: 0.4258\n",
      "51/51 [==============================] - 0s 2ms/step\n"
     ]
    },
    {
     "name": "stderr",
     "output_type": "stream",
     "text": [
      "/usr/local/lib/python3.9/dist-packages/sklearn/model_selection/_validation.py:778: UserWarning: Scoring failed. The score on this train-test partition for these parameters will be set to nan. Details: \n",
      "Traceback (most recent call last):\n",
      "  File \"/usr/local/lib/python3.9/dist-packages/sklearn/model_selection/_validation.py\", line 767, in _score\n",
      "    scores = scorer(estimator, X_test, y_test)\n",
      "  File \"/usr/local/lib/python3.9/dist-packages/sklearn/metrics/_scorer.py\", line 234, in __call__\n",
      "    return self._score(\n",
      "  File \"/usr/local/lib/python3.9/dist-packages/sklearn/metrics/_scorer.py\", line 282, in _score\n",
      "    return self._sign * self._score_func(y_true, y_pred, **self._kwargs)\n",
      "  File \"/usr/local/lib/python3.9/dist-packages/sklearn/utils/_param_validation.py\", line 192, in wrapper\n",
      "    return func(*args, **kwargs)\n",
      "  File \"/usr/local/lib/python3.9/dist-packages/sklearn/metrics/_classification.py\", line 221, in accuracy_score\n",
      "    y_type, y_true, y_pred = _check_targets(y_true, y_pred)\n",
      "  File \"/usr/local/lib/python3.9/dist-packages/sklearn/metrics/_classification.py\", line 95, in _check_targets\n",
      "    raise ValueError(\n",
      "ValueError: Classification metrics can't handle a mix of multilabel-indicator and multiclass targets\n",
      "\n",
      "  warnings.warn(\n"
     ]
    },
    {
     "name": "stdout",
     "output_type": "stream",
     "text": [
      "102/102 [==============================] - 1s 2ms/step - loss: 1.2977 - accuracy: 0.4510\n",
      "51/51 [==============================] - 0s 2ms/step\n"
     ]
    },
    {
     "name": "stderr",
     "output_type": "stream",
     "text": [
      "/usr/local/lib/python3.9/dist-packages/sklearn/model_selection/_validation.py:778: UserWarning: Scoring failed. The score on this train-test partition for these parameters will be set to nan. Details: \n",
      "Traceback (most recent call last):\n",
      "  File \"/usr/local/lib/python3.9/dist-packages/sklearn/model_selection/_validation.py\", line 767, in _score\n",
      "    scores = scorer(estimator, X_test, y_test)\n",
      "  File \"/usr/local/lib/python3.9/dist-packages/sklearn/metrics/_scorer.py\", line 234, in __call__\n",
      "    return self._score(\n",
      "  File \"/usr/local/lib/python3.9/dist-packages/sklearn/metrics/_scorer.py\", line 282, in _score\n",
      "    return self._sign * self._score_func(y_true, y_pred, **self._kwargs)\n",
      "  File \"/usr/local/lib/python3.9/dist-packages/sklearn/utils/_param_validation.py\", line 192, in wrapper\n",
      "    return func(*args, **kwargs)\n",
      "  File \"/usr/local/lib/python3.9/dist-packages/sklearn/metrics/_classification.py\", line 221, in accuracy_score\n",
      "    y_type, y_true, y_pred = _check_targets(y_true, y_pred)\n",
      "  File \"/usr/local/lib/python3.9/dist-packages/sklearn/metrics/_classification.py\", line 95, in _check_targets\n",
      "    raise ValueError(\n",
      "ValueError: Classification metrics can't handle a mix of multilabel-indicator and multiclass targets\n",
      "\n",
      "  warnings.warn(\n"
     ]
    },
    {
     "name": "stdout",
     "output_type": "stream",
     "text": [
      "102/102 [==============================] - 1s 3ms/step - loss: 1.2432 - accuracy: 0.4712\n",
      "51/51 [==============================] - 0s 1ms/step\n"
     ]
    },
    {
     "name": "stderr",
     "output_type": "stream",
     "text": [
      "/usr/local/lib/python3.9/dist-packages/sklearn/model_selection/_validation.py:778: UserWarning: Scoring failed. The score on this train-test partition for these parameters will be set to nan. Details: \n",
      "Traceback (most recent call last):\n",
      "  File \"/usr/local/lib/python3.9/dist-packages/sklearn/model_selection/_validation.py\", line 767, in _score\n",
      "    scores = scorer(estimator, X_test, y_test)\n",
      "  File \"/usr/local/lib/python3.9/dist-packages/sklearn/metrics/_scorer.py\", line 234, in __call__\n",
      "    return self._score(\n",
      "  File \"/usr/local/lib/python3.9/dist-packages/sklearn/metrics/_scorer.py\", line 282, in _score\n",
      "    return self._sign * self._score_func(y_true, y_pred, **self._kwargs)\n",
      "  File \"/usr/local/lib/python3.9/dist-packages/sklearn/utils/_param_validation.py\", line 192, in wrapper\n",
      "    return func(*args, **kwargs)\n",
      "  File \"/usr/local/lib/python3.9/dist-packages/sklearn/metrics/_classification.py\", line 221, in accuracy_score\n",
      "    y_type, y_true, y_pred = _check_targets(y_true, y_pred)\n",
      "  File \"/usr/local/lib/python3.9/dist-packages/sklearn/metrics/_classification.py\", line 95, in _check_targets\n",
      "    raise ValueError(\n",
      "ValueError: Classification metrics can't handle a mix of multilabel-indicator and multiclass targets\n",
      "\n",
      "  warnings.warn(\n"
     ]
    },
    {
     "name": "stdout",
     "output_type": "stream",
     "text": [
      "102/102 [==============================] - 1s 2ms/step - loss: 1.2385 - accuracy: 0.4434\n",
      "51/51 [==============================] - 0s 2ms/step\n"
     ]
    },
    {
     "name": "stderr",
     "output_type": "stream",
     "text": [
      "/usr/local/lib/python3.9/dist-packages/sklearn/model_selection/_validation.py:778: UserWarning: Scoring failed. The score on this train-test partition for these parameters will be set to nan. Details: \n",
      "Traceback (most recent call last):\n",
      "  File \"/usr/local/lib/python3.9/dist-packages/sklearn/model_selection/_validation.py\", line 767, in _score\n",
      "    scores = scorer(estimator, X_test, y_test)\n",
      "  File \"/usr/local/lib/python3.9/dist-packages/sklearn/metrics/_scorer.py\", line 234, in __call__\n",
      "    return self._score(\n",
      "  File \"/usr/local/lib/python3.9/dist-packages/sklearn/metrics/_scorer.py\", line 282, in _score\n",
      "    return self._sign * self._score_func(y_true, y_pred, **self._kwargs)\n",
      "  File \"/usr/local/lib/python3.9/dist-packages/sklearn/utils/_param_validation.py\", line 192, in wrapper\n",
      "    return func(*args, **kwargs)\n",
      "  File \"/usr/local/lib/python3.9/dist-packages/sklearn/metrics/_classification.py\", line 221, in accuracy_score\n",
      "    y_type, y_true, y_pred = _check_targets(y_true, y_pred)\n",
      "  File \"/usr/local/lib/python3.9/dist-packages/sklearn/metrics/_classification.py\", line 95, in _check_targets\n",
      "    raise ValueError(\n",
      "ValueError: Classification metrics can't handle a mix of multilabel-indicator and multiclass targets\n",
      "\n",
      "  warnings.warn(\n"
     ]
    },
    {
     "name": "stdout",
     "output_type": "stream",
     "text": [
      "102/102 [==============================] - 1s 2ms/step - loss: 1.2281 - accuracy: 0.4723\n",
      "51/51 [==============================] - 0s 2ms/step\n"
     ]
    },
    {
     "name": "stderr",
     "output_type": "stream",
     "text": [
      "/usr/local/lib/python3.9/dist-packages/sklearn/model_selection/_validation.py:778: UserWarning: Scoring failed. The score on this train-test partition for these parameters will be set to nan. Details: \n",
      "Traceback (most recent call last):\n",
      "  File \"/usr/local/lib/python3.9/dist-packages/sklearn/model_selection/_validation.py\", line 767, in _score\n",
      "    scores = scorer(estimator, X_test, y_test)\n",
      "  File \"/usr/local/lib/python3.9/dist-packages/sklearn/metrics/_scorer.py\", line 234, in __call__\n",
      "    return self._score(\n",
      "  File \"/usr/local/lib/python3.9/dist-packages/sklearn/metrics/_scorer.py\", line 282, in _score\n",
      "    return self._sign * self._score_func(y_true, y_pred, **self._kwargs)\n",
      "  File \"/usr/local/lib/python3.9/dist-packages/sklearn/utils/_param_validation.py\", line 192, in wrapper\n",
      "    return func(*args, **kwargs)\n",
      "  File \"/usr/local/lib/python3.9/dist-packages/sklearn/metrics/_classification.py\", line 221, in accuracy_score\n",
      "    y_type, y_true, y_pred = _check_targets(y_true, y_pred)\n",
      "  File \"/usr/local/lib/python3.9/dist-packages/sklearn/metrics/_classification.py\", line 95, in _check_targets\n",
      "    raise ValueError(\n",
      "ValueError: Classification metrics can't handle a mix of multilabel-indicator and multiclass targets\n",
      "\n",
      "  warnings.warn(\n"
     ]
    },
    {
     "name": "stdout",
     "output_type": "stream",
     "text": [
      "102/102 [==============================] - 1s 3ms/step - loss: 1.0737 - accuracy: 0.5998\n",
      "51/51 [==============================] - 0s 2ms/step\n"
     ]
    },
    {
     "name": "stderr",
     "output_type": "stream",
     "text": [
      "/usr/local/lib/python3.9/dist-packages/sklearn/model_selection/_validation.py:778: UserWarning: Scoring failed. The score on this train-test partition for these parameters will be set to nan. Details: \n",
      "Traceback (most recent call last):\n",
      "  File \"/usr/local/lib/python3.9/dist-packages/sklearn/model_selection/_validation.py\", line 767, in _score\n",
      "    scores = scorer(estimator, X_test, y_test)\n",
      "  File \"/usr/local/lib/python3.9/dist-packages/sklearn/metrics/_scorer.py\", line 234, in __call__\n",
      "    return self._score(\n",
      "  File \"/usr/local/lib/python3.9/dist-packages/sklearn/metrics/_scorer.py\", line 282, in _score\n",
      "    return self._sign * self._score_func(y_true, y_pred, **self._kwargs)\n",
      "  File \"/usr/local/lib/python3.9/dist-packages/sklearn/utils/_param_validation.py\", line 192, in wrapper\n",
      "    return func(*args, **kwargs)\n",
      "  File \"/usr/local/lib/python3.9/dist-packages/sklearn/metrics/_classification.py\", line 221, in accuracy_score\n",
      "    y_type, y_true, y_pred = _check_targets(y_true, y_pred)\n",
      "  File \"/usr/local/lib/python3.9/dist-packages/sklearn/metrics/_classification.py\", line 95, in _check_targets\n",
      "    raise ValueError(\n",
      "ValueError: Classification metrics can't handle a mix of multilabel-indicator and multiclass targets\n",
      "\n",
      "  warnings.warn(\n"
     ]
    },
    {
     "name": "stdout",
     "output_type": "stream",
     "text": [
      "102/102 [==============================] - 1s 2ms/step - loss: 1.0993 - accuracy: 0.5597\n",
      "51/51 [==============================] - 0s 2ms/step\n"
     ]
    },
    {
     "name": "stderr",
     "output_type": "stream",
     "text": [
      "/usr/local/lib/python3.9/dist-packages/sklearn/model_selection/_validation.py:778: UserWarning: Scoring failed. The score on this train-test partition for these parameters will be set to nan. Details: \n",
      "Traceback (most recent call last):\n",
      "  File \"/usr/local/lib/python3.9/dist-packages/sklearn/model_selection/_validation.py\", line 767, in _score\n",
      "    scores = scorer(estimator, X_test, y_test)\n",
      "  File \"/usr/local/lib/python3.9/dist-packages/sklearn/metrics/_scorer.py\", line 234, in __call__\n",
      "    return self._score(\n",
      "  File \"/usr/local/lib/python3.9/dist-packages/sklearn/metrics/_scorer.py\", line 282, in _score\n",
      "    return self._sign * self._score_func(y_true, y_pred, **self._kwargs)\n",
      "  File \"/usr/local/lib/python3.9/dist-packages/sklearn/utils/_param_validation.py\", line 192, in wrapper\n",
      "    return func(*args, **kwargs)\n",
      "  File \"/usr/local/lib/python3.9/dist-packages/sklearn/metrics/_classification.py\", line 221, in accuracy_score\n",
      "    y_type, y_true, y_pred = _check_targets(y_true, y_pred)\n",
      "  File \"/usr/local/lib/python3.9/dist-packages/sklearn/metrics/_classification.py\", line 95, in _check_targets\n",
      "    raise ValueError(\n",
      "ValueError: Classification metrics can't handle a mix of multilabel-indicator and multiclass targets\n",
      "\n",
      "  warnings.warn(\n"
     ]
    },
    {
     "name": "stdout",
     "output_type": "stream",
     "text": [
      "102/102 [==============================] - 1s 2ms/step - loss: 1.0615 - accuracy: 0.5869\n",
      "51/51 [==============================] - 0s 2ms/step\n"
     ]
    },
    {
     "name": "stderr",
     "output_type": "stream",
     "text": [
      "/usr/local/lib/python3.9/dist-packages/sklearn/model_selection/_validation.py:778: UserWarning: Scoring failed. The score on this train-test partition for these parameters will be set to nan. Details: \n",
      "Traceback (most recent call last):\n",
      "  File \"/usr/local/lib/python3.9/dist-packages/sklearn/model_selection/_validation.py\", line 767, in _score\n",
      "    scores = scorer(estimator, X_test, y_test)\n",
      "  File \"/usr/local/lib/python3.9/dist-packages/sklearn/metrics/_scorer.py\", line 234, in __call__\n",
      "    return self._score(\n",
      "  File \"/usr/local/lib/python3.9/dist-packages/sklearn/metrics/_scorer.py\", line 282, in _score\n",
      "    return self._sign * self._score_func(y_true, y_pred, **self._kwargs)\n",
      "  File \"/usr/local/lib/python3.9/dist-packages/sklearn/utils/_param_validation.py\", line 192, in wrapper\n",
      "    return func(*args, **kwargs)\n",
      "  File \"/usr/local/lib/python3.9/dist-packages/sklearn/metrics/_classification.py\", line 221, in accuracy_score\n",
      "    y_type, y_true, y_pred = _check_targets(y_true, y_pred)\n",
      "  File \"/usr/local/lib/python3.9/dist-packages/sklearn/metrics/_classification.py\", line 95, in _check_targets\n",
      "    raise ValueError(\n",
      "ValueError: Classification metrics can't handle a mix of multilabel-indicator and multiclass targets\n",
      "\n",
      "  warnings.warn(\n"
     ]
    },
    {
     "name": "stdout",
     "output_type": "stream",
     "text": [
      "102/102 [==============================] - 1s 2ms/step - loss: 0.6892 - accuracy: 0.7441\n",
      "51/51 [==============================] - 0s 2ms/step\n"
     ]
    },
    {
     "name": "stderr",
     "output_type": "stream",
     "text": [
      "/usr/local/lib/python3.9/dist-packages/sklearn/model_selection/_validation.py:778: UserWarning: Scoring failed. The score on this train-test partition for these parameters will be set to nan. Details: \n",
      "Traceback (most recent call last):\n",
      "  File \"/usr/local/lib/python3.9/dist-packages/sklearn/model_selection/_validation.py\", line 767, in _score\n",
      "    scores = scorer(estimator, X_test, y_test)\n",
      "  File \"/usr/local/lib/python3.9/dist-packages/sklearn/metrics/_scorer.py\", line 234, in __call__\n",
      "    return self._score(\n",
      "  File \"/usr/local/lib/python3.9/dist-packages/sklearn/metrics/_scorer.py\", line 282, in _score\n",
      "    return self._sign * self._score_func(y_true, y_pred, **self._kwargs)\n",
      "  File \"/usr/local/lib/python3.9/dist-packages/sklearn/utils/_param_validation.py\", line 192, in wrapper\n",
      "    return func(*args, **kwargs)\n",
      "  File \"/usr/local/lib/python3.9/dist-packages/sklearn/metrics/_classification.py\", line 221, in accuracy_score\n",
      "    y_type, y_true, y_pred = _check_targets(y_true, y_pred)\n",
      "  File \"/usr/local/lib/python3.9/dist-packages/sklearn/metrics/_classification.py\", line 95, in _check_targets\n",
      "    raise ValueError(\n",
      "ValueError: Classification metrics can't handle a mix of multilabel-indicator and binary targets\n",
      "\n",
      "  warnings.warn(\n"
     ]
    },
    {
     "name": "stdout",
     "output_type": "stream",
     "text": [
      "102/102 [==============================] - 1s 2ms/step - loss: 0.7875 - accuracy: 0.7200\n",
      "51/51 [==============================] - 0s 2ms/step\n"
     ]
    },
    {
     "name": "stderr",
     "output_type": "stream",
     "text": [
      "/usr/local/lib/python3.9/dist-packages/sklearn/model_selection/_validation.py:778: UserWarning: Scoring failed. The score on this train-test partition for these parameters will be set to nan. Details: \n",
      "Traceback (most recent call last):\n",
      "  File \"/usr/local/lib/python3.9/dist-packages/sklearn/model_selection/_validation.py\", line 767, in _score\n",
      "    scores = scorer(estimator, X_test, y_test)\n",
      "  File \"/usr/local/lib/python3.9/dist-packages/sklearn/metrics/_scorer.py\", line 234, in __call__\n",
      "    return self._score(\n",
      "  File \"/usr/local/lib/python3.9/dist-packages/sklearn/metrics/_scorer.py\", line 282, in _score\n",
      "    return self._sign * self._score_func(y_true, y_pred, **self._kwargs)\n",
      "  File \"/usr/local/lib/python3.9/dist-packages/sklearn/utils/_param_validation.py\", line 192, in wrapper\n",
      "    return func(*args, **kwargs)\n",
      "  File \"/usr/local/lib/python3.9/dist-packages/sklearn/metrics/_classification.py\", line 221, in accuracy_score\n",
      "    y_type, y_true, y_pred = _check_targets(y_true, y_pred)\n",
      "  File \"/usr/local/lib/python3.9/dist-packages/sklearn/metrics/_classification.py\", line 95, in _check_targets\n",
      "    raise ValueError(\n",
      "ValueError: Classification metrics can't handle a mix of multilabel-indicator and binary targets\n",
      "\n",
      "  warnings.warn(\n"
     ]
    },
    {
     "name": "stdout",
     "output_type": "stream",
     "text": [
      "102/102 [==============================] - 1s 2ms/step - loss: 0.7396 - accuracy: 0.7460\n",
      "51/51 [==============================] - 0s 2ms/step\n"
     ]
    },
    {
     "name": "stderr",
     "output_type": "stream",
     "text": [
      "/usr/local/lib/python3.9/dist-packages/sklearn/model_selection/_validation.py:778: UserWarning: Scoring failed. The score on this train-test partition for these parameters will be set to nan. Details: \n",
      "Traceback (most recent call last):\n",
      "  File \"/usr/local/lib/python3.9/dist-packages/sklearn/model_selection/_validation.py\", line 767, in _score\n",
      "    scores = scorer(estimator, X_test, y_test)\n",
      "  File \"/usr/local/lib/python3.9/dist-packages/sklearn/metrics/_scorer.py\", line 234, in __call__\n",
      "    return self._score(\n",
      "  File \"/usr/local/lib/python3.9/dist-packages/sklearn/metrics/_scorer.py\", line 282, in _score\n",
      "    return self._sign * self._score_func(y_true, y_pred, **self._kwargs)\n",
      "  File \"/usr/local/lib/python3.9/dist-packages/sklearn/utils/_param_validation.py\", line 192, in wrapper\n",
      "    return func(*args, **kwargs)\n",
      "  File \"/usr/local/lib/python3.9/dist-packages/sklearn/metrics/_classification.py\", line 221, in accuracy_score\n",
      "    y_type, y_true, y_pred = _check_targets(y_true, y_pred)\n",
      "  File \"/usr/local/lib/python3.9/dist-packages/sklearn/metrics/_classification.py\", line 95, in _check_targets\n",
      "    raise ValueError(\n",
      "ValueError: Classification metrics can't handle a mix of multilabel-indicator and binary targets\n",
      "\n",
      "  warnings.warn(\n"
     ]
    },
    {
     "name": "stdout",
     "output_type": "stream",
     "text": [
      "102/102 [==============================] - 1s 3ms/step - loss: 0.7083 - accuracy: 0.7382\n",
      "51/51 [==============================] - 1s 2ms/step\n"
     ]
    },
    {
     "name": "stderr",
     "output_type": "stream",
     "text": [
      "/usr/local/lib/python3.9/dist-packages/sklearn/model_selection/_validation.py:778: UserWarning: Scoring failed. The score on this train-test partition for these parameters will be set to nan. Details: \n",
      "Traceback (most recent call last):\n",
      "  File \"/usr/local/lib/python3.9/dist-packages/sklearn/model_selection/_validation.py\", line 767, in _score\n",
      "    scores = scorer(estimator, X_test, y_test)\n",
      "  File \"/usr/local/lib/python3.9/dist-packages/sklearn/metrics/_scorer.py\", line 234, in __call__\n",
      "    return self._score(\n",
      "  File \"/usr/local/lib/python3.9/dist-packages/sklearn/metrics/_scorer.py\", line 282, in _score\n",
      "    return self._sign * self._score_func(y_true, y_pred, **self._kwargs)\n",
      "  File \"/usr/local/lib/python3.9/dist-packages/sklearn/utils/_param_validation.py\", line 192, in wrapper\n",
      "    return func(*args, **kwargs)\n",
      "  File \"/usr/local/lib/python3.9/dist-packages/sklearn/metrics/_classification.py\", line 221, in accuracy_score\n",
      "    y_type, y_true, y_pred = _check_targets(y_true, y_pred)\n",
      "  File \"/usr/local/lib/python3.9/dist-packages/sklearn/metrics/_classification.py\", line 95, in _check_targets\n",
      "    raise ValueError(\n",
      "ValueError: Classification metrics can't handle a mix of multilabel-indicator and binary targets\n",
      "\n",
      "  warnings.warn(\n"
     ]
    },
    {
     "name": "stdout",
     "output_type": "stream",
     "text": [
      "102/102 [==============================] - 1s 2ms/step - loss: 0.6767 - accuracy: 0.7416\n",
      "51/51 [==============================] - 0s 3ms/step\n"
     ]
    },
    {
     "name": "stderr",
     "output_type": "stream",
     "text": [
      "/usr/local/lib/python3.9/dist-packages/sklearn/model_selection/_validation.py:778: UserWarning: Scoring failed. The score on this train-test partition for these parameters will be set to nan. Details: \n",
      "Traceback (most recent call last):\n",
      "  File \"/usr/local/lib/python3.9/dist-packages/sklearn/model_selection/_validation.py\", line 767, in _score\n",
      "    scores = scorer(estimator, X_test, y_test)\n",
      "  File \"/usr/local/lib/python3.9/dist-packages/sklearn/metrics/_scorer.py\", line 234, in __call__\n",
      "    return self._score(\n",
      "  File \"/usr/local/lib/python3.9/dist-packages/sklearn/metrics/_scorer.py\", line 282, in _score\n",
      "    return self._sign * self._score_func(y_true, y_pred, **self._kwargs)\n",
      "  File \"/usr/local/lib/python3.9/dist-packages/sklearn/utils/_param_validation.py\", line 192, in wrapper\n",
      "    return func(*args, **kwargs)\n",
      "  File \"/usr/local/lib/python3.9/dist-packages/sklearn/metrics/_classification.py\", line 221, in accuracy_score\n",
      "    y_type, y_true, y_pred = _check_targets(y_true, y_pred)\n",
      "  File \"/usr/local/lib/python3.9/dist-packages/sklearn/metrics/_classification.py\", line 95, in _check_targets\n",
      "    raise ValueError(\n",
      "ValueError: Classification metrics can't handle a mix of multilabel-indicator and binary targets\n",
      "\n",
      "  warnings.warn(\n"
     ]
    },
    {
     "name": "stdout",
     "output_type": "stream",
     "text": [
      "102/102 [==============================] - 2s 4ms/step - loss: 0.6781 - accuracy: 0.7537\n",
      "51/51 [==============================] - 0s 2ms/step\n"
     ]
    },
    {
     "name": "stderr",
     "output_type": "stream",
     "text": [
      "/usr/local/lib/python3.9/dist-packages/sklearn/model_selection/_validation.py:778: UserWarning: Scoring failed. The score on this train-test partition for these parameters will be set to nan. Details: \n",
      "Traceback (most recent call last):\n",
      "  File \"/usr/local/lib/python3.9/dist-packages/sklearn/model_selection/_validation.py\", line 767, in _score\n",
      "    scores = scorer(estimator, X_test, y_test)\n",
      "  File \"/usr/local/lib/python3.9/dist-packages/sklearn/metrics/_scorer.py\", line 234, in __call__\n",
      "    return self._score(\n",
      "  File \"/usr/local/lib/python3.9/dist-packages/sklearn/metrics/_scorer.py\", line 282, in _score\n",
      "    return self._sign * self._score_func(y_true, y_pred, **self._kwargs)\n",
      "  File \"/usr/local/lib/python3.9/dist-packages/sklearn/utils/_param_validation.py\", line 192, in wrapper\n",
      "    return func(*args, **kwargs)\n",
      "  File \"/usr/local/lib/python3.9/dist-packages/sklearn/metrics/_classification.py\", line 221, in accuracy_score\n",
      "    y_type, y_true, y_pred = _check_targets(y_true, y_pred)\n",
      "  File \"/usr/local/lib/python3.9/dist-packages/sklearn/metrics/_classification.py\", line 95, in _check_targets\n",
      "    raise ValueError(\n",
      "ValueError: Classification metrics can't handle a mix of multilabel-indicator and binary targets\n",
      "\n",
      "  warnings.warn(\n"
     ]
    },
    {
     "name": "stdout",
     "output_type": "stream",
     "text": [
      "102/102 [==============================] - 1s 2ms/step - loss: 0.5956 - accuracy: 0.7687\n",
      "51/51 [==============================] - 0s 2ms/step\n"
     ]
    },
    {
     "name": "stderr",
     "output_type": "stream",
     "text": [
      "/usr/local/lib/python3.9/dist-packages/sklearn/model_selection/_validation.py:778: UserWarning: Scoring failed. The score on this train-test partition for these parameters will be set to nan. Details: \n",
      "Traceback (most recent call last):\n",
      "  File \"/usr/local/lib/python3.9/dist-packages/sklearn/model_selection/_validation.py\", line 767, in _score\n",
      "    scores = scorer(estimator, X_test, y_test)\n",
      "  File \"/usr/local/lib/python3.9/dist-packages/sklearn/metrics/_scorer.py\", line 234, in __call__\n",
      "    return self._score(\n",
      "  File \"/usr/local/lib/python3.9/dist-packages/sklearn/metrics/_scorer.py\", line 282, in _score\n",
      "    return self._sign * self._score_func(y_true, y_pred, **self._kwargs)\n",
      "  File \"/usr/local/lib/python3.9/dist-packages/sklearn/utils/_param_validation.py\", line 192, in wrapper\n",
      "    return func(*args, **kwargs)\n",
      "  File \"/usr/local/lib/python3.9/dist-packages/sklearn/metrics/_classification.py\", line 221, in accuracy_score\n",
      "    y_type, y_true, y_pred = _check_targets(y_true, y_pred)\n",
      "  File \"/usr/local/lib/python3.9/dist-packages/sklearn/metrics/_classification.py\", line 95, in _check_targets\n",
      "    raise ValueError(\n",
      "ValueError: Classification metrics can't handle a mix of multilabel-indicator and binary targets\n",
      "\n",
      "  warnings.warn(\n"
     ]
    },
    {
     "name": "stdout",
     "output_type": "stream",
     "text": [
      "102/102 [==============================] - 1s 3ms/step - loss: 0.6368 - accuracy: 0.7555\n",
      "51/51 [==============================] - 0s 2ms/step\n"
     ]
    },
    {
     "name": "stderr",
     "output_type": "stream",
     "text": [
      "/usr/local/lib/python3.9/dist-packages/sklearn/model_selection/_validation.py:778: UserWarning: Scoring failed. The score on this train-test partition for these parameters will be set to nan. Details: \n",
      "Traceback (most recent call last):\n",
      "  File \"/usr/local/lib/python3.9/dist-packages/sklearn/model_selection/_validation.py\", line 767, in _score\n",
      "    scores = scorer(estimator, X_test, y_test)\n",
      "  File \"/usr/local/lib/python3.9/dist-packages/sklearn/metrics/_scorer.py\", line 234, in __call__\n",
      "    return self._score(\n",
      "  File \"/usr/local/lib/python3.9/dist-packages/sklearn/metrics/_scorer.py\", line 282, in _score\n",
      "    return self._sign * self._score_func(y_true, y_pred, **self._kwargs)\n",
      "  File \"/usr/local/lib/python3.9/dist-packages/sklearn/utils/_param_validation.py\", line 192, in wrapper\n",
      "    return func(*args, **kwargs)\n",
      "  File \"/usr/local/lib/python3.9/dist-packages/sklearn/metrics/_classification.py\", line 221, in accuracy_score\n",
      "    y_type, y_true, y_pred = _check_targets(y_true, y_pred)\n",
      "  File \"/usr/local/lib/python3.9/dist-packages/sklearn/metrics/_classification.py\", line 95, in _check_targets\n",
      "    raise ValueError(\n",
      "ValueError: Classification metrics can't handle a mix of multilabel-indicator and binary targets\n",
      "\n",
      "  warnings.warn(\n"
     ]
    },
    {
     "name": "stdout",
     "output_type": "stream",
     "text": [
      "102/102 [==============================] - 1s 3ms/step - loss: 0.6140 - accuracy: 0.7518\n",
      "51/51 [==============================] - 0s 2ms/step\n"
     ]
    },
    {
     "name": "stderr",
     "output_type": "stream",
     "text": [
      "/usr/local/lib/python3.9/dist-packages/sklearn/model_selection/_validation.py:778: UserWarning: Scoring failed. The score on this train-test partition for these parameters will be set to nan. Details: \n",
      "Traceback (most recent call last):\n",
      "  File \"/usr/local/lib/python3.9/dist-packages/sklearn/model_selection/_validation.py\", line 767, in _score\n",
      "    scores = scorer(estimator, X_test, y_test)\n",
      "  File \"/usr/local/lib/python3.9/dist-packages/sklearn/metrics/_scorer.py\", line 234, in __call__\n",
      "    return self._score(\n",
      "  File \"/usr/local/lib/python3.9/dist-packages/sklearn/metrics/_scorer.py\", line 282, in _score\n",
      "    return self._sign * self._score_func(y_true, y_pred, **self._kwargs)\n",
      "  File \"/usr/local/lib/python3.9/dist-packages/sklearn/utils/_param_validation.py\", line 192, in wrapper\n",
      "    return func(*args, **kwargs)\n",
      "  File \"/usr/local/lib/python3.9/dist-packages/sklearn/metrics/_classification.py\", line 221, in accuracy_score\n",
      "    y_type, y_true, y_pred = _check_targets(y_true, y_pred)\n",
      "  File \"/usr/local/lib/python3.9/dist-packages/sklearn/metrics/_classification.py\", line 95, in _check_targets\n",
      "    raise ValueError(\n",
      "ValueError: Classification metrics can't handle a mix of multilabel-indicator and binary targets\n",
      "\n",
      "  warnings.warn(\n"
     ]
    },
    {
     "name": "stdout",
     "output_type": "stream",
     "text": [
      "102/102 [==============================] - 1s 2ms/step - loss: 0.5525 - accuracy: 0.7771\n",
      "51/51 [==============================] - 0s 2ms/step\n"
     ]
    },
    {
     "name": "stderr",
     "output_type": "stream",
     "text": [
      "/usr/local/lib/python3.9/dist-packages/sklearn/model_selection/_validation.py:778: UserWarning: Scoring failed. The score on this train-test partition for these parameters will be set to nan. Details: \n",
      "Traceback (most recent call last):\n",
      "  File \"/usr/local/lib/python3.9/dist-packages/sklearn/model_selection/_validation.py\", line 767, in _score\n",
      "    scores = scorer(estimator, X_test, y_test)\n",
      "  File \"/usr/local/lib/python3.9/dist-packages/sklearn/metrics/_scorer.py\", line 234, in __call__\n",
      "    return self._score(\n",
      "  File \"/usr/local/lib/python3.9/dist-packages/sklearn/metrics/_scorer.py\", line 282, in _score\n",
      "    return self._sign * self._score_func(y_true, y_pred, **self._kwargs)\n",
      "  File \"/usr/local/lib/python3.9/dist-packages/sklearn/utils/_param_validation.py\", line 192, in wrapper\n",
      "    return func(*args, **kwargs)\n",
      "  File \"/usr/local/lib/python3.9/dist-packages/sklearn/metrics/_classification.py\", line 221, in accuracy_score\n",
      "    y_type, y_true, y_pred = _check_targets(y_true, y_pred)\n",
      "  File \"/usr/local/lib/python3.9/dist-packages/sklearn/metrics/_classification.py\", line 95, in _check_targets\n",
      "    raise ValueError(\n",
      "ValueError: Classification metrics can't handle a mix of multilabel-indicator and binary targets\n",
      "\n",
      "  warnings.warn(\n"
     ]
    },
    {
     "name": "stdout",
     "output_type": "stream",
     "text": [
      "102/102 [==============================] - 1s 2ms/step - loss: 0.5799 - accuracy: 0.7601\n",
      "51/51 [==============================] - 0s 2ms/step\n"
     ]
    },
    {
     "name": "stderr",
     "output_type": "stream",
     "text": [
      "/usr/local/lib/python3.9/dist-packages/sklearn/model_selection/_validation.py:778: UserWarning: Scoring failed. The score on this train-test partition for these parameters will be set to nan. Details: \n",
      "Traceback (most recent call last):\n",
      "  File \"/usr/local/lib/python3.9/dist-packages/sklearn/model_selection/_validation.py\", line 767, in _score\n",
      "    scores = scorer(estimator, X_test, y_test)\n",
      "  File \"/usr/local/lib/python3.9/dist-packages/sklearn/metrics/_scorer.py\", line 234, in __call__\n",
      "    return self._score(\n",
      "  File \"/usr/local/lib/python3.9/dist-packages/sklearn/metrics/_scorer.py\", line 282, in _score\n",
      "    return self._sign * self._score_func(y_true, y_pred, **self._kwargs)\n",
      "  File \"/usr/local/lib/python3.9/dist-packages/sklearn/utils/_param_validation.py\", line 192, in wrapper\n",
      "    return func(*args, **kwargs)\n",
      "  File \"/usr/local/lib/python3.9/dist-packages/sklearn/metrics/_classification.py\", line 221, in accuracy_score\n",
      "    y_type, y_true, y_pred = _check_targets(y_true, y_pred)\n",
      "  File \"/usr/local/lib/python3.9/dist-packages/sklearn/metrics/_classification.py\", line 95, in _check_targets\n",
      "    raise ValueError(\n",
      "ValueError: Classification metrics can't handle a mix of multilabel-indicator and binary targets\n",
      "\n",
      "  warnings.warn(\n"
     ]
    },
    {
     "name": "stdout",
     "output_type": "stream",
     "text": [
      "102/102 [==============================] - 1s 2ms/step - loss: 0.5500 - accuracy: 0.7802\n",
      "51/51 [==============================] - 0s 2ms/step\n"
     ]
    },
    {
     "name": "stderr",
     "output_type": "stream",
     "text": [
      "/usr/local/lib/python3.9/dist-packages/sklearn/model_selection/_validation.py:778: UserWarning: Scoring failed. The score on this train-test partition for these parameters will be set to nan. Details: \n",
      "Traceback (most recent call last):\n",
      "  File \"/usr/local/lib/python3.9/dist-packages/sklearn/model_selection/_validation.py\", line 767, in _score\n",
      "    scores = scorer(estimator, X_test, y_test)\n",
      "  File \"/usr/local/lib/python3.9/dist-packages/sklearn/metrics/_scorer.py\", line 234, in __call__\n",
      "    return self._score(\n",
      "  File \"/usr/local/lib/python3.9/dist-packages/sklearn/metrics/_scorer.py\", line 282, in _score\n",
      "    return self._sign * self._score_func(y_true, y_pred, **self._kwargs)\n",
      "  File \"/usr/local/lib/python3.9/dist-packages/sklearn/utils/_param_validation.py\", line 192, in wrapper\n",
      "    return func(*args, **kwargs)\n",
      "  File \"/usr/local/lib/python3.9/dist-packages/sklearn/metrics/_classification.py\", line 221, in accuracy_score\n",
      "    y_type, y_true, y_pred = _check_targets(y_true, y_pred)\n",
      "  File \"/usr/local/lib/python3.9/dist-packages/sklearn/metrics/_classification.py\", line 95, in _check_targets\n",
      "    raise ValueError(\n",
      "ValueError: Classification metrics can't handle a mix of multilabel-indicator and binary targets\n",
      "\n",
      "  warnings.warn(\n"
     ]
    },
    {
     "name": "stdout",
     "output_type": "stream",
     "text": [
      "102/102 [==============================] - 1s 3ms/step - loss: 0.5209 - accuracy: 0.7894\n",
      "51/51 [==============================] - 0s 2ms/step\n"
     ]
    },
    {
     "name": "stderr",
     "output_type": "stream",
     "text": [
      "/usr/local/lib/python3.9/dist-packages/sklearn/model_selection/_validation.py:778: UserWarning: Scoring failed. The score on this train-test partition for these parameters will be set to nan. Details: \n",
      "Traceback (most recent call last):\n",
      "  File \"/usr/local/lib/python3.9/dist-packages/sklearn/model_selection/_validation.py\", line 767, in _score\n",
      "    scores = scorer(estimator, X_test, y_test)\n",
      "  File \"/usr/local/lib/python3.9/dist-packages/sklearn/metrics/_scorer.py\", line 234, in __call__\n",
      "    return self._score(\n",
      "  File \"/usr/local/lib/python3.9/dist-packages/sklearn/metrics/_scorer.py\", line 282, in _score\n",
      "    return self._sign * self._score_func(y_true, y_pred, **self._kwargs)\n",
      "  File \"/usr/local/lib/python3.9/dist-packages/sklearn/utils/_param_validation.py\", line 192, in wrapper\n",
      "    return func(*args, **kwargs)\n",
      "  File \"/usr/local/lib/python3.9/dist-packages/sklearn/metrics/_classification.py\", line 221, in accuracy_score\n",
      "    y_type, y_true, y_pred = _check_targets(y_true, y_pred)\n",
      "  File \"/usr/local/lib/python3.9/dist-packages/sklearn/metrics/_classification.py\", line 95, in _check_targets\n",
      "    raise ValueError(\n",
      "ValueError: Classification metrics can't handle a mix of multilabel-indicator and binary targets\n",
      "\n",
      "  warnings.warn(\n"
     ]
    },
    {
     "name": "stdout",
     "output_type": "stream",
     "text": [
      "102/102 [==============================] - 1s 2ms/step - loss: 0.5578 - accuracy: 0.7749\n",
      "51/51 [==============================] - 0s 2ms/step\n"
     ]
    },
    {
     "name": "stderr",
     "output_type": "stream",
     "text": [
      "/usr/local/lib/python3.9/dist-packages/sklearn/model_selection/_validation.py:778: UserWarning: Scoring failed. The score on this train-test partition for these parameters will be set to nan. Details: \n",
      "Traceback (most recent call last):\n",
      "  File \"/usr/local/lib/python3.9/dist-packages/sklearn/model_selection/_validation.py\", line 767, in _score\n",
      "    scores = scorer(estimator, X_test, y_test)\n",
      "  File \"/usr/local/lib/python3.9/dist-packages/sklearn/metrics/_scorer.py\", line 234, in __call__\n",
      "    return self._score(\n",
      "  File \"/usr/local/lib/python3.9/dist-packages/sklearn/metrics/_scorer.py\", line 282, in _score\n",
      "    return self._sign * self._score_func(y_true, y_pred, **self._kwargs)\n",
      "  File \"/usr/local/lib/python3.9/dist-packages/sklearn/utils/_param_validation.py\", line 192, in wrapper\n",
      "    return func(*args, **kwargs)\n",
      "  File \"/usr/local/lib/python3.9/dist-packages/sklearn/metrics/_classification.py\", line 221, in accuracy_score\n",
      "    y_type, y_true, y_pred = _check_targets(y_true, y_pred)\n",
      "  File \"/usr/local/lib/python3.9/dist-packages/sklearn/metrics/_classification.py\", line 95, in _check_targets\n",
      "    raise ValueError(\n",
      "ValueError: Classification metrics can't handle a mix of multilabel-indicator and binary targets\n",
      "\n",
      "  warnings.warn(\n"
     ]
    },
    {
     "name": "stdout",
     "output_type": "stream",
     "text": [
      "102/102 [==============================] - 1s 3ms/step - loss: 0.5416 - accuracy: 0.7750\n",
      "51/51 [==============================] - 0s 2ms/step\n"
     ]
    },
    {
     "name": "stderr",
     "output_type": "stream",
     "text": [
      "/usr/local/lib/python3.9/dist-packages/sklearn/model_selection/_validation.py:778: UserWarning: Scoring failed. The score on this train-test partition for these parameters will be set to nan. Details: \n",
      "Traceback (most recent call last):\n",
      "  File \"/usr/local/lib/python3.9/dist-packages/sklearn/model_selection/_validation.py\", line 767, in _score\n",
      "    scores = scorer(estimator, X_test, y_test)\n",
      "  File \"/usr/local/lib/python3.9/dist-packages/sklearn/metrics/_scorer.py\", line 234, in __call__\n",
      "    return self._score(\n",
      "  File \"/usr/local/lib/python3.9/dist-packages/sklearn/metrics/_scorer.py\", line 282, in _score\n",
      "    return self._sign * self._score_func(y_true, y_pred, **self._kwargs)\n",
      "  File \"/usr/local/lib/python3.9/dist-packages/sklearn/utils/_param_validation.py\", line 192, in wrapper\n",
      "    return func(*args, **kwargs)\n",
      "  File \"/usr/local/lib/python3.9/dist-packages/sklearn/metrics/_classification.py\", line 221, in accuracy_score\n",
      "    y_type, y_true, y_pred = _check_targets(y_true, y_pred)\n",
      "  File \"/usr/local/lib/python3.9/dist-packages/sklearn/metrics/_classification.py\", line 95, in _check_targets\n",
      "    raise ValueError(\n",
      "ValueError: Classification metrics can't handle a mix of multilabel-indicator and binary targets\n",
      "\n",
      "  warnings.warn(\n"
     ]
    },
    {
     "name": "stdout",
     "output_type": "stream",
     "text": [
      "102/102 [==============================] - 1s 2ms/step - loss: 0.5305 - accuracy: 0.7823\n",
      "51/51 [==============================] - 0s 2ms/step\n"
     ]
    },
    {
     "name": "stderr",
     "output_type": "stream",
     "text": [
      "/usr/local/lib/python3.9/dist-packages/sklearn/model_selection/_validation.py:778: UserWarning: Scoring failed. The score on this train-test partition for these parameters will be set to nan. Details: \n",
      "Traceback (most recent call last):\n",
      "  File \"/usr/local/lib/python3.9/dist-packages/sklearn/model_selection/_validation.py\", line 767, in _score\n",
      "    scores = scorer(estimator, X_test, y_test)\n",
      "  File \"/usr/local/lib/python3.9/dist-packages/sklearn/metrics/_scorer.py\", line 234, in __call__\n",
      "    return self._score(\n",
      "  File \"/usr/local/lib/python3.9/dist-packages/sklearn/metrics/_scorer.py\", line 282, in _score\n",
      "    return self._sign * self._score_func(y_true, y_pred, **self._kwargs)\n",
      "  File \"/usr/local/lib/python3.9/dist-packages/sklearn/utils/_param_validation.py\", line 192, in wrapper\n",
      "    return func(*args, **kwargs)\n",
      "  File \"/usr/local/lib/python3.9/dist-packages/sklearn/metrics/_classification.py\", line 221, in accuracy_score\n",
      "    y_type, y_true, y_pred = _check_targets(y_true, y_pred)\n",
      "  File \"/usr/local/lib/python3.9/dist-packages/sklearn/metrics/_classification.py\", line 95, in _check_targets\n",
      "    raise ValueError(\n",
      "ValueError: Classification metrics can't handle a mix of multilabel-indicator and binary targets\n",
      "\n",
      "  warnings.warn(\n"
     ]
    },
    {
     "name": "stdout",
     "output_type": "stream",
     "text": [
      "102/102 [==============================] - 1s 2ms/step - loss: 0.5384 - accuracy: 0.7712\n",
      "51/51 [==============================] - 0s 2ms/step\n"
     ]
    },
    {
     "name": "stderr",
     "output_type": "stream",
     "text": [
      "/usr/local/lib/python3.9/dist-packages/sklearn/model_selection/_validation.py:778: UserWarning: Scoring failed. The score on this train-test partition for these parameters will be set to nan. Details: \n",
      "Traceback (most recent call last):\n",
      "  File \"/usr/local/lib/python3.9/dist-packages/sklearn/model_selection/_validation.py\", line 767, in _score\n",
      "    scores = scorer(estimator, X_test, y_test)\n",
      "  File \"/usr/local/lib/python3.9/dist-packages/sklearn/metrics/_scorer.py\", line 234, in __call__\n",
      "    return self._score(\n",
      "  File \"/usr/local/lib/python3.9/dist-packages/sklearn/metrics/_scorer.py\", line 282, in _score\n",
      "    return self._sign * self._score_func(y_true, y_pred, **self._kwargs)\n",
      "  File \"/usr/local/lib/python3.9/dist-packages/sklearn/utils/_param_validation.py\", line 192, in wrapper\n",
      "    return func(*args, **kwargs)\n",
      "  File \"/usr/local/lib/python3.9/dist-packages/sklearn/metrics/_classification.py\", line 221, in accuracy_score\n",
      "    y_type, y_true, y_pred = _check_targets(y_true, y_pred)\n",
      "  File \"/usr/local/lib/python3.9/dist-packages/sklearn/metrics/_classification.py\", line 95, in _check_targets\n",
      "    raise ValueError(\n",
      "ValueError: Classification metrics can't handle a mix of multilabel-indicator and binary targets\n",
      "\n",
      "  warnings.warn(\n"
     ]
    },
    {
     "name": "stdout",
     "output_type": "stream",
     "text": [
      "102/102 [==============================] - 2s 3ms/step - loss: 0.5372 - accuracy: 0.7784\n",
      "51/51 [==============================] - 0s 2ms/step\n"
     ]
    },
    {
     "name": "stderr",
     "output_type": "stream",
     "text": [
      "/usr/local/lib/python3.9/dist-packages/sklearn/model_selection/_validation.py:778: UserWarning: Scoring failed. The score on this train-test partition for these parameters will be set to nan. Details: \n",
      "Traceback (most recent call last):\n",
      "  File \"/usr/local/lib/python3.9/dist-packages/sklearn/model_selection/_validation.py\", line 767, in _score\n",
      "    scores = scorer(estimator, X_test, y_test)\n",
      "  File \"/usr/local/lib/python3.9/dist-packages/sklearn/metrics/_scorer.py\", line 234, in __call__\n",
      "    return self._score(\n",
      "  File \"/usr/local/lib/python3.9/dist-packages/sklearn/metrics/_scorer.py\", line 282, in _score\n",
      "    return self._sign * self._score_func(y_true, y_pred, **self._kwargs)\n",
      "  File \"/usr/local/lib/python3.9/dist-packages/sklearn/utils/_param_validation.py\", line 192, in wrapper\n",
      "    return func(*args, **kwargs)\n",
      "  File \"/usr/local/lib/python3.9/dist-packages/sklearn/metrics/_classification.py\", line 221, in accuracy_score\n",
      "    y_type, y_true, y_pred = _check_targets(y_true, y_pred)\n",
      "  File \"/usr/local/lib/python3.9/dist-packages/sklearn/metrics/_classification.py\", line 95, in _check_targets\n",
      "    raise ValueError(\n",
      "ValueError: Classification metrics can't handle a mix of multilabel-indicator and binary targets\n",
      "\n",
      "  warnings.warn(\n"
     ]
    },
    {
     "name": "stdout",
     "output_type": "stream",
     "text": [
      "102/102 [==============================] - 1s 3ms/step - loss: 0.5544 - accuracy: 0.7740\n",
      "51/51 [==============================] - 0s 2ms/step\n"
     ]
    },
    {
     "name": "stderr",
     "output_type": "stream",
     "text": [
      "/usr/local/lib/python3.9/dist-packages/sklearn/model_selection/_validation.py:778: UserWarning: Scoring failed. The score on this train-test partition for these parameters will be set to nan. Details: \n",
      "Traceback (most recent call last):\n",
      "  File \"/usr/local/lib/python3.9/dist-packages/sklearn/model_selection/_validation.py\", line 767, in _score\n",
      "    scores = scorer(estimator, X_test, y_test)\n",
      "  File \"/usr/local/lib/python3.9/dist-packages/sklearn/metrics/_scorer.py\", line 234, in __call__\n",
      "    return self._score(\n",
      "  File \"/usr/local/lib/python3.9/dist-packages/sklearn/metrics/_scorer.py\", line 282, in _score\n",
      "    return self._sign * self._score_func(y_true, y_pred, **self._kwargs)\n",
      "  File \"/usr/local/lib/python3.9/dist-packages/sklearn/utils/_param_validation.py\", line 192, in wrapper\n",
      "    return func(*args, **kwargs)\n",
      "  File \"/usr/local/lib/python3.9/dist-packages/sklearn/metrics/_classification.py\", line 221, in accuracy_score\n",
      "    y_type, y_true, y_pred = _check_targets(y_true, y_pred)\n",
      "  File \"/usr/local/lib/python3.9/dist-packages/sklearn/metrics/_classification.py\", line 95, in _check_targets\n",
      "    raise ValueError(\n",
      "ValueError: Classification metrics can't handle a mix of multilabel-indicator and binary targets\n",
      "\n",
      "  warnings.warn(\n"
     ]
    },
    {
     "name": "stdout",
     "output_type": "stream",
     "text": [
      "102/102 [==============================] - 1s 3ms/step - loss: 0.5675 - accuracy: 0.7740\n",
      "51/51 [==============================] - 0s 2ms/step\n"
     ]
    },
    {
     "name": "stderr",
     "output_type": "stream",
     "text": [
      "/usr/local/lib/python3.9/dist-packages/sklearn/model_selection/_validation.py:778: UserWarning: Scoring failed. The score on this train-test partition for these parameters will be set to nan. Details: \n",
      "Traceback (most recent call last):\n",
      "  File \"/usr/local/lib/python3.9/dist-packages/sklearn/model_selection/_validation.py\", line 767, in _score\n",
      "    scores = scorer(estimator, X_test, y_test)\n",
      "  File \"/usr/local/lib/python3.9/dist-packages/sklearn/metrics/_scorer.py\", line 234, in __call__\n",
      "    return self._score(\n",
      "  File \"/usr/local/lib/python3.9/dist-packages/sklearn/metrics/_scorer.py\", line 282, in _score\n",
      "    return self._sign * self._score_func(y_true, y_pred, **self._kwargs)\n",
      "  File \"/usr/local/lib/python3.9/dist-packages/sklearn/utils/_param_validation.py\", line 192, in wrapper\n",
      "    return func(*args, **kwargs)\n",
      "  File \"/usr/local/lib/python3.9/dist-packages/sklearn/metrics/_classification.py\", line 221, in accuracy_score\n",
      "    y_type, y_true, y_pred = _check_targets(y_true, y_pred)\n",
      "  File \"/usr/local/lib/python3.9/dist-packages/sklearn/metrics/_classification.py\", line 95, in _check_targets\n",
      "    raise ValueError(\n",
      "ValueError: Classification metrics can't handle a mix of multilabel-indicator and binary targets\n",
      "\n",
      "  warnings.warn(\n"
     ]
    },
    {
     "name": "stdout",
     "output_type": "stream",
     "text": [
      "102/102 [==============================] - 1s 2ms/step - loss: 0.5728 - accuracy: 0.7543\n",
      "51/51 [==============================] - 0s 2ms/step\n"
     ]
    },
    {
     "name": "stderr",
     "output_type": "stream",
     "text": [
      "/usr/local/lib/python3.9/dist-packages/sklearn/model_selection/_validation.py:778: UserWarning: Scoring failed. The score on this train-test partition for these parameters will be set to nan. Details: \n",
      "Traceback (most recent call last):\n",
      "  File \"/usr/local/lib/python3.9/dist-packages/sklearn/model_selection/_validation.py\", line 767, in _score\n",
      "    scores = scorer(estimator, X_test, y_test)\n",
      "  File \"/usr/local/lib/python3.9/dist-packages/sklearn/metrics/_scorer.py\", line 234, in __call__\n",
      "    return self._score(\n",
      "  File \"/usr/local/lib/python3.9/dist-packages/sklearn/metrics/_scorer.py\", line 282, in _score\n",
      "    return self._sign * self._score_func(y_true, y_pred, **self._kwargs)\n",
      "  File \"/usr/local/lib/python3.9/dist-packages/sklearn/utils/_param_validation.py\", line 192, in wrapper\n",
      "    return func(*args, **kwargs)\n",
      "  File \"/usr/local/lib/python3.9/dist-packages/sklearn/metrics/_classification.py\", line 221, in accuracy_score\n",
      "    y_type, y_true, y_pred = _check_targets(y_true, y_pred)\n",
      "  File \"/usr/local/lib/python3.9/dist-packages/sklearn/metrics/_classification.py\", line 95, in _check_targets\n",
      "    raise ValueError(\n",
      "ValueError: Classification metrics can't handle a mix of multilabel-indicator and binary targets\n",
      "\n",
      "  warnings.warn(\n"
     ]
    },
    {
     "name": "stdout",
     "output_type": "stream",
     "text": [
      "102/102 [==============================] - 1s 3ms/step - loss: 0.5957 - accuracy: 0.7681\n",
      "51/51 [==============================] - 0s 2ms/step\n"
     ]
    },
    {
     "name": "stderr",
     "output_type": "stream",
     "text": [
      "/usr/local/lib/python3.9/dist-packages/sklearn/model_selection/_validation.py:778: UserWarning: Scoring failed. The score on this train-test partition for these parameters will be set to nan. Details: \n",
      "Traceback (most recent call last):\n",
      "  File \"/usr/local/lib/python3.9/dist-packages/sklearn/model_selection/_validation.py\", line 767, in _score\n",
      "    scores = scorer(estimator, X_test, y_test)\n",
      "  File \"/usr/local/lib/python3.9/dist-packages/sklearn/metrics/_scorer.py\", line 234, in __call__\n",
      "    return self._score(\n",
      "  File \"/usr/local/lib/python3.9/dist-packages/sklearn/metrics/_scorer.py\", line 282, in _score\n",
      "    return self._sign * self._score_func(y_true, y_pred, **self._kwargs)\n",
      "  File \"/usr/local/lib/python3.9/dist-packages/sklearn/utils/_param_validation.py\", line 192, in wrapper\n",
      "    return func(*args, **kwargs)\n",
      "  File \"/usr/local/lib/python3.9/dist-packages/sklearn/metrics/_classification.py\", line 221, in accuracy_score\n",
      "    y_type, y_true, y_pred = _check_targets(y_true, y_pred)\n",
      "  File \"/usr/local/lib/python3.9/dist-packages/sklearn/metrics/_classification.py\", line 95, in _check_targets\n",
      "    raise ValueError(\n",
      "ValueError: Classification metrics can't handle a mix of multilabel-indicator and binary targets\n",
      "\n",
      "  warnings.warn(\n"
     ]
    },
    {
     "name": "stdout",
     "output_type": "stream",
     "text": [
      "102/102 [==============================] - 1s 3ms/step - loss: 0.6312 - accuracy: 0.7545\n",
      "51/51 [==============================] - 0s 2ms/step\n"
     ]
    },
    {
     "name": "stderr",
     "output_type": "stream",
     "text": [
      "/usr/local/lib/python3.9/dist-packages/sklearn/model_selection/_validation.py:778: UserWarning: Scoring failed. The score on this train-test partition for these parameters will be set to nan. Details: \n",
      "Traceback (most recent call last):\n",
      "  File \"/usr/local/lib/python3.9/dist-packages/sklearn/model_selection/_validation.py\", line 767, in _score\n",
      "    scores = scorer(estimator, X_test, y_test)\n",
      "  File \"/usr/local/lib/python3.9/dist-packages/sklearn/metrics/_scorer.py\", line 234, in __call__\n",
      "    return self._score(\n",
      "  File \"/usr/local/lib/python3.9/dist-packages/sklearn/metrics/_scorer.py\", line 282, in _score\n",
      "    return self._sign * self._score_func(y_true, y_pred, **self._kwargs)\n",
      "  File \"/usr/local/lib/python3.9/dist-packages/sklearn/utils/_param_validation.py\", line 192, in wrapper\n",
      "    return func(*args, **kwargs)\n",
      "  File \"/usr/local/lib/python3.9/dist-packages/sklearn/metrics/_classification.py\", line 221, in accuracy_score\n",
      "    y_type, y_true, y_pred = _check_targets(y_true, y_pred)\n",
      "  File \"/usr/local/lib/python3.9/dist-packages/sklearn/metrics/_classification.py\", line 95, in _check_targets\n",
      "    raise ValueError(\n",
      "ValueError: Classification metrics can't handle a mix of multilabel-indicator and binary targets\n",
      "\n",
      "  warnings.warn(\n"
     ]
    },
    {
     "name": "stdout",
     "output_type": "stream",
     "text": [
      "102/102 [==============================] - 1s 3ms/step - loss: 0.6198 - accuracy: 0.7608\n",
      "51/51 [==============================] - 0s 2ms/step\n"
     ]
    },
    {
     "name": "stderr",
     "output_type": "stream",
     "text": [
      "/usr/local/lib/python3.9/dist-packages/sklearn/model_selection/_validation.py:778: UserWarning: Scoring failed. The score on this train-test partition for these parameters will be set to nan. Details: \n",
      "Traceback (most recent call last):\n",
      "  File \"/usr/local/lib/python3.9/dist-packages/sklearn/model_selection/_validation.py\", line 767, in _score\n",
      "    scores = scorer(estimator, X_test, y_test)\n",
      "  File \"/usr/local/lib/python3.9/dist-packages/sklearn/metrics/_scorer.py\", line 234, in __call__\n",
      "    return self._score(\n",
      "  File \"/usr/local/lib/python3.9/dist-packages/sklearn/metrics/_scorer.py\", line 282, in _score\n",
      "    return self._sign * self._score_func(y_true, y_pred, **self._kwargs)\n",
      "  File \"/usr/local/lib/python3.9/dist-packages/sklearn/utils/_param_validation.py\", line 192, in wrapper\n",
      "    return func(*args, **kwargs)\n",
      "  File \"/usr/local/lib/python3.9/dist-packages/sklearn/metrics/_classification.py\", line 221, in accuracy_score\n",
      "    y_type, y_true, y_pred = _check_targets(y_true, y_pred)\n",
      "  File \"/usr/local/lib/python3.9/dist-packages/sklearn/metrics/_classification.py\", line 95, in _check_targets\n",
      "    raise ValueError(\n",
      "ValueError: Classification metrics can't handle a mix of multilabel-indicator and binary targets\n",
      "\n",
      "  warnings.warn(\n",
      "/usr/local/lib/python3.9/dist-packages/sklearn/model_selection/_search.py:952: UserWarning: One or more of the test scores are non-finite: [nan nan nan nan nan nan nan nan nan nan nan nan nan nan nan nan nan nan\n",
      " nan nan nan nan nan nan nan nan nan nan nan nan nan nan nan nan nan nan\n",
      " nan nan nan nan nan nan nan nan nan nan nan nan nan nan nan nan nan nan\n",
      " nan nan nan nan nan nan nan nan nan nan nan nan nan nan nan nan nan nan]\n",
      "  warnings.warn(\n"
     ]
    },
    {
     "name": "stdout",
     "output_type": "stream",
     "text": [
      "153/153 [==============================] - 1s 2ms/step - loss: 1.0537 - accuracy: 0.7455\n",
      "Best parameters: {'activation': 'relu', 'dropout_rate': 0.0, 'learning_rate': 0.001, 'neurons': 4}\n",
      "Best accuracy score: nan\n"
     ]
    }
   ],
   "source": [
    "from sklearn.model_selection import GridSearchCV\n",
    "from tensorflow.keras.models import Sequential\n",
    "from tensorflow.keras.layers import Dense, Dropout\n",
    "from tensorflow.keras.optimizers import Adam\n",
    "from keras.wrappers.scikit_learn import KerasClassifier\n",
    "\n",
    "# Define the model architecture\n",
    "def create_model(neurons=8, activation='relu', dropout_rate=0.0, learning_rate=0.001):\n",
    "    model = Sequential()\n",
    "    model.add(Dense(neurons, input_dim=X_train.shape[1], activation=activation))\n",
    "    model.add(Dropout(dropout_rate))\n",
    "    model.add(Dense(neurons, activation=activation))\n",
    "    model.add(Dropout(dropout_rate))\n",
    "    model.add(Dense(4, activation='softmax'))\n",
    "    optimizer = Adam(learning_rate=learning_rate)\n",
    "    model.compile(loss='categorical_crossentropy', optimizer=optimizer, metrics=['accuracy'])\n",
    "    return model\n",
    "\n",
    "# Define the parameter grid\n",
    "param_grid = {'neurons': [4, 8, 16, 32],\n",
    "              'activation': ['relu', 'tanh'],\n",
    "              'dropout_rate': [0.0, 0.1, 0.2],\n",
    "              'learning_rate': [0.001, 0.01, 0.1]}\n",
    "\n",
    "# Create the grid search object\n",
    "Kmodel = KerasClassifier(build_fn=create_model, verbose=1)\n",
    "grid_search = GridSearchCV(estimator=Kmodel, param_grid=param_grid, cv=3, scoring='accuracy')\n",
    "# Fit the grid search object to the data\n",
    "grid_result = grid_search.fit(X_tr_norm, y_train_categorical)\n",
    "\n",
    "# Print the best parameters and the corresponding accuracy score\n",
    "print('Best parameters:', grid_result.best_params_)\n",
    "print('Best accuracy score:', grid_result.best_score_)\n"
   ]
  },
  {
   "cell_type": "code",
   "execution_count": 44,
   "metadata": {
    "colab": {
     "base_uri": "https://localhost:8080/"
    },
    "id": "ErGB63AnVJXh",
    "outputId": "e8261edc-5e3a-47b4-b3d8-b3d1884e4331"
   },
   "outputs": [
    {
     "name": "stdout",
     "output_type": "stream",
     "text": [
      "Epoch 1/100\n",
      "153/153 [==============================] - 1s 4ms/step - loss: 1.1426 - accuracy: 0.7383 - val_loss: 0.9022 - val_accuracy: 0.8027\n",
      "Epoch 2/100\n",
      "153/153 [==============================] - 0s 2ms/step - loss: 0.7577 - accuracy: 0.7957 - val_loss: 0.6180 - val_accuracy: 0.8033\n",
      "Epoch 3/100\n",
      "153/153 [==============================] - 0s 2ms/step - loss: 0.5873 - accuracy: 0.7957 - val_loss: 0.5251 - val_accuracy: 0.8064\n",
      "Epoch 4/100\n",
      "153/153 [==============================] - 0s 3ms/step - loss: 0.5324 - accuracy: 0.8014 - val_loss: 0.4833 - val_accuracy: 0.8058\n",
      "Epoch 5/100\n",
      "153/153 [==============================] - 0s 3ms/step - loss: 0.5034 - accuracy: 0.8070 - val_loss: 0.4585 - val_accuracy: 0.8058\n",
      "Epoch 6/100\n",
      "153/153 [==============================] - 0s 2ms/step - loss: 0.4846 - accuracy: 0.8119 - val_loss: 0.4435 - val_accuracy: 0.8064\n",
      "Epoch 7/100\n",
      "153/153 [==============================] - 0s 2ms/step - loss: 0.4725 - accuracy: 0.8156 - val_loss: 0.4337 - val_accuracy: 0.8058\n",
      "Epoch 8/100\n",
      "153/153 [==============================] - 0s 3ms/step - loss: 0.4636 - accuracy: 0.8171 - val_loss: 0.4273 - val_accuracy: 0.8033\n",
      "Epoch 9/100\n",
      "153/153 [==============================] - 0s 2ms/step - loss: 0.4572 - accuracy: 0.8171 - val_loss: 0.4218 - val_accuracy: 0.8083\n",
      "Epoch 10/100\n",
      "153/153 [==============================] - 0s 2ms/step - loss: 0.4520 - accuracy: 0.8177 - val_loss: 0.4177 - val_accuracy: 0.8083\n",
      "Epoch 11/100\n",
      "153/153 [==============================] - 0s 3ms/step - loss: 0.4481 - accuracy: 0.8171 - val_loss: 0.4147 - val_accuracy: 0.8076\n",
      "Epoch 12/100\n",
      "153/153 [==============================] - 0s 2ms/step - loss: 0.4449 - accuracy: 0.8175 - val_loss: 0.4116 - val_accuracy: 0.8138\n",
      "Epoch 13/100\n",
      "153/153 [==============================] - 0s 3ms/step - loss: 0.4422 - accuracy: 0.8169 - val_loss: 0.4094 - val_accuracy: 0.8132\n",
      "Epoch 14/100\n",
      "153/153 [==============================] - 0s 3ms/step - loss: 0.4404 - accuracy: 0.8173 - val_loss: 0.4076 - val_accuracy: 0.8101\n",
      "Epoch 15/100\n",
      "153/153 [==============================] - 0s 2ms/step - loss: 0.4383 - accuracy: 0.8160 - val_loss: 0.4051 - val_accuracy: 0.8126\n",
      "Epoch 16/100\n",
      "153/153 [==============================] - 0s 3ms/step - loss: 0.4375 - accuracy: 0.8183 - val_loss: 0.4035 - val_accuracy: 0.8120\n",
      "Epoch 17/100\n",
      "153/153 [==============================] - 0s 2ms/step - loss: 0.4351 - accuracy: 0.8177 - val_loss: 0.4024 - val_accuracy: 0.8107\n",
      "Epoch 18/100\n",
      "153/153 [==============================] - 0s 3ms/step - loss: 0.4339 - accuracy: 0.8169 - val_loss: 0.4004 - val_accuracy: 0.8120\n",
      "Epoch 19/100\n",
      "153/153 [==============================] - 1s 4ms/step - loss: 0.4330 - accuracy: 0.8175 - val_loss: 0.3998 - val_accuracy: 0.8089\n",
      "Epoch 20/100\n",
      "153/153 [==============================] - 1s 4ms/step - loss: 0.4320 - accuracy: 0.8166 - val_loss: 0.3985 - val_accuracy: 0.8083\n",
      "Epoch 21/100\n",
      "153/153 [==============================] - 1s 4ms/step - loss: 0.4312 - accuracy: 0.8158 - val_loss: 0.3981 - val_accuracy: 0.8089\n",
      "Epoch 22/100\n",
      "153/153 [==============================] - 1s 4ms/step - loss: 0.4303 - accuracy: 0.8150 - val_loss: 0.3959 - val_accuracy: 0.8194\n",
      "Epoch 23/100\n",
      "153/153 [==============================] - 1s 4ms/step - loss: 0.4294 - accuracy: 0.8158 - val_loss: 0.3969 - val_accuracy: 0.8107\n",
      "Epoch 24/100\n",
      "153/153 [==============================] - 0s 2ms/step - loss: 0.4288 - accuracy: 0.8140 - val_loss: 0.3955 - val_accuracy: 0.8120\n",
      "Epoch 25/100\n",
      "153/153 [==============================] - 0s 3ms/step - loss: 0.4276 - accuracy: 0.8169 - val_loss: 0.3965 - val_accuracy: 0.8076\n",
      "Epoch 26/100\n",
      "153/153 [==============================] - 0s 3ms/step - loss: 0.4276 - accuracy: 0.8148 - val_loss: 0.3932 - val_accuracy: 0.8138\n",
      "Epoch 27/100\n",
      "153/153 [==============================] - 0s 3ms/step - loss: 0.4267 - accuracy: 0.8160 - val_loss: 0.3924 - val_accuracy: 0.8150\n",
      "Epoch 28/100\n",
      "153/153 [==============================] - 0s 3ms/step - loss: 0.4261 - accuracy: 0.8142 - val_loss: 0.3916 - val_accuracy: 0.8138\n",
      "Epoch 29/100\n",
      "153/153 [==============================] - 0s 3ms/step - loss: 0.4254 - accuracy: 0.8144 - val_loss: 0.3910 - val_accuracy: 0.8181\n",
      "Epoch 30/100\n",
      "153/153 [==============================] - 0s 3ms/step - loss: 0.4251 - accuracy: 0.8158 - val_loss: 0.3907 - val_accuracy: 0.8132\n",
      "Epoch 31/100\n",
      "153/153 [==============================] - 0s 2ms/step - loss: 0.4246 - accuracy: 0.8162 - val_loss: 0.3911 - val_accuracy: 0.8157\n",
      "Epoch 32/100\n",
      "153/153 [==============================] - 0s 3ms/step - loss: 0.4238 - accuracy: 0.8160 - val_loss: 0.3898 - val_accuracy: 0.8138\n",
      "Epoch 33/100\n",
      "153/153 [==============================] - 0s 2ms/step - loss: 0.4234 - accuracy: 0.8132 - val_loss: 0.3896 - val_accuracy: 0.8150\n",
      "Epoch 34/100\n",
      "153/153 [==============================] - 0s 3ms/step - loss: 0.4225 - accuracy: 0.8148 - val_loss: 0.3913 - val_accuracy: 0.8157\n",
      "Epoch 35/100\n",
      "153/153 [==============================] - 0s 3ms/step - loss: 0.4222 - accuracy: 0.8175 - val_loss: 0.3903 - val_accuracy: 0.8157\n",
      "Epoch 36/100\n",
      "153/153 [==============================] - 0s 3ms/step - loss: 0.4220 - accuracy: 0.8175 - val_loss: 0.3881 - val_accuracy: 0.8175\n",
      "Epoch 37/100\n",
      "153/153 [==============================] - 0s 3ms/step - loss: 0.4215 - accuracy: 0.8158 - val_loss: 0.3879 - val_accuracy: 0.8157\n",
      "Epoch 38/100\n",
      "153/153 [==============================] - 0s 3ms/step - loss: 0.4212 - accuracy: 0.8169 - val_loss: 0.3872 - val_accuracy: 0.8157\n",
      "Epoch 39/100\n",
      "153/153 [==============================] - 0s 3ms/step - loss: 0.4206 - accuracy: 0.8171 - val_loss: 0.3876 - val_accuracy: 0.8157\n",
      "Epoch 40/100\n",
      "153/153 [==============================] - 0s 3ms/step - loss: 0.4202 - accuracy: 0.8164 - val_loss: 0.3873 - val_accuracy: 0.8150\n",
      "Epoch 41/100\n",
      "153/153 [==============================] - 0s 3ms/step - loss: 0.4197 - accuracy: 0.8148 - val_loss: 0.3862 - val_accuracy: 0.8175\n",
      "Epoch 42/100\n",
      "153/153 [==============================] - 0s 3ms/step - loss: 0.4190 - accuracy: 0.8183 - val_loss: 0.3856 - val_accuracy: 0.8194\n",
      "Epoch 43/100\n",
      "153/153 [==============================] - 0s 3ms/step - loss: 0.4188 - accuracy: 0.8166 - val_loss: 0.3850 - val_accuracy: 0.8218\n",
      "Epoch 44/100\n",
      "153/153 [==============================] - 0s 3ms/step - loss: 0.4178 - accuracy: 0.8177 - val_loss: 0.3885 - val_accuracy: 0.8076\n",
      "Epoch 45/100\n",
      "153/153 [==============================] - 0s 3ms/step - loss: 0.4178 - accuracy: 0.8164 - val_loss: 0.3886 - val_accuracy: 0.8076\n",
      "Epoch 46/100\n",
      "153/153 [==============================] - 1s 3ms/step - loss: 0.4178 - accuracy: 0.8173 - val_loss: 0.3846 - val_accuracy: 0.8218\n",
      "Epoch 47/100\n",
      "153/153 [==============================] - 1s 4ms/step - loss: 0.4167 - accuracy: 0.8179 - val_loss: 0.3848 - val_accuracy: 0.8181\n",
      "Epoch 48/100\n",
      "153/153 [==============================] - 1s 4ms/step - loss: 0.4169 - accuracy: 0.8160 - val_loss: 0.3846 - val_accuracy: 0.8157\n",
      "Epoch 49/100\n",
      "153/153 [==============================] - 1s 4ms/step - loss: 0.4160 - accuracy: 0.8179 - val_loss: 0.3833 - val_accuracy: 0.8224\n",
      "Epoch 50/100\n",
      "153/153 [==============================] - 1s 4ms/step - loss: 0.4160 - accuracy: 0.8179 - val_loss: 0.3835 - val_accuracy: 0.8237\n",
      "Epoch 51/100\n",
      "153/153 [==============================] - 0s 3ms/step - loss: 0.4155 - accuracy: 0.8189 - val_loss: 0.3830 - val_accuracy: 0.8218\n",
      "Epoch 52/100\n",
      "153/153 [==============================] - 0s 3ms/step - loss: 0.4148 - accuracy: 0.8164 - val_loss: 0.3860 - val_accuracy: 0.8076\n",
      "Epoch 53/100\n",
      "153/153 [==============================] - 0s 3ms/step - loss: 0.4150 - accuracy: 0.8173 - val_loss: 0.3827 - val_accuracy: 0.8224\n",
      "Epoch 54/100\n",
      "153/153 [==============================] - 0s 2ms/step - loss: 0.4148 - accuracy: 0.8191 - val_loss: 0.3835 - val_accuracy: 0.8150\n",
      "Epoch 55/100\n",
      "153/153 [==============================] - 0s 2ms/step - loss: 0.4145 - accuracy: 0.8201 - val_loss: 0.3822 - val_accuracy: 0.8200\n",
      "Epoch 56/100\n",
      "153/153 [==============================] - 0s 3ms/step - loss: 0.4140 - accuracy: 0.8197 - val_loss: 0.3819 - val_accuracy: 0.8212\n",
      "Epoch 57/100\n",
      "153/153 [==============================] - 0s 3ms/step - loss: 0.4135 - accuracy: 0.8173 - val_loss: 0.3826 - val_accuracy: 0.8194\n",
      "Epoch 58/100\n",
      "153/153 [==============================] - 0s 3ms/step - loss: 0.4134 - accuracy: 0.8185 - val_loss: 0.3817 - val_accuracy: 0.8181\n",
      "Epoch 59/100\n",
      "153/153 [==============================] - 0s 3ms/step - loss: 0.4131 - accuracy: 0.8193 - val_loss: 0.3813 - val_accuracy: 0.8212\n",
      "Epoch 60/100\n",
      "153/153 [==============================] - 1s 4ms/step - loss: 0.4125 - accuracy: 0.8185 - val_loss: 0.3821 - val_accuracy: 0.8107\n",
      "Epoch 61/100\n",
      "153/153 [==============================] - 0s 3ms/step - loss: 0.4122 - accuracy: 0.8175 - val_loss: 0.3817 - val_accuracy: 0.8107\n",
      "Epoch 62/100\n",
      "153/153 [==============================] - 0s 3ms/step - loss: 0.4120 - accuracy: 0.8181 - val_loss: 0.3808 - val_accuracy: 0.8150\n",
      "Epoch 63/100\n",
      "153/153 [==============================] - 0s 3ms/step - loss: 0.4118 - accuracy: 0.8201 - val_loss: 0.3792 - val_accuracy: 0.8187\n",
      "Epoch 64/100\n",
      "153/153 [==============================] - 0s 3ms/step - loss: 0.4113 - accuracy: 0.8197 - val_loss: 0.3797 - val_accuracy: 0.8181\n",
      "Epoch 65/100\n",
      "153/153 [==============================] - 0s 3ms/step - loss: 0.4121 - accuracy: 0.8203 - val_loss: 0.3798 - val_accuracy: 0.8218\n",
      "Epoch 66/100\n",
      "153/153 [==============================] - 0s 3ms/step - loss: 0.4111 - accuracy: 0.8201 - val_loss: 0.3804 - val_accuracy: 0.8175\n",
      "Epoch 67/100\n",
      "153/153 [==============================] - 1s 3ms/step - loss: 0.4115 - accuracy: 0.8187 - val_loss: 0.3799 - val_accuracy: 0.8175\n",
      "Epoch 68/100\n",
      "153/153 [==============================] - 0s 3ms/step - loss: 0.4105 - accuracy: 0.8201 - val_loss: 0.3796 - val_accuracy: 0.8175\n",
      "Epoch 69/100\n",
      "153/153 [==============================] - 0s 3ms/step - loss: 0.4105 - accuracy: 0.8216 - val_loss: 0.3788 - val_accuracy: 0.8206\n",
      "Epoch 70/100\n",
      "153/153 [==============================] - 0s 3ms/step - loss: 0.4099 - accuracy: 0.8199 - val_loss: 0.3789 - val_accuracy: 0.8194\n",
      "Epoch 71/100\n",
      "153/153 [==============================] - 0s 3ms/step - loss: 0.4096 - accuracy: 0.8181 - val_loss: 0.3787 - val_accuracy: 0.8194\n",
      "Epoch 72/100\n",
      "153/153 [==============================] - 0s 3ms/step - loss: 0.4100 - accuracy: 0.8199 - val_loss: 0.3782 - val_accuracy: 0.8157\n",
      "Epoch 73/100\n",
      "153/153 [==============================] - 0s 3ms/step - loss: 0.4090 - accuracy: 0.8199 - val_loss: 0.3810 - val_accuracy: 0.8120\n",
      "Epoch 74/100\n",
      "153/153 [==============================] - 1s 4ms/step - loss: 0.4089 - accuracy: 0.8218 - val_loss: 0.3781 - val_accuracy: 0.8163\n",
      "Epoch 75/100\n",
      "153/153 [==============================] - 1s 4ms/step - loss: 0.4088 - accuracy: 0.8222 - val_loss: 0.3776 - val_accuracy: 0.8218\n",
      "Epoch 76/100\n",
      "153/153 [==============================] - 1s 4ms/step - loss: 0.4093 - accuracy: 0.8210 - val_loss: 0.3788 - val_accuracy: 0.8187\n",
      "Epoch 77/100\n",
      "153/153 [==============================] - 1s 5ms/step - loss: 0.4082 - accuracy: 0.8201 - val_loss: 0.3769 - val_accuracy: 0.8163\n",
      "Epoch 78/100\n",
      "153/153 [==============================] - 0s 3ms/step - loss: 0.4084 - accuracy: 0.8197 - val_loss: 0.3791 - val_accuracy: 0.8120\n",
      "Epoch 79/100\n",
      "153/153 [==============================] - 0s 3ms/step - loss: 0.4079 - accuracy: 0.8203 - val_loss: 0.3776 - val_accuracy: 0.8144\n",
      "Epoch 80/100\n",
      "153/153 [==============================] - 0s 3ms/step - loss: 0.4076 - accuracy: 0.8238 - val_loss: 0.3768 - val_accuracy: 0.8194\n",
      "Epoch 81/100\n",
      "153/153 [==============================] - 0s 3ms/step - loss: 0.4071 - accuracy: 0.8234 - val_loss: 0.3766 - val_accuracy: 0.8206\n",
      "Epoch 82/100\n",
      "153/153 [==============================] - 0s 3ms/step - loss: 0.4073 - accuracy: 0.8224 - val_loss: 0.3755 - val_accuracy: 0.8181\n",
      "Epoch 83/100\n",
      "153/153 [==============================] - 1s 3ms/step - loss: 0.4069 - accuracy: 0.8220 - val_loss: 0.3770 - val_accuracy: 0.8138\n",
      "Epoch 84/100\n",
      "153/153 [==============================] - 1s 3ms/step - loss: 0.4071 - accuracy: 0.8208 - val_loss: 0.3759 - val_accuracy: 0.8206\n",
      "Epoch 85/100\n",
      "153/153 [==============================] - 0s 3ms/step - loss: 0.4062 - accuracy: 0.8222 - val_loss: 0.3789 - val_accuracy: 0.8144\n",
      "Epoch 86/100\n",
      "153/153 [==============================] - 1s 3ms/step - loss: 0.4066 - accuracy: 0.8228 - val_loss: 0.3762 - val_accuracy: 0.8200\n",
      "Epoch 87/100\n",
      "153/153 [==============================] - 1s 3ms/step - loss: 0.4062 - accuracy: 0.8210 - val_loss: 0.3758 - val_accuracy: 0.8163\n",
      "Epoch 88/100\n",
      "153/153 [==============================] - 0s 3ms/step - loss: 0.4065 - accuracy: 0.8226 - val_loss: 0.3756 - val_accuracy: 0.8194\n",
      "Epoch 89/100\n",
      "153/153 [==============================] - 1s 3ms/step - loss: 0.4064 - accuracy: 0.8201 - val_loss: 0.3750 - val_accuracy: 0.8187\n",
      "Epoch 90/100\n",
      "153/153 [==============================] - 0s 3ms/step - loss: 0.4057 - accuracy: 0.8222 - val_loss: 0.3763 - val_accuracy: 0.8163\n",
      "Epoch 91/100\n",
      "153/153 [==============================] - 0s 3ms/step - loss: 0.4068 - accuracy: 0.8224 - val_loss: 0.3755 - val_accuracy: 0.8200\n",
      "Epoch 92/100\n",
      "153/153 [==============================] - 0s 3ms/step - loss: 0.4058 - accuracy: 0.8220 - val_loss: 0.3749 - val_accuracy: 0.8181\n",
      "Epoch 93/100\n",
      "153/153 [==============================] - 0s 3ms/step - loss: 0.4053 - accuracy: 0.8249 - val_loss: 0.3752 - val_accuracy: 0.8175\n",
      "Epoch 94/100\n",
      "153/153 [==============================] - 0s 3ms/step - loss: 0.4051 - accuracy: 0.8228 - val_loss: 0.3767 - val_accuracy: 0.8132\n",
      "Epoch 95/100\n",
      "153/153 [==============================] - 0s 3ms/step - loss: 0.4049 - accuracy: 0.8232 - val_loss: 0.3753 - val_accuracy: 0.8126\n",
      "Epoch 96/100\n",
      "153/153 [==============================] - 0s 3ms/step - loss: 0.4048 - accuracy: 0.8216 - val_loss: 0.3746 - val_accuracy: 0.8132\n",
      "Epoch 97/100\n",
      "153/153 [==============================] - 0s 3ms/step - loss: 0.4044 - accuracy: 0.8201 - val_loss: 0.3748 - val_accuracy: 0.8163\n",
      "Epoch 98/100\n",
      "153/153 [==============================] - 0s 3ms/step - loss: 0.4046 - accuracy: 0.8226 - val_loss: 0.3745 - val_accuracy: 0.8150\n",
      "Epoch 99/100\n",
      "153/153 [==============================] - 0s 3ms/step - loss: 0.4045 - accuracy: 0.8243 - val_loss: 0.3746 - val_accuracy: 0.8175\n",
      "Epoch 100/100\n",
      "153/153 [==============================] - 1s 4ms/step - loss: 0.4046 - accuracy: 0.8232 - val_loss: 0.3745 - val_accuracy: 0.8181\n",
      "51/51 [==============================] - 0s 3ms/step - loss: 0.3745 - accuracy: 0.8181\n",
      "Val loss: 0.3744904696941376\n",
      "Val accuracy: 0.8181257843971252\n"
     ]
    }
   ],
   "source": [
    "# Create the final model with the best hyperparameters\n",
    "final_best_model = create_model(neurons=grid_result.best_params_['neurons'],\n",
    "                           activation=grid_result.best_params_['activation'],\n",
    "                           dropout_rate=grid_result.best_params_['dropout_rate'],\n",
    "                           learning_rate=grid_result.best_params_['learning_rate'])\n",
    "\n",
    "# Train the final model on the entire training set\n",
    "history = final_best_model.fit(X_tr_norm, y_train_categorical, epochs=100, batch_size=32, validation_data=(X_val_norm, y_val_categorical))\n",
    "\n",
    "# Evaluate the final model on the validation set\n",
    "val_loss, val_accuracy = final_best_model.evaluate(X_val_norm, y_val_categorical)\n",
    "print('Val loss:', val_loss)\n",
    "print('Val accuracy:', val_accuracy)"
   ]
  },
  {
   "cell_type": "code",
   "execution_count": 45,
   "metadata": {
    "colab": {
     "base_uri": "https://localhost:8080/",
     "height": 404
    },
    "id": "2QYcjL87VJXh",
    "outputId": "bdac579b-b9ed-4b83-a123-ca0f56149061"
   },
   "outputs": [
    {
     "data": {
      "image/png": "[encoded data removed]",
      "text/plain": [
       "<Figure size 720x432 with 1 Axes>"
      ]
     },
     "metadata": {
      "needs_background": "light"
     },
     "output_type": "display_data"
    }
   ],
   "source": [
    "import matplotlib.pyplot as plt\n",
    "\n",
    "# Plot the training and validation losses per epoch for each model\n",
    "plt.figure(figsize=(10, 6))\n",
    "plt.plot(history.history['loss'], label=f\"Model train loss\")\n",
    "plt.plot(history.history['val_loss'], label=f\"Model val loss\")\n",
    "\n",
    "plt.title('Training and validation losses per epoch')\n",
    "plt.xlabel('Epoch')\n",
    "plt.ylabel('Loss')\n",
    "plt.legend()\n",
    "plt.show()\n",
    "\n",
    "\n"
   ]
  },
  {
   "cell_type": "code",
   "execution_count": 46,
   "metadata": {
    "colab": {
     "base_uri": "https://localhost:8080/"
    },
    "id": "haZC6AP_VhzK",
    "outputId": "fcfc2015-5048-404f-9335-0ffa8a068985"
   },
   "outputs": [
    {
     "name": "stdout",
     "output_type": "stream",
     "text": [
      "1/1 [==============================] - 0s 80ms/step\n"
     ]
    }
   ],
   "source": [
    "pred_tst_clasmodl3 = final_best_model.predict(X_tst)"
   ]
  },
  {
   "cell_type": "code",
   "execution_count": 47,
   "metadata": {
    "colab": {
     "base_uri": "https://localhost:8080/"
    },
    "id": "Std_ZRWGY5U3",
    "outputId": "a95bedc2-9c9e-4220-f43c-ec961bc77e97"
   },
   "outputs": [
    {
     "data": {
      "text/plain": [
       "array([[6.7104565e-07, 9.9999923e-01, 2.4416220e-20, 0.0000000e+00],\n",
       "       [9.4698146e-03, 3.2020453e-01, 6.2945193e-01, 4.0873654e-02],\n",
       "       [9.5226513e-03, 3.2049176e-01, 6.2898397e-01, 4.1001569e-02],\n",
       "       [1.4875109e-02, 9.8512477e-01, 3.5553509e-09, 6.7818523e-30],\n",
       "       [6.4301559e-10, 9.9999994e-01, 3.2859997e-29, 0.0000000e+00],\n",
       "       [4.1564422e-23, 9.9999994e-01, 5.2197166e-37, 0.0000000e+00],\n",
       "       [1.4826659e-13, 9.9999994e-01, 0.0000000e+00, 0.0000000e+00],\n",
       "       [3.2409480e-01, 5.8293146e-01, 9.2657067e-02, 3.1661635e-04],\n",
       "       [1.6678792e-11, 1.0000000e+00, 2.3162531e-37, 0.0000000e+00],\n",
       "       [7.2679890e-05, 9.9992728e-01, 1.8967629e-21, 0.0000000e+00]],\n",
       "      dtype=float32)"
      ]
     },
     "execution_count": 47,
     "metadata": {},
     "output_type": "execute_result"
    }
   ],
   "source": [
    "pred_tst_clasmodl3"
   ]
  },
  {
   "cell_type": "code",
   "execution_count": 48,
   "metadata": {
    "colab": {
     "base_uri": "https://localhost:8080/"
    },
    "id": "CyIto4cpZCIV",
    "outputId": "3f5f489c-fb87-4c20-c1b5-dd34a00157cb"
   },
   "outputs": [
    {
     "data": {
      "text/plain": [
       "array([[0., 1., 0., 0.],\n",
       "       [0., 0., 1., 0.],\n",
       "       [0., 0., 1., 0.],\n",
       "       [0., 1., 0., 0.],\n",
       "       [0., 1., 0., 0.],\n",
       "       [0., 1., 0., 0.],\n",
       "       [0., 1., 0., 0.],\n",
       "       [0., 1., 0., 0.],\n",
       "       [0., 1., 0., 0.],\n",
       "       [0., 1., 0., 0.]], dtype=float32)"
      ]
     },
     "execution_count": 48,
     "metadata": {},
     "output_type": "execute_result"
    }
   ],
   "source": [
    "np.round(pred_tst_clasmodl3)"
   ]
  },
  {
   "cell_type": "code",
   "execution_count": 49,
   "metadata": {
    "colab": {
     "base_uri": "https://localhost:8080/"
    },
    "id": "N9QlaQTEZRQn",
    "outputId": "c96b0a01-4f89-4aad-cc17-ae25c238dd33"
   },
   "outputs": [
    {
     "data": {
      "text/plain": [
       "array([[0., 1., 0., 0.],\n",
       "       [0., 0., 1., 0.],\n",
       "       [0., 1., 0., 0.],\n",
       "       [0., 1., 0., 0.],\n",
       "       [0., 0., 1., 0.],\n",
       "       [0., 1., 0., 0.],\n",
       "       [0., 1., 0., 0.],\n",
       "       [0., 1., 0., 0.],\n",
       "       [0., 1., 0., 0.],\n",
       "       [0., 0., 1., 0.]])"
      ]
     },
     "execution_count": 49,
     "metadata": {},
     "output_type": "execute_result"
    }
   ],
   "source": [
    "y_tst_categorical"
   ]
  },
  {
   "cell_type": "code",
   "execution_count": 50,
   "metadata": {
    "colab": {
     "base_uri": "https://localhost:8080/"
    },
    "id": "Jo6jOBh-ZVrk",
    "outputId": "f59c8c27-2fca-48af-a9af-b970e42eb285"
   },
   "outputs": [
    {
     "name": "stdout",
     "output_type": "stream",
     "text": [
      "/content\n"
     ]
    }
   ],
   "source": [
    "!pwd"
   ]
  },
  {
   "cell_type": "code",
   "execution_count": 51,
   "metadata": {
    "colab": {
     "base_uri": "https://localhost:8080/"
    },
    "id": "2y0hOiDGE7O-",
    "outputId": "defe4ea8-7aa2-4f41-c9c2-ab2371d5c226"
   },
   "outputs": [
    {
     "name": "stdout",
     "output_type": "stream",
     "text": [
      "bin\t dev   lib32   mnt\t\t\t python-apt  srv    usr\n",
      "boot\t etc   lib64   NGC-DL-CONTAINER-LICENSE  root\t     sys    var\n",
      "content  home  libx32  opt\t\t\t run\t     tmp\n",
      "datalab  lib   media   proc\t\t\t sbin\t     tools\n"
     ]
    }
   ],
   "source": [
    "!dir .."
   ]
  },
  {
   "cell_type": "code",
   "execution_count": 52,
   "metadata": {
    "id": "y1ByTiSvFIDD"
   },
   "outputs": [],
   "source": [
    "regmodl1.save(\"First_Regression_Model.h5\")"
   ]
  },
  {
   "cell_type": "code",
   "execution_count": 53,
   "metadata": {
    "id": "-YSFhMT_F0WA"
   },
   "outputs": [],
   "source": [
    "import numpy as np\n",
    "import tensorflow as tf\n",
    "from tensorflow import keras\n",
    "reconstructed_model = keras.models.load_model(\"First_Regression_Model.h5\")"
   ]
  },
  {
   "cell_type": "code",
   "execution_count": 54,
   "metadata": {
    "colab": {
     "base_uri": "https://localhost:8080/"
    },
    "id": "Sh_3U5yKLcu_",
    "outputId": "ad5ff2a1-250f-41f7-ca04-c1f06ac84450"
   },
   "outputs": [
    {
     "name": "stdout",
     "output_type": "stream",
     "text": [
      "Model: \"sequential\"\n",
      "_________________________________________________________________\n",
      " Layer (type)                Output Shape              Param #   \n",
      "=================================================================\n",
      " dense (Dense)               (None, 8)                 104       \n",
      "                                                                 \n",
      " dense_1 (Dense)             (None, 1)                 9         \n",
      "                                                                 \n",
      "=================================================================\n",
      "Total params: 113\n",
      "Trainable params: 113\n",
      "Non-trainable params: 0\n",
      "_________________________________________________________________\n"
     ]
    }
   ],
   "source": [
    "reconstructed_model.summary()"
   ]
  },
  {
   "cell_type": "code",
   "execution_count": 55,
   "metadata": {
    "colab": {
     "base_uri": "https://localhost:8080/"
    },
    "id": "5mbXCuGXKOSM",
    "outputId": "e7e2ecde-88ce-4069-c5b6-a4941f758b77"
   },
   "outputs": [
    {
     "name": "stdout",
     "output_type": "stream",
     "text": [
      "Validation Loss: 0.5562, Validation MAE: 0.5562\n"
     ]
    }
   ],
   "source": [
    "val_loss, val_mae = reconstructed_model.evaluate(X_val_norm, y_val, verbose=0)\n",
    "print(f'Validation Loss: {val_loss:.4f}, Validation MAE: {val_mae:.4f}')"
   ]
  },
  {
   "cell_type": "code",
   "execution_count": 56,
   "metadata": {
    "id": "WYoyLbPKLnZO"
   },
   "outputs": [],
   "source": [
    "regmodl2.save(\"Second_Regression_Model.h5\")"
   ]
  },
  {
   "cell_type": "code",
   "execution_count": 57,
   "metadata": {
    "id": "HWi9_IVJMoGx"
   },
   "outputs": [],
   "source": [
    "best_model.save(\"Final_Regression_Model.h5\")"
   ]
  },
  {
   "cell_type": "code",
   "execution_count": 58,
   "metadata": {
    "id": "ZHXXR0dTNaZd"
   },
   "outputs": [],
   "source": [
    "clasmodl1.save(\"First_Classification_Model.h5\")"
   ]
  },
  {
   "cell_type": "code",
   "execution_count": 59,
   "metadata": {
    "id": "LpTsBZziNa5n"
   },
   "outputs": [],
   "source": [
    "clasmodl2.save(\"Second_Classification_Model.h5\")"
   ]
  },
  {
   "cell_type": "code",
   "execution_count": 60,
   "metadata": {
    "id": "RIYh631TNbXH"
   },
   "outputs": [],
   "source": [
    "final_best_model.save(\"Final_Classificaton_Model.h5\")"
   ]
  },
  {
   "cell_type": "code",
   "execution_count": null,
   "metadata": {
    "id": "iWonj9ZHVE0x"
   },
   "outputs": [],
   "source": []
  }
 ],
 "metadata": {
  "accelerator": "GPU",
  "colab": {
   "provenance": []
  },
  "gpuClass": "standard",
  "kernelspec": {
   "display_name": "Python 3 (ipykernel)",
   "language": "python",
   "name": "python3"
  },
  "language_info": {
   "codemirror_mode": {
    "name": "ipython",
    "version": 3
   },
   "file_extension": ".py",
   "mimetype": "text/x-python",
   "name": "python",
   "nbconvert_exporter": "python",
   "pygments_lexer": "ipython3",
   "version": "3.9.12"
  },
  "vscode": {
   "interpreter": {
    "hash": "31f2aee4e71d21fbe5cf8b01ff0e069b9275f58929596ceb00d14d90e3e16cd6"
   }
  }
 },
 "nbformat": 4,
 "nbformat_minor": 1
}
